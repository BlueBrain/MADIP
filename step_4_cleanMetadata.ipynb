{
 "cells": [
  {
   "cell_type": "markdown",
   "metadata": {},
   "source": [
    "This file is part of MADIP: Molecular Atlas Data Integration Pipeline\n",
    "\n",
    "This file cleans metadata\n",
    "\n",
    "Copyright 2021 Blue Brain Project / EPFL \n",
    "\n",
    "   Licensed under the Apache License, Version 2.0 (the \"License\");\n",
    "   you may not use this file except in compliance with the License.\n",
    "   You may obtain a copy of the License at\n",
    "\n",
    "       http://www.apache.org/licenses/LICENSE-2.0\n",
    "\n",
    "   Unless required by applicable law or agreed to in writing, software\n",
    "   distributed under the License is distributed on an \"AS IS\" BASIS,\n",
    "   WITHOUT WARRANTIES OR CONDITIONS OF ANY KIND, either express or implied.\n",
    "   See the License for the specific language governing permissions and\n",
    "   limitations under the License.\n",
    "   "
   ]
  },
  {
   "cell_type": "code",
   "execution_count": 1,
   "metadata": {},
   "outputs": [],
   "source": [
    "import pandas as pd\n",
    "import numpy as np\n",
    "\n",
    "from matplotlib import pyplot as plt\n",
    "import seaborn as sns\n",
    "\n",
    "import re\n",
    "\n",
    "import pickle as pkl\n",
    "\n",
    "import scipy.stats as st\n",
    "\n",
    "from matplotlib.cbook import boxplot_stats\n",
    "\n",
    "import timeit\n",
    "from collections import Counter\n",
    "\n",
    "from numpy.random import seed\n",
    "from numpy.random import randint\n",
    "from scipy.stats import ks_2samp\n",
    "from scipy.stats import levene\n",
    "from scipy.stats import kruskal\n",
    "\n",
    "import scikit_posthocs as sp"
   ]
  },
  {
   "cell_type": "code",
   "execution_count": 2,
   "metadata": {},
   "outputs": [],
   "source": [
    "pd.options.display.max_columns = None\n",
    "pd.options.display.max_rows = None\n",
    "\n",
    "%matplotlib inline\n",
    "%config InlineBackend.figure_format = 'retina'\n",
    "\n",
    "\n",
    "\n",
    "sns.set_style('whitegrid',{'axes.grid':False})"
   ]
  },
  {
   "cell_type": "code",
   "execution_count": 3,
   "metadata": {},
   "outputs": [
    {
     "name": "stdout",
     "output_type": "stream",
     "text": [
      "2131942\n"
     ]
    }
   ],
   "source": [
    "with open('../data/3_df_with_conc_PerSampleNorm.pkl','rb') as f:\n",
    "    df = pkl.load(f)\n",
    "print(len(df))\n"
   ]
  },
  {
   "cell_type": "code",
   "execution_count": 4,
   "metadata": {},
   "outputs": [
    {
     "data": {
      "text/html": [
       "<div>\n",
       "<style scoped>\n",
       "    .dataframe tbody tr th:only-of-type {\n",
       "        vertical-align: middle;\n",
       "    }\n",
       "\n",
       "    .dataframe tbody tr th {\n",
       "        vertical-align: top;\n",
       "    }\n",
       "\n",
       "    .dataframe thead th {\n",
       "        text-align: right;\n",
       "    }\n",
       "</style>\n",
       "<table border=\"1\" class=\"dataframe\">\n",
       "  <thead>\n",
       "    <tr style=\"text-align: right;\">\n",
       "      <th></th>\n",
       "      <th>gene_names</th>\n",
       "      <th>Uniprot</th>\n",
       "      <th>Study</th>\n",
       "      <th>Organism</th>\n",
       "      <th>location</th>\n",
       "      <th>Age_cat</th>\n",
       "      <th>Age_days</th>\n",
       "      <th>condition</th>\n",
       "      <th>sample_id</th>\n",
       "      <th>molecular_weight_kDa</th>\n",
       "      <th>raw_data</th>\n",
       "      <th>raw_data_units</th>\n",
       "      <th>gene_name_unified</th>\n",
       "      <th>Uniprot_unified</th>\n",
       "      <th>gene_id_final</th>\n",
       "      <th>log_raw_data</th>\n",
       "      <th>uniprot_from_gn</th>\n",
       "      <th>Uniprot_final</th>\n",
       "      <th>TheorPepNum</th>\n",
       "      <th>conc_uM</th>\n",
       "      <th>log_conc_uM</th>\n",
       "      <th>copyNum</th>\n",
       "      <th>totalProtein</th>\n",
       "      <th>totalVolume</th>\n",
       "      <th>sample_full_id</th>\n",
       "    </tr>\n",
       "  </thead>\n",
       "  <tbody>\n",
       "  </tbody>\n",
       "</table>\n",
       "</div>"
      ],
      "text/plain": [
       "Empty DataFrame\n",
       "Columns: [gene_names, Uniprot, Study, Organism, location, Age_cat, Age_days, condition, sample_id, molecular_weight_kDa, raw_data, raw_data_units, gene_name_unified, Uniprot_unified, gene_id_final, log_raw_data, uniprot_from_gn, Uniprot_final, TheorPepNum, conc_uM, log_conc_uM, copyNum, totalProtein, totalVolume, sample_full_id]\n",
       "Index: []"
      ]
     },
     "execution_count": 4,
     "metadata": {},
     "output_type": "execute_result"
    }
   ],
   "source": [
    "df.loc[df['gene_id_final'].str.contains(';')]"
   ]
  },
  {
   "cell_type": "code",
   "execution_count": 4,
   "metadata": {},
   "outputs": [
    {
     "data": {
      "text/plain": [
       "Index(['gene_names', 'Uniprot', 'Study', 'Organism', 'location', 'Age_cat',\n",
       "       'Age_days', 'condition', 'sample_id', 'molecular_weight_kDa',\n",
       "       'raw_data', 'raw_data_units', 'gene_name_unified', 'Uniprot_unified',\n",
       "       'gene_id_final', 'log_raw_data', 'uniprot_from_gn', 'Uniprot_final',\n",
       "       'TheorPepNum', 'conc_uM', 'log_conc_uM', 'copyNum', 'totalProtein',\n",
       "       'totalVolume', 'sample_full_id'],\n",
       "      dtype='object')"
      ]
     },
     "execution_count": 4,
     "metadata": {},
     "output_type": "execute_result"
    }
   ],
   "source": [
    "df.columns"
   ]
  },
  {
   "cell_type": "markdown",
   "metadata": {},
   "source": [
    "### Clean metadata"
   ]
  },
  {
   "cell_type": "code",
   "execution_count": 5,
   "metadata": {},
   "outputs": [
    {
     "data": {
      "text/plain": [
       "array([], dtype=object)"
      ]
     },
     "execution_count": 5,
     "metadata": {},
     "output_type": "execute_result"
    }
   ],
   "source": [
    "df.loc[df['Organism'].isna(),'Study'].unique()"
   ]
  },
  {
   "cell_type": "code",
   "execution_count": 6,
   "metadata": {},
   "outputs": [
    {
     "data": {
      "text/plain": [
       "array([], dtype=object)"
      ]
     },
     "execution_count": 6,
     "metadata": {},
     "output_type": "execute_result"
    }
   ],
   "source": [
    "df.loc[df['location'].isna(),'Study'].unique()"
   ]
  },
  {
   "cell_type": "code",
   "execution_count": 7,
   "metadata": {},
   "outputs": [
    {
     "data": {
      "text/plain": [
       "array([], dtype=object)"
      ]
     },
     "execution_count": 7,
     "metadata": {},
     "output_type": "execute_result"
    }
   ],
   "source": [
    "df.loc[df['Age_days'].isna(),'Study'].unique()"
   ]
  },
  {
   "cell_type": "code",
   "execution_count": 8,
   "metadata": {},
   "outputs": [
    {
     "data": {
      "text/plain": [
       "array(['Hamezah 2019', 'Krogager 2018', 'Sharma 2015, cultured',\n",
       "       'Geiger 2013', 'Hosp 2017, soluble', 'Hosp 2017, insoluble',\n",
       "       'Sharma 2015, isolated', 'Wisniewski 2015', 'Kjell 2020',\n",
       "       'Han 2014', 'Bai 2020', 'Hamezah 2018', 'Hasan 2020', 'Zhu 2018',\n",
       "       'Hosp 2017, CSF', 'Fecher 2019', 'Carlyle 2017', 'Duda 2018'],\n",
       "      dtype=object)"
      ]
     },
     "execution_count": 8,
     "metadata": {},
     "output_type": "execute_result"
    }
   ],
   "source": [
    "df.loc[df['Age_cat'].isna(),'Study'].unique()"
   ]
  },
  {
   "cell_type": "code",
   "execution_count": 9,
   "metadata": {},
   "outputs": [
    {
     "data": {
      "text/plain": [
       "array([nan, 'post-mortem', 'adult', 'embr'], dtype=object)"
      ]
     },
     "execution_count": 9,
     "metadata": {},
     "output_type": "execute_result"
    }
   ],
   "source": [
    "df['Age_cat'].unique()"
   ]
  },
  {
   "cell_type": "code",
   "execution_count": 10,
   "metadata": {},
   "outputs": [],
   "source": [
    "# Age_cat for mouse (C57BL/6J):\n",
    "\n",
    "# embr: before birth\n",
    "# infants/young: from birth to 21 days of age \n",
    "# juvenile/young: from 3 weeks to 8 weeks old\n",
    "# adults: after 2 months (here consider inkl. according to data sources papers)\n",
    "\n",
    "# mature adult: 3-6 months\n",
    "# middle-aged: 10-14 months\n",
    "# old: 18-24 months\n",
    "\n",
    "# https://www.jax.org/news-and-insights/jax-blog/2017/november/when-are-mice-considered-old# https://www.researchgate.net/post/At_what_age_are_laboratory_mice_considered_adult2\n",
    "\n",
    "# or according to the sources where explicitly stated"
   ]
  },
  {
   "cell_type": "code",
   "execution_count": 11,
   "metadata": {},
   "outputs": [
    {
     "data": {
      "text/plain": [
       "array(['Davis 2019', 'Guergues 2019', 'Chuang 2018', 'Itzhak 2017',\n",
       "       'McKetney 2019', 'Fornasiero 2018', 'Beltran 2016'], dtype=object)"
      ]
     },
     "execution_count": 11,
     "metadata": {},
     "output_type": "execute_result"
    }
   ],
   "source": [
    "df.loc[~df['Age_cat'].isna(),'Study'].unique()"
   ]
  },
  {
   "cell_type": "code",
   "execution_count": 12,
   "metadata": {},
   "outputs": [
    {
     "name": "stdout",
     "output_type": "stream",
     "text": [
      "[476]\n"
     ]
    }
   ],
   "source": [
    "print(df.loc[df['Study']=='Hamezah 2019','Age_days'].unique()) # 15*30 #Five-month-old mice were divided into four groups ... for a duration of 10 months -> 15 months\n",
    "\n",
    "df.loc[df['Study']=='Hamezah 2019','Age_cat'] = 'middle-aged' # https://www.jax.org/news-and-insights/jax-blog/2017/november/when-are-mice-considered-old#\n"
   ]
  },
  {
   "cell_type": "code",
   "execution_count": 13,
   "metadata": {},
   "outputs": [
    {
     "name": "stdout",
     "output_type": "stream",
     "text": [
      "[29.0 81.0 26.0 35.0 45.0]\n"
     ]
    }
   ],
   "source": [
    "print(df.loc[df['Study']=='Sharma 2015, isolated','Age_days'].unique())\n",
    "\n",
    "\n",
    "df.loc[(df['Study']=='Sharma 2015, isolated')&(df['Age_days']==29.0),'Age_cat'] = 'young' # 29 #8 + 21 # 'cultured cells? or isolated?' 'P8'\n",
    "\n",
    "df.loc[(df['Study']=='Sharma 2015, isolated')&(df['Age_days']==81.0),'Age_cat'] ='adult' # 81 # 60 + 21 'P60'\n",
    "\n",
    "df.loc[(df['Study']=='Sharma 2015, isolated') &(df['Age_days']==26.0),'Age_cat'] = 'young' # 26 #5 + 21 # 'cultured cells? or isolated?' 'P5'\n",
    "df.loc[(df['Study']=='Sharma 2015, isolated') &(df['Age_days']==35.0),'Age_cat'] = 'young' # 35 #14 + 21 # 'cultured cells? or isolated?' 'P14'\n",
    "df.loc[(df['Study']=='Sharma 2015, isolated') &(df['Age_days']==45.0),'Age_cat'] = 'young' # 45 #24 + 21 # 'cultured cells? or isolated?' 'P24'\n"
   ]
  },
  {
   "cell_type": "code",
   "execution_count": 14,
   "metadata": {},
   "outputs": [
    {
     "name": "stdout",
     "output_type": "stream",
     "text": [
      "[0]\n"
     ]
    }
   ],
   "source": [
    "print(df.loc[df['Study']=='Sharma 2015, cultured','Age_days'].unique())\n",
    "\n",
    "df.loc[df['Study']=='Sharma 2015, cultured','Age_cat'] = 'embr'"
   ]
  },
  {
   "cell_type": "code",
   "execution_count": 15,
   "metadata": {},
   "outputs": [
    {
     "name": "stdout",
     "output_type": "stream",
     "text": [
      "[56.0 77.0 105.0]\n"
     ]
    }
   ],
   "source": [
    "print(df.loc[df['Study']=='Hosp 2017, soluble','Age_days'].unique())\n",
    "\n",
    "df.loc[(df['Study']=='Hosp 2017, soluble') & (df['Age_days']==56.0),'Age_cat'] = 'young'\n",
    "df.loc[(df['Study']=='Hosp 2017, soluble') & (df['Age_days']==77.0),'Age_cat'] = 'adult'\n",
    "df.loc[(df['Study']=='Hosp 2017, soluble') & (df['Age_days']==105.0),'Age_cat'] = 'adult'"
   ]
  },
  {
   "cell_type": "code",
   "execution_count": 16,
   "metadata": {},
   "outputs": [
    {
     "name": "stdout",
     "output_type": "stream",
     "text": [
      "[56.0 77.0 105.0]\n"
     ]
    }
   ],
   "source": [
    "print(df.loc[df['Study']=='Hosp 2017, insoluble','Age_days'].unique())\n",
    "\n",
    "df.loc[(df['Study']=='Hosp 2017, insoluble') & (df['Age_days']==56.0),'Age_cat'] = 'young'\n",
    "df.loc[(df['Study']=='Hosp 2017, insoluble') & (df['Age_days']==77.0),'Age_cat'] = 'adult'\n",
    "df.loc[(df['Study']=='Hosp 2017, insoluble') & (df['Age_days']==105.0),'Age_cat'] = 'adult'"
   ]
  },
  {
   "cell_type": "code",
   "execution_count": 17,
   "metadata": {},
   "outputs": [
    {
     "name": "stdout",
     "output_type": "stream",
     "text": [
      "[56.0 77.0 105.0]\n"
     ]
    }
   ],
   "source": [
    "print(df.loc[df['Study']=='Hosp 2017, CSF','Age_days'].unique())\n",
    "\n",
    "df.loc[(df['Study']=='Hosp 2017, CSF') & (df['Age_days']==56.0),'Age_cat'] = 'young'\n",
    "df.loc[(df['Study']=='Hosp 2017, CSF') & (df['Age_days']==77.0),'Age_cat'] = 'adult'\n",
    "df.loc[(df['Study']=='Hosp 2017, CSF') & (df['Age_days']==105.0),'Age_cat'] = 'adult'"
   ]
  },
  {
   "cell_type": "code",
   "execution_count": 18,
   "metadata": {},
   "outputs": [
    {
     "name": "stdout",
     "output_type": "stream",
     "text": [
      "[91]\n"
     ]
    }
   ],
   "source": [
    "print(df.loc[df['Study']=='Geiger 2013','Age_days'].unique())\n",
    "\n",
    "df.loc[df['Study']=='Geiger 2013','Age_cat'] = 'adult'"
   ]
  },
  {
   "cell_type": "code",
   "execution_count": 19,
   "metadata": {},
   "outputs": [
    {
     "name": "stdout",
     "output_type": "stream",
     "text": [
      "[91]\n"
     ]
    }
   ],
   "source": [
    "print(df.loc[df['Study']=='Wisniewski 2015','Age_days'].unique())\n",
    "\n",
    "df.loc[df['Study']=='Wisniewski 2015','Age_cat'] = 'adult'"
   ]
  },
  {
   "cell_type": "code",
   "execution_count": 20,
   "metadata": {},
   "outputs": [
    {
     "name": "stdout",
     "output_type": "stream",
     "text": [
      "[0]\n"
     ]
    }
   ],
   "source": [
    "print(df.loc[df['Study']=='Han 2014','Age_days'].unique())\n",
    "\n",
    "df.loc[df['Study']=='Han 2014','Age_cat'] = 'embr'"
   ]
  },
  {
   "cell_type": "code",
   "execution_count": 21,
   "metadata": {},
   "outputs": [
    {
     "name": "stdout",
     "output_type": "stream",
     "text": [
      "[84]\n"
     ]
    }
   ],
   "source": [
    "print(df.loc[df['Study']=='Kjell 2020','Age_days'].unique())\n",
    "\n",
    "df.loc[df['Study']=='Kjell 2020','Age_cat'] = 'adult'"
   ]
  },
  {
   "cell_type": "code",
   "execution_count": 22,
   "metadata": {},
   "outputs": [
    {
     "name": "stdout",
     "output_type": "stream",
     "text": [
      "[112]\n"
     ]
    }
   ],
   "source": [
    "print(df.loc[df['Study']=='Krogager 2018','Age_days'].unique())\n",
    "\n",
    "df.loc[df['Study']=='Krogager 2018','Age_cat'] = 'adult'"
   ]
  },
  {
   "cell_type": "code",
   "execution_count": 23,
   "metadata": {},
   "outputs": [
    {
     "name": "stdout",
     "output_type": "stream",
     "text": [
      "[446.0 566.0 721.0 841.0]\n"
     ]
    }
   ],
   "source": [
    "print(df.loc[df['Study']=='Hamezah 2018','Age_days'].unique())\n",
    "\n",
    "#Hamezah - rats, lifespan differ from mouse\n",
    "# rat lifespan https://www.ncbi.nlm.nih.gov/pmc/articles/PMC3733029/ making correspondence to mouse\n",
    "df.loc[(df['Study']=='Hamezah 2018') &(df['Age_days']==446.0),'Age_cat'] = 'adult' #446 # 365 + 2*30 + 21 # '14 months'\n",
    "df.loc[(df['Study']=='Hamezah 2018') &(df['Age_days']==566.0),'Age_cat'] = 'mature adult' #569 # 365 + 365/2 +21 # '18 months'\n",
    "df.loc[(df['Study']=='Hamezah 2018') &(df['Age_days']==721.0),'Age_cat'] = 'middle-aged' #721 # 365*2 -30 +21 # '23 months'\n",
    "df.loc[(df['Study']=='Hamezah 2018') &(df['Age_days']==841.0),'Age_cat'] = 'old' #841 # 365*2 + 30*3 +21 # '27 months'\n",
    "\n"
   ]
  },
  {
   "cell_type": "code",
   "execution_count": 24,
   "metadata": {},
   "outputs": [
    {
     "name": "stdout",
     "output_type": "stream",
     "text": [
      "[51.0 386.0]\n"
     ]
    }
   ],
   "source": [
    "print(df.loc[df['Study']=='Duda 2018','Age_days'].unique())\n",
    "\n",
    "df.loc[(df['Study']=='Duda 2018') & (df['Age_days']==51.0),'Age_cat'] = 'young'\n",
    "df.loc[(df['Study']=='Duda 2018') & (df['Age_days']==386.0),'Age_cat'] = 'middle-aged'"
   ]
  },
  {
   "cell_type": "code",
   "execution_count": 25,
   "metadata": {},
   "outputs": [
    {
     "name": "stdout",
     "output_type": "stream",
     "text": [
      "[1726.0 5741.0 386.0 631.0 13771.0 11216.0 7201.0 14866.0 8661.0 3186.0\n",
      " 996.0 13406.0 1361.0 4281.0]\n"
     ]
    }
   ],
   "source": [
    "print(df.loc[df['Study']=='Carlyle 2017','Age_days'].unique())\n",
    "\n",
    "#human\n",
    "\n",
    "df.loc[(df['Study']=='Carlyle 2017')& (df['Age_days']==386.0),'Age_cat'] = 'child'\n",
    "df.loc[(df['Study']=='Carlyle 2017')& (df['Age_days']==631.0),'Age_cat'] = 'child'\n",
    "df.loc[(df['Study']=='Carlyle 2017')& (df['Age_days']==996.0),'Age_cat'] = 'child'\n",
    "df.loc[(df['Study']=='Carlyle 2017')& (df['Age_days']==1361.0),'Age_cat'] = 'child' \n",
    "df.loc[(df['Study']=='Carlyle 2017')& (df['Age_days']==1726.0),'Age_cat'] = 'child' \n",
    "df.loc[(df['Study']=='Carlyle 2017')& (df['Age_days']==3186.0),'Age_cat'] = 'child'  \n",
    "df.loc[(df['Study']=='Carlyle 2017')& (df['Age_days']==4281.0),'Age_cat'] = 'adolescence'\n",
    "df.loc[(df['Study']=='Carlyle 2017')& (df['Age_days']==5741.0),'Age_cat'] = 'adolescence'\n",
    "df.loc[(df['Study']=='Carlyle 2017')& (df['Age_days']==7201.0),'Age_cat'] = 'adult'\n",
    "df.loc[(df['Study']=='Carlyle 2017')& (df['Age_days']==8661.0),'Age_cat'] = 'adult'\n",
    "df.loc[(df['Study']=='Carlyle 2017')& (df['Age_days']==11216.0),'Age_cat'] = 'adult'\n",
    "df.loc[(df['Study']=='Carlyle 2017')& (df['Age_days']==13406.0),'Age_cat'] = 'adult'\n",
    "df.loc[(df['Study']=='Carlyle 2017')& (df['Age_days']== 13771.0),'Age_cat'] = 'adult'\n",
    "df.loc[(df['Study']=='Carlyle 2017')& (df['Age_days']==14866.0),'Age_cat'] = 'adult'"
   ]
  },
  {
   "cell_type": "code",
   "execution_count": null,
   "metadata": {},
   "outputs": [],
   "source": []
  },
  {
   "cell_type": "code",
   "execution_count": 26,
   "metadata": {},
   "outputs": [
    {
     "name": "stdout",
     "output_type": "stream",
     "text": [
      "[38]\n"
     ]
    }
   ],
   "source": [
    "print(df.loc[df['Study']=='Zhu 2018','Age_days'].unique())\n",
    "\n",
    "# rat P17\n",
    "\n",
    "df.loc[df['Study']=='Zhu 2018','Age_cat'] = 'young'"
   ]
  },
  {
   "cell_type": "code",
   "execution_count": 27,
   "metadata": {},
   "outputs": [
    {
     "name": "stdout",
     "output_type": "stream",
     "text": [
      "[77]\n"
     ]
    }
   ],
   "source": [
    "print(df.loc[df['Study']=='Fecher 2019','Age_days'].unique()) # adult \n",
    "\n",
    "df.loc[df['Study']=='Fecher 2019','Age_cat'] = 'adult'"
   ]
  },
  {
   "cell_type": "code",
   "execution_count": 28,
   "metadata": {},
   "outputs": [
    {
     "name": "stdout",
     "output_type": "stream",
     "text": [
      "[111.0 201.0 386.0 'post-mortem']\n"
     ]
    }
   ],
   "source": [
    "print(df.loc[df['Study']=='Bai 2020','Age_days'].unique())\n",
    "\n",
    "df.loc[(df['Study']=='Bai 2020') & (df['Age_days']==111.0),'Age_cat'] = 'adult' #3months\n",
    "df.loc[(df['Study']=='Bai 2020') & (df['Age_days']==201.0),'Age_cat'] = 'mature adult' #6months\n",
    "df.loc[(df['Study']=='Bai 2020') & (df['Age_days']==386.0),'Age_cat'] = 'middle-aged' #12months"
   ]
  },
  {
   "cell_type": "code",
   "execution_count": 29,
   "metadata": {},
   "outputs": [],
   "source": [
    "df.loc[(df['Study']=='Bai 2020') & (df['Age_days']=='post-mortem'),'Age_cat'] =  'post-mortem' #"
   ]
  },
  {
   "cell_type": "code",
   "execution_count": 30,
   "metadata": {},
   "outputs": [
    {
     "name": "stdout",
     "output_type": "stream",
     "text": [
      "[156]\n"
     ]
    }
   ],
   "source": [
    "print(df.loc[df['Study']=='Hasan 2020','Age_days'].unique())\n",
    "\n",
    "df.loc[df['Study']=='Hasan 2020','Age_cat'] = 'mature adult'"
   ]
  },
  {
   "cell_type": "code",
   "execution_count": 31,
   "metadata": {},
   "outputs": [
    {
     "data": {
      "text/plain": [
       "array(['McKetney 2019'], dtype=object)"
      ]
     },
     "execution_count": 31,
     "metadata": {},
     "output_type": "execute_result"
    }
   ],
   "source": [
    "df.loc[df['condition']=='AD_severe','Study'].unique()"
   ]
  },
  {
   "cell_type": "code",
   "execution_count": 32,
   "metadata": {},
   "outputs": [
    {
     "data": {
      "text/plain": [
       "array(['WT', 'Alzheimer', 'control', 'SORT', nan, 'AD',\n",
       "       'LPC: low pathology of plaques and tangles. AD',\n",
       "       'HPC: high Ab pathology but no detectable cognitive defects. AD',\n",
       "       'MCI: mild cognitive impairment with Ab pathology and a slight but measurable defect in cognition. AD',\n",
       "       'AD: late-stage AD with high pathology scores of plaques and tangles',\n",
       "       'PSP: progressive supranuclear palsy, another neurodegenerative disorder of tauopathy',\n",
       "       'AD_severe', 'AD_intermediate', 'EAE', 'young', 'adult'],\n",
       "      dtype=object)"
      ]
     },
     "execution_count": 32,
     "metadata": {},
     "output_type": "execute_result"
    }
   ],
   "source": [
    "df['condition'].unique()"
   ]
  },
  {
   "cell_type": "code",
   "execution_count": 33,
   "metadata": {},
   "outputs": [],
   "source": [
    "# do not replace conditon names as may lead to duplicates\n",
    "\n",
    "\n",
    "#df.loc[(df['condition'].isin(['WT','control', 'SORT','young', 'adult']) | (df['condition'].isna())),'condition' ] = \"control\"\n",
    "\n",
    "#df.loc[df['condition'].isin(['Alzheimer','AD']),'condition' ] = \"Alzheimer\"\n",
    "\n",
    "#df.loc[df['condition']=='EAE','condition' ] = \"experimental autoimmune encephalomyelitis\" # too long name for plots"
   ]
  },
  {
   "cell_type": "code",
   "execution_count": 33,
   "metadata": {},
   "outputs": [],
   "source": [
    "with open('../data/4_df_agecat.pkl','wb') as f:\n",
    "    pkl.dump(df,f)"
   ]
  }
 ],
 "metadata": {
  "kernelspec": {
   "display_name": "Python 3",
   "language": "python",
   "name": "python3"
  },
  "language_info": {
   "codemirror_mode": {
    "name": "ipython",
    "version": 3
   },
   "file_extension": ".py",
   "mimetype": "text/x-python",
   "name": "python",
   "nbconvert_exporter": "python",
   "pygments_lexer": "ipython3",
   "version": "3.7.4"
  }
 },
 "nbformat": 4,
 "nbformat_minor": 4
}
