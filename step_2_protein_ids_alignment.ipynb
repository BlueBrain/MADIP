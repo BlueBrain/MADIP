{
 "cells": [
  {
   "cell_type": "markdown",
   "metadata": {},
   "source": [
    "This file is part of MADIP: Molecular Atlas Data Integration Pipeline\n",
    "\n",
    "This module provides helper functions for perform alignment of protein and gene ids among different data sources.\n",
    "\n",
    "Copyright 2021 Blue Brain Project / EPFL \n",
    "\n",
    "   Licensed under the Apache License, Version 2.0 (the \"License\");\n",
    "   you may not use this file except in compliance with the License.\n",
    "   You may obtain a copy of the License at\n",
    "\n",
    "       http://www.apache.org/licenses/LICENSE-2.0\n",
    "\n",
    "   Unless required by applicable law or agreed to in writing, software\n",
    "   distributed under the License is distributed on an \"AS IS\" BASIS,\n",
    "   WITHOUT WARRANTIES OR CONDITIONS OF ANY KIND, either express or implied.\n",
    "   See the License for the specific language governing permissions and\n",
    "   limitations under the License."
   ]
  },
  {
   "cell_type": "markdown",
   "metadata": {},
   "source": [
    "## Align IDs"
   ]
  },
  {
   "cell_type": "code",
   "execution_count": 1,
   "metadata": {},
   "outputs": [],
   "source": [
    "import pandas as pd\n",
    "import numpy as np\n",
    "\n",
    "import re\n",
    "\n",
    "import pickle as pkl\n",
    "\n",
    "import networkx as nx\n",
    "from collections import Counter\n",
    "\n",
    "from itertools import chain\n",
    "\n",
    "pd.options.display.max_columns = None\n",
    "pd.options.display.max_rows = None"
   ]
  },
  {
   "cell_type": "code",
   "execution_count": 192,
   "metadata": {},
   "outputs": [
    {
     "data": {
      "text/plain": [
       "<module 'protein_ids_alignment_helpers' from '/gpfs/bbp.cscs.ch/project/proj34/sh_ngvm/github_os_polina/MADIP/protein_ids_alignment_helpers.py'>"
      ]
     },
     "execution_count": 192,
     "metadata": {},
     "output_type": "execute_result"
    }
   ],
   "source": [
    "import importlib\n",
    "importlib.reload(protein_ids_alignment_helpers)"
   ]
  },
  {
   "cell_type": "code",
   "execution_count": 193,
   "metadata": {},
   "outputs": [],
   "source": [
    "import protein_ids_alignment_helpers\n",
    "from protein_ids_alignment_helpers import (\n",
    "    process_uniprot_mapping_data, \n",
    "    get_gene_unified, \n",
    "    get_uniprot_unified,\n",
    "    check_GN_consistency_within_studies,\n",
    "    any_in,\n",
    "    get_uniprot_raw_data,\n",
    "    get_gene_id_final\n",
    ")\n"
   ]
  },
  {
   "cell_type": "code",
   "execution_count": 3,
   "metadata": {},
   "outputs": [],
   "source": [
    "# load data produced by step_1_collect_protein_data.ipynb jupyter notebook \n",
    "\n",
    "with open('../data/1_df_all_9may2021.pkl','rb') as f:\n",
    "    df_all = pkl.load(f)"
   ]
  },
  {
   "cell_type": "code",
   "execution_count": 4,
   "metadata": {},
   "outputs": [
    {
     "name": "stdout",
     "output_type": "stream",
     "text": [
      "490\n",
      "2142774\n",
      "2142284\n"
     ]
    }
   ],
   "source": [
    "# check for contaminant protein ids\n",
    "\n",
    "print(len(df_all.loc[(~df_all['Uniprot'].isna())&(df_all['Uniprot'].str.contains(\"CON_\"))]))\n",
    "# CON_ is contaminant protein according to MaxQuant annotation\n",
    "\n",
    "#drop potential experimental contaminants \"CON__\"\n",
    "print(len(df_all))\n",
    "df_all = df_all.loc[~((~df_all['Uniprot'].isna())&(df_all['Uniprot'].str.contains(\"CON_\")))]\n",
    "print(len(df_all))"
   ]
  },
  {
   "cell_type": "code",
   "execution_count": 5,
   "metadata": {},
   "outputs": [
    {
     "name": "stdout",
     "output_type": "stream",
     "text": [
      "uniprot_rev:  45524\n",
      "uniprot_unrev:  270950\n",
      "check == 1.0: 1.0\n",
      "check == 1.0: 1.0\n",
      "rev gene names 50244\n",
      "unrev gene names 63631\n",
      "21407\n",
      "229391\n"
     ]
    },
    {
     "data": {
      "text/html": [
       "<div>\n",
       "<style scoped>\n",
       "    .dataframe tbody tr th:only-of-type {\n",
       "        vertical-align: middle;\n",
       "    }\n",
       "\n",
       "    .dataframe tbody tr th {\n",
       "        vertical-align: top;\n",
       "    }\n",
       "\n",
       "    .dataframe thead th {\n",
       "        text-align: right;\n",
       "    }\n",
       "</style>\n",
       "<table border=\"1\" class=\"dataframe\">\n",
       "  <thead>\n",
       "    <tr style=\"text-align: right;\">\n",
       "      <th></th>\n",
       "      <th>Entry</th>\n",
       "      <th>Entry name</th>\n",
       "      <th>Status</th>\n",
       "      <th>Protein names</th>\n",
       "      <th>Gene names</th>\n",
       "      <th>Organism</th>\n",
       "      <th>Length</th>\n",
       "      <th>gene_id_entry_name</th>\n",
       "    </tr>\n",
       "  </thead>\n",
       "  <tbody>\n",
       "    <tr>\n",
       "      <th>0</th>\n",
       "      <td>P22071</td>\n",
       "      <td>3BHS1_RAT</td>\n",
       "      <td>reviewed</td>\n",
       "      <td>3 beta-hydroxysteroid dehydrogenase/Delta 5--&gt;...</td>\n",
       "      <td>[HSD3B1]</td>\n",
       "      <td>Rattus norvegicus (Rat)</td>\n",
       "      <td>373</td>\n",
       "      <td>3BHS1</td>\n",
       "    </tr>\n",
       "    <tr>\n",
       "      <th>1</th>\n",
       "      <td>P15650</td>\n",
       "      <td>ACADL_RAT</td>\n",
       "      <td>reviewed</td>\n",
       "      <td>Long-chain specific acyl-CoA dehydrogenase, mi...</td>\n",
       "      <td>[ACADL]</td>\n",
       "      <td>Rattus norvegicus (Rat)</td>\n",
       "      <td>430</td>\n",
       "      <td>ACADL</td>\n",
       "    </tr>\n",
       "    <tr>\n",
       "      <th>2</th>\n",
       "      <td>P07872</td>\n",
       "      <td>ACOX1_RAT</td>\n",
       "      <td>reviewed</td>\n",
       "      <td>Peroxisomal acyl-coenzyme A oxidase 1 (AOX) (E...</td>\n",
       "      <td>[ACOX1, ACOX]</td>\n",
       "      <td>Rattus norvegicus (Rat)</td>\n",
       "      <td>661</td>\n",
       "      <td>ACOX1</td>\n",
       "    </tr>\n",
       "    <tr>\n",
       "      <th>3</th>\n",
       "      <td>Q09137</td>\n",
       "      <td>AAPK2_RAT</td>\n",
       "      <td>reviewed</td>\n",
       "      <td>5'-AMP-activated protein kinase catalytic subu...</td>\n",
       "      <td>[PRKAA2, AMPK, AMPK2]</td>\n",
       "      <td>Rattus norvegicus (Rat)</td>\n",
       "      <td>552</td>\n",
       "      <td>AAPK2</td>\n",
       "    </tr>\n",
       "    <tr>\n",
       "      <th>4</th>\n",
       "      <td>Q64602</td>\n",
       "      <td>AADAT_RAT</td>\n",
       "      <td>reviewed</td>\n",
       "      <td>Kynurenine/alpha-aminoadipate aminotransferase...</td>\n",
       "      <td>[AADAT, KAT2]</td>\n",
       "      <td>Rattus norvegicus (Rat)</td>\n",
       "      <td>425</td>\n",
       "      <td>AADAT</td>\n",
       "    </tr>\n",
       "  </tbody>\n",
       "</table>\n",
       "</div>"
      ],
      "text/plain": [
       "    Entry Entry name    Status  \\\n",
       "0  P22071  3BHS1_RAT  reviewed   \n",
       "1  P15650  ACADL_RAT  reviewed   \n",
       "2  P07872  ACOX1_RAT  reviewed   \n",
       "3  Q09137  AAPK2_RAT  reviewed   \n",
       "4  Q64602  AADAT_RAT  reviewed   \n",
       "\n",
       "                                       Protein names             Gene names  \\\n",
       "0  3 beta-hydroxysteroid dehydrogenase/Delta 5-->...               [HSD3B1]   \n",
       "1  Long-chain specific acyl-CoA dehydrogenase, mi...                [ACADL]   \n",
       "2  Peroxisomal acyl-coenzyme A oxidase 1 (AOX) (E...          [ACOX1, ACOX]   \n",
       "3  5'-AMP-activated protein kinase catalytic subu...  [PRKAA2, AMPK, AMPK2]   \n",
       "4  Kynurenine/alpha-aminoadipate aminotransferase...          [AADAT, KAT2]   \n",
       "\n",
       "                  Organism  Length gene_id_entry_name  \n",
       "0  Rattus norvegicus (Rat)     373              3BHS1  \n",
       "1  Rattus norvegicus (Rat)     430              ACADL  \n",
       "2  Rattus norvegicus (Rat)     661              ACOX1  \n",
       "3  Rattus norvegicus (Rat)     552              AAPK2  \n",
       "4  Rattus norvegicus (Rat)     425              AADAT  "
      ]
     },
     "execution_count": 5,
     "metadata": {},
     "output_type": "execute_result"
    }
   ],
   "source": [
    "# manually get Uniprot data from https://www.uniprot.org (latest done on 21july2020). \n",
    "#The queries are:\n",
    "#(taxonomy:\"Mus musculus (Mouse) [10090]\" OR taxonomy:\"Rattus norvegicus (Rat) [10116]\" OR taxonomy:\"Homo sapiens (Human) [9606]\") AND reviewed:yes\n",
    "#(taxonomy:\"Mus musculus (Mouse) [10090]\" OR taxonomy:\"Rattus norvegicus (Rat) [10116]\" OR taxonomy:\"Homo sapiens (Human) [9606]\") AND reviewed:no\n",
    "\n",
    "\n",
    "uniprot_rev, uniprot_unrev, uniprot_rev_dict, uniprot_unrev_dict = process_uniprot_mapping_data()\n",
    "\n",
    "# It will take a while.\n",
    "\n",
    "uniprot_rev.head()"
   ]
  },
  {
   "cell_type": "code",
   "execution_count": 6,
   "metadata": {},
   "outputs": [
    {
     "name": "stdout",
     "output_type": "stream",
     "text": [
      "['Beltran 2016']\n"
     ]
    },
    {
     "data": {
      "text/html": [
       "<div>\n",
       "<style scoped>\n",
       "    .dataframe tbody tr th:only-of-type {\n",
       "        vertical-align: middle;\n",
       "    }\n",
       "\n",
       "    .dataframe tbody tr th {\n",
       "        vertical-align: top;\n",
       "    }\n",
       "\n",
       "    .dataframe thead th {\n",
       "        text-align: right;\n",
       "    }\n",
       "</style>\n",
       "<table border=\"1\" class=\"dataframe\">\n",
       "  <thead>\n",
       "    <tr style=\"text-align: right;\">\n",
       "      <th></th>\n",
       "      <th>gene_names</th>\n",
       "      <th>gene_name_unified</th>\n",
       "      <th>Uniprot</th>\n",
       "      <th>Uniprot_unified</th>\n",
       "      <th>Study</th>\n",
       "      <th>Organism</th>\n",
       "      <th>location</th>\n",
       "      <th>Age_cat</th>\n",
       "      <th>Age_days</th>\n",
       "      <th>condition</th>\n",
       "      <th>sample_id</th>\n",
       "      <th>molecular_weight_kDa</th>\n",
       "      <th>raw_data</th>\n",
       "      <th>raw_data_units</th>\n",
       "    </tr>\n",
       "  </thead>\n",
       "  <tbody>\n",
       "  </tbody>\n",
       "</table>\n",
       "</div>"
      ],
      "text/plain": [
       "Empty DataFrame\n",
       "Columns: [gene_names, gene_name_unified, Uniprot, Uniprot_unified, Study, Organism, location, Age_cat, Age_days, condition, sample_id, molecular_weight_kDa, raw_data, raw_data_units]\n",
       "Index: []"
      ]
     },
     "execution_count": 6,
     "metadata": {},
     "output_type": "execute_result"
    }
   ],
   "source": [
    "# check for data formatting \n",
    "print(df_all.loc[(~df_all['gene_names'].isna()) & (df_all['gene_names'].str.contains('; ')),'Study'].unique())\n",
    "\n",
    "df_all.loc[(~df_all['Uniprot'].isna()) & (df_all['Uniprot'].str.contains(' '))].head()"
   ]
  },
  {
   "cell_type": "code",
   "execution_count": 7,
   "metadata": {},
   "outputs": [
    {
     "data": {
      "text/plain": [
       "array([], dtype=object)"
      ]
     },
     "execution_count": 7,
     "metadata": {},
     "output_type": "execute_result"
    }
   ],
   "source": [
    "# clean formatting: replace \"; \" with \";\"\n",
    "\n",
    "df_all.loc[(df_all['Study']=='Beltran 2016') & (df_all['gene_names'].str.contains('; ')),'gene_names'] = df_all.loc[(df_all['Study']=='Beltran 2016') & (df_all['gene_names'].str.contains('; ')),'gene_names'].str.replace('; ',';')\n",
    "\n",
    "# check for data formatting \n",
    "df_all.loc[(~df_all['gene_names'].isna()) & (df_all['gene_names'].str.contains('; ')),'Study'].unique()"
   ]
  },
  {
   "cell_type": "code",
   "execution_count": 8,
   "metadata": {},
   "outputs": [
    {
     "name": "stdout",
     "output_type": "stream",
     "text": [
      "Hamezah 2019 \t 45\n",
      "Hamezah 2018 \t 2\n",
      "Chuang 2018 \t 0\n",
      "Duda 2018 \t 0\n",
      "Krogager 2018 \t 0\n",
      "Hosp 2017, soluble \t 10\n",
      "Hosp 2017, CSF \t 4\n",
      "Hosp 2017, insoluble \t 0\n",
      "Itzhak 2017 \t 0\n",
      "Beltran 2016 \t 0\n",
      "Sharma 2015, cultured \t 25\n",
      "Sharma 2015, isolated \t 14\n",
      "Wisniewski 2015 \t 13\n",
      "Han 2014 \t 0\n",
      "Geiger 2013 \t 12\n",
      "Bai 2020 \t 0\n",
      "Carlyle 2017 \t 0\n",
      "Davis 2019 \t 7\n",
      "Fecher 2019 \t 0\n",
      "Fornasiero 2018 \t 0\n",
      "Guergues 2019 \t 8\n",
      "McKetney 2019 \t 0\n",
      "Hasan 2020 \t 0\n",
      "Zhu 2018 \t 0\n",
      "Kjell 2020 \t 60\n"
     ]
    }
   ],
   "source": [
    "# check for GN consistency within studies\n",
    "\n",
    "multiids = check_GN_consistency_within_studies(df_all)\n",
    "\n",
    "for i,v in multiids.items():\n",
    "    print(i,'\\t',len(v))"
   ]
  },
  {
   "cell_type": "code",
   "execution_count": 9,
   "metadata": {},
   "outputs": [
    {
     "data": {
      "text/plain": [
       "['SERPINA1C;SERPINA1A',\n",
       " 'HSPA1B;HSPA1A',\n",
       " 'VAMP2;VAMP3',\n",
       " 'AIFM1;PDCD8',\n",
       " 'NPTXR;NPCD',\n",
       " 'AKR1B10;AKR1B8',\n",
       " 'GM20390;NME1;NME2',\n",
       " 'RAC1;RAC3',\n",
       " 'ALYREF;ALYREF2;REFBP2',\n",
       " 'ACOT1;ACOT2',\n",
       " 'HIST1H1C;HIST1H1D',\n",
       " 'ALDH1A1;ALDH1A7',\n",
       " 'MUG1;MUG2',\n",
       " 'PABPC1;PABPC6',\n",
       " 'ARF3;ARF1;ARF2',\n",
       " 'FGF12;FGF14',\n",
       " 'KCNA2;KCNA3',\n",
       " 'MYL12A;MYL12B;MYL9',\n",
       " 'RHOA;RHOC',\n",
       " 'STK24;STK26',\n",
       " 'UBE2V2;UBE2V1;GM20431',\n",
       " 'TPM3;TPM3-RS7',\n",
       " 'NPM1;GM5611',\n",
       " 'FAM120A;FAM120A',\n",
       " 'MAPK10;MAPK8;MAPK9',\n",
       " 'RBMXL1;RBMX',\n",
       " 'TF;GM20425',\n",
       " 'L1CAM;L1',\n",
       " 'HNRNPA3;GM9242;GM6793',\n",
       " 'ARF3;ARF1',\n",
       " 'SRSF3;GM12355',\n",
       " 'EIF2S3X;EIF2S3Y',\n",
       " 'KRAS;HRAS',\n",
       " 'EPB41L3;EPB4.1L3',\n",
       " 'SERPINA1A;SERPINA1C',\n",
       " 'RPL23A;GM6096',\n",
       " 'MAPK10;MAPK9;MAPK8',\n",
       " 'GABRB3;GABRB1;GABRB2',\n",
       " 'CA2;CAR2',\n",
       " 'FBL;FBLL1',\n",
       " 'KCNA2;KCNA1;KCNA3',\n",
       " 'PPP2CA;PPP2CB',\n",
       " 'MYL12B;MYL12A;MYL9',\n",
       " 'PDE10A MUS MUSCULUS;PDE10A',\n",
       " 'GSPT1;GSPT2']"
      ]
     },
     "execution_count": 9,
     "metadata": {},
     "output_type": "execute_result"
    }
   ],
   "source": [
    "multiids['Hamezah 2019']"
   ]
  },
  {
   "cell_type": "code",
   "execution_count": 10,
   "metadata": {},
   "outputs": [
    {
     "data": {
      "text/plain": [
       "['SLK;STK10', 'KIF5A;KIF5B']"
      ]
     },
     "execution_count": 10,
     "metadata": {},
     "output_type": "execute_result"
    }
   ],
   "source": [
    "multiids['Hamezah 2018']"
   ]
  },
  {
   "cell_type": "code",
   "execution_count": 11,
   "metadata": {},
   "outputs": [
    {
     "data": {
      "text/plain": [
       "['HM13;H13',\n",
       " 'GM20498;SYNJ2BP',\n",
       " 'RBM4;RBM14;RBM4B',\n",
       " 'HBS1L;GM9923',\n",
       " 'HNRNPA3;GM9242;GM8991',\n",
       " 'RAB11B;RAB11A',\n",
       " 'PALM2;GM20459',\n",
       " 'RBM12;CPNE1',\n",
       " 'EIF1B;EIF1',\n",
       " 'PGM1;PGM2']"
      ]
     },
     "execution_count": 11,
     "metadata": {},
     "output_type": "execute_result"
    }
   ],
   "source": [
    "multiids['Hosp 2017, soluble']"
   ]
  },
  {
   "cell_type": "code",
   "execution_count": 12,
   "metadata": {},
   "outputs": [
    {
     "data": {
      "text/plain": [
       "['ACTB;ACTG1',\n",
       " 'UBE2V1;GM20431;UBE2V2',\n",
       " 'GM9242;HNRNPA3;GM8991;GM6793',\n",
       " 'TPM3;TPM3-RS7']"
      ]
     },
     "execution_count": 12,
     "metadata": {},
     "output_type": "execute_result"
    }
   ],
   "source": [
    "multiids['Hosp 2017, CSF']"
   ]
  },
  {
   "cell_type": "code",
   "execution_count": 13,
   "metadata": {},
   "outputs": [
    {
     "data": {
      "text/plain": [
       "['TPM3;TPM3-RS7',\n",
       " 'EPB4.1L2;EPB41L2',\n",
       " 'ALDOA;ALDOART1',\n",
       " 'PGM1;PGM2',\n",
       " 'MAP4;MTAP4',\n",
       " 'GM20521;PABPN1',\n",
       " 'EPB41;EPB4.1',\n",
       " 'ZBTB11;RPL24',\n",
       " 'KIAA1468;2310035C23RIK',\n",
       " 'SUMO2;SUMO3',\n",
       " 'RBM12;CPNE1',\n",
       " 'HM13;H13',\n",
       " 'ANKS1A;ANKS1',\n",
       " 'MRPS36;MRPS36-PS1',\n",
       " 'SKT;ETL4',\n",
       " 'RBFOX2;RBFOX1',\n",
       " 'LILRB4;GP49A',\n",
       " 'MLTK;B230120H23RIK',\n",
       " 'HBB-B1;BETA-S',\n",
       " 'PALM2;AKAP2',\n",
       " 'ZFP451;ZNF451',\n",
       " 'RNF8;FTSJD2',\n",
       " 'CBX6;NPCD;NPTXR',\n",
       " 'ZFML;ZNF638',\n",
       " 'OTTMUSG00000005540;GM5431;GM12185;9930111J21RIK']"
      ]
     },
     "execution_count": 13,
     "metadata": {},
     "output_type": "execute_result"
    }
   ],
   "source": [
    "multiids['Sharma 2015, cultured']"
   ]
  },
  {
   "cell_type": "code",
   "execution_count": 14,
   "metadata": {},
   "outputs": [
    {
     "data": {
      "text/plain": [
       "['PGM1;PGM2',\n",
       " 'RAB11B;RAB11A',\n",
       " 'GM20431;UBE2V1',\n",
       " 'GM9242;HNRNPA3;GM6793',\n",
       " '2310035C23RIK;KIAA1468',\n",
       " 'ZNF207;ZFP207',\n",
       " 'ANKS1A;ANKS1',\n",
       " 'GM8730;RPLP0',\n",
       " 'HM13;H13',\n",
       " 'HDHD2;IER3IP1;GM10784',\n",
       " 'RBM8;RBM8A',\n",
       " 'CD1D1;CD1D2',\n",
       " 'HBS1L;GM9923',\n",
       " 'ICA;1300017J02RIK']"
      ]
     },
     "execution_count": 14,
     "metadata": {},
     "output_type": "execute_result"
    }
   ],
   "source": [
    "multiids['Sharma 2015, isolated']"
   ]
  },
  {
   "cell_type": "code",
   "execution_count": 15,
   "metadata": {},
   "outputs": [
    {
     "data": {
      "text/plain": [
       "['EPB4.1L2;EPB41L2',\n",
       " 'EPB41L1;EPB4.1L1',\n",
       " 'ETL4;SKT',\n",
       " 'GM10094;SAP18',\n",
       " 'GM20521;PABPN1',\n",
       " 'GM8730;RPLP0',\n",
       " 'H2AFZ;H2AFV',\n",
       " 'HDHD2;IER3IP1',\n",
       " 'HM13;H13',\n",
       " 'MRPS36;MRPS36-PS1',\n",
       " 'RAB1A;RAB1',\n",
       " 'RBM12;CPNE1',\n",
       " 'SUMO2;SUMO3']"
      ]
     },
     "execution_count": 15,
     "metadata": {},
     "output_type": "execute_result"
    }
   ],
   "source": [
    "multiids['Wisniewski 2015']"
   ]
  },
  {
   "cell_type": "code",
   "execution_count": 16,
   "metadata": {},
   "outputs": [
    {
     "data": {
      "text/plain": [
       "['EPB4.1L1;EPB41L1',\n",
       " 'MRPS36;MRPS36-PS1',\n",
       " 'EPB4.1L2;EPB41L2',\n",
       " 'MAP4;MTAP4',\n",
       " '0610010K14RIK;BAP18',\n",
       " 'RBM12;CPNE1',\n",
       " 'RAB1A;RAB1',\n",
       " 'SRP54;SRP54C',\n",
       " 'EPB49;EPB4.9',\n",
       " 'GM16709;IGH-VJ558',\n",
       " 'HDHD2;IER3IP1',\n",
       " 'RAB31;RAB22A']"
      ]
     },
     "execution_count": 16,
     "metadata": {},
     "output_type": "execute_result"
    }
   ],
   "source": [
    "multiids['Geiger 2013']"
   ]
  },
  {
   "cell_type": "code",
   "execution_count": 17,
   "metadata": {},
   "outputs": [
    {
     "data": {
      "text/plain": [
       "['ATP5J2-PTCD1;ATP5J2',\n",
       " 'TMEM189-UBE2V1;UBE2V1',\n",
       " 'TPM3;DKFZP686J1372',\n",
       " 'NME1-NME2;NME2;NME1',\n",
       " 'RPL26;RPL26L1',\n",
       " 'UBE2V2;UBE2V1',\n",
       " 'NPTN;DKFZP566H1924']"
      ]
     },
     "execution_count": 17,
     "metadata": {},
     "output_type": "execute_result"
    }
   ],
   "source": [
    "multiids['Davis 2019']"
   ]
  },
  {
   "cell_type": "code",
   "execution_count": 18,
   "metadata": {},
   "outputs": [
    {
     "data": {
      "text/plain": [
       "['ACTB;ACTG1',\n",
       " 'SUMO2;SUMO3',\n",
       " 'GM20431;UBE2V1',\n",
       " 'PGM1;PGM2',\n",
       " 'EPB4.1;EPB41',\n",
       " 'ALDOA;ALDOART1',\n",
       " 'HDHD2;IER3IP1',\n",
       " 'MBNL1;MBNL2']"
      ]
     },
     "execution_count": 18,
     "metadata": {},
     "output_type": "execute_result"
    }
   ],
   "source": [
    "multiids['Guergues 2019']"
   ]
  },
  {
   "cell_type": "code",
   "execution_count": 19,
   "metadata": {},
   "outputs": [
    {
     "data": {
      "text/plain": [
       "['2310035C23RIK;KIAA1468',\n",
       " 'ACAA1A;ACAA1B',\n",
       " 'CLDND1;CLDN25',\n",
       " 'CYB5A;CYB5',\n",
       " 'DCDC2;DCDC2A',\n",
       " 'EPB4.1L1;EPB41L1',\n",
       " 'ETL4;SKT',\n",
       " 'GAPDH;GM7293',\n",
       " 'GM13695;GM13697;CWC22',\n",
       " 'GM20521;PABPN1',\n",
       " 'GM21985;SLC12A6',\n",
       " 'H2AFV;H2AFZ',\n",
       " 'HNRNPA3;GM9242',\n",
       " 'LPPR3;BC005764',\n",
       " 'MAP1LC3B;GM5612',\n",
       " 'MOB1A;MOB1B',\n",
       " 'NDC1;TMEM48',\n",
       " 'PFDN6;H2-KE2',\n",
       " 'PGM1;PGM2',\n",
       " 'PSMD2;GM5422',\n",
       " 'RBM12;CPNE1',\n",
       " 'RBM4;RBM4B;RBM14',\n",
       " 'RTCA;RTCA',\n",
       " 'SRP54;SRP54C',\n",
       " 'TDRP;2610019F03RIK',\n",
       " 'BAI2;ADGRB2',\n",
       " 'GM20498;SYNJ2BP',\n",
       " 'ZNF207;ZFP207',\n",
       " 'ADGRL2;LPHN2',\n",
       " 'NPCD;NPTXR',\n",
       " 'KIAA1468;2310035C23RIK',\n",
       " 'ADGRL1;LPHN1',\n",
       " 'GM9242;HNRNPA3;GM8991;GM6793',\n",
       " 'COI;MTCO1',\n",
       " 'MTCO2;MT-CO2',\n",
       " 'MT-ATP6;MTATP6',\n",
       " 'MT-ND2;MTND2',\n",
       " 'MT-ND4;MTND4',\n",
       " 'MTND5;MT-ND5',\n",
       " 'MTATP8;MT-ATP8',\n",
       " 'EGR1;EGR2;EGR3',\n",
       " 'STAT5B;STAT5A',\n",
       " 'RAB11B;RAB11A',\n",
       " 'UBE2E3;UBE2E2;UBE2E1',\n",
       " 'ARF3;ARF1',\n",
       " 'SUMO2;SUMO3',\n",
       " 'CYCS;GM10108',\n",
       " 'DYNLL1;BC048507',\n",
       " 'AARSD1;GM27029',\n",
       " 'BAI1;ADGRB1',\n",
       " 'NXPH1;NXPH2',\n",
       " 'NPM1;GM5611',\n",
       " 'DDX3X;D1PAS1',\n",
       " 'CA4;CAR4',\n",
       " 'LPHN3;ADGRL3',\n",
       " 'BAI3;ADGRB3',\n",
       " 'PALM2;PAKAP',\n",
       " 'HNRNPU;GM28062',\n",
       " 'UBE2V1;GM20431',\n",
       " 'UCHL3;UCHL4']"
      ]
     },
     "execution_count": 19,
     "metadata": {},
     "output_type": "execute_result"
    }
   ],
   "source": [
    "multiids['Kjell 2020']"
   ]
  },
  {
   "cell_type": "code",
   "execution_count": 20,
   "metadata": {},
   "outputs": [
    {
     "data": {
      "text/html": [
       "<div>\n",
       "<style scoped>\n",
       "    .dataframe tbody tr th:only-of-type {\n",
       "        vertical-align: middle;\n",
       "    }\n",
       "\n",
       "    .dataframe tbody tr th {\n",
       "        vertical-align: top;\n",
       "    }\n",
       "\n",
       "    .dataframe thead th {\n",
       "        text-align: right;\n",
       "    }\n",
       "</style>\n",
       "<table border=\"1\" class=\"dataframe\">\n",
       "  <thead>\n",
       "    <tr style=\"text-align: right;\">\n",
       "      <th></th>\n",
       "      <th>gene_names</th>\n",
       "      <th>gene_name_unified</th>\n",
       "      <th>Uniprot</th>\n",
       "      <th>Uniprot_unified</th>\n",
       "      <th>Study</th>\n",
       "      <th>Organism</th>\n",
       "      <th>location</th>\n",
       "      <th>Age_cat</th>\n",
       "      <th>Age_days</th>\n",
       "      <th>condition</th>\n",
       "      <th>sample_id</th>\n",
       "      <th>molecular_weight_kDa</th>\n",
       "      <th>raw_data</th>\n",
       "      <th>raw_data_units</th>\n",
       "    </tr>\n",
       "  </thead>\n",
       "  <tbody>\n",
       "    <tr>\n",
       "      <th>2138682</th>\n",
       "      <td>UCHL3;UCHL4</td>\n",
       "      <td>NaN</td>\n",
       "      <td>Q9JKB1;P58321</td>\n",
       "      <td>NaN</td>\n",
       "      <td>Kjell 2020</td>\n",
       "      <td>mouse</td>\n",
       "      <td>cortex</td>\n",
       "      <td>NaN</td>\n",
       "      <td>84</td>\n",
       "      <td>NaN</td>\n",
       "      <td>cortex1</td>\n",
       "      <td>NaN</td>\n",
       "      <td>3.758969e+09</td>\n",
       "      <td>LFQ</td>\n",
       "    </tr>\n",
       "    <tr>\n",
       "      <th>2138683</th>\n",
       "      <td>UCHL3;UCHL4</td>\n",
       "      <td>NaN</td>\n",
       "      <td>Q9JKB1;P58321</td>\n",
       "      <td>NaN</td>\n",
       "      <td>Kjell 2020</td>\n",
       "      <td>mouse</td>\n",
       "      <td>cortex</td>\n",
       "      <td>NaN</td>\n",
       "      <td>84</td>\n",
       "      <td>NaN</td>\n",
       "      <td>cortex2</td>\n",
       "      <td>NaN</td>\n",
       "      <td>3.737038e+08</td>\n",
       "      <td>LFQ</td>\n",
       "    </tr>\n",
       "    <tr>\n",
       "      <th>2138684</th>\n",
       "      <td>UCHL3;UCHL4</td>\n",
       "      <td>NaN</td>\n",
       "      <td>Q9JKB1;P58321</td>\n",
       "      <td>NaN</td>\n",
       "      <td>Kjell 2020</td>\n",
       "      <td>mouse</td>\n",
       "      <td>cortex</td>\n",
       "      <td>NaN</td>\n",
       "      <td>84</td>\n",
       "      <td>NaN</td>\n",
       "      <td>cortex3</td>\n",
       "      <td>NaN</td>\n",
       "      <td>1.452697e+07</td>\n",
       "      <td>LFQ</td>\n",
       "    </tr>\n",
       "    <tr>\n",
       "      <th>2138685</th>\n",
       "      <td>UCHL3;UCHL4</td>\n",
       "      <td>NaN</td>\n",
       "      <td>Q9JKB1;P58321</td>\n",
       "      <td>NaN</td>\n",
       "      <td>Kjell 2020</td>\n",
       "      <td>mouse</td>\n",
       "      <td>cortex</td>\n",
       "      <td>NaN</td>\n",
       "      <td>84</td>\n",
       "      <td>NaN</td>\n",
       "      <td>cortex4</td>\n",
       "      <td>NaN</td>\n",
       "      <td>6.199420e+07</td>\n",
       "      <td>LFQ</td>\n",
       "    </tr>\n",
       "    <tr>\n",
       "      <th>2138686</th>\n",
       "      <td>UCHL3;UCHL4</td>\n",
       "      <td>NaN</td>\n",
       "      <td>Q9JKB1;P58321</td>\n",
       "      <td>NaN</td>\n",
       "      <td>Kjell 2020</td>\n",
       "      <td>mouse</td>\n",
       "      <td>olfactory bulb</td>\n",
       "      <td>NaN</td>\n",
       "      <td>84</td>\n",
       "      <td>NaN</td>\n",
       "      <td>olfbulb1</td>\n",
       "      <td>NaN</td>\n",
       "      <td>4.237247e+09</td>\n",
       "      <td>LFQ</td>\n",
       "    </tr>\n",
       "  </tbody>\n",
       "</table>\n",
       "</div>"
      ],
      "text/plain": [
       "          gene_names gene_name_unified        Uniprot Uniprot_unified  \\\n",
       "2138682  UCHL3;UCHL4               NaN  Q9JKB1;P58321             NaN   \n",
       "2138683  UCHL3;UCHL4               NaN  Q9JKB1;P58321             NaN   \n",
       "2138684  UCHL3;UCHL4               NaN  Q9JKB1;P58321             NaN   \n",
       "2138685  UCHL3;UCHL4               NaN  Q9JKB1;P58321             NaN   \n",
       "2138686  UCHL3;UCHL4               NaN  Q9JKB1;P58321             NaN   \n",
       "\n",
       "              Study Organism        location Age_cat Age_days condition  \\\n",
       "2138682  Kjell 2020    mouse          cortex     NaN       84       NaN   \n",
       "2138683  Kjell 2020    mouse          cortex     NaN       84       NaN   \n",
       "2138684  Kjell 2020    mouse          cortex     NaN       84       NaN   \n",
       "2138685  Kjell 2020    mouse          cortex     NaN       84       NaN   \n",
       "2138686  Kjell 2020    mouse  olfactory bulb     NaN       84       NaN   \n",
       "\n",
       "        sample_id  molecular_weight_kDa      raw_data raw_data_units  \n",
       "2138682   cortex1                   NaN  3.758969e+09            LFQ  \n",
       "2138683   cortex2                   NaN  3.737038e+08            LFQ  \n",
       "2138684   cortex3                   NaN  1.452697e+07            LFQ  \n",
       "2138685   cortex4                   NaN  6.199420e+07            LFQ  \n",
       "2138686  olfbulb1                   NaN  4.237247e+09            LFQ  "
      ]
     },
     "execution_count": 20,
     "metadata": {},
     "output_type": "execute_result"
    }
   ],
   "source": [
    "df_all.loc[(df_all['gene_names']=='UCHL3;UCHL4') & (df_all['Study']=='Kjell 2020')].head()"
   ]
  },
  {
   "cell_type": "code",
   "execution_count": 21,
   "metadata": {},
   "outputs": [
    {
     "data": {
      "text/html": [
       "<div>\n",
       "<style scoped>\n",
       "    .dataframe tbody tr th:only-of-type {\n",
       "        vertical-align: middle;\n",
       "    }\n",
       "\n",
       "    .dataframe tbody tr th {\n",
       "        vertical-align: top;\n",
       "    }\n",
       "\n",
       "    .dataframe thead th {\n",
       "        text-align: right;\n",
       "    }\n",
       "</style>\n",
       "<table border=\"1\" class=\"dataframe\">\n",
       "  <thead>\n",
       "    <tr style=\"text-align: right;\">\n",
       "      <th></th>\n",
       "      <th>gene_names</th>\n",
       "      <th>gene_name_unified</th>\n",
       "      <th>Uniprot</th>\n",
       "      <th>Uniprot_unified</th>\n",
       "      <th>Study</th>\n",
       "      <th>Organism</th>\n",
       "      <th>location</th>\n",
       "      <th>Age_cat</th>\n",
       "      <th>Age_days</th>\n",
       "      <th>condition</th>\n",
       "      <th>sample_id</th>\n",
       "      <th>molecular_weight_kDa</th>\n",
       "      <th>raw_data</th>\n",
       "      <th>raw_data_units</th>\n",
       "    </tr>\n",
       "  </thead>\n",
       "  <tbody>\n",
       "    <tr>\n",
       "      <th>2054133</th>\n",
       "      <td>UCHL3</td>\n",
       "      <td>NaN</td>\n",
       "      <td>NaN</td>\n",
       "      <td>NaN</td>\n",
       "      <td>Kjell 2020</td>\n",
       "      <td>mouse</td>\n",
       "      <td>cortex</td>\n",
       "      <td>NaN</td>\n",
       "      <td>84</td>\n",
       "      <td>NaN</td>\n",
       "      <td>cortexLMSS</td>\n",
       "      <td>NaN</td>\n",
       "      <td>3.520870e+09</td>\n",
       "      <td>LFQ</td>\n",
       "    </tr>\n",
       "    <tr>\n",
       "      <th>2060640</th>\n",
       "      <td>UCHL3</td>\n",
       "      <td>NaN</td>\n",
       "      <td>NaN</td>\n",
       "      <td>NaN</td>\n",
       "      <td>Kjell 2020</td>\n",
       "      <td>mouse</td>\n",
       "      <td>olfactory bulb</td>\n",
       "      <td>NaN</td>\n",
       "      <td>84</td>\n",
       "      <td>NaN</td>\n",
       "      <td>olfbulbLMSS</td>\n",
       "      <td>NaN</td>\n",
       "      <td>2.940145e+09</td>\n",
       "      <td>LFQ</td>\n",
       "    </tr>\n",
       "    <tr>\n",
       "      <th>2067147</th>\n",
       "      <td>UCHL3</td>\n",
       "      <td>NaN</td>\n",
       "      <td>NaN</td>\n",
       "      <td>NaN</td>\n",
       "      <td>Kjell 2020</td>\n",
       "      <td>mouse</td>\n",
       "      <td>subependymal zone</td>\n",
       "      <td>NaN</td>\n",
       "      <td>84</td>\n",
       "      <td>NaN</td>\n",
       "      <td>sezLMSS</td>\n",
       "      <td>NaN</td>\n",
       "      <td>2.768241e+09</td>\n",
       "      <td>LFQ</td>\n",
       "    </tr>\n",
       "    <tr>\n",
       "      <th>2073654</th>\n",
       "      <td>UCHL3</td>\n",
       "      <td>NaN</td>\n",
       "      <td>NaN</td>\n",
       "      <td>NaN</td>\n",
       "      <td>Kjell 2020</td>\n",
       "      <td>mouse</td>\n",
       "      <td>medial subependymal zone</td>\n",
       "      <td>NaN</td>\n",
       "      <td>84</td>\n",
       "      <td>NaN</td>\n",
       "      <td>mezLMSS</td>\n",
       "      <td>NaN</td>\n",
       "      <td>3.224097e+09</td>\n",
       "      <td>LFQ</td>\n",
       "    </tr>\n",
       "  </tbody>\n",
       "</table>\n",
       "</div>"
      ],
      "text/plain": [
       "        gene_names gene_name_unified Uniprot Uniprot_unified       Study  \\\n",
       "2054133      UCHL3               NaN     NaN             NaN  Kjell 2020   \n",
       "2060640      UCHL3               NaN     NaN             NaN  Kjell 2020   \n",
       "2067147      UCHL3               NaN     NaN             NaN  Kjell 2020   \n",
       "2073654      UCHL3               NaN     NaN             NaN  Kjell 2020   \n",
       "\n",
       "        Organism                  location Age_cat Age_days condition  \\\n",
       "2054133    mouse                    cortex     NaN       84       NaN   \n",
       "2060640    mouse            olfactory bulb     NaN       84       NaN   \n",
       "2067147    mouse         subependymal zone     NaN       84       NaN   \n",
       "2073654    mouse  medial subependymal zone     NaN       84       NaN   \n",
       "\n",
       "           sample_id  molecular_weight_kDa      raw_data raw_data_units  \n",
       "2054133   cortexLMSS                   NaN  3.520870e+09            LFQ  \n",
       "2060640  olfbulbLMSS                   NaN  2.940145e+09            LFQ  \n",
       "2067147      sezLMSS                   NaN  2.768241e+09            LFQ  \n",
       "2073654      mezLMSS                   NaN  3.224097e+09            LFQ  "
      ]
     },
     "execution_count": 21,
     "metadata": {},
     "output_type": "execute_result"
    }
   ],
   "source": [
    "df_all.loc[(df_all['gene_names']=='UCHL3') & (df_all['Study']=='Kjell 2020')].head()"
   ]
  },
  {
   "cell_type": "code",
   "execution_count": 22,
   "metadata": {},
   "outputs": [
    {
     "data": {
      "text/html": [
       "<div>\n",
       "<style scoped>\n",
       "    .dataframe tbody tr th:only-of-type {\n",
       "        vertical-align: middle;\n",
       "    }\n",
       "\n",
       "    .dataframe tbody tr th {\n",
       "        vertical-align: top;\n",
       "    }\n",
       "\n",
       "    .dataframe thead th {\n",
       "        text-align: right;\n",
       "    }\n",
       "</style>\n",
       "<table border=\"1\" class=\"dataframe\">\n",
       "  <thead>\n",
       "    <tr style=\"text-align: right;\">\n",
       "      <th></th>\n",
       "      <th>gene_names</th>\n",
       "      <th>gene_name_unified</th>\n",
       "      <th>Uniprot</th>\n",
       "      <th>Uniprot_unified</th>\n",
       "      <th>Study</th>\n",
       "      <th>Organism</th>\n",
       "      <th>location</th>\n",
       "      <th>Age_cat</th>\n",
       "      <th>Age_days</th>\n",
       "      <th>condition</th>\n",
       "      <th>sample_id</th>\n",
       "      <th>molecular_weight_kDa</th>\n",
       "      <th>raw_data</th>\n",
       "      <th>raw_data_units</th>\n",
       "    </tr>\n",
       "  </thead>\n",
       "  <tbody>\n",
       "  </tbody>\n",
       "</table>\n",
       "</div>"
      ],
      "text/plain": [
       "Empty DataFrame\n",
       "Columns: [gene_names, gene_name_unified, Uniprot, Uniprot_unified, Study, Organism, location, Age_cat, Age_days, condition, sample_id, molecular_weight_kDa, raw_data, raw_data_units]\n",
       "Index: []"
      ]
     },
     "execution_count": 22,
     "metadata": {},
     "output_type": "execute_result"
    }
   ],
   "source": [
    "df_all.loc[(df_all['gene_names']=='UCHL4') & (df_all['Study']=='Kjell 2020')].head()"
   ]
  },
  {
   "cell_type": "code",
   "execution_count": 23,
   "metadata": {},
   "outputs": [
    {
     "data": {
      "text/html": [
       "<div>\n",
       "<style scoped>\n",
       "    .dataframe tbody tr th:only-of-type {\n",
       "        vertical-align: middle;\n",
       "    }\n",
       "\n",
       "    .dataframe tbody tr th {\n",
       "        vertical-align: top;\n",
       "    }\n",
       "\n",
       "    .dataframe thead th {\n",
       "        text-align: right;\n",
       "    }\n",
       "</style>\n",
       "<table border=\"1\" class=\"dataframe\">\n",
       "  <thead>\n",
       "    <tr style=\"text-align: right;\">\n",
       "      <th></th>\n",
       "      <th>gene_names</th>\n",
       "      <th>gene_name_unified</th>\n",
       "      <th>Uniprot</th>\n",
       "      <th>Uniprot_unified</th>\n",
       "      <th>Study</th>\n",
       "      <th>Organism</th>\n",
       "      <th>location</th>\n",
       "      <th>Age_cat</th>\n",
       "      <th>Age_days</th>\n",
       "      <th>condition</th>\n",
       "      <th>sample_id</th>\n",
       "      <th>molecular_weight_kDa</th>\n",
       "      <th>raw_data</th>\n",
       "      <th>raw_data_units</th>\n",
       "    </tr>\n",
       "  </thead>\n",
       "  <tbody>\n",
       "    <tr>\n",
       "      <th>1575680</th>\n",
       "      <td>NFIA;NFIX</td>\n",
       "      <td>NaN</td>\n",
       "      <td>B1AUB6;Q3TYK3;E9PUH7;B1AUB8;B1AUB9;D3YZ00;B1AU...</td>\n",
       "      <td>NaN</td>\n",
       "      <td>Guergues 2019</td>\n",
       "      <td>mouse</td>\n",
       "      <td>microglia</td>\n",
       "      <td>adult</td>\n",
       "      <td>77</td>\n",
       "      <td>NaN</td>\n",
       "      <td>STrap300K1</td>\n",
       "      <td>25.912</td>\n",
       "      <td>6641600.0</td>\n",
       "      <td>LFQintensity</td>\n",
       "    </tr>\n",
       "    <tr>\n",
       "      <th>1575681</th>\n",
       "      <td>NFIA;NFIX</td>\n",
       "      <td>NaN</td>\n",
       "      <td>B1AUB6;Q3TYK3;E9PUH7;B1AUB8;B1AUB9;D3YZ00;B1AU...</td>\n",
       "      <td>NaN</td>\n",
       "      <td>Guergues 2019</td>\n",
       "      <td>mouse</td>\n",
       "      <td>microglia</td>\n",
       "      <td>adult</td>\n",
       "      <td>77</td>\n",
       "      <td>NaN</td>\n",
       "      <td>STrap300K2</td>\n",
       "      <td>25.912</td>\n",
       "      <td>17392000.0</td>\n",
       "      <td>LFQintensity</td>\n",
       "    </tr>\n",
       "    <tr>\n",
       "      <th>1575682</th>\n",
       "      <td>NFIA;NFIX</td>\n",
       "      <td>NaN</td>\n",
       "      <td>B1AUB6;Q3TYK3;E9PUH7;B1AUB8;B1AUB9;D3YZ00;B1AU...</td>\n",
       "      <td>NaN</td>\n",
       "      <td>Guergues 2019</td>\n",
       "      <td>mouse</td>\n",
       "      <td>microglia</td>\n",
       "      <td>adult</td>\n",
       "      <td>77</td>\n",
       "      <td>NaN</td>\n",
       "      <td>STrap300K3</td>\n",
       "      <td>25.912</td>\n",
       "      <td>13059000.0</td>\n",
       "      <td>LFQintensity</td>\n",
       "    </tr>\n",
       "  </tbody>\n",
       "</table>\n",
       "</div>"
      ],
      "text/plain": [
       "        gene_names gene_name_unified  \\\n",
       "1575680  NFIA;NFIX               NaN   \n",
       "1575681  NFIA;NFIX               NaN   \n",
       "1575682  NFIA;NFIX               NaN   \n",
       "\n",
       "                                                   Uniprot Uniprot_unified  \\\n",
       "1575680  B1AUB6;Q3TYK3;E9PUH7;B1AUB8;B1AUB9;D3YZ00;B1AU...             NaN   \n",
       "1575681  B1AUB6;Q3TYK3;E9PUH7;B1AUB8;B1AUB9;D3YZ00;B1AU...             NaN   \n",
       "1575682  B1AUB6;Q3TYK3;E9PUH7;B1AUB8;B1AUB9;D3YZ00;B1AU...             NaN   \n",
       "\n",
       "                 Study Organism   location Age_cat Age_days condition  \\\n",
       "1575680  Guergues 2019    mouse  microglia   adult       77       NaN   \n",
       "1575681  Guergues 2019    mouse  microglia   adult       77       NaN   \n",
       "1575682  Guergues 2019    mouse  microglia   adult       77       NaN   \n",
       "\n",
       "          sample_id  molecular_weight_kDa    raw_data raw_data_units  \n",
       "1575680  STrap300K1                25.912   6641600.0   LFQintensity  \n",
       "1575681  STrap300K2                25.912  17392000.0   LFQintensity  \n",
       "1575682  STrap300K3                25.912  13059000.0   LFQintensity  "
      ]
     },
     "execution_count": 23,
     "metadata": {},
     "output_type": "execute_result"
    }
   ],
   "source": [
    "df_all.loc[(df_all['gene_names']=='NFIA;NFIX') & (df_all['Study']=='Guergues 2019')].head()"
   ]
  },
  {
   "cell_type": "code",
   "execution_count": 24,
   "metadata": {},
   "outputs": [
    {
     "data": {
      "text/html": [
       "<div>\n",
       "<style scoped>\n",
       "    .dataframe tbody tr th:only-of-type {\n",
       "        vertical-align: middle;\n",
       "    }\n",
       "\n",
       "    .dataframe tbody tr th {\n",
       "        vertical-align: top;\n",
       "    }\n",
       "\n",
       "    .dataframe thead th {\n",
       "        text-align: right;\n",
       "    }\n",
       "</style>\n",
       "<table border=\"1\" class=\"dataframe\">\n",
       "  <thead>\n",
       "    <tr style=\"text-align: right;\">\n",
       "      <th></th>\n",
       "      <th>gene_names</th>\n",
       "      <th>gene_name_unified</th>\n",
       "      <th>Uniprot</th>\n",
       "      <th>Uniprot_unified</th>\n",
       "      <th>Study</th>\n",
       "      <th>Organism</th>\n",
       "      <th>location</th>\n",
       "      <th>Age_cat</th>\n",
       "      <th>Age_days</th>\n",
       "      <th>condition</th>\n",
       "      <th>sample_id</th>\n",
       "      <th>molecular_weight_kDa</th>\n",
       "      <th>raw_data</th>\n",
       "      <th>raw_data_units</th>\n",
       "    </tr>\n",
       "  </thead>\n",
       "  <tbody>\n",
       "  </tbody>\n",
       "</table>\n",
       "</div>"
      ],
      "text/plain": [
       "Empty DataFrame\n",
       "Columns: [gene_names, gene_name_unified, Uniprot, Uniprot_unified, Study, Organism, location, Age_cat, Age_days, condition, sample_id, molecular_weight_kDa, raw_data, raw_data_units]\n",
       "Index: []"
      ]
     },
     "execution_count": 24,
     "metadata": {},
     "output_type": "execute_result"
    }
   ],
   "source": [
    "df_all.loc[(df_all['gene_names']=='NFIA') & (df_all['Study']=='Guergues 2019')].head()"
   ]
  },
  {
   "cell_type": "code",
   "execution_count": 25,
   "metadata": {},
   "outputs": [
    {
     "data": {
      "text/html": [
       "<div>\n",
       "<style scoped>\n",
       "    .dataframe tbody tr th:only-of-type {\n",
       "        vertical-align: middle;\n",
       "    }\n",
       "\n",
       "    .dataframe tbody tr th {\n",
       "        vertical-align: top;\n",
       "    }\n",
       "\n",
       "    .dataframe thead th {\n",
       "        text-align: right;\n",
       "    }\n",
       "</style>\n",
       "<table border=\"1\" class=\"dataframe\">\n",
       "  <thead>\n",
       "    <tr style=\"text-align: right;\">\n",
       "      <th></th>\n",
       "      <th>gene_names</th>\n",
       "      <th>gene_name_unified</th>\n",
       "      <th>Uniprot</th>\n",
       "      <th>Uniprot_unified</th>\n",
       "      <th>Study</th>\n",
       "      <th>Organism</th>\n",
       "      <th>location</th>\n",
       "      <th>Age_cat</th>\n",
       "      <th>Age_days</th>\n",
       "      <th>condition</th>\n",
       "      <th>sample_id</th>\n",
       "      <th>molecular_weight_kDa</th>\n",
       "      <th>raw_data</th>\n",
       "      <th>raw_data_units</th>\n",
       "    </tr>\n",
       "  </thead>\n",
       "  <tbody>\n",
       "  </tbody>\n",
       "</table>\n",
       "</div>"
      ],
      "text/plain": [
       "Empty DataFrame\n",
       "Columns: [gene_names, gene_name_unified, Uniprot, Uniprot_unified, Study, Organism, location, Age_cat, Age_days, condition, sample_id, molecular_weight_kDa, raw_data, raw_data_units]\n",
       "Index: []"
      ]
     },
     "execution_count": 25,
     "metadata": {},
     "output_type": "execute_result"
    }
   ],
   "source": [
    "df_all.loc[(df_all['gene_names']=='NFIX') & (df_all['Study']=='Guergues 2019')].head()"
   ]
  },
  {
   "cell_type": "code",
   "execution_count": 26,
   "metadata": {},
   "outputs": [
    {
     "name": "stdout",
     "output_type": "stream",
     "text": [
      "2142284\n",
      "2140373\n"
     ]
    }
   ],
   "source": [
    "# remove partial duplicates of type \"GN1;GN2\" .. \"GN1\" within studies, because we need unique, unambigous ids\n",
    "\n",
    "df_all = df_all.reset_index(drop=True)\n",
    "\n",
    "print(len(df_all))\n",
    "for i,study in enumerate(df_all['Study'].unique()):\n",
    "    indexNames = df_all.loc[(df_all['Study'] == study) & (df_all['gene_names'].isin(multiids[study]))].index\n",
    "    \n",
    "    df_all.drop(indexNames , inplace=True)\n",
    "    \n",
    "print(len(df_all))    \n",
    "\n",
    "df_all = df_all.reset_index(drop=True)"
   ]
  },
  {
   "cell_type": "code",
   "execution_count": 27,
   "metadata": {},
   "outputs": [
    {
     "name": "stdout",
     "output_type": "stream",
     "text": [
      "Hamezah 2019 \t 0\n",
      "Hamezah 2018 \t 0\n",
      "Chuang 2018 \t 0\n",
      "Duda 2018 \t 0\n",
      "Krogager 2018 \t 0\n",
      "Hosp 2017, soluble \t 0\n",
      "Hosp 2017, CSF \t 0\n",
      "Hosp 2017, insoluble \t 0\n",
      "Itzhak 2017 \t 0\n",
      "Beltran 2016 \t 0\n",
      "Sharma 2015, cultured \t 0\n",
      "Sharma 2015, isolated \t 0\n",
      "Wisniewski 2015 \t 0\n",
      "Han 2014 \t 0\n",
      "Geiger 2013 \t 0\n",
      "Bai 2020 \t 0\n",
      "Carlyle 2017 \t 0\n",
      "Davis 2019 \t 0\n",
      "Fecher 2019 \t 0\n",
      "Fornasiero 2018 \t 0\n",
      "Guergues 2019 \t 0\n",
      "McKetney 2019 \t 0\n",
      "Hasan 2020 \t 0\n",
      "Zhu 2018 \t 0\n",
      "Kjell 2020 \t 0\n"
     ]
    }
   ],
   "source": [
    "# check for GN consistency within studies\n",
    "\n",
    "multiids2 = check_GN_consistency_within_studies(df_all)\n",
    "\n",
    "for i,v in multiids2.items():\n",
    "    print(i,'\\t',len(v))"
   ]
  },
  {
   "cell_type": "code",
   "execution_count": 28,
   "metadata": {},
   "outputs": [
    {
     "data": {
      "text/html": [
       "<div>\n",
       "<style scoped>\n",
       "    .dataframe tbody tr th:only-of-type {\n",
       "        vertical-align: middle;\n",
       "    }\n",
       "\n",
       "    .dataframe tbody tr th {\n",
       "        vertical-align: top;\n",
       "    }\n",
       "\n",
       "    .dataframe thead th {\n",
       "        text-align: right;\n",
       "    }\n",
       "</style>\n",
       "<table border=\"1\" class=\"dataframe\">\n",
       "  <thead>\n",
       "    <tr style=\"text-align: right;\">\n",
       "      <th></th>\n",
       "      <th>gene_names</th>\n",
       "      <th>gene_name_unified</th>\n",
       "      <th>Uniprot</th>\n",
       "      <th>Uniprot_unified</th>\n",
       "      <th>Study</th>\n",
       "      <th>Organism</th>\n",
       "      <th>location</th>\n",
       "      <th>Age_cat</th>\n",
       "      <th>Age_days</th>\n",
       "      <th>condition</th>\n",
       "      <th>sample_id</th>\n",
       "      <th>molecular_weight_kDa</th>\n",
       "      <th>raw_data</th>\n",
       "      <th>raw_data_units</th>\n",
       "    </tr>\n",
       "  </thead>\n",
       "  <tbody>\n",
       "  </tbody>\n",
       "</table>\n",
       "</div>"
      ],
      "text/plain": [
       "Empty DataFrame\n",
       "Columns: [gene_names, gene_name_unified, Uniprot, Uniprot_unified, Study, Organism, location, Age_cat, Age_days, condition, sample_id, molecular_weight_kDa, raw_data, raw_data_units]\n",
       "Index: []"
      ]
     },
     "execution_count": 28,
     "metadata": {},
     "output_type": "execute_result"
    }
   ],
   "source": [
    "#for check\n",
    "df_all.loc[(~df_all['gene_names'].isna()) & (df_all['gene_names'].str.contains(','))].head()"
   ]
  },
  {
   "cell_type": "code",
   "execution_count": 29,
   "metadata": {},
   "outputs": [
    {
     "data": {
      "text/html": [
       "<div>\n",
       "<style scoped>\n",
       "    .dataframe tbody tr th:only-of-type {\n",
       "        vertical-align: middle;\n",
       "    }\n",
       "\n",
       "    .dataframe tbody tr th {\n",
       "        vertical-align: top;\n",
       "    }\n",
       "\n",
       "    .dataframe thead th {\n",
       "        text-align: right;\n",
       "    }\n",
       "</style>\n",
       "<table border=\"1\" class=\"dataframe\">\n",
       "  <thead>\n",
       "    <tr style=\"text-align: right;\">\n",
       "      <th></th>\n",
       "      <th>gene_names</th>\n",
       "      <th>gene_name_unified</th>\n",
       "      <th>Uniprot</th>\n",
       "      <th>Uniprot_unified</th>\n",
       "      <th>Study</th>\n",
       "      <th>Organism</th>\n",
       "      <th>location</th>\n",
       "      <th>Age_cat</th>\n",
       "      <th>Age_days</th>\n",
       "      <th>condition</th>\n",
       "      <th>sample_id</th>\n",
       "      <th>molecular_weight_kDa</th>\n",
       "      <th>raw_data</th>\n",
       "      <th>raw_data_units</th>\n",
       "    </tr>\n",
       "  </thead>\n",
       "  <tbody>\n",
       "  </tbody>\n",
       "</table>\n",
       "</div>"
      ],
      "text/plain": [
       "Empty DataFrame\n",
       "Columns: [gene_names, gene_name_unified, Uniprot, Uniprot_unified, Study, Organism, location, Age_cat, Age_days, condition, sample_id, molecular_weight_kDa, raw_data, raw_data_units]\n",
       "Index: []"
      ]
     },
     "execution_count": 29,
     "metadata": {},
     "output_type": "execute_result"
    }
   ],
   "source": [
    "#for check\n",
    "df_all.loc[(~df_all['gene_names'].isna()) & (df_all['gene_names'].str.contains('; '))].head()"
   ]
  },
  {
   "cell_type": "code",
   "execution_count": 30,
   "metadata": {},
   "outputs": [
    {
     "data": {
      "text/html": [
       "<div>\n",
       "<style scoped>\n",
       "    .dataframe tbody tr th:only-of-type {\n",
       "        vertical-align: middle;\n",
       "    }\n",
       "\n",
       "    .dataframe tbody tr th {\n",
       "        vertical-align: top;\n",
       "    }\n",
       "\n",
       "    .dataframe thead th {\n",
       "        text-align: right;\n",
       "    }\n",
       "</style>\n",
       "<table border=\"1\" class=\"dataframe\">\n",
       "  <thead>\n",
       "    <tr style=\"text-align: right;\">\n",
       "      <th></th>\n",
       "      <th>gene_names</th>\n",
       "      <th>gene_name_unified</th>\n",
       "      <th>Uniprot</th>\n",
       "      <th>Uniprot_unified</th>\n",
       "      <th>Study</th>\n",
       "      <th>Organism</th>\n",
       "      <th>location</th>\n",
       "      <th>Age_cat</th>\n",
       "      <th>Age_days</th>\n",
       "      <th>condition</th>\n",
       "      <th>sample_id</th>\n",
       "      <th>molecular_weight_kDa</th>\n",
       "      <th>raw_data</th>\n",
       "      <th>raw_data_units</th>\n",
       "    </tr>\n",
       "  </thead>\n",
       "  <tbody>\n",
       "  </tbody>\n",
       "</table>\n",
       "</div>"
      ],
      "text/plain": [
       "Empty DataFrame\n",
       "Columns: [gene_names, gene_name_unified, Uniprot, Uniprot_unified, Study, Organism, location, Age_cat, Age_days, condition, sample_id, molecular_weight_kDa, raw_data, raw_data_units]\n",
       "Index: []"
      ]
     },
     "execution_count": 30,
     "metadata": {},
     "output_type": "execute_result"
    }
   ],
   "source": [
    "#for check\n",
    "df_all.loc[(~df_all['Uniprot'].isna()) & (df_all['Uniprot'].str.contains(','))].head()"
   ]
  },
  {
   "cell_type": "code",
   "execution_count": 31,
   "metadata": {},
   "outputs": [
    {
     "data": {
      "text/html": [
       "<div>\n",
       "<style scoped>\n",
       "    .dataframe tbody tr th:only-of-type {\n",
       "        vertical-align: middle;\n",
       "    }\n",
       "\n",
       "    .dataframe tbody tr th {\n",
       "        vertical-align: top;\n",
       "    }\n",
       "\n",
       "    .dataframe thead th {\n",
       "        text-align: right;\n",
       "    }\n",
       "</style>\n",
       "<table border=\"1\" class=\"dataframe\">\n",
       "  <thead>\n",
       "    <tr style=\"text-align: right;\">\n",
       "      <th></th>\n",
       "      <th>gene_names</th>\n",
       "      <th>gene_name_unified</th>\n",
       "      <th>Uniprot</th>\n",
       "      <th>Uniprot_unified</th>\n",
       "      <th>Study</th>\n",
       "      <th>Organism</th>\n",
       "      <th>location</th>\n",
       "      <th>Age_cat</th>\n",
       "      <th>Age_days</th>\n",
       "      <th>condition</th>\n",
       "      <th>sample_id</th>\n",
       "      <th>molecular_weight_kDa</th>\n",
       "      <th>raw_data</th>\n",
       "      <th>raw_data_units</th>\n",
       "    </tr>\n",
       "  </thead>\n",
       "  <tbody>\n",
       "  </tbody>\n",
       "</table>\n",
       "</div>"
      ],
      "text/plain": [
       "Empty DataFrame\n",
       "Columns: [gene_names, gene_name_unified, Uniprot, Uniprot_unified, Study, Organism, location, Age_cat, Age_days, condition, sample_id, molecular_weight_kDa, raw_data, raw_data_units]\n",
       "Index: []"
      ]
     },
     "execution_count": 31,
     "metadata": {},
     "output_type": "execute_result"
    }
   ],
   "source": [
    "#for check\n",
    "df_all.loc[(~df_all['Uniprot'].isna()) & (df_all['Uniprot'].str.contains(' '))].head()"
   ]
  },
  {
   "cell_type": "code",
   "execution_count": 32,
   "metadata": {},
   "outputs": [
    {
     "name": "stdout",
     "output_type": "stream",
     "text": [
      "138583\n"
     ]
    },
    {
     "data": {
      "text/plain": [
       "0                         [A0A068BEQ2, P50171, G3UX44]\n",
       "2    [Q78ZJ8, A0A068BFR3, P46638, G3UY29, E9Q3P9, F...\n",
       "4                 [Q3V3A4, A0A068BGT0, Q8C754, G3UY33]\n",
       "Name: Uniprot, dtype: object"
      ]
     },
     "execution_count": 32,
     "metadata": {},
     "output_type": "execute_result"
    }
   ],
   "source": [
    "# del NA from df_all['Uniprot']\n",
    "\n",
    "df_all_4ids = df_all[['gene_names','Uniprot','Study']].copy()\n",
    "\n",
    "df_all_4ids = df_all_4ids.drop_duplicates(keep='first')\n",
    "print(len(df_all_4ids))\n",
    "\n",
    "df_all_4ids[~df_all_4ids['Uniprot'].isna()]['Uniprot'].str.split(\";\") [0:3]"
   ]
  },
  {
   "cell_type": "code",
   "execution_count": 35,
   "metadata": {},
   "outputs": [
    {
     "name": "stdout",
     "output_type": "stream",
     "text": [
      "120827\n"
     ]
    }
   ],
   "source": [
    "a_uniprot = df_all_4ids[~df_all_4ids['Uniprot'].isna()]['Uniprot'].str.split(\";\") \n",
    "\n",
    "print(len(a_uniprot))"
   ]
  },
  {
   "cell_type": "code",
   "execution_count": 41,
   "metadata": {
    "tags": []
   },
   "outputs": [
    {
     "name": "stdout",
     "output_type": "stream",
     "text": [
      "\n",
      "\n",
      "\n",
      "\n",
      "\n",
      "\n",
      "\n",
      "\n",
      "\n",
      "\n",
      "\n",
      "\n",
      "\n",
      "\n"
     ]
    }
   ],
   "source": [
    "# to remove isoform index, i.e. transform from PPPPPP-1 to PPPPPP\n",
    "# and remove CON_ from weird uniprot ids\n",
    "\n",
    "for idx,elem in enumerate(a_uniprot):\n",
    "    if isinstance(elem,list):       \n",
    "        for i, s in enumerate(elem):\n",
    "            if \"CON__\" in s:\n",
    "                s = s.replace(\"CON__\",\"\")\n",
    "            if len(s)<6:\n",
    "                print(s)\n",
    "                \n",
    "            elem[i] = s.split('-')[0] # it will change a_uniprot\n",
    "            "
   ]
  },
  {
   "cell_type": "code",
   "execution_count": 42,
   "metadata": {},
   "outputs": [],
   "source": [
    "# 1536,1550d1535\n",
    "\n",
    "# remove incorrect Uniprot ids: \"1536,1550d1535\"\n",
    "\n",
    "for L in a_uniprot:\n",
    "    try:\n",
    "        L.remove(\"1536,1550d1535\")\n",
    "    except ValueError:\n",
    "        pass"
   ]
  },
  {
   "cell_type": "code",
   "execution_count": 43,
   "metadata": {},
   "outputs": [],
   "source": [
    "a_gn = df_all_4ids[~df_all_4ids['gene_names'].isna()]['gene_names'].str.split(\";\") "
   ]
  },
  {
   "cell_type": "code",
   "execution_count": 44,
   "metadata": {},
   "outputs": [
    {
     "name": "stdout",
     "output_type": "stream",
     "text": [
      "120827\n",
      "126620\n",
      "120827\n"
     ]
    }
   ],
   "source": [
    "print(len(a_uniprot))\n",
    "print(len(a_gn))\n",
    "\n",
    "print(len(df_all_4ids[~df_all_4ids['Uniprot'].isna()]['Uniprot'].str.split(\";\") ))"
   ]
  },
  {
   "cell_type": "code",
   "execution_count": 45,
   "metadata": {},
   "outputs": [],
   "source": [
    "# to check\n",
    "\n",
    "for idx,elem in enumerate(a_uniprot):\n",
    "    if isinstance(elem,list):        \n",
    "        for i, s in enumerate(elem):\n",
    "            if \"-\" in s:\n",
    "                print(s)"
   ]
  },
  {
   "cell_type": "code",
   "execution_count": 46,
   "metadata": {},
   "outputs": [
    {
     "name": "stdout",
     "output_type": "stream",
     "text": [
      "16914\n",
      "16914\n"
     ]
    }
   ],
   "source": [
    "print(len(df_all[~df_all['gene_names'].isna()]['gene_names'].unique()))\n",
    "\n",
    "print(len(df_all[~df_all['gene_names'].isna()]['gene_names'].str.replace(\",\", \";\").unique()))"
   ]
  },
  {
   "cell_type": "code",
   "execution_count": 47,
   "metadata": {
    "tags": []
   },
   "outputs": [],
   "source": [
    "# this will take a while\n",
    "\n",
    "cG = nx.Graph()\n",
    "cc = Counter()\n",
    "\n",
    "for idx,pp in enumerate(a_gn):\n",
    "    cc = cc + Counter(pp)\n",
    "    cG.add_nodes_from(pp)\n",
    "    for i in range(len(pp)-1):\n",
    "        cG.add_edge(pp[i], pp[i+1])\n"
   ]
  },
  {
   "cell_type": "code",
   "execution_count": 48,
   "metadata": {},
   "outputs": [],
   "source": [
    "prot_align_id_gn= {}"
   ]
  },
  {
   "cell_type": "code",
   "execution_count": 49,
   "metadata": {},
   "outputs": [],
   "source": [
    "while len(cc):\n",
    "    mc = cc.most_common(1)[0][0]\n",
    "    for n in nx.node_connected_component(cG, mc):\n",
    "        prot_align_id_gn[n] = mc\n",
    "        del cc[n]"
   ]
  },
  {
   "cell_type": "code",
   "execution_count": 50,
   "metadata": {},
   "outputs": [
    {
     "name": "stdout",
     "output_type": "stream",
     "text": [
      "117353\n"
     ]
    },
    {
     "data": {
      "text/html": [
       "<div>\n",
       "<style scoped>\n",
       "    .dataframe tbody tr th:only-of-type {\n",
       "        vertical-align: middle;\n",
       "    }\n",
       "\n",
       "    .dataframe tbody tr th {\n",
       "        vertical-align: top;\n",
       "    }\n",
       "\n",
       "    .dataframe thead th {\n",
       "        text-align: right;\n",
       "    }\n",
       "</style>\n",
       "<table border=\"1\" class=\"dataframe\">\n",
       "  <thead>\n",
       "    <tr style=\"text-align: right;\">\n",
       "      <th></th>\n",
       "      <th>gene_names</th>\n",
       "      <th>Study</th>\n",
       "    </tr>\n",
       "  </thead>\n",
       "  <tbody>\n",
       "    <tr>\n",
       "      <th>0</th>\n",
       "      <td>H2-KE6;HSD17B8</td>\n",
       "      <td>Hamezah 2019</td>\n",
       "    </tr>\n",
       "    <tr>\n",
       "      <th>1</th>\n",
       "      <td>RAB11B;RAB11A</td>\n",
       "      <td>Hamezah 2019</td>\n",
       "    </tr>\n",
       "    <tr>\n",
       "      <th>2</th>\n",
       "      <td>VPS52</td>\n",
       "      <td>Hamezah 2019</td>\n",
       "    </tr>\n",
       "    <tr>\n",
       "      <th>3</th>\n",
       "      <td>MT-CO2;COX2;MTCO2</td>\n",
       "      <td>Hamezah 2019</td>\n",
       "    </tr>\n",
       "    <tr>\n",
       "      <th>4</th>\n",
       "      <td>MT-CO3;COX3;COXIII</td>\n",
       "      <td>Hamezah 2019</td>\n",
       "    </tr>\n",
       "  </tbody>\n",
       "</table>\n",
       "</div>"
      ],
      "text/plain": [
       "           gene_names         Study\n",
       "0      H2-KE6;HSD17B8  Hamezah 2019\n",
       "1       RAB11B;RAB11A  Hamezah 2019\n",
       "2               VPS52  Hamezah 2019\n",
       "3   MT-CO2;COX2;MTCO2  Hamezah 2019\n",
       "4  MT-CO3;COX3;COXIII  Hamezah 2019"
      ]
     },
     "execution_count": 50,
     "metadata": {},
     "output_type": "execute_result"
    }
   ],
   "source": [
    "df_g_s = df_all.loc[~df_all['gene_names'].isna(),['gene_names','Study']].drop_duplicates(keep='first')\n",
    "print(len(df_g_s))\n",
    "df_g_s = df_g_s.reset_index(drop=True)\n",
    "df_g_s.head()"
   ]
  },
  {
   "cell_type": "code",
   "execution_count": 51,
   "metadata": {},
   "outputs": [],
   "source": [
    "# calc number of occurences for every gn\n",
    "\n",
    "gn_study_dict = dict()\n",
    "\n",
    "for idx, row in df_g_s.iterrows():\n",
    "    gn_list = row[\"gene_names\"].replace(\" \",\"\").split(\";\")\n",
    "    #gn_list = [x.split(\"-\")[0] for x in gn_list0 if x is not None] # check if its needed now!!!!\n",
    "    \n",
    "    for elem in gn_list:\n",
    "        check = gn_study_dict.get(elem,\"NewIDfoundInGNStudyList\")\n",
    "        \n",
    "        if check == \"NewIDfoundInGNStudyList\":\n",
    "            gn_study_dict[elem] = 1\n",
    "        else:\n",
    "            gn_study_dict[elem] = 1+check"
   ]
  },
  {
   "cell_type": "code",
   "execution_count": 52,
   "metadata": {},
   "outputs": [
    {
     "name": "stdout",
     "output_type": "stream",
     "text": [
      "16743\n"
     ]
    }
   ],
   "source": [
    "print(len(gn_study_dict)) # 16743"
   ]
  },
  {
   "cell_type": "code",
   "execution_count": 53,
   "metadata": {},
   "outputs": [
    {
     "data": {
      "text/plain": [
       "array([nan], dtype=object)"
      ]
     },
     "execution_count": 53,
     "metadata": {},
     "output_type": "execute_result"
    }
   ],
   "source": [
    "df_all['gene_name_unified'].unique()"
   ]
  },
  {
   "cell_type": "code",
   "execution_count": 54,
   "metadata": {},
   "outputs": [],
   "source": [
    "df_all = df_all.drop(columns='gene_name_unified')"
   ]
  },
  {
   "cell_type": "code",
   "execution_count": 55,
   "metadata": {},
   "outputs": [],
   "source": [
    "# to get gene_names to gene_name_unified mapping using gn_study_dict (occurences dict)\n",
    "\n",
    "df_all_gn = pd.DataFrame(df_all.loc[~(df_all['gene_names'].isna()),'gene_names'].copy())\n",
    "df_all_gn = df_all_gn.drop_duplicates(keep='first')\n",
    "df_all_gn = df_all_gn.reset_index(drop=True)"
   ]
  },
  {
   "cell_type": "code",
   "execution_count": 68,
   "metadata": {},
   "outputs": [],
   "source": [
    "df_all_gn = df_all_gn.reset_index(drop=True)\n",
    "\n",
    "df_all_gn['gene_name_unified'] =  None\n",
    "\n",
    "for index,row in df_all_gn.iterrows():\n",
    "    df_all_gn.loc[index,'gene_name_unified'] = get_gene_unified(index,row,gn_study_dict)"
   ]
  },
  {
   "cell_type": "code",
   "execution_count": 69,
   "metadata": {},
   "outputs": [
    {
     "name": "stdout",
     "output_type": "stream",
     "text": [
      "2140373\n",
      "1864148\n"
     ]
    }
   ],
   "source": [
    "print(len(df_all))\n",
    "\n",
    "df = pd.merge(df_all,df_all_gn,how='inner',on=['gene_names'])\n",
    "\n",
    "print(len(df))"
   ]
  },
  {
   "cell_type": "code",
   "execution_count": null,
   "metadata": {},
   "outputs": [],
   "source": []
  },
  {
   "cell_type": "code",
   "execution_count": 70,
   "metadata": {},
   "outputs": [
    {
     "data": {
      "text/plain": [
       "1.0"
      ]
     },
     "execution_count": 70,
     "metadata": {},
     "output_type": "execute_result"
    }
   ],
   "source": [
    "(len(df_all.loc[df_all['gene_names'].isna()]) + len(df))/len(df_all)"
   ]
  },
  {
   "cell_type": "code",
   "execution_count": 71,
   "metadata": {},
   "outputs": [],
   "source": [
    "df_all['gene_name_unified'] = None"
   ]
  },
  {
   "cell_type": "code",
   "execution_count": null,
   "metadata": {},
   "outputs": [],
   "source": [
    "# make same columns order"
   ]
  },
  {
   "cell_type": "code",
   "execution_count": 72,
   "metadata": {},
   "outputs": [
    {
     "data": {
      "text/plain": [
       "Index(['gene_names', 'Uniprot', 'Uniprot_unified', 'Study', 'Organism',\n",
       "       'location', 'Age_cat', 'Age_days', 'condition', 'sample_id',\n",
       "       'molecular_weight_kDa', 'raw_data', 'raw_data_units',\n",
       "       'gene_name_unified'],\n",
       "      dtype='object')"
      ]
     },
     "execution_count": 72,
     "metadata": {},
     "output_type": "execute_result"
    }
   ],
   "source": [
    "df.columns"
   ]
  },
  {
   "cell_type": "code",
   "execution_count": 73,
   "metadata": {},
   "outputs": [
    {
     "data": {
      "text/plain": [
       "Index(['gene_names', 'Uniprot', 'Uniprot_unified', 'Study', 'Organism',\n",
       "       'location', 'Age_cat', 'Age_days', 'condition', 'sample_id',\n",
       "       'molecular_weight_kDa', 'raw_data', 'raw_data_units',\n",
       "       'gene_name_unified'],\n",
       "      dtype='object')"
      ]
     },
     "execution_count": 73,
     "metadata": {},
     "output_type": "execute_result"
    }
   ],
   "source": [
    "df_all.columns"
   ]
  },
  {
   "cell_type": "code",
   "execution_count": 74,
   "metadata": {},
   "outputs": [
    {
     "data": {
      "text/plain": [
       "Index(['gene_names', 'Uniprot', 'Uniprot_unified', 'Study', 'Organism',\n",
       "       'location', 'Age_cat', 'Age_days', 'condition', 'sample_id',\n",
       "       'molecular_weight_kDa', 'raw_data', 'raw_data_units',\n",
       "       'gene_name_unified'],\n",
       "      dtype='object')"
      ]
     },
     "execution_count": 74,
     "metadata": {},
     "output_type": "execute_result"
    }
   ],
   "source": [
    "# make same columns order\n",
    "df = df[df_all.columns]\n",
    "\n",
    "df.columns"
   ]
  },
  {
   "cell_type": "code",
   "execution_count": 75,
   "metadata": {},
   "outputs": [],
   "source": [
    "df2 = pd.concat([df, df_all.loc[df_all['gene_names'].isna()]],sort=False )\n",
    "\n",
    "df2 = df2.reset_index(drop=True)"
   ]
  },
  {
   "cell_type": "code",
   "execution_count": 76,
   "metadata": {},
   "outputs": [],
   "source": [
    "#df_all['gene_name_unified'] = df_all['gene_names'].str.split(\";\", 1).str[0].replace(prot_align_id_gn)\n",
    "# replace(\" \",\"\")"
   ]
  },
  {
   "cell_type": "code",
   "execution_count": 77,
   "metadata": {},
   "outputs": [],
   "source": [
    "df_all = df2.copy()"
   ]
  },
  {
   "cell_type": "code",
   "execution_count": 78,
   "metadata": {},
   "outputs": [
    {
     "data": {
      "text/plain": [
       "Index(['gene_names', 'Uniprot', 'Uniprot_unified', 'Study', 'Organism',\n",
       "       'location', 'Age_cat', 'Age_days', 'condition', 'sample_id',\n",
       "       'molecular_weight_kDa', 'raw_data', 'raw_data_units',\n",
       "       'gene_name_unified'],\n",
       "      dtype='object')"
      ]
     },
     "execution_count": 78,
     "metadata": {},
     "output_type": "execute_result"
    }
   ],
   "source": [
    "df_all.columns"
   ]
  },
  {
   "cell_type": "code",
   "execution_count": 79,
   "metadata": {},
   "outputs": [
    {
     "data": {
      "text/plain": [
       "14537"
      ]
     },
     "execution_count": 79,
     "metadata": {},
     "output_type": "execute_result"
    }
   ],
   "source": [
    "len(df_all['gene_name_unified'].unique()) #14537"
   ]
  },
  {
   "cell_type": "code",
   "execution_count": 80,
   "metadata": {},
   "outputs": [
    {
     "name": "stdout",
     "output_type": "stream",
     "text": [
      "21\n",
      "24\n"
     ]
    }
   ],
   "source": [
    "print(len(df_all.loc[df_all['gene_names'].isna(),'Study'].unique()))\n",
    "print(len(df_all.loc[~df_all['gene_names'].isna(),'Study'].unique()))"
   ]
  },
  {
   "cell_type": "code",
   "execution_count": 81,
   "metadata": {},
   "outputs": [
    {
     "data": {
      "text/plain": [
       "25"
      ]
     },
     "execution_count": 81,
     "metadata": {},
     "output_type": "execute_result"
    }
   ],
   "source": [
    "len(df_all['Study'].unique())"
   ]
  },
  {
   "cell_type": "code",
   "execution_count": 82,
   "metadata": {},
   "outputs": [
    {
     "name": "stdout",
     "output_type": "stream",
     "text": [
      "120827\n",
      "61791\n",
      "61791\n"
     ]
    }
   ],
   "source": [
    "cGuniprot = nx.Graph()\n",
    "\n",
    "ccuniprot = Counter()\n",
    "\n",
    "for idxu,ppu in enumerate(a_uniprot):\n",
    "    \n",
    "    ccuniprot = ccuniprot + Counter(ppu)\n",
    "    cGuniprot.add_nodes_from(ppu)\n",
    "    for iu in range(len(ppu)-1):\n",
    "        cGuniprot.add_edge(ppu[iu], ppu[iu+1])\n",
    "\n",
    "\n",
    "print(len(a_uniprot))\n",
    "\n",
    "print(len(cGuniprot.nodes()))\n",
    "\n",
    "print(len(ccuniprot))"
   ]
  },
  {
   "cell_type": "code",
   "execution_count": 83,
   "metadata": {},
   "outputs": [],
   "source": [
    "prot_align_id_uniprot= {}"
   ]
  },
  {
   "cell_type": "code",
   "execution_count": 84,
   "metadata": {},
   "outputs": [
    {
     "name": "stdout",
     "output_type": "stream",
     "text": [
      "61791\n"
     ]
    }
   ],
   "source": [
    "while len(ccuniprot):\n",
    "    mcuniprot = ccuniprot.most_common(1)[0][0]\n",
    "    for nuniprot in nx.node_connected_component(cGuniprot, mcuniprot):\n",
    "        prot_align_id_uniprot[nuniprot] = mcuniprot\n",
    "        del ccuniprot[nuniprot]\n",
    "\n",
    "print(len(prot_align_id_uniprot))"
   ]
  },
  {
   "cell_type": "code",
   "execution_count": 85,
   "metadata": {},
   "outputs": [
    {
     "name": "stdout",
     "output_type": "stream",
     "text": [
      "120819\n"
     ]
    },
    {
     "data": {
      "text/html": [
       "<div>\n",
       "<style scoped>\n",
       "    .dataframe tbody tr th:only-of-type {\n",
       "        vertical-align: middle;\n",
       "    }\n",
       "\n",
       "    .dataframe tbody tr th {\n",
       "        vertical-align: top;\n",
       "    }\n",
       "\n",
       "    .dataframe thead th {\n",
       "        text-align: right;\n",
       "    }\n",
       "</style>\n",
       "<table border=\"1\" class=\"dataframe\">\n",
       "  <thead>\n",
       "    <tr style=\"text-align: right;\">\n",
       "      <th></th>\n",
       "      <th>Uniprot</th>\n",
       "      <th>Study</th>\n",
       "    </tr>\n",
       "  </thead>\n",
       "  <tbody>\n",
       "    <tr>\n",
       "      <th>0</th>\n",
       "      <td>A0A068BEQ2;P50171;G3UX44</td>\n",
       "      <td>Hamezah 2019</td>\n",
       "    </tr>\n",
       "    <tr>\n",
       "      <th>38</th>\n",
       "      <td>Q78ZJ8;A0A068BFR3;P46638;G3UY29;E9Q3P9;F8WGS1;...</td>\n",
       "      <td>Hamezah 2019</td>\n",
       "    </tr>\n",
       "    <tr>\n",
       "      <th>40</th>\n",
       "      <td>Q78ZJ8;A0A068BFR3;P46638;G3UY29;E9Q3P9;F8WGS1;...</td>\n",
       "      <td>Hamezah 2019</td>\n",
       "    </tr>\n",
       "    <tr>\n",
       "      <th>44</th>\n",
       "      <td>P46638</td>\n",
       "      <td>Krogager 2018</td>\n",
       "    </tr>\n",
       "    <tr>\n",
       "      <th>46</th>\n",
       "      <td>Q78ZJ8;P46638;G3UY29;E9Q3P9;F8WGS1;Q0PD45;P624...</td>\n",
       "      <td>Sharma 2015, cultured</td>\n",
       "    </tr>\n",
       "  </tbody>\n",
       "</table>\n",
       "</div>"
      ],
      "text/plain": [
       "                                              Uniprot                  Study\n",
       "0                            A0A068BEQ2;P50171;G3UX44           Hamezah 2019\n",
       "38  Q78ZJ8;A0A068BFR3;P46638;G3UY29;E9Q3P9;F8WGS1;...           Hamezah 2019\n",
       "40  Q78ZJ8;A0A068BFR3;P46638;G3UY29;E9Q3P9;F8WGS1;...           Hamezah 2019\n",
       "44                                             P46638          Krogager 2018\n",
       "46  Q78ZJ8;P46638;G3UY29;E9Q3P9;F8WGS1;Q0PD45;P624...  Sharma 2015, cultured"
      ]
     },
     "execution_count": 85,
     "metadata": {},
     "output_type": "execute_result"
    }
   ],
   "source": [
    "df_u_s = df_all.loc[~df_all['Uniprot'].isna(),['Uniprot','Study']].drop_duplicates(keep='first')\n",
    "print(len(df_u_s)) #120899\n",
    "df_u_s.head()"
   ]
  },
  {
   "cell_type": "code",
   "execution_count": 86,
   "metadata": {},
   "outputs": [
    {
     "name": "stdout",
     "output_type": "stream",
     "text": [
      "0\n"
     ]
    }
   ],
   "source": [
    "print(len(df_u_s.loc[df_u_s['Uniprot'].str.contains(\"CON_\")]))\n",
    "\n",
    "# CON_ is contaminant protein according to MaxQuant annotation\n"
   ]
  },
  {
   "cell_type": "code",
   "execution_count": 87,
   "metadata": {},
   "outputs": [
    {
     "data": {
      "text/html": [
       "<div>\n",
       "<style scoped>\n",
       "    .dataframe tbody tr th:only-of-type {\n",
       "        vertical-align: middle;\n",
       "    }\n",
       "\n",
       "    .dataframe tbody tr th {\n",
       "        vertical-align: top;\n",
       "    }\n",
       "\n",
       "    .dataframe thead th {\n",
       "        text-align: right;\n",
       "    }\n",
       "</style>\n",
       "<table border=\"1\" class=\"dataframe\">\n",
       "  <thead>\n",
       "    <tr style=\"text-align: right;\">\n",
       "      <th></th>\n",
       "      <th>Uniprot</th>\n",
       "      <th>Study</th>\n",
       "    </tr>\n",
       "  </thead>\n",
       "  <tbody>\n",
       "  </tbody>\n",
       "</table>\n",
       "</div>"
      ],
      "text/plain": [
       "Empty DataFrame\n",
       "Columns: [Uniprot, Study]\n",
       "Index: []"
      ]
     },
     "execution_count": 87,
     "metadata": {},
     "output_type": "execute_result"
    }
   ],
   "source": [
    "# \n",
    "df_u_s.loc[df_u_s['Uniprot'].str.contains(\"1536,1550d1535\")].head()"
   ]
  },
  {
   "cell_type": "code",
   "execution_count": 88,
   "metadata": {},
   "outputs": [],
   "source": [
    "# calc number of occurences for every uniprot id and check for weird ids\n",
    "\n",
    "uniprot_study_dict = dict()\n",
    "\n",
    "for idx, row in df_u_s.iterrows():\n",
    "    uniprots_list0 = row[\"Uniprot\"].replace(\" \",\"\").split(\";\")\n",
    "    uniprots_list = [x.split(\"-\")[0] for x in uniprots_list0 if x is not None] # check if its needed now!!!!\n",
    "    \n",
    "    for elem in uniprots_list:\n",
    "        check = uniprot_study_dict.get(elem,\"NewIDfoundInUniprotStudyList\")\n",
    "        \n",
    "        if check == \"NewIDfoundInUniprotStudyList\":\n",
    "            uniprot_study_dict[elem] = 1\n",
    "        else:\n",
    "            uniprot_study_dict[elem] = 1+check"
   ]
  },
  {
   "cell_type": "code",
   "execution_count": 89,
   "metadata": {},
   "outputs": [],
   "source": [
    "#df_all['Uniprot_unified'] = df_all['Uniprot'].str.split(\";\", 1).str[0].replace(prot_align_id_uniprot)\n",
    "\n",
    "#df_all['Uniprot_unified'] =  #df_all['Uniprot'].str.split(\";\", 1).str[0]  # get most common\n"
   ]
  },
  {
   "cell_type": "code",
   "execution_count": 90,
   "metadata": {},
   "outputs": [],
   "source": [
    "# to get gene_names to gene_name_unified mapping using gn_study_dict (occurences dict)\n",
    "\n",
    "df_all_uni = pd.DataFrame(df_all.loc[~(df_all['Uniprot'].isna()),'Uniprot'].copy())\n",
    "df_all_uni = df_all_uni.drop_duplicates(keep='first')\n",
    "df_all_uni = df_all_uni.reset_index(drop=True)\n",
    "\n",
    "df_all_uni['Uniprot_unified'] =  None\n",
    "\n",
    "for index,row in df_all_uni.iterrows():\n",
    "    df_all_uni.loc[index,'Uniprot_unified'] = get_uniprot_unified(index,row,uniprot_study_dict)"
   ]
  },
  {
   "cell_type": "code",
   "execution_count": 91,
   "metadata": {},
   "outputs": [
    {
     "data": {
      "text/plain": [
       "Index(['Uniprot', 'Uniprot_unified'], dtype='object')"
      ]
     },
     "execution_count": 91,
     "metadata": {},
     "output_type": "execute_result"
    }
   ],
   "source": [
    "df_all_uni.columns"
   ]
  },
  {
   "cell_type": "code",
   "execution_count": 92,
   "metadata": {},
   "outputs": [
    {
     "data": {
      "text/plain": [
       "Index(['gene_names', 'Uniprot', 'Uniprot_unified', 'Study', 'Organism',\n",
       "       'location', 'Age_cat', 'Age_days', 'condition', 'sample_id',\n",
       "       'molecular_weight_kDa', 'raw_data', 'raw_data_units',\n",
       "       'gene_name_unified'],\n",
       "      dtype='object')"
      ]
     },
     "execution_count": 92,
     "metadata": {},
     "output_type": "execute_result"
    }
   ],
   "source": [
    "df_all.columns"
   ]
  },
  {
   "cell_type": "code",
   "execution_count": 93,
   "metadata": {},
   "outputs": [
    {
     "data": {
      "text/plain": [
       "array([nan], dtype=object)"
      ]
     },
     "execution_count": 93,
     "metadata": {},
     "output_type": "execute_result"
    }
   ],
   "source": [
    "df_all['Uniprot_unified'].unique()"
   ]
  },
  {
   "cell_type": "code",
   "execution_count": 94,
   "metadata": {},
   "outputs": [],
   "source": [
    "df_all = df_all.drop(columns = 'Uniprot_unified')"
   ]
  },
  {
   "cell_type": "code",
   "execution_count": 95,
   "metadata": {},
   "outputs": [
    {
     "name": "stdout",
     "output_type": "stream",
     "text": [
      "2140373\n",
      "1620258\n"
     ]
    }
   ],
   "source": [
    "print(len(df_all))\n",
    "\n",
    "df = pd.merge(df_all,df_all_uni,how='inner',on=['Uniprot'])\n",
    "\n",
    "print(len(df))\n",
    "\n"
   ]
  },
  {
   "cell_type": "code",
   "execution_count": 96,
   "metadata": {},
   "outputs": [
    {
     "data": {
      "text/plain": [
       "Index(['gene_names', 'Uniprot', 'Study', 'Organism', 'location', 'Age_cat',\n",
       "       'Age_days', 'condition', 'sample_id', 'molecular_weight_kDa',\n",
       "       'raw_data', 'raw_data_units', 'gene_name_unified', 'Uniprot_unified'],\n",
       "      dtype='object')"
      ]
     },
     "execution_count": 96,
     "metadata": {},
     "output_type": "execute_result"
    }
   ],
   "source": [
    "df.columns"
   ]
  },
  {
   "cell_type": "code",
   "execution_count": 97,
   "metadata": {},
   "outputs": [
    {
     "data": {
      "text/plain": [
       "Index(['gene_names', 'Uniprot', 'Study', 'Organism', 'location', 'Age_cat',\n",
       "       'Age_days', 'condition', 'sample_id', 'molecular_weight_kDa',\n",
       "       'raw_data', 'raw_data_units', 'gene_name_unified', 'Uniprot_unified'],\n",
       "      dtype='object')"
      ]
     },
     "execution_count": 97,
     "metadata": {},
     "output_type": "execute_result"
    }
   ],
   "source": [
    "df_all['Uniprot_unified'] = None\n",
    "\n",
    "# make same columns order\n",
    "df = df[df_all.columns]\n",
    "\n",
    "df.columns"
   ]
  },
  {
   "cell_type": "code",
   "execution_count": 98,
   "metadata": {},
   "outputs": [],
   "source": [
    "df2 = pd.concat([df, df_all.loc[df_all['Uniprot'].isna()]],sort=False )\n",
    "\n",
    "df2 = df2.reset_index(drop=True)\n",
    "\n",
    "df_all = df2.copy()"
   ]
  },
  {
   "cell_type": "code",
   "execution_count": 99,
   "metadata": {},
   "outputs": [],
   "source": [
    "#df_all['Uniprot_unified'] = df_all['Uniprot_unified'].str.split(\"-\").str[0]\n"
   ]
  },
  {
   "cell_type": "code",
   "execution_count": 100,
   "metadata": {},
   "outputs": [],
   "source": [
    "df_all['Uniprot_unified'] = df_all['Uniprot_unified'].replace(prot_align_id_uniprot)"
   ]
  },
  {
   "cell_type": "code",
   "execution_count": 101,
   "metadata": {},
   "outputs": [
    {
     "data": {
      "text/plain": [
       "520115"
      ]
     },
     "execution_count": 101,
     "metadata": {},
     "output_type": "execute_result"
    }
   ],
   "source": [
    "len(df_all.loc[df_all['Uniprot_unified'].isna()])"
   ]
  },
  {
   "cell_type": "code",
   "execution_count": 102,
   "metadata": {},
   "outputs": [
    {
     "data": {
      "text/html": [
       "<div>\n",
       "<style scoped>\n",
       "    .dataframe tbody tr th:only-of-type {\n",
       "        vertical-align: middle;\n",
       "    }\n",
       "\n",
       "    .dataframe tbody tr th {\n",
       "        vertical-align: top;\n",
       "    }\n",
       "\n",
       "    .dataframe thead th {\n",
       "        text-align: right;\n",
       "    }\n",
       "</style>\n",
       "<table border=\"1\" class=\"dataframe\">\n",
       "  <thead>\n",
       "    <tr style=\"text-align: right;\">\n",
       "      <th></th>\n",
       "      <th>gene_names</th>\n",
       "      <th>Uniprot</th>\n",
       "      <th>Study</th>\n",
       "      <th>Organism</th>\n",
       "      <th>location</th>\n",
       "      <th>Age_cat</th>\n",
       "      <th>Age_days</th>\n",
       "      <th>condition</th>\n",
       "      <th>sample_id</th>\n",
       "      <th>molecular_weight_kDa</th>\n",
       "      <th>raw_data</th>\n",
       "      <th>raw_data_units</th>\n",
       "      <th>gene_name_unified</th>\n",
       "      <th>Uniprot_unified</th>\n",
       "    </tr>\n",
       "  </thead>\n",
       "  <tbody>\n",
       "    <tr>\n",
       "      <th>44</th>\n",
       "      <td>RAB11B;RAB11A</td>\n",
       "      <td>Q15907;Q15907-2;H3BMH2;H3BSC1;P62491-2;P62491</td>\n",
       "      <td>Davis 2019</td>\n",
       "      <td>human</td>\n",
       "      <td>neurons</td>\n",
       "      <td>post-mortem</td>\n",
       "      <td>post-mortem</td>\n",
       "      <td>NaN</td>\n",
       "      <td>BetzCapSP31</td>\n",
       "      <td>24.488</td>\n",
       "      <td>5906800.0</td>\n",
       "      <td>iBAQ</td>\n",
       "      <td>RAB11B</td>\n",
       "      <td>P46638</td>\n",
       "    </tr>\n",
       "    <tr>\n",
       "      <th>45</th>\n",
       "      <td>RAB11B;RAB11A</td>\n",
       "      <td>Q15907;Q15907-2;H3BMH2;H3BSC1;P62491-2;P62491</td>\n",
       "      <td>Davis 2019</td>\n",
       "      <td>human</td>\n",
       "      <td>neurons</td>\n",
       "      <td>post-mortem</td>\n",
       "      <td>post-mortem</td>\n",
       "      <td>NaN</td>\n",
       "      <td>BetzCapSP32</td>\n",
       "      <td>24.488</td>\n",
       "      <td>12107000.0</td>\n",
       "      <td>iBAQ</td>\n",
       "      <td>RAB11B</td>\n",
       "      <td>P46638</td>\n",
       "    </tr>\n",
       "    <tr>\n",
       "      <th>46</th>\n",
       "      <td>RAB11B;RAB11A</td>\n",
       "      <td>Q15907;Q15907-2;H3BMH2;H3BSC1;P62491-2;P62491</td>\n",
       "      <td>Davis 2019</td>\n",
       "      <td>human</td>\n",
       "      <td>neurons</td>\n",
       "      <td>post-mortem</td>\n",
       "      <td>post-mortem</td>\n",
       "      <td>NaN</td>\n",
       "      <td>BetzCapSP33</td>\n",
       "      <td>24.488</td>\n",
       "      <td>7468100.0</td>\n",
       "      <td>iBAQ</td>\n",
       "      <td>RAB11B</td>\n",
       "      <td>P46638</td>\n",
       "    </tr>\n",
       "    <tr>\n",
       "      <th>47</th>\n",
       "      <td>RAB11B;RAB11A</td>\n",
       "      <td>Q15907;Q15907-2;H3BMH2;H3BSC1;P62491-2;P62491</td>\n",
       "      <td>Davis 2019</td>\n",
       "      <td>human</td>\n",
       "      <td>neurons</td>\n",
       "      <td>post-mortem</td>\n",
       "      <td>post-mortem</td>\n",
       "      <td>NaN</td>\n",
       "      <td>PurkinjeCapSP31</td>\n",
       "      <td>24.488</td>\n",
       "      <td>1095500.0</td>\n",
       "      <td>iBAQ</td>\n",
       "      <td>RAB11B</td>\n",
       "      <td>P46638</td>\n",
       "    </tr>\n",
       "    <tr>\n",
       "      <th>48</th>\n",
       "      <td>RAB11B;RAB11A</td>\n",
       "      <td>Q15907;Q15907-2;H3BMH2;H3BSC1;P62491-2;P62491</td>\n",
       "      <td>Davis 2019</td>\n",
       "      <td>human</td>\n",
       "      <td>neurons</td>\n",
       "      <td>post-mortem</td>\n",
       "      <td>post-mortem</td>\n",
       "      <td>NaN</td>\n",
       "      <td>PurkinjeCapSP32</td>\n",
       "      <td>24.488</td>\n",
       "      <td>987940.0</td>\n",
       "      <td>iBAQ</td>\n",
       "      <td>RAB11B</td>\n",
       "      <td>P46638</td>\n",
       "    </tr>\n",
       "  </tbody>\n",
       "</table>\n",
       "</div>"
      ],
      "text/plain": [
       "       gene_names                                        Uniprot       Study  \\\n",
       "44  RAB11B;RAB11A  Q15907;Q15907-2;H3BMH2;H3BSC1;P62491-2;P62491  Davis 2019   \n",
       "45  RAB11B;RAB11A  Q15907;Q15907-2;H3BMH2;H3BSC1;P62491-2;P62491  Davis 2019   \n",
       "46  RAB11B;RAB11A  Q15907;Q15907-2;H3BMH2;H3BSC1;P62491-2;P62491  Davis 2019   \n",
       "47  RAB11B;RAB11A  Q15907;Q15907-2;H3BMH2;H3BSC1;P62491-2;P62491  Davis 2019   \n",
       "48  RAB11B;RAB11A  Q15907;Q15907-2;H3BMH2;H3BSC1;P62491-2;P62491  Davis 2019   \n",
       "\n",
       "   Organism location      Age_cat     Age_days condition        sample_id  \\\n",
       "44    human  neurons  post-mortem  post-mortem       NaN      BetzCapSP31   \n",
       "45    human  neurons  post-mortem  post-mortem       NaN      BetzCapSP32   \n",
       "46    human  neurons  post-mortem  post-mortem       NaN      BetzCapSP33   \n",
       "47    human  neurons  post-mortem  post-mortem       NaN  PurkinjeCapSP31   \n",
       "48    human  neurons  post-mortem  post-mortem       NaN  PurkinjeCapSP32   \n",
       "\n",
       "    molecular_weight_kDa    raw_data raw_data_units gene_name_unified  \\\n",
       "44                24.488   5906800.0           iBAQ            RAB11B   \n",
       "45                24.488  12107000.0           iBAQ            RAB11B   \n",
       "46                24.488   7468100.0           iBAQ            RAB11B   \n",
       "47                24.488   1095500.0           iBAQ            RAB11B   \n",
       "48                24.488    987940.0           iBAQ            RAB11B   \n",
       "\n",
       "   Uniprot_unified  \n",
       "44          P46638  \n",
       "45          P46638  \n",
       "46          P46638  \n",
       "47          P46638  \n",
       "48          P46638  "
      ]
     },
     "execution_count": 102,
     "metadata": {},
     "output_type": "execute_result"
    }
   ],
   "source": [
    "df_all.loc[(~df_all['Uniprot'].isna())&(df_all['Uniprot'].str.contains(\"-\"))&(df_all['Study']!='Hosp 2017, soluble')].head()"
   ]
  },
  {
   "cell_type": "code",
   "execution_count": 103,
   "metadata": {},
   "outputs": [
    {
     "name": "stdout",
     "output_type": "stream",
     "text": [
      "18718\n",
      "5\n",
      "22\n",
      "5\n",
      "22\n",
      "5\n",
      "0\n",
      "0\n",
      "0\n"
     ]
    }
   ],
   "source": [
    "print(len(df_all['Uniprot_unified'].unique())) # 18718\n",
    "\n",
    "print(len(df_all.loc[df_all['Uniprot'].isna(),'Study'].unique()))\n",
    "print(len(df_all.loc[~df_all['Uniprot'].isna(),'Study'].unique()))\n",
    "\n",
    "print(len(df_all.loc[df_all['Uniprot_unified'].isna(),'Study'].unique()))\n",
    "print(len(df_all.loc[~df_all['Uniprot_unified'].isna(),'Study'].unique()))\n",
    "\n",
    "print(len(df_all.loc[(df_all['Uniprot_unified'].isna()) & (df_all['Uniprot'].isna()),'Study'].unique()))\n",
    "print(len(df_all.loc[(~df_all['Uniprot_unified'].isna()) & (df_all['Uniprot'].isna()),'Study'].unique()))\n",
    "\n",
    "print(len(df_all.loc[df_all['Uniprot'].isna() & df_all['gene_names'].isna(),'Study'].unique()))\n",
    "\n",
    "print(len(df_all.loc[df_all['Uniprot_unified'].isna() & df_all['gene_name_unified'].isna(),'Study'].unique()))"
   ]
  },
  {
   "cell_type": "markdown",
   "metadata": {},
   "source": [
    "### Get Uniprot ids by gene_name_unified for missing Uniprot ids; get Gene Names by Uniprot_unified for missing Gene Names; use Uniprot-GN mapping to check GN-unified"
   ]
  },
  {
   "cell_type": "code",
   "execution_count": 104,
   "metadata": {},
   "outputs": [
    {
     "name": "stdout",
     "output_type": "stream",
     "text": [
      "1.0 9349861\n",
      "9349861\n",
      "828947\n"
     ]
    },
    {
     "data": {
      "text/plain": [
       "268298"
      ]
     },
     "execution_count": 104,
     "metadata": {},
     "output_type": "execute_result"
    }
   ],
   "source": [
    "#Data downloaded on 05june2020 is from \n",
    "#ftp://ftp.uniprot.org/pub/databases/uniprot/current_release/knowledgebase/idmapping/\n",
    "# is in /Users/polina/git/bbpMolAtlas/2020/data/ids_mapping_05june2020\n",
    "\n",
    "mouse_uniprot_ids = pd.read_csv('../data/MOUSE_10090_idmapping.dat.gz',header=None,sep='\\t')\n",
    "rat_uniprot_ids = pd.read_csv('../data/RAT_10116_idmapping.dat.gz',header=None,sep='\\t')\n",
    "human_uniprot_ids = pd.read_csv('../data/HUMAN_9606_idmapping.dat.gz',header=None,sep='\\t')\n",
    "\n",
    "mouse_uniprot_ids.columns = ['Uniprot','ID_type','ID']\n",
    "rat_uniprot_ids.columns = ['Uniprot','ID_type','ID']\n",
    "human_uniprot_ids.columns = ['Uniprot','ID_type','ID']\n",
    "\n",
    "mouse_uniprot_ids['id_of_organism'] = 'mouse'\n",
    "rat_uniprot_ids['id_of_organism'] = 'rat'\n",
    "human_uniprot_ids['id_of_organism'] = 'human'\n",
    "\n",
    "#combine data for multiple organisms\n",
    "uniprot_ids_mrh = pd.concat([mouse_uniprot_ids,rat_uniprot_ids,human_uniprot_ids],ignore_index=True,sort=True)\n",
    "\n",
    "print((len(mouse_uniprot_ids['Uniprot'].unique())+len(rat_uniprot_ids['Uniprot'].unique())+len(human_uniprot_ids['Uniprot'].unique()))/len(uniprot_ids_mrh['Uniprot'].unique()),len(uniprot_ids_mrh))\n",
    "\n",
    "#keep only needed id-types\n",
    "print(len(uniprot_ids_mrh))\n",
    "uniprot_ids_mrh = uniprot_ids_mrh.loc[uniprot_ids_mrh['ID_type'].isin(['UniProtKB-ID', 'Gene_Name','GeneID','Gene_Synonym','GeneCards','HGNC'])].copy()\n",
    "print(len(uniprot_ids_mrh))\n",
    "\n",
    "uniprot_ids_mrh = uniprot_ids_mrh.reset_index(drop=True)\n",
    "\n",
    "uniprot_ids_mrh['ID'] = uniprot_ids_mrh['ID'].str.upper()\n",
    "\n",
    "len(uniprot_ids_mrh.loc[uniprot_ids_mrh['ID_type']=='Gene_Name','Uniprot'].unique())"
   ]
  },
  {
   "cell_type": "code",
   "execution_count": 105,
   "metadata": {},
   "outputs": [
    {
     "data": {
      "text/html": [
       "<div>\n",
       "<style scoped>\n",
       "    .dataframe tbody tr th:only-of-type {\n",
       "        vertical-align: middle;\n",
       "    }\n",
       "\n",
       "    .dataframe tbody tr th {\n",
       "        vertical-align: top;\n",
       "    }\n",
       "\n",
       "    .dataframe thead th {\n",
       "        text-align: right;\n",
       "    }\n",
       "</style>\n",
       "<table border=\"1\" class=\"dataframe\">\n",
       "  <thead>\n",
       "    <tr style=\"text-align: right;\">\n",
       "      <th></th>\n",
       "      <th>ID</th>\n",
       "      <th>ID_type</th>\n",
       "      <th>Uniprot</th>\n",
       "      <th>id_of_organism</th>\n",
       "    </tr>\n",
       "  </thead>\n",
       "  <tbody>\n",
       "    <tr>\n",
       "      <th>0</th>\n",
       "      <td>1433B_MOUSE</td>\n",
       "      <td>UniProtKB-ID</td>\n",
       "      <td>Q9CQV8</td>\n",
       "      <td>mouse</td>\n",
       "    </tr>\n",
       "    <tr>\n",
       "      <th>1</th>\n",
       "      <td>YWHAB</td>\n",
       "      <td>Gene_Name</td>\n",
       "      <td>Q9CQV8</td>\n",
       "      <td>mouse</td>\n",
       "    </tr>\n",
       "    <tr>\n",
       "      <th>2</th>\n",
       "      <td>54401</td>\n",
       "      <td>GeneID</td>\n",
       "      <td>Q9CQV8</td>\n",
       "      <td>mouse</td>\n",
       "    </tr>\n",
       "    <tr>\n",
       "      <th>3</th>\n",
       "      <td>1433E_MOUSE</td>\n",
       "      <td>UniProtKB-ID</td>\n",
       "      <td>P62259</td>\n",
       "      <td>mouse</td>\n",
       "    </tr>\n",
       "    <tr>\n",
       "      <th>4</th>\n",
       "      <td>YWHAE</td>\n",
       "      <td>Gene_Name</td>\n",
       "      <td>P62259</td>\n",
       "      <td>mouse</td>\n",
       "    </tr>\n",
       "  </tbody>\n",
       "</table>\n",
       "</div>"
      ],
      "text/plain": [
       "            ID       ID_type Uniprot id_of_organism\n",
       "0  1433B_MOUSE  UniProtKB-ID  Q9CQV8          mouse\n",
       "1        YWHAB     Gene_Name  Q9CQV8          mouse\n",
       "2        54401        GeneID  Q9CQV8          mouse\n",
       "3  1433E_MOUSE  UniProtKB-ID  P62259          mouse\n",
       "4        YWHAE     Gene_Name  P62259          mouse"
      ]
     },
     "execution_count": 105,
     "metadata": {},
     "output_type": "execute_result"
    }
   ],
   "source": [
    "uniprot_ids_mrh.head()"
   ]
  },
  {
   "cell_type": "code",
   "execution_count": 106,
   "metadata": {},
   "outputs": [
    {
     "data": {
      "text/plain": [
       "8083"
      ]
     },
     "execution_count": 106,
     "metadata": {},
     "output_type": "execute_result"
    }
   ],
   "source": [
    "len(df_all.loc[df_all['Uniprot_unified'].isna() & (~df_all['gene_name_unified'].isna()),'gene_name_unified'].unique())"
   ]
  },
  {
   "cell_type": "code",
   "execution_count": 107,
   "metadata": {},
   "outputs": [
    {
     "data": {
      "text/plain": [
       "array(['P11679', 'P05787', None], dtype=object)"
      ]
     },
     "execution_count": 107,
     "metadata": {},
     "output_type": "execute_result"
    }
   ],
   "source": [
    "df_all.loc[df_all['gene_name_unified']=='KRT8','Uniprot_unified'].unique()"
   ]
  },
  {
   "cell_type": "code",
   "execution_count": 108,
   "metadata": {},
   "outputs": [
    {
     "data": {
      "text/plain": [
       "0"
      ]
     },
     "execution_count": 108,
     "metadata": {},
     "output_type": "execute_result"
    }
   ],
   "source": [
    "len(df_all.loc[(~df_all['Uniprot_unified'].isna()) & (df_all['Uniprot_unified'].str.contains('CON_'))])"
   ]
  },
  {
   "cell_type": "code",
   "execution_count": 109,
   "metadata": {},
   "outputs": [
    {
     "data": {
      "text/plain": [
       "214"
      ]
     },
     "execution_count": 109,
     "metadata": {},
     "output_type": "execute_result"
    }
   ],
   "source": [
    "len(df_all.loc[(df_all['Study']=='Davis 2019') & (df_all['gene_name_unified'].isna()) ])"
   ]
  },
  {
   "cell_type": "code",
   "execution_count": 110,
   "metadata": {},
   "outputs": [
    {
     "data": {
      "text/plain": [
       "0.006543542074363992"
      ]
     },
     "execution_count": 110,
     "metadata": {},
     "output_type": "execute_result"
    }
   ],
   "source": [
    "len(df_all.loc[(df_all['Study']=='Davis 2019') & (df_all['gene_name_unified'].isna()) ])/len(df_all.loc[(df_all['Study']=='Davis 2019')])"
   ]
  },
  {
   "cell_type": "code",
   "execution_count": 111,
   "metadata": {},
   "outputs": [],
   "source": [
    "df_all = df_all.reset_index(drop=True)"
   ]
  },
  {
   "cell_type": "code",
   "execution_count": 112,
   "metadata": {},
   "outputs": [
    {
     "data": {
      "text/plain": [
       "303482"
      ]
     },
     "execution_count": 112,
     "metadata": {},
     "output_type": "execute_result"
    }
   ],
   "source": [
    "len(df_all.loc[df_all['gene_name_unified']!=df_all['gene_names']]) "
   ]
  },
  {
   "cell_type": "code",
   "execution_count": 113,
   "metadata": {},
   "outputs": [],
   "source": [
    "df_all_withGN = df_all.loc[~df_all['gene_names'].isna()].copy()"
   ]
  },
  {
   "cell_type": "code",
   "execution_count": 114,
   "metadata": {},
   "outputs": [
    {
     "data": {
      "text/plain": [
       "14449"
      ]
     },
     "execution_count": 114,
     "metadata": {},
     "output_type": "execute_result"
    }
   ],
   "source": [
    "len(df_all_withGN.loc[~df_all_withGN['gene_names'].str.contains(';'),'gene_names'].unique())"
   ]
  },
  {
   "cell_type": "code",
   "execution_count": 115,
   "metadata": {},
   "outputs": [
    {
     "data": {
      "text/plain": [
       "14449"
      ]
     },
     "execution_count": 115,
     "metadata": {},
     "output_type": "execute_result"
    }
   ],
   "source": [
    "len(df_all_withGN.loc[~df_all_withGN['gene_names'].str.contains(';'),'gene_name_unified'].unique())"
   ]
  },
  {
   "cell_type": "code",
   "execution_count": 116,
   "metadata": {},
   "outputs": [
    {
     "data": {
      "text/plain": [
       "2465"
      ]
     },
     "execution_count": 116,
     "metadata": {},
     "output_type": "execute_result"
    }
   ],
   "source": [
    "len(df_all_withGN.loc[df_all_withGN['gene_names'].str.contains(';'),'gene_names'].unique())"
   ]
  },
  {
   "cell_type": "code",
   "execution_count": 117,
   "metadata": {},
   "outputs": [
    {
     "data": {
      "text/plain": [
       "1902"
      ]
     },
     "execution_count": 117,
     "metadata": {},
     "output_type": "execute_result"
    }
   ],
   "source": [
    "len(df_all_withGN.loc[df_all_withGN['gene_names'].str.contains(';'),'gene_name_unified'].unique())"
   ]
  },
  {
   "cell_type": "code",
   "execution_count": 118,
   "metadata": {},
   "outputs": [
    {
     "data": {
      "text/plain": [
       "112"
      ]
     },
     "execution_count": 118,
     "metadata": {},
     "output_type": "execute_result"
    }
   ],
   "source": [
    "len(df_all_withGN.loc[(df_all_withGN['gene_name_unified']!=df_all_withGN['gene_names']) & (~df_all_withGN['gene_names'].str.contains(';'))])"
   ]
  },
  {
   "cell_type": "code",
   "execution_count": 119,
   "metadata": {},
   "outputs": [
    {
     "data": {
      "text/plain": [
       "1836891"
      ]
     },
     "execution_count": 119,
     "metadata": {},
     "output_type": "execute_result"
    }
   ],
   "source": [
    "len(df_all_withGN.loc[(df_all_withGN['gene_name_unified']==df_all_withGN['gene_names']) & (~df_all_withGN['gene_names'].str.contains(';'))])"
   ]
  },
  {
   "cell_type": "code",
   "execution_count": 120,
   "metadata": {},
   "outputs": [
    {
     "data": {
      "text/html": [
       "<div>\n",
       "<style scoped>\n",
       "    .dataframe tbody tr th:only-of-type {\n",
       "        vertical-align: middle;\n",
       "    }\n",
       "\n",
       "    .dataframe tbody tr th {\n",
       "        vertical-align: top;\n",
       "    }\n",
       "\n",
       "    .dataframe thead th {\n",
       "        text-align: right;\n",
       "    }\n",
       "</style>\n",
       "<table border=\"1\" class=\"dataframe\">\n",
       "  <thead>\n",
       "    <tr style=\"text-align: right;\">\n",
       "      <th></th>\n",
       "      <th>gene_names</th>\n",
       "      <th>Uniprot</th>\n",
       "      <th>Study</th>\n",
       "      <th>Organism</th>\n",
       "      <th>location</th>\n",
       "      <th>Age_cat</th>\n",
       "      <th>Age_days</th>\n",
       "      <th>condition</th>\n",
       "      <th>sample_id</th>\n",
       "      <th>molecular_weight_kDa</th>\n",
       "      <th>raw_data</th>\n",
       "      <th>raw_data_units</th>\n",
       "      <th>gene_name_unified</th>\n",
       "      <th>Uniprot_unified</th>\n",
       "    </tr>\n",
       "  </thead>\n",
       "  <tbody>\n",
       "    <tr>\n",
       "      <th>1485240</th>\n",
       "      <td>SRSF5;HRS;SFRS5</td>\n",
       "      <td>O35326</td>\n",
       "      <td>Fornasiero 2018</td>\n",
       "      <td>mouse</td>\n",
       "      <td>cortex</td>\n",
       "      <td>adult</td>\n",
       "      <td>168</td>\n",
       "      <td>NaN</td>\n",
       "      <td>NaN</td>\n",
       "      <td>NaN</td>\n",
       "      <td>555044.262627</td>\n",
       "      <td>iBAQ</td>\n",
       "      <td>SRSF5</td>\n",
       "      <td>O35326</td>\n",
       "    </tr>\n",
       "  </tbody>\n",
       "</table>\n",
       "</div>"
      ],
      "text/plain": [
       "              gene_names Uniprot            Study Organism location Age_cat  \\\n",
       "1485240  SRSF5;HRS;SFRS5  O35326  Fornasiero 2018    mouse   cortex   adult   \n",
       "\n",
       "        Age_days condition sample_id  molecular_weight_kDa       raw_data  \\\n",
       "1485240      168       NaN       NaN                   NaN  555044.262627   \n",
       "\n",
       "        raw_data_units gene_name_unified Uniprot_unified  \n",
       "1485240           iBAQ             SRSF5          O35326  "
      ]
     },
     "execution_count": 120,
     "metadata": {},
     "output_type": "execute_result"
    }
   ],
   "source": [
    "df_all_withGN.loc[df_all_withGN['gene_names'].str.contains('SRSF5;')].head(100)"
   ]
  },
  {
   "cell_type": "code",
   "execution_count": 121,
   "metadata": {},
   "outputs": [
    {
     "data": {
      "text/html": [
       "<div>\n",
       "<style scoped>\n",
       "    .dataframe tbody tr th:only-of-type {\n",
       "        vertical-align: middle;\n",
       "    }\n",
       "\n",
       "    .dataframe tbody tr th {\n",
       "        vertical-align: top;\n",
       "    }\n",
       "\n",
       "    .dataframe thead th {\n",
       "        text-align: right;\n",
       "    }\n",
       "</style>\n",
       "<table border=\"1\" class=\"dataframe\">\n",
       "  <thead>\n",
       "    <tr style=\"text-align: right;\">\n",
       "      <th></th>\n",
       "      <th>gene_names</th>\n",
       "      <th>Uniprot</th>\n",
       "      <th>Study</th>\n",
       "      <th>Organism</th>\n",
       "      <th>location</th>\n",
       "      <th>Age_cat</th>\n",
       "      <th>Age_days</th>\n",
       "      <th>condition</th>\n",
       "      <th>sample_id</th>\n",
       "      <th>molecular_weight_kDa</th>\n",
       "      <th>raw_data</th>\n",
       "      <th>raw_data_units</th>\n",
       "      <th>gene_name_unified</th>\n",
       "      <th>Uniprot_unified</th>\n",
       "    </tr>\n",
       "  </thead>\n",
       "  <tbody>\n",
       "    <tr>\n",
       "      <th>38154</th>\n",
       "      <td>HGS;HRS</td>\n",
       "      <td>Q99LI8</td>\n",
       "      <td>Fornasiero 2018</td>\n",
       "      <td>mouse</td>\n",
       "      <td>cortex</td>\n",
       "      <td>adult</td>\n",
       "      <td>168</td>\n",
       "      <td>NaN</td>\n",
       "      <td>NaN</td>\n",
       "      <td>NaN</td>\n",
       "      <td>3818.936451</td>\n",
       "      <td>iBAQ</td>\n",
       "      <td>HGS</td>\n",
       "      <td>Q99LI8</td>\n",
       "    </tr>\n",
       "    <tr>\n",
       "      <th>1485240</th>\n",
       "      <td>SRSF5;HRS;SFRS5</td>\n",
       "      <td>O35326</td>\n",
       "      <td>Fornasiero 2018</td>\n",
       "      <td>mouse</td>\n",
       "      <td>cortex</td>\n",
       "      <td>adult</td>\n",
       "      <td>168</td>\n",
       "      <td>NaN</td>\n",
       "      <td>NaN</td>\n",
       "      <td>NaN</td>\n",
       "      <td>555044.262627</td>\n",
       "      <td>iBAQ</td>\n",
       "      <td>SRSF5</td>\n",
       "      <td>O35326</td>\n",
       "    </tr>\n",
       "  </tbody>\n",
       "</table>\n",
       "</div>"
      ],
      "text/plain": [
       "              gene_names Uniprot            Study Organism location Age_cat  \\\n",
       "38154            HGS;HRS  Q99LI8  Fornasiero 2018    mouse   cortex   adult   \n",
       "1485240  SRSF5;HRS;SFRS5  O35326  Fornasiero 2018    mouse   cortex   adult   \n",
       "\n",
       "        Age_days condition sample_id  molecular_weight_kDa       raw_data  \\\n",
       "38154        168       NaN       NaN                   NaN    3818.936451   \n",
       "1485240      168       NaN       NaN                   NaN  555044.262627   \n",
       "\n",
       "        raw_data_units gene_name_unified Uniprot_unified  \n",
       "38154             iBAQ               HGS          Q99LI8  \n",
       "1485240           iBAQ             SRSF5          O35326  "
      ]
     },
     "execution_count": 121,
     "metadata": {},
     "output_type": "execute_result"
    }
   ],
   "source": [
    "df_all_withGN.loc[df_all_withGN['gene_names'].str.contains(';HRS')].head(100)"
   ]
  },
  {
   "cell_type": "code",
   "execution_count": 122,
   "metadata": {},
   "outputs": [
    {
     "data": {
      "text/plain": [
       "828947"
      ]
     },
     "execution_count": 122,
     "metadata": {},
     "output_type": "execute_result"
    }
   ],
   "source": [
    "len(uniprot_ids_mrh)"
   ]
  },
  {
   "cell_type": "code",
   "execution_count": 123,
   "metadata": {},
   "outputs": [
    {
     "data": {
      "text/plain": [
       "array(['UniProtKB-ID', 'Gene_Name', 'GeneID', 'Gene_Synonym', 'GeneCards',\n",
       "       'HGNC'], dtype=object)"
      ]
     },
     "execution_count": 123,
     "metadata": {},
     "output_type": "execute_result"
    }
   ],
   "source": [
    "uniprot_ids_mrh['ID_type'].unique()"
   ]
  },
  {
   "cell_type": "code",
   "execution_count": 124,
   "metadata": {},
   "outputs": [
    {
     "data": {
      "text/plain": [
       "268476"
      ]
     },
     "execution_count": 124,
     "metadata": {},
     "output_type": "execute_result"
    }
   ],
   "source": [
    "len(uniprot_ids_mrh[uniprot_ids_mrh['ID_type']=='Gene_Name'])"
   ]
  },
  {
   "cell_type": "code",
   "execution_count": 125,
   "metadata": {},
   "outputs": [
    {
     "data": {
      "text/plain": [
       "268476"
      ]
     },
     "execution_count": 125,
     "metadata": {},
     "output_type": "execute_result"
    }
   ],
   "source": [
    "len(uniprot_ids_mrh.loc[uniprot_ids_mrh['ID_type']=='Gene_Name',['Uniprot','ID']].drop_duplicates(keep='first'))"
   ]
  },
  {
   "cell_type": "code",
   "execution_count": 126,
   "metadata": {},
   "outputs": [
    {
     "name": "stdout",
     "output_type": "stream",
     "text": [
      "268476\n",
      "268476\n"
     ]
    },
    {
     "data": {
      "text/html": [
       "<div>\n",
       "<style scoped>\n",
       "    .dataframe tbody tr th:only-of-type {\n",
       "        vertical-align: middle;\n",
       "    }\n",
       "\n",
       "    .dataframe tbody tr th {\n",
       "        vertical-align: top;\n",
       "    }\n",
       "\n",
       "    .dataframe thead th {\n",
       "        text-align: right;\n",
       "    }\n",
       "</style>\n",
       "<table border=\"1\" class=\"dataframe\">\n",
       "  <thead>\n",
       "    <tr style=\"text-align: right;\">\n",
       "      <th></th>\n",
       "      <th>Uniprot</th>\n",
       "      <th>ID</th>\n",
       "    </tr>\n",
       "  </thead>\n",
       "  <tbody>\n",
       "    <tr>\n",
       "      <th>1</th>\n",
       "      <td>Q9CQV8</td>\n",
       "      <td>YWHAB</td>\n",
       "    </tr>\n",
       "    <tr>\n",
       "      <th>4</th>\n",
       "      <td>P62259</td>\n",
       "      <td>YWHAE</td>\n",
       "    </tr>\n",
       "    <tr>\n",
       "      <th>7</th>\n",
       "      <td>P68510</td>\n",
       "      <td>YWHAH</td>\n",
       "    </tr>\n",
       "    <tr>\n",
       "      <th>10</th>\n",
       "      <td>P61982</td>\n",
       "      <td>YWHAG</td>\n",
       "    </tr>\n",
       "    <tr>\n",
       "      <th>13</th>\n",
       "      <td>O70456</td>\n",
       "      <td>SFN</td>\n",
       "    </tr>\n",
       "    <tr>\n",
       "      <th>17</th>\n",
       "      <td>P68254</td>\n",
       "      <td>YWHAQ</td>\n",
       "    </tr>\n",
       "    <tr>\n",
       "      <th>20</th>\n",
       "      <td>P63101</td>\n",
       "      <td>YWHAZ</td>\n",
       "    </tr>\n",
       "    <tr>\n",
       "      <th>23</th>\n",
       "      <td>A2AIG8</td>\n",
       "      <td>ACCS</td>\n",
       "    </tr>\n",
       "    <tr>\n",
       "      <th>26</th>\n",
       "      <td>Q3UX83</td>\n",
       "      <td>ACCSL</td>\n",
       "    </tr>\n",
       "    <tr>\n",
       "      <th>30</th>\n",
       "      <td>Q6PD03</td>\n",
       "      <td>PPP2R5A</td>\n",
       "    </tr>\n",
       "  </tbody>\n",
       "</table>\n",
       "</div>"
      ],
      "text/plain": [
       "   Uniprot       ID\n",
       "1   Q9CQV8    YWHAB\n",
       "4   P62259    YWHAE\n",
       "7   P68510    YWHAH\n",
       "10  P61982    YWHAG\n",
       "13  O70456      SFN\n",
       "17  P68254    YWHAQ\n",
       "20  P63101    YWHAZ\n",
       "23  A2AIG8     ACCS\n",
       "26  Q3UX83    ACCSL\n",
       "30  Q6PD03  PPP2R5A"
      ]
     },
     "execution_count": 126,
     "metadata": {},
     "output_type": "execute_result"
    }
   ],
   "source": [
    "uniprot_ids_mrh_gnDupl = uniprot_ids_mrh.loc[uniprot_ids_mrh['ID_type']=='Gene_Name',['Uniprot','ID']]\n",
    "\n",
    "print(len(uniprot_ids_mrh_gnDupl))\n",
    "uniprot_ids_mrh_gnDupl = uniprot_ids_mrh_gnDupl.drop_duplicates(keep=False)\n",
    "\n",
    "print(len(uniprot_ids_mrh_gnDupl))\n",
    "uniprot_ids_mrh_gnDupl.head(10)"
   ]
  },
  {
   "cell_type": "code",
   "execution_count": 127,
   "metadata": {},
   "outputs": [
    {
     "name": "stdout",
     "output_type": "stream",
     "text": [
      "90\n"
     ]
    }
   ],
   "source": [
    "uniprot_ids_mrh_gnDupl_d = uniprot_ids_mrh_gnDupl.groupby('Uniprot').count()\n",
    "print(len(uniprot_ids_mrh_gnDupl_d[uniprot_ids_mrh_gnDupl_d['ID']>1]))\n"
   ]
  },
  {
   "cell_type": "code",
   "execution_count": 128,
   "metadata": {},
   "outputs": [
    {
     "data": {
      "text/html": [
       "<div>\n",
       "<style scoped>\n",
       "    .dataframe tbody tr th:only-of-type {\n",
       "        vertical-align: middle;\n",
       "    }\n",
       "\n",
       "    .dataframe tbody tr th {\n",
       "        vertical-align: top;\n",
       "    }\n",
       "\n",
       "    .dataframe thead th {\n",
       "        text-align: right;\n",
       "    }\n",
       "</style>\n",
       "<table border=\"1\" class=\"dataframe\">\n",
       "  <thead>\n",
       "    <tr style=\"text-align: right;\">\n",
       "      <th></th>\n",
       "      <th>ID</th>\n",
       "      <th>ID_type</th>\n",
       "      <th>Uniprot</th>\n",
       "      <th>id_of_organism</th>\n",
       "    </tr>\n",
       "  </thead>\n",
       "  <tbody>\n",
       "    <tr>\n",
       "      <th>11647</th>\n",
       "      <td>CYP3A41A</td>\n",
       "      <td>Gene_Name</td>\n",
       "      <td>Q9JMA7</td>\n",
       "      <td>mouse</td>\n",
       "    </tr>\n",
       "    <tr>\n",
       "      <th>11649</th>\n",
       "      <td>CYP3A41B</td>\n",
       "      <td>Gene_Name</td>\n",
       "      <td>Q9JMA7</td>\n",
       "      <td>mouse</td>\n",
       "    </tr>\n",
       "    <tr>\n",
       "      <th>13852</th>\n",
       "      <td>DEFA6</td>\n",
       "      <td>Gene_Name</td>\n",
       "      <td>P50704</td>\n",
       "      <td>mouse</td>\n",
       "    </tr>\n",
       "    <tr>\n",
       "      <th>13854</th>\n",
       "      <td>DEFA12</td>\n",
       "      <td>Gene_Name</td>\n",
       "      <td>P50704</td>\n",
       "      <td>mouse</td>\n",
       "    </tr>\n",
       "    <tr>\n",
       "      <th>15142</th>\n",
       "      <td>DPPA5B</td>\n",
       "      <td>Gene_Name</td>\n",
       "      <td>P85965</td>\n",
       "      <td>mouse</td>\n",
       "    </tr>\n",
       "    <tr>\n",
       "      <th>15143</th>\n",
       "      <td>DPPA5C</td>\n",
       "      <td>Gene_Name</td>\n",
       "      <td>P85965</td>\n",
       "      <td>mouse</td>\n",
       "    </tr>\n",
       "    <tr>\n",
       "      <th>23103</th>\n",
       "      <td>HIST2H2AA1</td>\n",
       "      <td>Gene_Name</td>\n",
       "      <td>Q6GSS7</td>\n",
       "      <td>mouse</td>\n",
       "    </tr>\n",
       "    <tr>\n",
       "      <th>23104</th>\n",
       "      <td>HIST2H2AA2</td>\n",
       "      <td>Gene_Name</td>\n",
       "      <td>Q6GSS7</td>\n",
       "      <td>mouse</td>\n",
       "    </tr>\n",
       "    <tr>\n",
       "      <th>23129</th>\n",
       "      <td>H2AL1A</td>\n",
       "      <td>Gene_Name</td>\n",
       "      <td>Q5M8Q2</td>\n",
       "      <td>mouse</td>\n",
       "    </tr>\n",
       "    <tr>\n",
       "      <th>23130</th>\n",
       "      <td>H2AL1C</td>\n",
       "      <td>Gene_Name</td>\n",
       "      <td>Q5M8Q2</td>\n",
       "      <td>mouse</td>\n",
       "    </tr>\n",
       "  </tbody>\n",
       "</table>\n",
       "</div>"
      ],
      "text/plain": [
       "               ID    ID_type Uniprot id_of_organism\n",
       "11647    CYP3A41A  Gene_Name  Q9JMA7          mouse\n",
       "11649    CYP3A41B  Gene_Name  Q9JMA7          mouse\n",
       "13852       DEFA6  Gene_Name  P50704          mouse\n",
       "13854      DEFA12  Gene_Name  P50704          mouse\n",
       "15142      DPPA5B  Gene_Name  P85965          mouse\n",
       "15143      DPPA5C  Gene_Name  P85965          mouse\n",
       "23103  HIST2H2AA1  Gene_Name  Q6GSS7          mouse\n",
       "23104  HIST2H2AA2  Gene_Name  Q6GSS7          mouse\n",
       "23129      H2AL1A  Gene_Name  Q5M8Q2          mouse\n",
       "23130      H2AL1C  Gene_Name  Q5M8Q2          mouse"
      ]
     },
     "execution_count": 128,
     "metadata": {},
     "output_type": "execute_result"
    }
   ],
   "source": [
    "uniprot_ids_mrh[(uniprot_ids_mrh['Uniprot'].isin(uniprot_ids_mrh_gnDupl_d[uniprot_ids_mrh_gnDupl_d['ID']>1].index.to_list())) & (uniprot_ids_mrh['ID_type']=='Gene_Name')].head(10)"
   ]
  },
  {
   "cell_type": "code",
   "execution_count": 129,
   "metadata": {},
   "outputs": [
    {
     "data": {
      "text/html": [
       "<div>\n",
       "<style scoped>\n",
       "    .dataframe tbody tr th:only-of-type {\n",
       "        vertical-align: middle;\n",
       "    }\n",
       "\n",
       "    .dataframe tbody tr th {\n",
       "        vertical-align: top;\n",
       "    }\n",
       "\n",
       "    .dataframe thead th {\n",
       "        text-align: right;\n",
       "    }\n",
       "</style>\n",
       "<table border=\"1\" class=\"dataframe\">\n",
       "  <thead>\n",
       "    <tr style=\"text-align: right;\">\n",
       "      <th></th>\n",
       "      <th>ID</th>\n",
       "    </tr>\n",
       "    <tr>\n",
       "      <th>Uniprot</th>\n",
       "      <th></th>\n",
       "    </tr>\n",
       "  </thead>\n",
       "  <tbody>\n",
       "    <tr>\n",
       "      <th>A0A023GRW5</th>\n",
       "      <td>[RT1-N3]</td>\n",
       "    </tr>\n",
       "    <tr>\n",
       "      <th>A0A023HJ61</th>\n",
       "      <td>[RAB4A]</td>\n",
       "    </tr>\n",
       "    <tr>\n",
       "      <th>A0A023I7F4</th>\n",
       "      <td>[CYTB]</td>\n",
       "    </tr>\n",
       "    <tr>\n",
       "      <th>A0A023I7H2</th>\n",
       "      <td>[ND5]</td>\n",
       "    </tr>\n",
       "    <tr>\n",
       "      <th>A0A023I7H5</th>\n",
       "      <td>[ATP6]</td>\n",
       "    </tr>\n",
       "  </tbody>\n",
       "</table>\n",
       "</div>"
      ],
      "text/plain": [
       "                  ID\n",
       "Uniprot             \n",
       "A0A023GRW5  [RT1-N3]\n",
       "A0A023HJ61   [RAB4A]\n",
       "A0A023I7F4    [CYTB]\n",
       "A0A023I7H2     [ND5]\n",
       "A0A023I7H5    [ATP6]"
      ]
     },
     "execution_count": 129,
     "metadata": {},
     "output_type": "execute_result"
    }
   ],
   "source": [
    "uniprot_gn = uniprot_ids_mrh.loc[uniprot_ids_mrh['ID_type']=='Gene_Name',['Uniprot','ID']].groupby('Uniprot').aggregate(lambda tdf: tdf.unique().tolist())\n",
    "uniprot_gn.head()"
   ]
  },
  {
   "cell_type": "code",
   "execution_count": 130,
   "metadata": {},
   "outputs": [],
   "source": [
    "uniprot_ids_mrh_dict = pd.Series(uniprot_gn['ID'].values,index=uniprot_gn.index).to_dict()"
   ]
  },
  {
   "cell_type": "code",
   "execution_count": null,
   "metadata": {},
   "outputs": [],
   "source": []
  },
  {
   "cell_type": "code",
   "execution_count": 131,
   "metadata": {},
   "outputs": [
    {
     "name": "stdout",
     "output_type": "stream",
     "text": [
      "2140373\n",
      "87028\n"
     ]
    }
   ],
   "source": [
    "df_fgn = df_all[['gene_names', 'gene_name_unified', 'Uniprot', 'Uniprot_unified']].copy()\n",
    "df_fgn = df_fgn.drop_duplicates(keep='first')\n",
    "print(len(df_all))\n",
    "print(len(df_fgn))"
   ]
  },
  {
   "cell_type": "code",
   "execution_count": null,
   "metadata": {},
   "outputs": [],
   "source": []
  },
  {
   "cell_type": "code",
   "execution_count": 132,
   "metadata": {},
   "outputs": [
    {
     "data": {
      "text/html": [
       "<div>\n",
       "<style scoped>\n",
       "    .dataframe tbody tr th:only-of-type {\n",
       "        vertical-align: middle;\n",
       "    }\n",
       "\n",
       "    .dataframe tbody tr th {\n",
       "        vertical-align: top;\n",
       "    }\n",
       "\n",
       "    .dataframe thead th {\n",
       "        text-align: right;\n",
       "    }\n",
       "</style>\n",
       "<table border=\"1\" class=\"dataframe\">\n",
       "  <thead>\n",
       "    <tr style=\"text-align: right;\">\n",
       "      <th></th>\n",
       "      <th>gene_names</th>\n",
       "      <th>gene_name_unified</th>\n",
       "      <th>Uniprot</th>\n",
       "      <th>Uniprot_unified</th>\n",
       "      <th>gn_from_uniprot</th>\n",
       "    </tr>\n",
       "  </thead>\n",
       "  <tbody>\n",
       "    <tr>\n",
       "      <th>0</th>\n",
       "      <td>H2-KE6;HSD17B8</td>\n",
       "      <td>HSD17B8</td>\n",
       "      <td>A0A068BEQ2;P50171;G3UX44</td>\n",
       "      <td>P50171</td>\n",
       "      <td>[HSD17B8]</td>\n",
       "    </tr>\n",
       "    <tr>\n",
       "      <th>4</th>\n",
       "      <td>RAB11B;RAB11A</td>\n",
       "      <td>RAB11B</td>\n",
       "      <td>Q78ZJ8;A0A068BFR3;P46638;G3UY29;E9Q3P9;F8WGS1;...</td>\n",
       "      <td>P46638</td>\n",
       "      <td>[RAB11B]</td>\n",
       "    </tr>\n",
       "    <tr>\n",
       "      <th>6</th>\n",
       "      <td>RAB11B;RAB11A</td>\n",
       "      <td>RAB11B</td>\n",
       "      <td>Q78ZJ8;A0A068BFR3;P46638;G3UY29;E9Q3P9;F8WGS1;...</td>\n",
       "      <td>P46638</td>\n",
       "      <td>[RAB11B]</td>\n",
       "    </tr>\n",
       "    <tr>\n",
       "      <th>10</th>\n",
       "      <td>RAB11B;RAB11A</td>\n",
       "      <td>RAB11B</td>\n",
       "      <td>P46638</td>\n",
       "      <td>P46638</td>\n",
       "      <td>[RAB11B]</td>\n",
       "    </tr>\n",
       "    <tr>\n",
       "      <th>12</th>\n",
       "      <td>RAB11B;RAB11A</td>\n",
       "      <td>RAB11B</td>\n",
       "      <td>Q78ZJ8;P46638;G3UY29;E9Q3P9;F8WGS1;Q0PD45;P624...</td>\n",
       "      <td>P46638</td>\n",
       "      <td>[RAB11B]</td>\n",
       "    </tr>\n",
       "  </tbody>\n",
       "</table>\n",
       "</div>"
      ],
      "text/plain": [
       "        gene_names gene_name_unified  \\\n",
       "0   H2-KE6;HSD17B8           HSD17B8   \n",
       "4    RAB11B;RAB11A            RAB11B   \n",
       "6    RAB11B;RAB11A            RAB11B   \n",
       "10   RAB11B;RAB11A            RAB11B   \n",
       "12   RAB11B;RAB11A            RAB11B   \n",
       "\n",
       "                                              Uniprot Uniprot_unified  \\\n",
       "0                            A0A068BEQ2;P50171;G3UX44          P50171   \n",
       "4   Q78ZJ8;A0A068BFR3;P46638;G3UY29;E9Q3P9;F8WGS1;...          P46638   \n",
       "6   Q78ZJ8;A0A068BFR3;P46638;G3UY29;E9Q3P9;F8WGS1;...          P46638   \n",
       "10                                             P46638          P46638   \n",
       "12  Q78ZJ8;P46638;G3UY29;E9Q3P9;F8WGS1;Q0PD45;P624...          P46638   \n",
       "\n",
       "   gn_from_uniprot  \n",
       "0        [HSD17B8]  \n",
       "4         [RAB11B]  \n",
       "6         [RAB11B]  \n",
       "10        [RAB11B]  \n",
       "12        [RAB11B]  "
      ]
     },
     "execution_count": 132,
     "metadata": {},
     "output_type": "execute_result"
    }
   ],
   "source": [
    "df_fgn['gn_from_uniprot'] = df_fgn['Uniprot_unified'].copy()\n",
    "\n",
    "df_fgn['gn_from_uniprot'] = df_fgn['gn_from_uniprot'].map(uniprot_ids_mrh_dict).fillna('NoMapping') #df_all.replace({\"gn_from_uniprot\": uniprot_ids_mrh_dict})\n",
    "\n",
    "df_fgn.head()"
   ]
  },
  {
   "cell_type": "code",
   "execution_count": null,
   "metadata": {},
   "outputs": [],
   "source": []
  },
  {
   "cell_type": "code",
   "execution_count": 133,
   "metadata": {},
   "outputs": [
    {
     "data": {
      "text/html": [
       "<div>\n",
       "<style scoped>\n",
       "    .dataframe tbody tr th:only-of-type {\n",
       "        vertical-align: middle;\n",
       "    }\n",
       "\n",
       "    .dataframe tbody tr th {\n",
       "        vertical-align: top;\n",
       "    }\n",
       "\n",
       "    .dataframe thead th {\n",
       "        text-align: right;\n",
       "    }\n",
       "</style>\n",
       "<table border=\"1\" class=\"dataframe\">\n",
       "  <thead>\n",
       "    <tr style=\"text-align: right;\">\n",
       "      <th></th>\n",
       "      <th>Uniprot</th>\n",
       "    </tr>\n",
       "    <tr>\n",
       "      <th>ID</th>\n",
       "      <th></th>\n",
       "    </tr>\n",
       "  </thead>\n",
       "  <tbody>\n",
       "    <tr>\n",
       "      <th>0 BETA-2 GLOBIN</th>\n",
       "      <td>[Q62670]</td>\n",
       "    </tr>\n",
       "    <tr>\n",
       "      <th>0610009B22RIK</th>\n",
       "      <td>[Q8R3W2]</td>\n",
       "    </tr>\n",
       "    <tr>\n",
       "      <th>0610009L18RIK</th>\n",
       "      <td>[Q9CVY3, Q9CWA9]</td>\n",
       "    </tr>\n",
       "    <tr>\n",
       "      <th>0610010F05RIK</th>\n",
       "      <td>[Z4YM60, Z4YN22, Z4YN77, M0QWF3]</td>\n",
       "    </tr>\n",
       "    <tr>\n",
       "      <th>0610010K14RIK</th>\n",
       "      <td>[A2CF83, F6XN97, A2CF80, F8WH46, H3BJI0, D3Z68...</td>\n",
       "    </tr>\n",
       "  </tbody>\n",
       "</table>\n",
       "</div>"
      ],
      "text/plain": [
       "                                                           Uniprot\n",
       "ID                                                                \n",
       "0 BETA-2 GLOBIN                                           [Q62670]\n",
       "0610009B22RIK                                             [Q8R3W2]\n",
       "0610009L18RIK                                     [Q9CVY3, Q9CWA9]\n",
       "0610010F05RIK                     [Z4YM60, Z4YN22, Z4YN77, M0QWF3]\n",
       "0610010K14RIK    [A2CF83, F6XN97, A2CF80, F8WH46, H3BJI0, D3Z68..."
      ]
     },
     "execution_count": 133,
     "metadata": {},
     "output_type": "execute_result"
    }
   ],
   "source": [
    "gn_uniprot = uniprot_ids_mrh.loc[uniprot_ids_mrh['ID_type']=='Gene_Name',['Uniprot','ID']].groupby('ID').aggregate(lambda tdf: tdf.unique().tolist())\n",
    "gn_uniprot.head()"
   ]
  },
  {
   "cell_type": "code",
   "execution_count": null,
   "metadata": {},
   "outputs": [],
   "source": []
  },
  {
   "cell_type": "code",
   "execution_count": 134,
   "metadata": {},
   "outputs": [],
   "source": [
    "uniprot_gn_mrh_dict =  pd.Series(gn_uniprot['Uniprot'].values,index=gn_uniprot.index).to_dict() "
   ]
  },
  {
   "cell_type": "code",
   "execution_count": 135,
   "metadata": {},
   "outputs": [
    {
     "data": {
      "text/html": [
       "<div>\n",
       "<style scoped>\n",
       "    .dataframe tbody tr th:only-of-type {\n",
       "        vertical-align: middle;\n",
       "    }\n",
       "\n",
       "    .dataframe tbody tr th {\n",
       "        vertical-align: top;\n",
       "    }\n",
       "\n",
       "    .dataframe thead th {\n",
       "        text-align: right;\n",
       "    }\n",
       "</style>\n",
       "<table border=\"1\" class=\"dataframe\">\n",
       "  <thead>\n",
       "    <tr style=\"text-align: right;\">\n",
       "      <th></th>\n",
       "      <th>gene_names</th>\n",
       "      <th>gene_name_unified</th>\n",
       "      <th>Uniprot</th>\n",
       "      <th>Uniprot_unified</th>\n",
       "      <th>gn_from_uniprot</th>\n",
       "      <th>uniprot_from_gn</th>\n",
       "    </tr>\n",
       "  </thead>\n",
       "  <tbody>\n",
       "    <tr>\n",
       "      <th>0</th>\n",
       "      <td>H2-KE6;HSD17B8</td>\n",
       "      <td>HSD17B8</td>\n",
       "      <td>A0A068BEQ2;P50171;G3UX44</td>\n",
       "      <td>P50171</td>\n",
       "      <td>[HSD17B8]</td>\n",
       "      <td>[P50171, Q6MGB5, Q5BJM1, A0A0G2JV82, A0A0G2K6P...</td>\n",
       "    </tr>\n",
       "    <tr>\n",
       "      <th>4</th>\n",
       "      <td>RAB11B;RAB11A</td>\n",
       "      <td>RAB11B</td>\n",
       "      <td>Q78ZJ8;A0A068BFR3;P46638;G3UY29;E9Q3P9;F8WGS1;...</td>\n",
       "      <td>P46638</td>\n",
       "      <td>[RAB11B]</td>\n",
       "      <td>[P46638, Q78ZJ8, G3UY29, G3UZL4, G3UZD3, A0A06...</td>\n",
       "    </tr>\n",
       "    <tr>\n",
       "      <th>6</th>\n",
       "      <td>RAB11B;RAB11A</td>\n",
       "      <td>RAB11B</td>\n",
       "      <td>Q78ZJ8;A0A068BFR3;P46638;G3UY29;E9Q3P9;F8WGS1;...</td>\n",
       "      <td>P46638</td>\n",
       "      <td>[RAB11B]</td>\n",
       "      <td>[P46638, Q78ZJ8, G3UY29, G3UZL4, G3UZD3, A0A06...</td>\n",
       "    </tr>\n",
       "    <tr>\n",
       "      <th>10</th>\n",
       "      <td>RAB11B;RAB11A</td>\n",
       "      <td>RAB11B</td>\n",
       "      <td>P46638</td>\n",
       "      <td>P46638</td>\n",
       "      <td>[RAB11B]</td>\n",
       "      <td>[P46638, Q78ZJ8, G3UY29, G3UZL4, G3UZD3, A0A06...</td>\n",
       "    </tr>\n",
       "    <tr>\n",
       "      <th>12</th>\n",
       "      <td>RAB11B;RAB11A</td>\n",
       "      <td>RAB11B</td>\n",
       "      <td>Q78ZJ8;P46638;G3UY29;E9Q3P9;F8WGS1;Q0PD45;P624...</td>\n",
       "      <td>P46638</td>\n",
       "      <td>[RAB11B]</td>\n",
       "      <td>[P46638, Q78ZJ8, G3UY29, G3UZL4, G3UZD3, A0A06...</td>\n",
       "    </tr>\n",
       "  </tbody>\n",
       "</table>\n",
       "</div>"
      ],
      "text/plain": [
       "        gene_names gene_name_unified  \\\n",
       "0   H2-KE6;HSD17B8           HSD17B8   \n",
       "4    RAB11B;RAB11A            RAB11B   \n",
       "6    RAB11B;RAB11A            RAB11B   \n",
       "10   RAB11B;RAB11A            RAB11B   \n",
       "12   RAB11B;RAB11A            RAB11B   \n",
       "\n",
       "                                              Uniprot Uniprot_unified  \\\n",
       "0                            A0A068BEQ2;P50171;G3UX44          P50171   \n",
       "4   Q78ZJ8;A0A068BFR3;P46638;G3UY29;E9Q3P9;F8WGS1;...          P46638   \n",
       "6   Q78ZJ8;A0A068BFR3;P46638;G3UY29;E9Q3P9;F8WGS1;...          P46638   \n",
       "10                                             P46638          P46638   \n",
       "12  Q78ZJ8;P46638;G3UY29;E9Q3P9;F8WGS1;Q0PD45;P624...          P46638   \n",
       "\n",
       "   gn_from_uniprot                                    uniprot_from_gn  \n",
       "0        [HSD17B8]  [P50171, Q6MGB5, Q5BJM1, A0A0G2JV82, A0A0G2K6P...  \n",
       "4         [RAB11B]  [P46638, Q78ZJ8, G3UY29, G3UZL4, G3UZD3, A0A06...  \n",
       "6         [RAB11B]  [P46638, Q78ZJ8, G3UY29, G3UZL4, G3UZD3, A0A06...  \n",
       "10        [RAB11B]  [P46638, Q78ZJ8, G3UY29, G3UZL4, G3UZD3, A0A06...  \n",
       "12        [RAB11B]  [P46638, Q78ZJ8, G3UY29, G3UZL4, G3UZD3, A0A06...  "
      ]
     },
     "execution_count": 135,
     "metadata": {},
     "output_type": "execute_result"
    }
   ],
   "source": [
    "df_fgn['uniprot_from_gn'] = df_fgn['gene_name_unified'].copy()\n",
    "\n",
    "df_fgn['uniprot_from_gn'] = df_fgn['uniprot_from_gn'].map(uniprot_gn_mrh_dict).fillna('NoMapping') #df_all.replace({\"gn_from_uniprot\": uniprot_ids_mrh_dict})\n",
    "\n",
    "df_fgn.head()"
   ]
  },
  {
   "cell_type": "code",
   "execution_count": null,
   "metadata": {},
   "outputs": [],
   "source": []
  },
  {
   "cell_type": "code",
   "execution_count": 136,
   "metadata": {},
   "outputs": [],
   "source": [
    "gnu_count = df_fgn.loc[(~df_fgn['gene_name_unified'].isna()) & (~df_fgn['Uniprot_unified'].isna()),['gene_name_unified','Uniprot_unified']].drop_duplicates(keep='first').groupby('gene_name_unified').count()\n"
   ]
  },
  {
   "cell_type": "code",
   "execution_count": 137,
   "metadata": {},
   "outputs": [],
   "source": [
    "gnu_count_dict = pd.Series(gnu_count['Uniprot_unified'].values,index=gnu_count.index).to_dict() "
   ]
  },
  {
   "cell_type": "code",
   "execution_count": 138,
   "metadata": {},
   "outputs": [
    {
     "data": {
      "text/html": [
       "<div>\n",
       "<style scoped>\n",
       "    .dataframe tbody tr th:only-of-type {\n",
       "        vertical-align: middle;\n",
       "    }\n",
       "\n",
       "    .dataframe tbody tr th {\n",
       "        vertical-align: top;\n",
       "    }\n",
       "\n",
       "    .dataframe thead th {\n",
       "        text-align: right;\n",
       "    }\n",
       "</style>\n",
       "<table border=\"1\" class=\"dataframe\">\n",
       "  <thead>\n",
       "    <tr style=\"text-align: right;\">\n",
       "      <th></th>\n",
       "      <th>Uniprot_unified</th>\n",
       "    </tr>\n",
       "    <tr>\n",
       "      <th>gene_name_unified</th>\n",
       "      <th></th>\n",
       "    </tr>\n",
       "  </thead>\n",
       "  <tbody>\n",
       "    <tr>\n",
       "      <th>ANK3</th>\n",
       "      <td>8</td>\n",
       "    </tr>\n",
       "    <tr>\n",
       "      <th>MAP2</th>\n",
       "      <td>7</td>\n",
       "    </tr>\n",
       "    <tr>\n",
       "      <th>NCAM1</th>\n",
       "      <td>7</td>\n",
       "    </tr>\n",
       "    <tr>\n",
       "      <th>MACF1</th>\n",
       "      <td>7</td>\n",
       "    </tr>\n",
       "    <tr>\n",
       "      <th>ANK2</th>\n",
       "      <td>7</td>\n",
       "    </tr>\n",
       "    <tr>\n",
       "      <th>HLA-C</th>\n",
       "      <td>6</td>\n",
       "    </tr>\n",
       "    <tr>\n",
       "      <th>TUBB4A</th>\n",
       "      <td>6</td>\n",
       "    </tr>\n",
       "    <tr>\n",
       "      <th>GLS</th>\n",
       "      <td>6</td>\n",
       "    </tr>\n",
       "    <tr>\n",
       "      <th>GFAP</th>\n",
       "      <td>6</td>\n",
       "    </tr>\n",
       "    <tr>\n",
       "      <th>KCNMA1</th>\n",
       "      <td>5</td>\n",
       "    </tr>\n",
       "  </tbody>\n",
       "</table>\n",
       "</div>"
      ],
      "text/plain": [
       "                   Uniprot_unified\n",
       "gene_name_unified                 \n",
       "ANK3                             8\n",
       "MAP2                             7\n",
       "NCAM1                            7\n",
       "MACF1                            7\n",
       "ANK2                             7\n",
       "HLA-C                            6\n",
       "TUBB4A                           6\n",
       "GLS                              6\n",
       "GFAP                             6\n",
       "KCNMA1                           5"
      ]
     },
     "execution_count": 138,
     "metadata": {},
     "output_type": "execute_result"
    }
   ],
   "source": [
    "gnu_count.sort_values('Uniprot_unified',ascending=False).head(10)"
   ]
  },
  {
   "cell_type": "code",
   "execution_count": null,
   "metadata": {},
   "outputs": [],
   "source": []
  },
  {
   "cell_type": "code",
   "execution_count": 139,
   "metadata": {},
   "outputs": [
    {
     "data": {
      "text/html": [
       "<div>\n",
       "<style scoped>\n",
       "    .dataframe tbody tr th:only-of-type {\n",
       "        vertical-align: middle;\n",
       "    }\n",
       "\n",
       "    .dataframe tbody tr th {\n",
       "        vertical-align: top;\n",
       "    }\n",
       "\n",
       "    .dataframe thead th {\n",
       "        text-align: right;\n",
       "    }\n",
       "</style>\n",
       "<table border=\"1\" class=\"dataframe\">\n",
       "  <thead>\n",
       "    <tr style=\"text-align: right;\">\n",
       "      <th></th>\n",
       "      <th>gene_name_unified</th>\n",
       "    </tr>\n",
       "    <tr>\n",
       "      <th>Uniprot_unified</th>\n",
       "      <th></th>\n",
       "    </tr>\n",
       "  </thead>\n",
       "  <tbody>\n",
       "    <tr>\n",
       "      <th>P35922</th>\n",
       "      <td>38</td>\n",
       "    </tr>\n",
       "    <tr>\n",
       "      <th>Q91XY4</th>\n",
       "      <td>12</td>\n",
       "    </tr>\n",
       "    <tr>\n",
       "      <th>Q6PB90</th>\n",
       "      <td>11</td>\n",
       "    </tr>\n",
       "    <tr>\n",
       "      <th>Q9EP75</th>\n",
       "      <td>8</td>\n",
       "    </tr>\n",
       "    <tr>\n",
       "      <th>P01897</th>\n",
       "      <td>7</td>\n",
       "    </tr>\n",
       "    <tr>\n",
       "      <th>P22599</th>\n",
       "      <td>6</td>\n",
       "    </tr>\n",
       "    <tr>\n",
       "      <th>Q66JV4</th>\n",
       "      <td>5</td>\n",
       "    </tr>\n",
       "    <tr>\n",
       "      <th>P01942</th>\n",
       "      <td>5</td>\n",
       "    </tr>\n",
       "    <tr>\n",
       "      <th>B2RPU8</th>\n",
       "      <td>5</td>\n",
       "    </tr>\n",
       "    <tr>\n",
       "      <th>Q9D1F0</th>\n",
       "      <td>5</td>\n",
       "    </tr>\n",
       "  </tbody>\n",
       "</table>\n",
       "</div>"
      ],
      "text/plain": [
       "                 gene_name_unified\n",
       "Uniprot_unified                   \n",
       "P35922                          38\n",
       "Q91XY4                          12\n",
       "Q6PB90                          11\n",
       "Q9EP75                           8\n",
       "P01897                           7\n",
       "P22599                           6\n",
       "Q66JV4                           5\n",
       "P01942                           5\n",
       "B2RPU8                           5\n",
       "Q9D1F0                           5"
      ]
     },
     "execution_count": 139,
     "metadata": {},
     "output_type": "execute_result"
    }
   ],
   "source": [
    "uniprot_u_count = df_fgn.loc[(~df_fgn['gene_name_unified'].isna()) & (~df_fgn['Uniprot_unified'].isna()),['gene_name_unified','Uniprot_unified']].drop_duplicates(keep='first').groupby('Uniprot_unified').count()\n",
    "uniprot_u_count.sort_values('gene_name_unified',ascending=False).head(10)\n"
   ]
  },
  {
   "cell_type": "code",
   "execution_count": 140,
   "metadata": {},
   "outputs": [],
   "source": [
    "uniprot_u_count_dict = pd.Series(uniprot_u_count['gene_name_unified'].values,index=uniprot_u_count.index).to_dict() "
   ]
  },
  {
   "cell_type": "code",
   "execution_count": 141,
   "metadata": {},
   "outputs": [
    {
     "data": {
      "text/plain": [
       "array(['P35922', 'P57053', None], dtype=object)"
      ]
     },
     "execution_count": 141,
     "metadata": {},
     "output_type": "execute_result"
    }
   ],
   "source": [
    "df_fgn.loc[df_fgn['gene_name_unified']=='HIST1H2BC','Uniprot_unified'].unique()"
   ]
  },
  {
   "cell_type": "code",
   "execution_count": 142,
   "metadata": {},
   "outputs": [],
   "source": [
    "gn_uniprot_unif_4dict = df_fgn.loc[(~df_fgn['gene_name_unified'].isna()) & (~df_fgn['Uniprot_unified'].isna()),['gene_name_unified','Uniprot_unified']].drop_duplicates(keep='first')"
   ]
  },
  {
   "cell_type": "code",
   "execution_count": 143,
   "metadata": {},
   "outputs": [
    {
     "data": {
      "text/plain": [
       "19565"
      ]
     },
     "execution_count": 143,
     "metadata": {},
     "output_type": "execute_result"
    }
   ],
   "source": [
    "len(gn_uniprot_unif_4dict)"
   ]
  },
  {
   "cell_type": "code",
   "execution_count": 144,
   "metadata": {},
   "outputs": [],
   "source": [
    "#gn_uniprot_unif_dict =  pd.Series(gn_uniprot_unif_4dict['gene_name_unified'].values,index=gn_uniprot_unif_4dict['Uniprot_unified']).to_dict()\n",
    "\n",
    "gn_uniprot_unif_dict = gn_uniprot_unif_4dict.groupby('Uniprot_unified').aggregate(lambda tdf: tdf.unique().tolist())"
   ]
  },
  {
   "cell_type": "code",
   "execution_count": 145,
   "metadata": {},
   "outputs": [
    {
     "data": {
      "text/html": [
       "<div>\n",
       "<style scoped>\n",
       "    .dataframe tbody tr th:only-of-type {\n",
       "        vertical-align: middle;\n",
       "    }\n",
       "\n",
       "    .dataframe tbody tr th {\n",
       "        vertical-align: top;\n",
       "    }\n",
       "\n",
       "    .dataframe thead th {\n",
       "        text-align: right;\n",
       "    }\n",
       "</style>\n",
       "<table border=\"1\" class=\"dataframe\">\n",
       "  <thead>\n",
       "    <tr style=\"text-align: right;\">\n",
       "      <th></th>\n",
       "      <th>gene_name_unified</th>\n",
       "    </tr>\n",
       "    <tr>\n",
       "      <th>Uniprot_unified</th>\n",
       "      <th></th>\n",
       "    </tr>\n",
       "  </thead>\n",
       "  <tbody>\n",
       "    <tr>\n",
       "      <th>A0A024QZ33</th>\n",
       "      <td>[NSRP1]</td>\n",
       "    </tr>\n",
       "    <tr>\n",
       "      <th>A0A024R341</th>\n",
       "      <td>[THOC7]</td>\n",
       "    </tr>\n",
       "    <tr>\n",
       "      <th>A0A024R368</th>\n",
       "      <td>[PRICKLE2]</td>\n",
       "    </tr>\n",
       "    <tr>\n",
       "      <th>A0A024R3W6</th>\n",
       "      <td>[NRP2]</td>\n",
       "    </tr>\n",
       "    <tr>\n",
       "      <th>A0A024R5I4</th>\n",
       "      <td>[SLCO2B1]</td>\n",
       "    </tr>\n",
       "  </tbody>\n",
       "</table>\n",
       "</div>"
      ],
      "text/plain": [
       "                gene_name_unified\n",
       "Uniprot_unified                  \n",
       "A0A024QZ33                [NSRP1]\n",
       "A0A024R341                [THOC7]\n",
       "A0A024R368             [PRICKLE2]\n",
       "A0A024R3W6                 [NRP2]\n",
       "A0A024R5I4              [SLCO2B1]"
      ]
     },
     "execution_count": 145,
     "metadata": {},
     "output_type": "execute_result"
    }
   ],
   "source": [
    "gn_uniprot_unif_dict.head()"
   ]
  },
  {
   "cell_type": "code",
   "execution_count": null,
   "metadata": {},
   "outputs": [],
   "source": []
  },
  {
   "cell_type": "code",
   "execution_count": 146,
   "metadata": {},
   "outputs": [
    {
     "data": {
      "text/plain": [
       "17960"
      ]
     },
     "execution_count": 146,
     "metadata": {},
     "output_type": "execute_result"
    }
   ],
   "source": [
    "len(gn_uniprot_unif_dict)"
   ]
  },
  {
   "cell_type": "code",
   "execution_count": 147,
   "metadata": {},
   "outputs": [],
   "source": [
    "gn_uniprot_unif_dict_l =  pd.Series(gn_uniprot_unif_dict['gene_name_unified'].values,index=gn_uniprot_unif_dict.index).to_dict() "
   ]
  },
  {
   "cell_type": "code",
   "execution_count": 148,
   "metadata": {},
   "outputs": [],
   "source": [
    "uniprot_gn_unif_dict = gn_uniprot_unif_4dict.groupby('gene_name_unified').aggregate(lambda tdf: tdf.unique().tolist())\n",
    "\n",
    "uniprot_gn_unif_dict_l =  pd.Series(uniprot_gn_unif_dict['Uniprot_unified'].values,index=uniprot_gn_unif_dict.index).to_dict() \n"
   ]
  },
  {
   "cell_type": "code",
   "execution_count": 149,
   "metadata": {},
   "outputs": [
    {
     "data": {
      "text/html": [
       "<div>\n",
       "<style scoped>\n",
       "    .dataframe tbody tr th:only-of-type {\n",
       "        vertical-align: middle;\n",
       "    }\n",
       "\n",
       "    .dataframe tbody tr th {\n",
       "        vertical-align: top;\n",
       "    }\n",
       "\n",
       "    .dataframe thead th {\n",
       "        text-align: right;\n",
       "    }\n",
       "</style>\n",
       "<table border=\"1\" class=\"dataframe\">\n",
       "  <thead>\n",
       "    <tr style=\"text-align: right;\">\n",
       "      <th></th>\n",
       "      <th>Uniprot_unified</th>\n",
       "    </tr>\n",
       "    <tr>\n",
       "      <th>gene_name_unified</th>\n",
       "      <th></th>\n",
       "    </tr>\n",
       "  </thead>\n",
       "  <tbody>\n",
       "    <tr>\n",
       "      <th>0610007P22RIK</th>\n",
       "      <td>[Q5HZH2]</td>\n",
       "    </tr>\n",
       "    <tr>\n",
       "      <th>0610009B22RIK</th>\n",
       "      <td>[Q9CQP2]</td>\n",
       "    </tr>\n",
       "    <tr>\n",
       "      <th>0610010K14RIK</th>\n",
       "      <td>[Q9DCT6]</td>\n",
       "    </tr>\n",
       "    <tr>\n",
       "      <th>0610011F06RIK</th>\n",
       "      <td>[Q9DCS2]</td>\n",
       "    </tr>\n",
       "    <tr>\n",
       "      <th>0610031J06RIK</th>\n",
       "      <td>[Q9JHJ3]</td>\n",
       "    </tr>\n",
       "  </tbody>\n",
       "</table>\n",
       "</div>"
      ],
      "text/plain": [
       "                  Uniprot_unified\n",
       "gene_name_unified                \n",
       "0610007P22RIK            [Q5HZH2]\n",
       "0610009B22RIK            [Q9CQP2]\n",
       "0610010K14RIK            [Q9DCT6]\n",
       "0610011F06RIK            [Q9DCS2]\n",
       "0610031J06RIK            [Q9JHJ3]"
      ]
     },
     "execution_count": 149,
     "metadata": {},
     "output_type": "execute_result"
    }
   ],
   "source": [
    "uniprot_gn_unif_dict.head()"
   ]
  },
  {
   "cell_type": "code",
   "execution_count": 150,
   "metadata": {},
   "outputs": [
    {
     "data": {
      "text/plain": [
       "87028"
      ]
     },
     "execution_count": 150,
     "metadata": {},
     "output_type": "execute_result"
    }
   ],
   "source": [
    "len(df_fgn)"
   ]
  },
  {
   "cell_type": "code",
   "execution_count": 151,
   "metadata": {},
   "outputs": [],
   "source": [
    "df_fgn = df_fgn.reset_index(drop=True)"
   ]
  },
  {
   "cell_type": "code",
   "execution_count": 152,
   "metadata": {},
   "outputs": [
    {
     "data": {
      "text/html": [
       "<div>\n",
       "<style scoped>\n",
       "    .dataframe tbody tr th:only-of-type {\n",
       "        vertical-align: middle;\n",
       "    }\n",
       "\n",
       "    .dataframe tbody tr th {\n",
       "        vertical-align: top;\n",
       "    }\n",
       "\n",
       "    .dataframe thead th {\n",
       "        text-align: right;\n",
       "    }\n",
       "</style>\n",
       "<table border=\"1\" class=\"dataframe\">\n",
       "  <thead>\n",
       "    <tr style=\"text-align: right;\">\n",
       "      <th></th>\n",
       "      <th>gene_names</th>\n",
       "      <th>gene_name_unified</th>\n",
       "      <th>Uniprot</th>\n",
       "      <th>Uniprot_unified</th>\n",
       "      <th>gn_from_uniprot</th>\n",
       "      <th>uniprot_from_gn</th>\n",
       "    </tr>\n",
       "  </thead>\n",
       "  <tbody>\n",
       "  </tbody>\n",
       "</table>\n",
       "</div>"
      ],
      "text/plain": [
       "Empty DataFrame\n",
       "Columns: [gene_names, gene_name_unified, Uniprot, Uniprot_unified, gn_from_uniprot, uniprot_from_gn]\n",
       "Index: []"
      ]
     },
     "execution_count": 152,
     "metadata": {},
     "output_type": "execute_result"
    }
   ],
   "source": [
    "df_fgn[(df_fgn['gene_names'].isna()) & (~df_fgn['gene_name_unified'].isna())].head()"
   ]
  },
  {
   "cell_type": "code",
   "execution_count": 153,
   "metadata": {},
   "outputs": [
    {
     "data": {
      "text/html": [
       "<div>\n",
       "<style scoped>\n",
       "    .dataframe tbody tr th:only-of-type {\n",
       "        vertical-align: middle;\n",
       "    }\n",
       "\n",
       "    .dataframe tbody tr th {\n",
       "        vertical-align: top;\n",
       "    }\n",
       "\n",
       "    .dataframe thead th {\n",
       "        text-align: right;\n",
       "    }\n",
       "</style>\n",
       "<table border=\"1\" class=\"dataframe\">\n",
       "  <thead>\n",
       "    <tr style=\"text-align: right;\">\n",
       "      <th></th>\n",
       "      <th>gene_names</th>\n",
       "      <th>gene_name_unified</th>\n",
       "      <th>Uniprot</th>\n",
       "      <th>Uniprot_unified</th>\n",
       "      <th>gn_from_uniprot</th>\n",
       "      <th>uniprot_from_gn</th>\n",
       "    </tr>\n",
       "  </thead>\n",
       "  <tbody>\n",
       "    <tr>\n",
       "      <th>0</th>\n",
       "      <td>H2-KE6;HSD17B8</td>\n",
       "      <td>HSD17B8</td>\n",
       "      <td>A0A068BEQ2;P50171;G3UX44</td>\n",
       "      <td>P50171</td>\n",
       "      <td>[HSD17B8]</td>\n",
       "      <td>[P50171, Q6MGB5, Q5BJM1, A0A0G2JV82, A0A0G2K6P...</td>\n",
       "    </tr>\n",
       "    <tr>\n",
       "      <th>1</th>\n",
       "      <td>RAB11B;RAB11A</td>\n",
       "      <td>RAB11B</td>\n",
       "      <td>Q78ZJ8;A0A068BFR3;P46638;G3UY29;E9Q3P9;F8WGS1;...</td>\n",
       "      <td>P46638</td>\n",
       "      <td>[RAB11B]</td>\n",
       "      <td>[P46638, Q78ZJ8, G3UY29, G3UZL4, G3UZD3, A0A06...</td>\n",
       "    </tr>\n",
       "    <tr>\n",
       "      <th>2</th>\n",
       "      <td>RAB11B;RAB11A</td>\n",
       "      <td>RAB11B</td>\n",
       "      <td>Q78ZJ8;A0A068BFR3;P46638;G3UY29;E9Q3P9;F8WGS1;...</td>\n",
       "      <td>P46638</td>\n",
       "      <td>[RAB11B]</td>\n",
       "      <td>[P46638, Q78ZJ8, G3UY29, G3UZL4, G3UZD3, A0A06...</td>\n",
       "    </tr>\n",
       "    <tr>\n",
       "      <th>3</th>\n",
       "      <td>RAB11B;RAB11A</td>\n",
       "      <td>RAB11B</td>\n",
       "      <td>P46638</td>\n",
       "      <td>P46638</td>\n",
       "      <td>[RAB11B]</td>\n",
       "      <td>[P46638, Q78ZJ8, G3UY29, G3UZL4, G3UZD3, A0A06...</td>\n",
       "    </tr>\n",
       "    <tr>\n",
       "      <th>4</th>\n",
       "      <td>RAB11B;RAB11A</td>\n",
       "      <td>RAB11B</td>\n",
       "      <td>Q78ZJ8;P46638;G3UY29;E9Q3P9;F8WGS1;Q0PD45;P624...</td>\n",
       "      <td>P46638</td>\n",
       "      <td>[RAB11B]</td>\n",
       "      <td>[P46638, Q78ZJ8, G3UY29, G3UZL4, G3UZD3, A0A06...</td>\n",
       "    </tr>\n",
       "  </tbody>\n",
       "</table>\n",
       "</div>"
      ],
      "text/plain": [
       "       gene_names gene_name_unified  \\\n",
       "0  H2-KE6;HSD17B8           HSD17B8   \n",
       "1   RAB11B;RAB11A            RAB11B   \n",
       "2   RAB11B;RAB11A            RAB11B   \n",
       "3   RAB11B;RAB11A            RAB11B   \n",
       "4   RAB11B;RAB11A            RAB11B   \n",
       "\n",
       "                                             Uniprot Uniprot_unified  \\\n",
       "0                           A0A068BEQ2;P50171;G3UX44          P50171   \n",
       "1  Q78ZJ8;A0A068BFR3;P46638;G3UY29;E9Q3P9;F8WGS1;...          P46638   \n",
       "2  Q78ZJ8;A0A068BFR3;P46638;G3UY29;E9Q3P9;F8WGS1;...          P46638   \n",
       "3                                             P46638          P46638   \n",
       "4  Q78ZJ8;P46638;G3UY29;E9Q3P9;F8WGS1;Q0PD45;P624...          P46638   \n",
       "\n",
       "  gn_from_uniprot                                    uniprot_from_gn  \n",
       "0       [HSD17B8]  [P50171, Q6MGB5, Q5BJM1, A0A0G2JV82, A0A0G2K6P...  \n",
       "1        [RAB11B]  [P46638, Q78ZJ8, G3UY29, G3UZL4, G3UZD3, A0A06...  \n",
       "2        [RAB11B]  [P46638, Q78ZJ8, G3UY29, G3UZL4, G3UZD3, A0A06...  \n",
       "3        [RAB11B]  [P46638, Q78ZJ8, G3UY29, G3UZL4, G3UZD3, A0A06...  \n",
       "4        [RAB11B]  [P46638, Q78ZJ8, G3UY29, G3UZL4, G3UZD3, A0A06...  "
      ]
     },
     "execution_count": 153,
     "metadata": {},
     "output_type": "execute_result"
    }
   ],
   "source": [
    "df_fgn.head()"
   ]
  },
  {
   "cell_type": "code",
   "execution_count": 154,
   "metadata": {},
   "outputs": [
    {
     "data": {
      "text/plain": [
       "list"
      ]
     },
     "execution_count": 154,
     "metadata": {},
     "output_type": "execute_result"
    }
   ],
   "source": [
    "type([df_fgn.iloc[0,2]])"
   ]
  },
  {
   "cell_type": "code",
   "execution_count": 155,
   "metadata": {},
   "outputs": [
    {
     "data": {
      "text/plain": [
       "list"
      ]
     },
     "execution_count": 155,
     "metadata": {},
     "output_type": "execute_result"
    }
   ],
   "source": [
    "type(df_fgn.iloc[0,4])"
   ]
  },
  {
   "cell_type": "code",
   "execution_count": null,
   "metadata": {},
   "outputs": [],
   "source": []
  },
  {
   "cell_type": "markdown",
   "metadata": {},
   "source": [
    "# Given"
   ]
  },
  {
   "cell_type": "code",
   "execution_count": 156,
   "metadata": {},
   "outputs": [
    {
     "name": "stdout",
     "output_type": "stream",
     "text": [
      "2140373\n"
     ]
    },
    {
     "data": {
      "text/html": [
       "<div>\n",
       "<style scoped>\n",
       "    .dataframe tbody tr th:only-of-type {\n",
       "        vertical-align: middle;\n",
       "    }\n",
       "\n",
       "    .dataframe tbody tr th {\n",
       "        vertical-align: top;\n",
       "    }\n",
       "\n",
       "    .dataframe thead th {\n",
       "        text-align: right;\n",
       "    }\n",
       "</style>\n",
       "<table border=\"1\" class=\"dataframe\">\n",
       "  <thead>\n",
       "    <tr style=\"text-align: right;\">\n",
       "      <th></th>\n",
       "      <th>gene_names</th>\n",
       "      <th>Uniprot</th>\n",
       "      <th>Study</th>\n",
       "      <th>Organism</th>\n",
       "      <th>location</th>\n",
       "      <th>Age_cat</th>\n",
       "      <th>Age_days</th>\n",
       "      <th>condition</th>\n",
       "      <th>sample_id</th>\n",
       "      <th>molecular_weight_kDa</th>\n",
       "      <th>raw_data</th>\n",
       "      <th>raw_data_units</th>\n",
       "      <th>gene_name_unified</th>\n",
       "      <th>Uniprot_unified</th>\n",
       "    </tr>\n",
       "  </thead>\n",
       "  <tbody>\n",
       "    <tr>\n",
       "      <th>0</th>\n",
       "      <td>H2-KE6;HSD17B8</td>\n",
       "      <td>A0A068BEQ2;P50171;G3UX44</td>\n",
       "      <td>Hamezah 2019</td>\n",
       "      <td>mouse</td>\n",
       "      <td>hippocampus</td>\n",
       "      <td>NaN</td>\n",
       "      <td>476</td>\n",
       "      <td>WT</td>\n",
       "      <td>NaN</td>\n",
       "      <td>26.587</td>\n",
       "      <td>3.324025e+06</td>\n",
       "      <td>LFQintensity</td>\n",
       "      <td>HSD17B8</td>\n",
       "      <td>P50171</td>\n",
       "    </tr>\n",
       "    <tr>\n",
       "      <th>1</th>\n",
       "      <td>H2-KE6;HSD17B8</td>\n",
       "      <td>A0A068BEQ2;P50171;G3UX44</td>\n",
       "      <td>Hamezah 2019</td>\n",
       "      <td>mouse</td>\n",
       "      <td>hippocampus</td>\n",
       "      <td>NaN</td>\n",
       "      <td>476</td>\n",
       "      <td>Alzheimer</td>\n",
       "      <td>NaN</td>\n",
       "      <td>26.587</td>\n",
       "      <td>1.736439e+06</td>\n",
       "      <td>LFQintensity</td>\n",
       "      <td>HSD17B8</td>\n",
       "      <td>P50171</td>\n",
       "    </tr>\n",
       "    <tr>\n",
       "      <th>2</th>\n",
       "      <td>H2-KE6;HSD17B8</td>\n",
       "      <td>A0A068BEQ2;P50171;G3UX44</td>\n",
       "      <td>Hamezah 2019</td>\n",
       "      <td>mouse</td>\n",
       "      <td>striatum</td>\n",
       "      <td>NaN</td>\n",
       "      <td>476</td>\n",
       "      <td>WT</td>\n",
       "      <td>NaN</td>\n",
       "      <td>26.587</td>\n",
       "      <td>1.980690e+07</td>\n",
       "      <td>LFQintensity</td>\n",
       "      <td>HSD17B8</td>\n",
       "      <td>P50171</td>\n",
       "    </tr>\n",
       "    <tr>\n",
       "      <th>3</th>\n",
       "      <td>H2-KE6;HSD17B8</td>\n",
       "      <td>A0A068BEQ2;P50171;G3UX44</td>\n",
       "      <td>Hamezah 2019</td>\n",
       "      <td>mouse</td>\n",
       "      <td>striatum</td>\n",
       "      <td>NaN</td>\n",
       "      <td>476</td>\n",
       "      <td>Alzheimer</td>\n",
       "      <td>NaN</td>\n",
       "      <td>26.587</td>\n",
       "      <td>3.241369e+07</td>\n",
       "      <td>LFQintensity</td>\n",
       "      <td>HSD17B8</td>\n",
       "      <td>P50171</td>\n",
       "    </tr>\n",
       "    <tr>\n",
       "      <th>4</th>\n",
       "      <td>RAB11B;RAB11A</td>\n",
       "      <td>Q78ZJ8;A0A068BFR3;P46638;G3UY29;E9Q3P9;F8WGS1;...</td>\n",
       "      <td>Hamezah 2019</td>\n",
       "      <td>mouse</td>\n",
       "      <td>hippocampus</td>\n",
       "      <td>NaN</td>\n",
       "      <td>476</td>\n",
       "      <td>WT</td>\n",
       "      <td>NaN</td>\n",
       "      <td>24.489</td>\n",
       "      <td>4.273752e+07</td>\n",
       "      <td>LFQintensity</td>\n",
       "      <td>RAB11B</td>\n",
       "      <td>P46638</td>\n",
       "    </tr>\n",
       "  </tbody>\n",
       "</table>\n",
       "</div>"
      ],
      "text/plain": [
       "       gene_names                                            Uniprot  \\\n",
       "0  H2-KE6;HSD17B8                           A0A068BEQ2;P50171;G3UX44   \n",
       "1  H2-KE6;HSD17B8                           A0A068BEQ2;P50171;G3UX44   \n",
       "2  H2-KE6;HSD17B8                           A0A068BEQ2;P50171;G3UX44   \n",
       "3  H2-KE6;HSD17B8                           A0A068BEQ2;P50171;G3UX44   \n",
       "4   RAB11B;RAB11A  Q78ZJ8;A0A068BFR3;P46638;G3UY29;E9Q3P9;F8WGS1;...   \n",
       "\n",
       "          Study Organism     location Age_cat Age_days  condition sample_id  \\\n",
       "0  Hamezah 2019    mouse  hippocampus     NaN      476         WT       NaN   \n",
       "1  Hamezah 2019    mouse  hippocampus     NaN      476  Alzheimer       NaN   \n",
       "2  Hamezah 2019    mouse     striatum     NaN      476         WT       NaN   \n",
       "3  Hamezah 2019    mouse     striatum     NaN      476  Alzheimer       NaN   \n",
       "4  Hamezah 2019    mouse  hippocampus     NaN      476         WT       NaN   \n",
       "\n",
       "   molecular_weight_kDa      raw_data raw_data_units gene_name_unified  \\\n",
       "0                26.587  3.324025e+06   LFQintensity           HSD17B8   \n",
       "1                26.587  1.736439e+06   LFQintensity           HSD17B8   \n",
       "2                26.587  1.980690e+07   LFQintensity           HSD17B8   \n",
       "3                26.587  3.241369e+07   LFQintensity           HSD17B8   \n",
       "4                24.489  4.273752e+07   LFQintensity            RAB11B   \n",
       "\n",
       "  Uniprot_unified  \n",
       "0          P50171  \n",
       "1          P50171  \n",
       "2          P50171  \n",
       "3          P50171  \n",
       "4          P46638  "
      ]
     },
     "execution_count": 156,
     "metadata": {},
     "output_type": "execute_result"
    }
   ],
   "source": [
    "# main data \n",
    "\n",
    "print(len(df_all))\n",
    "df_all.head()"
   ]
  },
  {
   "cell_type": "code",
   "execution_count": 157,
   "metadata": {},
   "outputs": [
    {
     "name": "stdout",
     "output_type": "stream",
     "text": [
      "87028\n"
     ]
    },
    {
     "data": {
      "text/html": [
       "<div>\n",
       "<style scoped>\n",
       "    .dataframe tbody tr th:only-of-type {\n",
       "        vertical-align: middle;\n",
       "    }\n",
       "\n",
       "    .dataframe tbody tr th {\n",
       "        vertical-align: top;\n",
       "    }\n",
       "\n",
       "    .dataframe thead th {\n",
       "        text-align: right;\n",
       "    }\n",
       "</style>\n",
       "<table border=\"1\" class=\"dataframe\">\n",
       "  <thead>\n",
       "    <tr style=\"text-align: right;\">\n",
       "      <th></th>\n",
       "      <th>gene_names</th>\n",
       "      <th>gene_name_unified</th>\n",
       "      <th>Uniprot</th>\n",
       "      <th>Uniprot_unified</th>\n",
       "      <th>gn_from_uniprot</th>\n",
       "      <th>uniprot_from_gn</th>\n",
       "    </tr>\n",
       "  </thead>\n",
       "  <tbody>\n",
       "    <tr>\n",
       "      <th>0</th>\n",
       "      <td>H2-KE6;HSD17B8</td>\n",
       "      <td>HSD17B8</td>\n",
       "      <td>A0A068BEQ2;P50171;G3UX44</td>\n",
       "      <td>P50171</td>\n",
       "      <td>[HSD17B8]</td>\n",
       "      <td>[P50171, Q6MGB5, Q5BJM1, A0A0G2JV82, A0A0G2K6P...</td>\n",
       "    </tr>\n",
       "    <tr>\n",
       "      <th>1</th>\n",
       "      <td>RAB11B;RAB11A</td>\n",
       "      <td>RAB11B</td>\n",
       "      <td>Q78ZJ8;A0A068BFR3;P46638;G3UY29;E9Q3P9;F8WGS1;...</td>\n",
       "      <td>P46638</td>\n",
       "      <td>[RAB11B]</td>\n",
       "      <td>[P46638, Q78ZJ8, G3UY29, G3UZL4, G3UZD3, A0A06...</td>\n",
       "    </tr>\n",
       "    <tr>\n",
       "      <th>2</th>\n",
       "      <td>RAB11B;RAB11A</td>\n",
       "      <td>RAB11B</td>\n",
       "      <td>Q78ZJ8;A0A068BFR3;P46638;G3UY29;E9Q3P9;F8WGS1;...</td>\n",
       "      <td>P46638</td>\n",
       "      <td>[RAB11B]</td>\n",
       "      <td>[P46638, Q78ZJ8, G3UY29, G3UZL4, G3UZD3, A0A06...</td>\n",
       "    </tr>\n",
       "    <tr>\n",
       "      <th>3</th>\n",
       "      <td>RAB11B;RAB11A</td>\n",
       "      <td>RAB11B</td>\n",
       "      <td>P46638</td>\n",
       "      <td>P46638</td>\n",
       "      <td>[RAB11B]</td>\n",
       "      <td>[P46638, Q78ZJ8, G3UY29, G3UZL4, G3UZD3, A0A06...</td>\n",
       "    </tr>\n",
       "    <tr>\n",
       "      <th>4</th>\n",
       "      <td>RAB11B;RAB11A</td>\n",
       "      <td>RAB11B</td>\n",
       "      <td>Q78ZJ8;P46638;G3UY29;E9Q3P9;F8WGS1;Q0PD45;P624...</td>\n",
       "      <td>P46638</td>\n",
       "      <td>[RAB11B]</td>\n",
       "      <td>[P46638, Q78ZJ8, G3UY29, G3UZL4, G3UZD3, A0A06...</td>\n",
       "    </tr>\n",
       "  </tbody>\n",
       "</table>\n",
       "</div>"
      ],
      "text/plain": [
       "       gene_names gene_name_unified  \\\n",
       "0  H2-KE6;HSD17B8           HSD17B8   \n",
       "1   RAB11B;RAB11A            RAB11B   \n",
       "2   RAB11B;RAB11A            RAB11B   \n",
       "3   RAB11B;RAB11A            RAB11B   \n",
       "4   RAB11B;RAB11A            RAB11B   \n",
       "\n",
       "                                             Uniprot Uniprot_unified  \\\n",
       "0                           A0A068BEQ2;P50171;G3UX44          P50171   \n",
       "1  Q78ZJ8;A0A068BFR3;P46638;G3UY29;E9Q3P9;F8WGS1;...          P46638   \n",
       "2  Q78ZJ8;A0A068BFR3;P46638;G3UY29;E9Q3P9;F8WGS1;...          P46638   \n",
       "3                                             P46638          P46638   \n",
       "4  Q78ZJ8;P46638;G3UY29;E9Q3P9;F8WGS1;Q0PD45;P624...          P46638   \n",
       "\n",
       "  gn_from_uniprot                                    uniprot_from_gn  \n",
       "0       [HSD17B8]  [P50171, Q6MGB5, Q5BJM1, A0A0G2JV82, A0A0G2K6P...  \n",
       "1        [RAB11B]  [P46638, Q78ZJ8, G3UY29, G3UZL4, G3UZD3, A0A06...  \n",
       "2        [RAB11B]  [P46638, Q78ZJ8, G3UY29, G3UZL4, G3UZD3, A0A06...  \n",
       "3        [RAB11B]  [P46638, Q78ZJ8, G3UY29, G3UZL4, G3UZD3, A0A06...  \n",
       "4        [RAB11B]  [P46638, Q78ZJ8, G3UY29, G3UZL4, G3UZD3, A0A06...  "
      ]
     },
     "execution_count": 157,
     "metadata": {},
     "output_type": "execute_result"
    }
   ],
   "source": [
    "# extracted from df_all, only columns related to IDs, dropped duplicates\n",
    "\n",
    "print(len(df_fgn))\n",
    "\n",
    "df_fgn.head()\n",
    "\n",
    "# gene_names  -  original gene names from the raw data\n",
    "# gene_name_unified - obtained by mapping from graph connected components (gene name with the highest number of occurences across all data sets compared to other genes of the the same connected component)\n",
    "\n",
    "# Uniprot - original Uniprot IDs from the raw data\n",
    "# Uniprot_unified - obtained by mapping from graph connected components \n",
    "\n",
    "# gn_from_uniprot - bad, because some studies report unrelated genes as one entry\n",
    "# uniprot_from_gn - bad, because some studies report unrelated genes as one entry\n",
    "\n",
    "# gene_id_final - needed"
   ]
  },
  {
   "cell_type": "code",
   "execution_count": null,
   "metadata": {},
   "outputs": [],
   "source": []
  },
  {
   "cell_type": "code",
   "execution_count": 158,
   "metadata": {},
   "outputs": [
    {
     "data": {
      "text/html": [
       "<div>\n",
       "<style scoped>\n",
       "    .dataframe tbody tr th:only-of-type {\n",
       "        vertical-align: middle;\n",
       "    }\n",
       "\n",
       "    .dataframe tbody tr th {\n",
       "        vertical-align: top;\n",
       "    }\n",
       "\n",
       "    .dataframe thead th {\n",
       "        text-align: right;\n",
       "    }\n",
       "</style>\n",
       "<table border=\"1\" class=\"dataframe\">\n",
       "  <thead>\n",
       "    <tr style=\"text-align: right;\">\n",
       "      <th></th>\n",
       "      <th>ID</th>\n",
       "      <th>ID_type</th>\n",
       "      <th>Uniprot</th>\n",
       "      <th>id_of_organism</th>\n",
       "    </tr>\n",
       "  </thead>\n",
       "  <tbody>\n",
       "    <tr>\n",
       "      <th>0</th>\n",
       "      <td>1433B_MOUSE</td>\n",
       "      <td>UniProtKB-ID</td>\n",
       "      <td>Q9CQV8</td>\n",
       "      <td>mouse</td>\n",
       "    </tr>\n",
       "    <tr>\n",
       "      <th>1</th>\n",
       "      <td>YWHAB</td>\n",
       "      <td>Gene_Name</td>\n",
       "      <td>Q9CQV8</td>\n",
       "      <td>mouse</td>\n",
       "    </tr>\n",
       "    <tr>\n",
       "      <th>2</th>\n",
       "      <td>54401</td>\n",
       "      <td>GeneID</td>\n",
       "      <td>Q9CQV8</td>\n",
       "      <td>mouse</td>\n",
       "    </tr>\n",
       "    <tr>\n",
       "      <th>3</th>\n",
       "      <td>1433E_MOUSE</td>\n",
       "      <td>UniProtKB-ID</td>\n",
       "      <td>P62259</td>\n",
       "      <td>mouse</td>\n",
       "    </tr>\n",
       "    <tr>\n",
       "      <th>4</th>\n",
       "      <td>YWHAE</td>\n",
       "      <td>Gene_Name</td>\n",
       "      <td>P62259</td>\n",
       "      <td>mouse</td>\n",
       "    </tr>\n",
       "  </tbody>\n",
       "</table>\n",
       "</div>"
      ],
      "text/plain": [
       "            ID       ID_type Uniprot id_of_organism\n",
       "0  1433B_MOUSE  UniProtKB-ID  Q9CQV8          mouse\n",
       "1        YWHAB     Gene_Name  Q9CQV8          mouse\n",
       "2        54401        GeneID  Q9CQV8          mouse\n",
       "3  1433E_MOUSE  UniProtKB-ID  P62259          mouse\n",
       "4        YWHAE     Gene_Name  P62259          mouse"
      ]
     },
     "execution_count": 158,
     "metadata": {},
     "output_type": "execute_result"
    }
   ],
   "source": [
    "# Uniprot-to-other IDs mapping. \n",
    "#Data downloaded on 05june2020 is from \n",
    "#ftp://ftp.uniprot.org/pub/databases/uniprot/current_release/knowledgebase/idmapping/\n",
    "# is in /Users/polina/git/bbpMolAtlas/2020/data/ids_mapping_05june2020\n",
    "\n",
    "uniprot_ids_mrh.head()"
   ]
  },
  {
   "cell_type": "code",
   "execution_count": 159,
   "metadata": {},
   "outputs": [
    {
     "data": {
      "text/html": [
       "<div>\n",
       "<style scoped>\n",
       "    .dataframe tbody tr th:only-of-type {\n",
       "        vertical-align: middle;\n",
       "    }\n",
       "\n",
       "    .dataframe tbody tr th {\n",
       "        vertical-align: top;\n",
       "    }\n",
       "\n",
       "    .dataframe thead th {\n",
       "        text-align: right;\n",
       "    }\n",
       "</style>\n",
       "<table border=\"1\" class=\"dataframe\">\n",
       "  <thead>\n",
       "    <tr style=\"text-align: right;\">\n",
       "      <th></th>\n",
       "      <th>ID</th>\n",
       "    </tr>\n",
       "    <tr>\n",
       "      <th>Uniprot</th>\n",
       "      <th></th>\n",
       "    </tr>\n",
       "  </thead>\n",
       "  <tbody>\n",
       "    <tr>\n",
       "      <th>A0A023GRW5</th>\n",
       "      <td>[RT1-N3]</td>\n",
       "    </tr>\n",
       "    <tr>\n",
       "      <th>A0A023HJ61</th>\n",
       "      <td>[RAB4A]</td>\n",
       "    </tr>\n",
       "    <tr>\n",
       "      <th>A0A023I7F4</th>\n",
       "      <td>[CYTB]</td>\n",
       "    </tr>\n",
       "    <tr>\n",
       "      <th>A0A023I7H2</th>\n",
       "      <td>[ND5]</td>\n",
       "    </tr>\n",
       "    <tr>\n",
       "      <th>A0A023I7H5</th>\n",
       "      <td>[ATP6]</td>\n",
       "    </tr>\n",
       "  </tbody>\n",
       "</table>\n",
       "</div>"
      ],
      "text/plain": [
       "                  ID\n",
       "Uniprot             \n",
       "A0A023GRW5  [RT1-N3]\n",
       "A0A023HJ61   [RAB4A]\n",
       "A0A023I7F4    [CYTB]\n",
       "A0A023I7H2     [ND5]\n",
       "A0A023I7H5    [ATP6]"
      ]
     },
     "execution_count": 159,
     "metadata": {},
     "output_type": "execute_result"
    }
   ],
   "source": [
    "# from uniprot_ids_mrh to make dict of lists:\n",
    "\n",
    "#uniprot_gn = uniprot_ids_mrh.loc[uniprot_ids_mrh['ID_type']=='Gene_Name',['Uniprot','ID']].groupby('Uniprot').aggregate(lambda tdf: tdf.unique().tolist())\n",
    "uniprot_gn.head()\n",
    "# uniprot_ids_mrh_dict = pd.Series(uniprot_gn['ID'].values,index=uniprot_gn.index).to_dict()"
   ]
  },
  {
   "cell_type": "code",
   "execution_count": 160,
   "metadata": {},
   "outputs": [
    {
     "data": {
      "text/html": [
       "<div>\n",
       "<style scoped>\n",
       "    .dataframe tbody tr th:only-of-type {\n",
       "        vertical-align: middle;\n",
       "    }\n",
       "\n",
       "    .dataframe tbody tr th {\n",
       "        vertical-align: top;\n",
       "    }\n",
       "\n",
       "    .dataframe thead th {\n",
       "        text-align: right;\n",
       "    }\n",
       "</style>\n",
       "<table border=\"1\" class=\"dataframe\">\n",
       "  <thead>\n",
       "    <tr style=\"text-align: right;\">\n",
       "      <th></th>\n",
       "      <th>Uniprot</th>\n",
       "    </tr>\n",
       "    <tr>\n",
       "      <th>ID</th>\n",
       "      <th></th>\n",
       "    </tr>\n",
       "  </thead>\n",
       "  <tbody>\n",
       "    <tr>\n",
       "      <th>0 BETA-2 GLOBIN</th>\n",
       "      <td>[Q62670]</td>\n",
       "    </tr>\n",
       "    <tr>\n",
       "      <th>0610009B22RIK</th>\n",
       "      <td>[Q8R3W2]</td>\n",
       "    </tr>\n",
       "    <tr>\n",
       "      <th>0610009L18RIK</th>\n",
       "      <td>[Q9CVY3, Q9CWA9]</td>\n",
       "    </tr>\n",
       "    <tr>\n",
       "      <th>0610010F05RIK</th>\n",
       "      <td>[Z4YM60, Z4YN22, Z4YN77, M0QWF3]</td>\n",
       "    </tr>\n",
       "    <tr>\n",
       "      <th>0610010K14RIK</th>\n",
       "      <td>[A2CF83, F6XN97, A2CF80, F8WH46, H3BJI0, D3Z68...</td>\n",
       "    </tr>\n",
       "  </tbody>\n",
       "</table>\n",
       "</div>"
      ],
      "text/plain": [
       "                                                           Uniprot\n",
       "ID                                                                \n",
       "0 BETA-2 GLOBIN                                           [Q62670]\n",
       "0610009B22RIK                                             [Q8R3W2]\n",
       "0610009L18RIK                                     [Q9CVY3, Q9CWA9]\n",
       "0610010F05RIK                     [Z4YM60, Z4YN22, Z4YN77, M0QWF3]\n",
       "0610010K14RIK    [A2CF83, F6XN97, A2CF80, F8WH46, H3BJI0, D3Z68..."
      ]
     },
     "execution_count": 160,
     "metadata": {},
     "output_type": "execute_result"
    }
   ],
   "source": [
    "# from uniprot_ids_mrh make dict of lists:\n",
    "\n",
    "#gn_uniprot = uniprot_ids_mrh.loc[uniprot_ids_mrh['ID_type']=='Gene_Name',['Uniprot','ID']].groupby('ID').aggregate(lambda tdf: tdf.unique().tolist())\n",
    "gn_uniprot.head()\n",
    "# uniprot_gn_mrh_dict =  pd.Series(gn_uniprot['Uniprot'].values,index=gn_uniprot.index).to_dict() "
   ]
  },
  {
   "cell_type": "code",
   "execution_count": null,
   "metadata": {},
   "outputs": [],
   "source": []
  },
  {
   "cell_type": "code",
   "execution_count": 161,
   "metadata": {},
   "outputs": [
    {
     "data": {
      "text/html": [
       "<div>\n",
       "<style scoped>\n",
       "    .dataframe tbody tr th:only-of-type {\n",
       "        vertical-align: middle;\n",
       "    }\n",
       "\n",
       "    .dataframe tbody tr th {\n",
       "        vertical-align: top;\n",
       "    }\n",
       "\n",
       "    .dataframe thead th {\n",
       "        text-align: right;\n",
       "    }\n",
       "</style>\n",
       "<table border=\"1\" class=\"dataframe\">\n",
       "  <thead>\n",
       "    <tr style=\"text-align: right;\">\n",
       "      <th></th>\n",
       "      <th>Entry</th>\n",
       "      <th>Entry name</th>\n",
       "      <th>Status</th>\n",
       "      <th>Protein names</th>\n",
       "      <th>Gene names</th>\n",
       "      <th>Organism</th>\n",
       "      <th>Length</th>\n",
       "      <th>gene_id_entry_name</th>\n",
       "    </tr>\n",
       "  </thead>\n",
       "  <tbody>\n",
       "    <tr>\n",
       "      <th>0</th>\n",
       "      <td>P22071</td>\n",
       "      <td>3BHS1_RAT</td>\n",
       "      <td>reviewed</td>\n",
       "      <td>3 beta-hydroxysteroid dehydrogenase/Delta 5--&gt;...</td>\n",
       "      <td>[HSD3B1]</td>\n",
       "      <td>Rattus norvegicus (Rat)</td>\n",
       "      <td>373</td>\n",
       "      <td>3BHS1</td>\n",
       "    </tr>\n",
       "    <tr>\n",
       "      <th>1</th>\n",
       "      <td>P15650</td>\n",
       "      <td>ACADL_RAT</td>\n",
       "      <td>reviewed</td>\n",
       "      <td>Long-chain specific acyl-CoA dehydrogenase, mi...</td>\n",
       "      <td>[ACADL]</td>\n",
       "      <td>Rattus norvegicus (Rat)</td>\n",
       "      <td>430</td>\n",
       "      <td>ACADL</td>\n",
       "    </tr>\n",
       "    <tr>\n",
       "      <th>2</th>\n",
       "      <td>P07872</td>\n",
       "      <td>ACOX1_RAT</td>\n",
       "      <td>reviewed</td>\n",
       "      <td>Peroxisomal acyl-coenzyme A oxidase 1 (AOX) (E...</td>\n",
       "      <td>[ACOX1, ACOX]</td>\n",
       "      <td>Rattus norvegicus (Rat)</td>\n",
       "      <td>661</td>\n",
       "      <td>ACOX1</td>\n",
       "    </tr>\n",
       "    <tr>\n",
       "      <th>3</th>\n",
       "      <td>Q09137</td>\n",
       "      <td>AAPK2_RAT</td>\n",
       "      <td>reviewed</td>\n",
       "      <td>5'-AMP-activated protein kinase catalytic subu...</td>\n",
       "      <td>[PRKAA2, AMPK, AMPK2]</td>\n",
       "      <td>Rattus norvegicus (Rat)</td>\n",
       "      <td>552</td>\n",
       "      <td>AAPK2</td>\n",
       "    </tr>\n",
       "    <tr>\n",
       "      <th>4</th>\n",
       "      <td>Q64602</td>\n",
       "      <td>AADAT_RAT</td>\n",
       "      <td>reviewed</td>\n",
       "      <td>Kynurenine/alpha-aminoadipate aminotransferase...</td>\n",
       "      <td>[AADAT, KAT2]</td>\n",
       "      <td>Rattus norvegicus (Rat)</td>\n",
       "      <td>425</td>\n",
       "      <td>AADAT</td>\n",
       "    </tr>\n",
       "  </tbody>\n",
       "</table>\n",
       "</div>"
      ],
      "text/plain": [
       "    Entry Entry name    Status  \\\n",
       "0  P22071  3BHS1_RAT  reviewed   \n",
       "1  P15650  ACADL_RAT  reviewed   \n",
       "2  P07872  ACOX1_RAT  reviewed   \n",
       "3  Q09137  AAPK2_RAT  reviewed   \n",
       "4  Q64602  AADAT_RAT  reviewed   \n",
       "\n",
       "                                       Protein names             Gene names  \\\n",
       "0  3 beta-hydroxysteroid dehydrogenase/Delta 5-->...               [HSD3B1]   \n",
       "1  Long-chain specific acyl-CoA dehydrogenase, mi...                [ACADL]   \n",
       "2  Peroxisomal acyl-coenzyme A oxidase 1 (AOX) (E...          [ACOX1, ACOX]   \n",
       "3  5'-AMP-activated protein kinase catalytic subu...  [PRKAA2, AMPK, AMPK2]   \n",
       "4  Kynurenine/alpha-aminoadipate aminotransferase...          [AADAT, KAT2]   \n",
       "\n",
       "                  Organism  Length gene_id_entry_name  \n",
       "0  Rattus norvegicus (Rat)     373              3BHS1  \n",
       "1  Rattus norvegicus (Rat)     430              ACADL  \n",
       "2  Rattus norvegicus (Rat)     661              ACOX1  \n",
       "3  Rattus norvegicus (Rat)     552              AAPK2  \n",
       "4  Rattus norvegicus (Rat)     425              AADAT  "
      ]
     },
     "execution_count": 161,
     "metadata": {},
     "output_type": "execute_result"
    }
   ],
   "source": [
    "# UniprotMainData\n",
    "# Uniprot main data (reviewed), 21july2020\n",
    "\n",
    "#(taxonomy:\"Mus musculus (Mouse) [10090]\" OR taxonomy:\"Rattus norvegicus (Rat) [10116]\" OR taxonomy:\"Homo sapiens (Human) [9606]\") AND reviewed:yes\n",
    "\n",
    "uniprot_rev.head() # reviewed, best\n",
    "\n",
    "# Entry - Uniprot\n",
    "# Entry name - \"AlmostGeneID_Organism\" (almost, because in some cases it's modified gene name)\n",
    "# Gene names -  list of TRUE synonymous gene names\n",
    "# gene_id_entry_name - AlmostGeneID obtained by split(\"-\") from Entry name"
   ]
  },
  {
   "cell_type": "code",
   "execution_count": 164,
   "metadata": {},
   "outputs": [
    {
     "data": {
      "text/html": [
       "<div>\n",
       "<style scoped>\n",
       "    .dataframe tbody tr th:only-of-type {\n",
       "        vertical-align: middle;\n",
       "    }\n",
       "\n",
       "    .dataframe tbody tr th {\n",
       "        vertical-align: top;\n",
       "    }\n",
       "\n",
       "    .dataframe thead th {\n",
       "        text-align: right;\n",
       "    }\n",
       "</style>\n",
       "<table border=\"1\" class=\"dataframe\">\n",
       "  <thead>\n",
       "    <tr style=\"text-align: right;\">\n",
       "      <th></th>\n",
       "      <th>Entry</th>\n",
       "      <th>Entry name</th>\n",
       "      <th>Status</th>\n",
       "      <th>Protein names</th>\n",
       "      <th>Gene names</th>\n",
       "      <th>Organism</th>\n",
       "      <th>Length</th>\n",
       "      <th>gene_id_entry_name</th>\n",
       "    </tr>\n",
       "  </thead>\n",
       "  <tbody>\n",
       "    <tr>\n",
       "      <th>0</th>\n",
       "      <td>D3ZMG0</td>\n",
       "      <td>D3ZMG0_RAT</td>\n",
       "      <td>unreviewed</td>\n",
       "      <td>Serine/threonine-protein kinase (EC 2.7.11.1)</td>\n",
       "      <td>[ULK1, ULK1_MAPPED, RCG_21843]</td>\n",
       "      <td>Rattus norvegicus (Rat)</td>\n",
       "      <td>1051</td>\n",
       "      <td>D3ZMG0</td>\n",
       "    </tr>\n",
       "    <tr>\n",
       "      <th>1</th>\n",
       "      <td>A0A0G2K5E4</td>\n",
       "      <td>A0A0G2K5E4_RAT</td>\n",
       "      <td>unreviewed</td>\n",
       "      <td>DnaJ heat shock protein family (Hsp40) member ...</td>\n",
       "      <td>[DNAJA3, RCG_49803]</td>\n",
       "      <td>Rattus norvegicus (Rat)</td>\n",
       "      <td>480</td>\n",
       "      <td>A0A0G2K5E4</td>\n",
       "    </tr>\n",
       "    <tr>\n",
       "      <th>2</th>\n",
       "      <td>G3V6B1</td>\n",
       "      <td>G3V6B1_RAT</td>\n",
       "      <td>unreviewed</td>\n",
       "      <td>Transforming growth factor beta</td>\n",
       "      <td>[TGFB2, RCG_20076]</td>\n",
       "      <td>Rattus norvegicus (Rat)</td>\n",
       "      <td>442</td>\n",
       "      <td>G3V6B1</td>\n",
       "    </tr>\n",
       "    <tr>\n",
       "      <th>3</th>\n",
       "      <td>D3Z9Z0</td>\n",
       "      <td>D3Z9Z0_RAT</td>\n",
       "      <td>unreviewed</td>\n",
       "      <td>Ankyrin 1 (Ankyrin 1, erythroid)</td>\n",
       "      <td>[ANK1, RCG_43073]</td>\n",
       "      <td>Rattus norvegicus (Rat)</td>\n",
       "      <td>1707</td>\n",
       "      <td>D3Z9Z0</td>\n",
       "    </tr>\n",
       "    <tr>\n",
       "      <th>4</th>\n",
       "      <td>F1M670</td>\n",
       "      <td>F1M670_RAT</td>\n",
       "      <td>unreviewed</td>\n",
       "      <td>Formyl peptide receptor 2</td>\n",
       "      <td>[FPR2]</td>\n",
       "      <td>Rattus norvegicus (Rat)</td>\n",
       "      <td>351</td>\n",
       "      <td>F1M670</td>\n",
       "    </tr>\n",
       "  </tbody>\n",
       "</table>\n",
       "</div>"
      ],
      "text/plain": [
       "        Entry      Entry name      Status  \\\n",
       "0      D3ZMG0      D3ZMG0_RAT  unreviewed   \n",
       "1  A0A0G2K5E4  A0A0G2K5E4_RAT  unreviewed   \n",
       "2      G3V6B1      G3V6B1_RAT  unreviewed   \n",
       "3      D3Z9Z0      D3Z9Z0_RAT  unreviewed   \n",
       "4      F1M670      F1M670_RAT  unreviewed   \n",
       "\n",
       "                                       Protein names  \\\n",
       "0      Serine/threonine-protein kinase (EC 2.7.11.1)   \n",
       "1  DnaJ heat shock protein family (Hsp40) member ...   \n",
       "2                    Transforming growth factor beta   \n",
       "3                   Ankyrin 1 (Ankyrin 1, erythroid)   \n",
       "4                          Formyl peptide receptor 2   \n",
       "\n",
       "                       Gene names                 Organism  Length  \\\n",
       "0  [ULK1, ULK1_MAPPED, RCG_21843]  Rattus norvegicus (Rat)    1051   \n",
       "1             [DNAJA3, RCG_49803]  Rattus norvegicus (Rat)     480   \n",
       "2              [TGFB2, RCG_20076]  Rattus norvegicus (Rat)     442   \n",
       "3               [ANK1, RCG_43073]  Rattus norvegicus (Rat)    1707   \n",
       "4                          [FPR2]  Rattus norvegicus (Rat)     351   \n",
       "\n",
       "  gene_id_entry_name  \n",
       "0             D3ZMG0  \n",
       "1         A0A0G2K5E4  \n",
       "2             G3V6B1  \n",
       "3             D3Z9Z0  \n",
       "4             F1M670  "
      ]
     },
     "execution_count": 164,
     "metadata": {},
     "output_type": "execute_result"
    }
   ],
   "source": [
    "# UniprotMainData_2\n",
    "# Uniprot main data 2 (unreviewed), 21july2020\n",
    "\n",
    "#(taxonomy:\"Mus musculus (Mouse) [10090]\" OR taxonomy:\"Rattus norvegicus (Rat) [10116]\" OR taxonomy:\"Homo sapiens (Human) [9606]\") AND reviewed:no\n",
    "\n",
    "\n",
    "uniprot_unrev.head() # unreviewed\n",
    "\n",
    "# Entry - Uniprot\n",
    "# Entry name - \"AlmostGeneID_Organism\" (almost, because in some cases it's modified gene name)\n",
    "# Gene names -  list of TRUE synonymous gene names\n",
    "# gene_id_entry_name - AlmostGeneID obtained by split(\"-\") from Entry name"
   ]
  },
  {
   "cell_type": "code",
   "execution_count": 165,
   "metadata": {},
   "outputs": [],
   "source": [
    "# from  Uniprot main data\n",
    "\n",
    "#uniprot_rev_dict = pd.Series(uniprot_rev['Gene names'].values,index=uniprot_rev['Entry']).to_dict() \n",
    "#uniprot_unrev_dict = pd.Series(uniprot_unrev['Gene names'].values,index=uniprot_unrev['Entry']).to_dict() \n",
    "\n",
    "#uniprot_rev_genes = list(set([item for sublist in uniprot_rev['Gene names'].tolist() for item in sublist]))\n",
    "\n",
    "#uniprot_unrev_genes = list(set([item for sublist in uniprot_unrev['Gene names'].tolist() for item in sublist]))"
   ]
  },
  {
   "cell_type": "code",
   "execution_count": 166,
   "metadata": {},
   "outputs": [
    {
     "data": {
      "text/html": [
       "<div>\n",
       "<style scoped>\n",
       "    .dataframe tbody tr th:only-of-type {\n",
       "        vertical-align: middle;\n",
       "    }\n",
       "\n",
       "    .dataframe tbody tr th {\n",
       "        vertical-align: top;\n",
       "    }\n",
       "\n",
       "    .dataframe thead th {\n",
       "        text-align: right;\n",
       "    }\n",
       "</style>\n",
       "<table border=\"1\" class=\"dataframe\">\n",
       "  <thead>\n",
       "    <tr style=\"text-align: right;\">\n",
       "      <th></th>\n",
       "      <th>Entry</th>\n",
       "      <th>Entry name</th>\n",
       "      <th>Status</th>\n",
       "      <th>Protein names</th>\n",
       "      <th>Gene names</th>\n",
       "      <th>Organism</th>\n",
       "      <th>Length</th>\n",
       "      <th>gene_id_entry_name</th>\n",
       "    </tr>\n",
       "  </thead>\n",
       "  <tbody>\n",
       "    <tr>\n",
       "      <th>0</th>\n",
       "      <td>P22071</td>\n",
       "      <td>3BHS1_RAT</td>\n",
       "      <td>reviewed</td>\n",
       "      <td>3 beta-hydroxysteroid dehydrogenase/Delta 5--&gt;...</td>\n",
       "      <td>[HSD3B1]</td>\n",
       "      <td>Rattus norvegicus (Rat)</td>\n",
       "      <td>373</td>\n",
       "      <td>3BHS1</td>\n",
       "    </tr>\n",
       "    <tr>\n",
       "      <th>1</th>\n",
       "      <td>P15650</td>\n",
       "      <td>ACADL_RAT</td>\n",
       "      <td>reviewed</td>\n",
       "      <td>Long-chain specific acyl-CoA dehydrogenase, mi...</td>\n",
       "      <td>[ACADL]</td>\n",
       "      <td>Rattus norvegicus (Rat)</td>\n",
       "      <td>430</td>\n",
       "      <td>ACADL</td>\n",
       "    </tr>\n",
       "    <tr>\n",
       "      <th>2</th>\n",
       "      <td>P07872</td>\n",
       "      <td>ACOX1_RAT</td>\n",
       "      <td>reviewed</td>\n",
       "      <td>Peroxisomal acyl-coenzyme A oxidase 1 (AOX) (E...</td>\n",
       "      <td>[ACOX1, ACOX]</td>\n",
       "      <td>Rattus norvegicus (Rat)</td>\n",
       "      <td>661</td>\n",
       "      <td>ACOX1</td>\n",
       "    </tr>\n",
       "    <tr>\n",
       "      <th>3</th>\n",
       "      <td>Q09137</td>\n",
       "      <td>AAPK2_RAT</td>\n",
       "      <td>reviewed</td>\n",
       "      <td>5'-AMP-activated protein kinase catalytic subu...</td>\n",
       "      <td>[PRKAA2, AMPK, AMPK2]</td>\n",
       "      <td>Rattus norvegicus (Rat)</td>\n",
       "      <td>552</td>\n",
       "      <td>AAPK2</td>\n",
       "    </tr>\n",
       "    <tr>\n",
       "      <th>4</th>\n",
       "      <td>Q64602</td>\n",
       "      <td>AADAT_RAT</td>\n",
       "      <td>reviewed</td>\n",
       "      <td>Kynurenine/alpha-aminoadipate aminotransferase...</td>\n",
       "      <td>[AADAT, KAT2]</td>\n",
       "      <td>Rattus norvegicus (Rat)</td>\n",
       "      <td>425</td>\n",
       "      <td>AADAT</td>\n",
       "    </tr>\n",
       "  </tbody>\n",
       "</table>\n",
       "</div>"
      ],
      "text/plain": [
       "    Entry Entry name    Status  \\\n",
       "0  P22071  3BHS1_RAT  reviewed   \n",
       "1  P15650  ACADL_RAT  reviewed   \n",
       "2  P07872  ACOX1_RAT  reviewed   \n",
       "3  Q09137  AAPK2_RAT  reviewed   \n",
       "4  Q64602  AADAT_RAT  reviewed   \n",
       "\n",
       "                                       Protein names             Gene names  \\\n",
       "0  3 beta-hydroxysteroid dehydrogenase/Delta 5-->...               [HSD3B1]   \n",
       "1  Long-chain specific acyl-CoA dehydrogenase, mi...                [ACADL]   \n",
       "2  Peroxisomal acyl-coenzyme A oxidase 1 (AOX) (E...          [ACOX1, ACOX]   \n",
       "3  5'-AMP-activated protein kinase catalytic subu...  [PRKAA2, AMPK, AMPK2]   \n",
       "4  Kynurenine/alpha-aminoadipate aminotransferase...          [AADAT, KAT2]   \n",
       "\n",
       "                  Organism  Length gene_id_entry_name  \n",
       "0  Rattus norvegicus (Rat)     373              3BHS1  \n",
       "1  Rattus norvegicus (Rat)     430              ACADL  \n",
       "2  Rattus norvegicus (Rat)     661              ACOX1  \n",
       "3  Rattus norvegicus (Rat)     552              AAPK2  \n",
       "4  Rattus norvegicus (Rat)     425              AADAT  "
      ]
     },
     "execution_count": 166,
     "metadata": {},
     "output_type": "execute_result"
    }
   ],
   "source": [
    "uniprot_rev.head()"
   ]
  },
  {
   "cell_type": "code",
   "execution_count": 167,
   "metadata": {},
   "outputs": [],
   "source": [
    "#uniprot_rev.loc[uniprot_rev['Organism'].str.contains('Mus')].head()"
   ]
  },
  {
   "cell_type": "code",
   "execution_count": 168,
   "metadata": {},
   "outputs": [
    {
     "data": {
      "text/html": [
       "<div>\n",
       "<style scoped>\n",
       "    .dataframe tbody tr th:only-of-type {\n",
       "        vertical-align: middle;\n",
       "    }\n",
       "\n",
       "    .dataframe tbody tr th {\n",
       "        vertical-align: top;\n",
       "    }\n",
       "\n",
       "    .dataframe thead th {\n",
       "        text-align: right;\n",
       "    }\n",
       "</style>\n",
       "<table border=\"1\" class=\"dataframe\">\n",
       "  <thead>\n",
       "    <tr style=\"text-align: right;\">\n",
       "      <th></th>\n",
       "      <th>gene_names</th>\n",
       "      <th>gene_name_unified</th>\n",
       "      <th>Uniprot</th>\n",
       "      <th>Uniprot_unified</th>\n",
       "      <th>gn_from_uniprot</th>\n",
       "      <th>uniprot_from_gn</th>\n",
       "    </tr>\n",
       "  </thead>\n",
       "  <tbody>\n",
       "    <tr>\n",
       "      <th>0</th>\n",
       "      <td>H2-KE6;HSD17B8</td>\n",
       "      <td>HSD17B8</td>\n",
       "      <td>A0A068BEQ2;P50171;G3UX44</td>\n",
       "      <td>P50171</td>\n",
       "      <td>[HSD17B8]</td>\n",
       "      <td>[P50171, Q6MGB5, Q5BJM1, A0A0G2JV82, A0A0G2K6P...</td>\n",
       "    </tr>\n",
       "    <tr>\n",
       "      <th>1</th>\n",
       "      <td>RAB11B;RAB11A</td>\n",
       "      <td>RAB11B</td>\n",
       "      <td>Q78ZJ8;A0A068BFR3;P46638;G3UY29;E9Q3P9;F8WGS1;...</td>\n",
       "      <td>P46638</td>\n",
       "      <td>[RAB11B]</td>\n",
       "      <td>[P46638, Q78ZJ8, G3UY29, G3UZL4, G3UZD3, A0A06...</td>\n",
       "    </tr>\n",
       "    <tr>\n",
       "      <th>2</th>\n",
       "      <td>RAB11B;RAB11A</td>\n",
       "      <td>RAB11B</td>\n",
       "      <td>Q78ZJ8;A0A068BFR3;P46638;G3UY29;E9Q3P9;F8WGS1;...</td>\n",
       "      <td>P46638</td>\n",
       "      <td>[RAB11B]</td>\n",
       "      <td>[P46638, Q78ZJ8, G3UY29, G3UZL4, G3UZD3, A0A06...</td>\n",
       "    </tr>\n",
       "    <tr>\n",
       "      <th>3</th>\n",
       "      <td>RAB11B;RAB11A</td>\n",
       "      <td>RAB11B</td>\n",
       "      <td>P46638</td>\n",
       "      <td>P46638</td>\n",
       "      <td>[RAB11B]</td>\n",
       "      <td>[P46638, Q78ZJ8, G3UY29, G3UZL4, G3UZD3, A0A06...</td>\n",
       "    </tr>\n",
       "    <tr>\n",
       "      <th>4</th>\n",
       "      <td>RAB11B;RAB11A</td>\n",
       "      <td>RAB11B</td>\n",
       "      <td>Q78ZJ8;P46638;G3UY29;E9Q3P9;F8WGS1;Q0PD45;P624...</td>\n",
       "      <td>P46638</td>\n",
       "      <td>[RAB11B]</td>\n",
       "      <td>[P46638, Q78ZJ8, G3UY29, G3UZL4, G3UZD3, A0A06...</td>\n",
       "    </tr>\n",
       "  </tbody>\n",
       "</table>\n",
       "</div>"
      ],
      "text/plain": [
       "       gene_names gene_name_unified  \\\n",
       "0  H2-KE6;HSD17B8           HSD17B8   \n",
       "1   RAB11B;RAB11A            RAB11B   \n",
       "2   RAB11B;RAB11A            RAB11B   \n",
       "3   RAB11B;RAB11A            RAB11B   \n",
       "4   RAB11B;RAB11A            RAB11B   \n",
       "\n",
       "                                             Uniprot Uniprot_unified  \\\n",
       "0                           A0A068BEQ2;P50171;G3UX44          P50171   \n",
       "1  Q78ZJ8;A0A068BFR3;P46638;G3UY29;E9Q3P9;F8WGS1;...          P46638   \n",
       "2  Q78ZJ8;A0A068BFR3;P46638;G3UY29;E9Q3P9;F8WGS1;...          P46638   \n",
       "3                                             P46638          P46638   \n",
       "4  Q78ZJ8;P46638;G3UY29;E9Q3P9;F8WGS1;Q0PD45;P624...          P46638   \n",
       "\n",
       "  gn_from_uniprot                                    uniprot_from_gn  \n",
       "0       [HSD17B8]  [P50171, Q6MGB5, Q5BJM1, A0A0G2JV82, A0A0G2K6P...  \n",
       "1        [RAB11B]  [P46638, Q78ZJ8, G3UY29, G3UZL4, G3UZD3, A0A06...  \n",
       "2        [RAB11B]  [P46638, Q78ZJ8, G3UY29, G3UZL4, G3UZD3, A0A06...  \n",
       "3        [RAB11B]  [P46638, Q78ZJ8, G3UY29, G3UZL4, G3UZD3, A0A06...  \n",
       "4        [RAB11B]  [P46638, Q78ZJ8, G3UY29, G3UZL4, G3UZD3, A0A06...  "
      ]
     },
     "execution_count": 168,
     "metadata": {},
     "output_type": "execute_result"
    }
   ],
   "source": [
    "df_fgn.head()"
   ]
  },
  {
   "cell_type": "code",
   "execution_count": 169,
   "metadata": {},
   "outputs": [
    {
     "data": {
      "text/html": [
       "<div>\n",
       "<style scoped>\n",
       "    .dataframe tbody tr th:only-of-type {\n",
       "        vertical-align: middle;\n",
       "    }\n",
       "\n",
       "    .dataframe tbody tr th {\n",
       "        vertical-align: top;\n",
       "    }\n",
       "\n",
       "    .dataframe thead th {\n",
       "        text-align: right;\n",
       "    }\n",
       "</style>\n",
       "<table border=\"1\" class=\"dataframe\">\n",
       "  <thead>\n",
       "    <tr style=\"text-align: right;\">\n",
       "      <th></th>\n",
       "      <th>Study</th>\n",
       "    </tr>\n",
       "    <tr>\n",
       "      <th>gene_names</th>\n",
       "      <th></th>\n",
       "    </tr>\n",
       "  </thead>\n",
       "  <tbody>\n",
       "    <tr>\n",
       "      <th></th>\n",
       "      <td>11</td>\n",
       "    </tr>\n",
       "    <tr>\n",
       "      <th>0610007P14RIK</th>\n",
       "      <td>6</td>\n",
       "    </tr>\n",
       "    <tr>\n",
       "      <th>0610007P22RIK</th>\n",
       "      <td>1</td>\n",
       "    </tr>\n",
       "    <tr>\n",
       "      <th>0610009B22RIK</th>\n",
       "      <td>2</td>\n",
       "    </tr>\n",
       "    <tr>\n",
       "      <th>0610010F05RIK</th>\n",
       "      <td>3</td>\n",
       "    </tr>\n",
       "  </tbody>\n",
       "</table>\n",
       "</div>"
      ],
      "text/plain": [
       "               Study\n",
       "gene_names          \n",
       "                  11\n",
       "0610007P14RIK      6\n",
       "0610007P22RIK      1\n",
       "0610009B22RIK      2\n",
       "0610010F05RIK      3"
      ]
     },
     "execution_count": 169,
     "metadata": {},
     "output_type": "execute_result"
    }
   ],
   "source": [
    "# from df_fgn\n",
    "\n",
    "# gene_names.split(\";\") count\n",
    "\n",
    "#df_fgn['gene_names'] = df_fgn['gene_names'].replace(None,np.nan)\n",
    "\n",
    "df_fgn_gnstudy = df_all.loc[~(df_all['gene_names'].isna()),['gene_names','Study']].copy()\n",
    "\n",
    "df_fgn_gnstudy = df_fgn_gnstudy.drop_duplicates(keep='first')\n",
    "df_fgn_gnstudy = df_fgn_gnstudy.reset_index(drop=True)\n",
    "\n",
    "s = df_fgn_gnstudy['gene_names'].str.split(';').apply(pd.Series, 1).stack() #.str.replace(\" \", \"\")\n",
    "s.index = s.index.droplevel(-1) # to line up with df's index\n",
    "s.name = 'gene_names' # needs a name to join\n",
    "del df_fgn_gnstudy['gene_names']\n",
    "\n",
    "df_fgn_gnstudy = df_fgn_gnstudy.join(s)\n",
    "\n",
    "gn_study_count = df_fgn_gnstudy.groupby('gene_names').count()\n",
    "gn_study_count.head()"
   ]
  },
  {
   "cell_type": "code",
   "execution_count": 170,
   "metadata": {},
   "outputs": [
    {
     "name": "stdout",
     "output_type": "stream",
     "text": [
      "16743\n",
      "16742\n"
     ]
    }
   ],
   "source": [
    "print(len(gn_study_count))\n",
    "gn_study_count = gn_study_count.loc[gn_study_count.index!='',:]\n",
    "print(len(gn_study_count))"
   ]
  },
  {
   "cell_type": "code",
   "execution_count": 171,
   "metadata": {},
   "outputs": [
    {
     "data": {
      "text/plain": [
       "Index(['0610007P14RIK', '0610007P22RIK', '0610009B22RIK', '0610010F05RIK',\n",
       "       '0610010K14RIK', '0610010O12RIK', '0610011F06RIK', '0610031J06RIK',\n",
       "       '0610037L13RIK', '1110001A16RIK',\n",
       "       ...\n",
       "       'ZSWIM3', 'ZSWIM8', 'ZUBR1', 'ZW10', 'ZWILCH', 'ZWINT', 'ZYG11B', 'ZYX',\n",
       "       'ZZEF1', 'ZZZ3'],\n",
       "      dtype='object', name='gene_names', length=16742)"
      ]
     },
     "execution_count": 171,
     "metadata": {},
     "output_type": "execute_result"
    }
   ],
   "source": [
    "gn_study_count.index"
   ]
  },
  {
   "cell_type": "code",
   "execution_count": 172,
   "metadata": {},
   "outputs": [],
   "source": [
    "gn_study_count_dict = pd.Series(gn_study_count['Study'].values,index=gn_study_count.index).to_dict() "
   ]
  },
  {
   "cell_type": "code",
   "execution_count": 173,
   "metadata": {},
   "outputs": [
    {
     "data": {
      "text/plain": [
       "16742"
      ]
     },
     "execution_count": 173,
     "metadata": {},
     "output_type": "execute_result"
    }
   ],
   "source": [
    "len(gn_study_count_dict) #16742"
   ]
  },
  {
   "cell_type": "code",
   "execution_count": null,
   "metadata": {},
   "outputs": [],
   "source": []
  },
  {
   "cell_type": "markdown",
   "metadata": {},
   "source": [
    "# Needed"
   ]
  },
  {
   "cell_type": "code",
   "execution_count": null,
   "metadata": {},
   "outputs": [],
   "source": [
    "#df_fgn['gene_id_final']\n",
    "\n",
    "# and subsequently mapped:\n",
    "\n",
    "#df_all['gene_id_final']"
   ]
  },
  {
   "cell_type": "markdown",
   "metadata": {},
   "source": [
    "In **df_fgn**:\n",
    "\n",
    "1) **gene_name_unified** == **gene_names**    -->    **gene_id_final** = **gene_names** == **gene_name_unified**\n",
    "\n",
    "2) multiple gene names per entry (i.e. **\";\"** in **gene_names**) and **gene_name_unified** in **gene_names.split(\";\")**    -->     **gene_id_final** = **gene_name_unified** \n",
    "\n",
    "3) **gene_name_unified** not in **gene_names**.split(\";\") \n",
    "\n",
    "- I look at **Uniprot** of this entry. \n",
    "\n",
    "**Uniprot**.split(\";\")\n",
    "\n",
    "- IF **gene_name_unified** or any of **gene_names**.split(\";\") for given entry are in the values of Uniprot-GN dictionaries (**uniprot_rev_dict, uniprot_unrev_dict, ?uniprot_gn**) for given list of **Uniprot**.split(\";\") IDs of this entry, \n",
    "I either set **gene_id_final** to the found gene name if there is only one match, \n",
    "OR inspect this entry visually. \n",
    "\n",
    "IF one **Uniprot**.split(\";\") ID found in Reviewed dictionary and another one is found in Unrevied dictionary, I set **gene_id_final** according to reviewed dictionary.\n",
    "\n",
    "\n",
    "4) For entries in the raw data (**df_fgn**) which have only **Uniprot** IDs and don't have **gene_names** neither **gene_name_unified**: \n",
    "I get corresponding gene names using Uniprot-GN dictionaries (**uniprot_rev_dict, uniprot_unrev_dict, uniprot_gn**),\n",
    "and IF there are multiple gene names, I check which one/ones are in list of all GN from **df_fgn[gene_names].split(\";\")**  \n",
    "and IF it's only one, then I set final gene name as this gene name, \n",
    "and IF there are many, I inspect visually this entry.\n",
    "\n",
    "\n",
    "Potentially in some cases **df_fgn[gn_from_uniprot]** and **df_fgn[uniprot_from_gn]** can help in the future\n"
   ]
  },
  {
   "cell_type": "code",
   "execution_count": null,
   "metadata": {},
   "outputs": [],
   "source": []
  },
  {
   "cell_type": "code",
   "execution_count": 194,
   "metadata": {},
   "outputs": [],
   "source": [
    "#df_fgn = df_fgn.drop(columns='gene_id_final')\n",
    "df_fgn = df_fgn.reset_index(drop=True)\n",
    "\n",
    "df_fgn['gene_id_final'] =  None\n",
    "\n",
    "for index,row in df_fgn.iterrows():\n",
    "    #print(index)\n",
    "    df_fgn.loc[index,'gene_id_final'] = get_gene_id_final(index,row,uniprot_rev_dict,uniprot_unrev_dict,uniprot_ids_mrh_dict,gn_study_count_dict)"
   ]
  },
  {
   "cell_type": "code",
   "execution_count": 195,
   "metadata": {},
   "outputs": [
    {
     "data": {
      "text/plain": [
       "87028"
      ]
     },
     "execution_count": 195,
     "metadata": {},
     "output_type": "execute_result"
    }
   ],
   "source": [
    "len(df_fgn)"
   ]
  },
  {
   "cell_type": "code",
   "execution_count": 196,
   "metadata": {},
   "outputs": [
    {
     "data": {
      "text/plain": [
       "14841"
      ]
     },
     "execution_count": 196,
     "metadata": {},
     "output_type": "execute_result"
    }
   ],
   "source": [
    "len(df_fgn['gene_id_final'].unique()) # 14841"
   ]
  },
  {
   "cell_type": "code",
   "execution_count": 197,
   "metadata": {},
   "outputs": [
    {
     "data": {
      "text/plain": [
       "355"
      ]
     },
     "execution_count": 197,
     "metadata": {},
     "output_type": "execute_result"
    }
   ],
   "source": [
    "len(df_fgn.loc[df_fgn['gene_id_final'].isna()]) "
   ]
  },
  {
   "cell_type": "code",
   "execution_count": 198,
   "metadata": {},
   "outputs": [
    {
     "data": {
      "text/html": [
       "<div>\n",
       "<style scoped>\n",
       "    .dataframe tbody tr th:only-of-type {\n",
       "        vertical-align: middle;\n",
       "    }\n",
       "\n",
       "    .dataframe tbody tr th {\n",
       "        vertical-align: top;\n",
       "    }\n",
       "\n",
       "    .dataframe thead th {\n",
       "        text-align: right;\n",
       "    }\n",
       "</style>\n",
       "<table border=\"1\" class=\"dataframe\">\n",
       "  <thead>\n",
       "    <tr style=\"text-align: right;\">\n",
       "      <th></th>\n",
       "      <th>gene_names</th>\n",
       "      <th>gene_name_unified</th>\n",
       "      <th>Uniprot</th>\n",
       "      <th>Uniprot_unified</th>\n",
       "      <th>gn_from_uniprot</th>\n",
       "      <th>uniprot_from_gn</th>\n",
       "      <th>gene_id_final</th>\n",
       "    </tr>\n",
       "  </thead>\n",
       "  <tbody>\n",
       "    <tr>\n",
       "      <th>4744</th>\n",
       "      <td>NaN</td>\n",
       "      <td>None</td>\n",
       "      <td>D3Z7R4</td>\n",
       "      <td>D3Z7R4</td>\n",
       "      <td>NoMapping</td>\n",
       "      <td>NoMapping</td>\n",
       "      <td>None</td>\n",
       "    </tr>\n",
       "    <tr>\n",
       "      <th>10783</th>\n",
       "      <td>NaN</td>\n",
       "      <td>None</td>\n",
       "      <td>Q6PIU9</td>\n",
       "      <td>Q6PIU9</td>\n",
       "      <td>NoMapping</td>\n",
       "      <td>NoMapping</td>\n",
       "      <td>None</td>\n",
       "    </tr>\n",
       "    <tr>\n",
       "      <th>15573</th>\n",
       "      <td>NaN</td>\n",
       "      <td>None</td>\n",
       "      <td>E9PZA8</td>\n",
       "      <td>Q9R0N7</td>\n",
       "      <td>[SYT7]</td>\n",
       "      <td>NoMapping</td>\n",
       "      <td>None</td>\n",
       "    </tr>\n",
       "    <tr>\n",
       "      <th>15584</th>\n",
       "      <td>NaN</td>\n",
       "      <td>None</td>\n",
       "      <td>Q8CF96</td>\n",
       "      <td>Q9R0N7</td>\n",
       "      <td>[SYT7]</td>\n",
       "      <td>NoMapping</td>\n",
       "      <td>None</td>\n",
       "    </tr>\n",
       "    <tr>\n",
       "      <th>15885</th>\n",
       "      <td>NaN</td>\n",
       "      <td>None</td>\n",
       "      <td>S4R2H6</td>\n",
       "      <td>Q8C8R3</td>\n",
       "      <td>[ANK2]</td>\n",
       "      <td>NoMapping</td>\n",
       "      <td>None</td>\n",
       "    </tr>\n",
       "  </tbody>\n",
       "</table>\n",
       "</div>"
      ],
      "text/plain": [
       "      gene_names gene_name_unified Uniprot Uniprot_unified gn_from_uniprot  \\\n",
       "4744         NaN              None  D3Z7R4          D3Z7R4       NoMapping   \n",
       "10783        NaN              None  Q6PIU9          Q6PIU9       NoMapping   \n",
       "15573        NaN              None  E9PZA8          Q9R0N7          [SYT7]   \n",
       "15584        NaN              None  Q8CF96          Q9R0N7          [SYT7]   \n",
       "15885        NaN              None  S4R2H6          Q8C8R3          [ANK2]   \n",
       "\n",
       "      uniprot_from_gn gene_id_final  \n",
       "4744        NoMapping          None  \n",
       "10783       NoMapping          None  \n",
       "15573       NoMapping          None  \n",
       "15584       NoMapping          None  \n",
       "15885       NoMapping          None  "
      ]
     },
     "execution_count": 198,
     "metadata": {},
     "output_type": "execute_result"
    }
   ],
   "source": [
    "df_fgn.loc[df_fgn['gene_id_final'].isna()].head()"
   ]
  },
  {
   "cell_type": "code",
   "execution_count": 199,
   "metadata": {},
   "outputs": [
    {
     "data": {
      "text/plain": [
       "355"
      ]
     },
     "execution_count": 199,
     "metadata": {},
     "output_type": "execute_result"
    }
   ],
   "source": [
    "len(df_fgn.loc[(df_fgn['gene_id_final'].isna()) & (df_fgn['gene_names'].isna())]) # -> drop these entries no GN found by Uniprot  "
   ]
  },
  {
   "cell_type": "code",
   "execution_count": null,
   "metadata": {},
   "outputs": [],
   "source": []
  },
  {
   "cell_type": "code",
   "execution_count": 200,
   "metadata": {},
   "outputs": [
    {
     "name": "stdout",
     "output_type": "stream",
     "text": [
      "87028\n",
      "86673\n"
     ]
    }
   ],
   "source": [
    "print(len(df_fgn))\n",
    "\n",
    "df_fgn = df_fgn.loc[~(  (df_fgn['gene_id_final'].isna()) & (df_fgn['gene_names'].isna())  )]\n",
    "\n",
    "print(len(df_fgn))"
   ]
  },
  {
   "cell_type": "code",
   "execution_count": 201,
   "metadata": {},
   "outputs": [
    {
     "data": {
      "text/html": [
       "<div>\n",
       "<style scoped>\n",
       "    .dataframe tbody tr th:only-of-type {\n",
       "        vertical-align: middle;\n",
       "    }\n",
       "\n",
       "    .dataframe tbody tr th {\n",
       "        vertical-align: top;\n",
       "    }\n",
       "\n",
       "    .dataframe thead th {\n",
       "        text-align: right;\n",
       "    }\n",
       "</style>\n",
       "<table border=\"1\" class=\"dataframe\">\n",
       "  <thead>\n",
       "    <tr style=\"text-align: right;\">\n",
       "      <th></th>\n",
       "      <th>gene_names</th>\n",
       "      <th>gene_name_unified</th>\n",
       "      <th>Uniprot</th>\n",
       "      <th>Uniprot_unified</th>\n",
       "      <th>gn_from_uniprot</th>\n",
       "      <th>uniprot_from_gn</th>\n",
       "      <th>gene_id_final</th>\n",
       "    </tr>\n",
       "  </thead>\n",
       "  <tbody>\n",
       "  </tbody>\n",
       "</table>\n",
       "</div>"
      ],
      "text/plain": [
       "Empty DataFrame\n",
       "Columns: [gene_names, gene_name_unified, Uniprot, Uniprot_unified, gn_from_uniprot, uniprot_from_gn, gene_id_final]\n",
       "Index: []"
      ]
     },
     "execution_count": 201,
     "metadata": {},
     "output_type": "execute_result"
    }
   ],
   "source": [
    "df_fgn.loc[df_fgn['gene_id_final'].isna()].head()"
   ]
  },
  {
   "cell_type": "code",
   "execution_count": null,
   "metadata": {},
   "outputs": [],
   "source": [
    "# depending on the goal, this can be useful in some cases\n",
    "\n",
    "#print(len(df_fgn.loc[(df_fgn['gene_id_final'].isna()) & (~df_fgn['gene_names'].isna())]))\n",
    "#df_fgn.loc[(df_fgn['gene_id_final'].isna()) & (~df_fgn['gene_names'].isna())].head() # -> set gn_final to original gene name\n",
    "\n",
    "#df_fgn.loc[(df_fgn['gene_id_final'].isna()) & (~df_fgn['gene_names'].isna()),'gene_id_final'] = df_fgn.loc[(df_fgn['gene_id_final'].isna()) & (~df_fgn['gene_names'].isna()),'gene_names'].copy()"
   ]
  },
  {
   "cell_type": "code",
   "execution_count": 202,
   "metadata": {},
   "outputs": [],
   "source": [
    "with open('../data/2_df_fgn_9may2021.pkl','wb') as f:\n",
    "    pkl.dump(df_fgn,f)"
   ]
  },
  {
   "cell_type": "code",
   "execution_count": 203,
   "metadata": {},
   "outputs": [
    {
     "name": "stdout",
     "output_type": "stream",
     "text": [
      "0\n",
      "33\n",
      "0\n",
      "83\n",
      "86673\n"
     ]
    }
   ],
   "source": [
    "print(len(df_fgn.loc[df_fgn['gene_id_final'].str.contains('#')]))\n",
    "\n",
    "print(len(df_fgn.loc[df_fgn['gene_id_final'].str.contains(';')]))\n",
    "print(len(df_fgn.loc[df_fgn['gene_id_final'].str.contains('&')]))\n",
    "\n",
    "print(len(df_fgn.loc[df_fgn['gene_id_final'].str.contains('@')]))\n",
    "\n",
    "print(len(df_fgn))\n"
   ]
  },
  {
   "cell_type": "code",
   "execution_count": 204,
   "metadata": {},
   "outputs": [],
   "source": [
    "df_fgn = df_fgn.reset_index(drop=True)"
   ]
  },
  {
   "cell_type": "code",
   "execution_count": null,
   "metadata": {},
   "outputs": [],
   "source": []
  },
  {
   "cell_type": "markdown",
   "metadata": {},
   "source": [
    "### MANUAL CURATION for the entries containing \"; &  @ \". See the get_gene_id_final from protein_ids_alignment_helpers.py for the details on how these composite ids were created"
   ]
  },
  {
   "cell_type": "code",
   "execution_count": null,
   "metadata": {},
   "outputs": [],
   "source": []
  },
  {
   "cell_type": "code",
   "execution_count": 205,
   "metadata": {},
   "outputs": [
    {
     "data": {
      "text/plain": [
       "0"
      ]
     },
     "execution_count": 205,
     "metadata": {},
     "output_type": "execute_result"
    }
   ],
   "source": [
    "len(df_fgn.loc[(df_fgn['gene_id_final'].str.contains('&')) & (df_fgn['Uniprot']!=df_fgn['Uniprot_unified'])])"
   ]
  },
  {
   "cell_type": "code",
   "execution_count": 206,
   "metadata": {},
   "outputs": [
    {
     "data": {
      "text/html": [
       "<div>\n",
       "<style scoped>\n",
       "    .dataframe tbody tr th:only-of-type {\n",
       "        vertical-align: middle;\n",
       "    }\n",
       "\n",
       "    .dataframe tbody tr th {\n",
       "        vertical-align: top;\n",
       "    }\n",
       "\n",
       "    .dataframe thead th {\n",
       "        text-align: right;\n",
       "    }\n",
       "</style>\n",
       "<table border=\"1\" class=\"dataframe\">\n",
       "  <thead>\n",
       "    <tr style=\"text-align: right;\">\n",
       "      <th></th>\n",
       "      <th>gene_names</th>\n",
       "      <th>gene_name_unified</th>\n",
       "      <th>Uniprot</th>\n",
       "      <th>Uniprot_unified</th>\n",
       "      <th>gn_from_uniprot</th>\n",
       "      <th>uniprot_from_gn</th>\n",
       "      <th>gene_id_final</th>\n",
       "    </tr>\n",
       "  </thead>\n",
       "  <tbody>\n",
       "  </tbody>\n",
       "</table>\n",
       "</div>"
      ],
      "text/plain": [
       "Empty DataFrame\n",
       "Columns: [gene_names, gene_name_unified, Uniprot, Uniprot_unified, gn_from_uniprot, uniprot_from_gn, gene_id_final]\n",
       "Index: []"
      ]
     },
     "execution_count": 206,
     "metadata": {},
     "output_type": "execute_result"
    }
   ],
   "source": [
    "#df.loc[df['gene_id_final']== 'C2CD4CC2CD4 FAMILY',\"gene_id_final\"] = 'C2CD4C'\n",
    "df_fgn.loc[df_fgn['gene_id_final']== 'C2CD4CC2CD4 FAMILY']"
   ]
  },
  {
   "cell_type": "code",
   "execution_count": 396,
   "metadata": {},
   "outputs": [
    {
     "data": {
      "text/html": [
       "<div>\n",
       "<style scoped>\n",
       "    .dataframe tbody tr th:only-of-type {\n",
       "        vertical-align: middle;\n",
       "    }\n",
       "\n",
       "    .dataframe tbody tr th {\n",
       "        vertical-align: top;\n",
       "    }\n",
       "\n",
       "    .dataframe thead th {\n",
       "        text-align: right;\n",
       "    }\n",
       "</style>\n",
       "<table border=\"1\" class=\"dataframe\">\n",
       "  <thead>\n",
       "    <tr style=\"text-align: right;\">\n",
       "      <th></th>\n",
       "      <th>gene_names</th>\n",
       "      <th>gene_name_unified</th>\n",
       "      <th>Uniprot</th>\n",
       "      <th>Uniprot_unified</th>\n",
       "      <th>gn_from_uniprot</th>\n",
       "      <th>uniprot_from_gn</th>\n",
       "      <th>gene_id_final</th>\n",
       "    </tr>\n",
       "  </thead>\n",
       "  <tbody>\n",
       "  </tbody>\n",
       "</table>\n",
       "</div>"
      ],
      "text/plain": [
       "Empty DataFrame\n",
       "Columns: [gene_names, gene_name_unified, Uniprot, Uniprot_unified, gn_from_uniprot, uniprot_from_gn, gene_id_final]\n",
       "Index: []"
      ]
     },
     "execution_count": 396,
     "metadata": {},
     "output_type": "execute_result"
    }
   ],
   "source": [
    "df_fgn.loc[(df_fgn['gene_id_final'].str.contains('&')) & (df_fgn['Uniprot']==df_fgn['Uniprot_unified'])]"
   ]
  },
  {
   "cell_type": "code",
   "execution_count": null,
   "metadata": {},
   "outputs": [],
   "source": []
  },
  {
   "cell_type": "code",
   "execution_count": 207,
   "metadata": {},
   "outputs": [],
   "source": [
    "df_fgn_gene_id_final_counts = df_fgn.loc[(~df_fgn['gene_id_final'].str.contains(';')) & (~df_fgn['gene_id_final'].str.contains('@'))].groupby('gene_id_final').count()\n",
    "\n",
    "df_fgn_gene_id_final_counts['sum'] = df_fgn_gene_id_final_counts.sum(axis=1)\n",
    "\n",
    "df_fgn_gene_id_final_counts_dict = pd.Series(df_fgn_gene_id_final_counts['sum'].values,index=df_fgn_gene_id_final_counts.index).to_dict() "
   ]
  },
  {
   "cell_type": "code",
   "execution_count": 208,
   "metadata": {},
   "outputs": [],
   "source": [
    "df_fgn = df_fgn.reset_index(drop=True)"
   ]
  },
  {
   "cell_type": "code",
   "execution_count": 209,
   "metadata": {},
   "outputs": [
    {
     "data": {
      "text/plain": [
       "33"
      ]
     },
     "execution_count": 209,
     "metadata": {},
     "output_type": "execute_result"
    }
   ],
   "source": [
    "len(df_fgn.loc[df_fgn['gene_id_final'].str.contains(';')])"
   ]
  },
  {
   "cell_type": "code",
   "execution_count": 210,
   "metadata": {},
   "outputs": [
    {
     "name": "stdout",
     "output_type": "stream",
     "text": [
      "check 1  73497\n"
     ]
    }
   ],
   "source": [
    "for idx,row in df_fgn.loc[df_fgn['gene_id_final'].str.contains(';')].iterrows():\n",
    "    \n",
    "    gns_mostFreq41=np.nan\n",
    "    \n",
    "\n",
    "    gids = row['gene_id_final'].split(';')\n",
    "\n",
    "    counts_occ=dict()\n",
    "    for gid in gids:\n",
    "        counts_occ[gid] = df_fgn_gene_id_final_counts_dict.get(gid,0.0)\n",
    "\n",
    "    # get keys with max value:\n",
    "    max_value = max(counts_occ.values())\n",
    "\n",
    "    if max_value >0:\n",
    "        gns_mostFreq41 = [k for k,v in counts_occ.items() if v == max_value]\n",
    "    else:\n",
    "        ns_mostFreq41 = np.nan\n",
    "        print(\"check 1 \",idx)\n",
    "\n",
    "\n",
    "\n",
    "    if isinstance(gns_mostFreq41, list):\n",
    "\n",
    "        if len(gns_mostFreq41)==1:\n",
    "            df_fgn.loc[idx,'gene_id_final'] = gns_mostFreq41[0]\n",
    "            #print(gns_mostFreq41[0])\n",
    "\n",
    "\n",
    "        elif len(gns_mostFreq41) >1:\n",
    "            df_fgn.loc[idx,'gene_id_final'] = gns_mostFreq41[0]\n",
    "            #print(\"check 2 \",idx)\n",
    "        else:\n",
    "            print(\"check 3 \",idx)\n",
    "            \n"
   ]
  },
  {
   "cell_type": "code",
   "execution_count": 211,
   "metadata": {},
   "outputs": [
    {
     "data": {
      "text/plain": [
       "1"
      ]
     },
     "execution_count": 211,
     "metadata": {},
     "output_type": "execute_result"
    }
   ],
   "source": [
    "len(df_fgn.loc[df_fgn['gene_id_final'].str.contains(';')])"
   ]
  },
  {
   "cell_type": "code",
   "execution_count": null,
   "metadata": {},
   "outputs": [],
   "source": []
  },
  {
   "cell_type": "code",
   "execution_count": 212,
   "metadata": {},
   "outputs": [
    {
     "data": {
      "text/html": [
       "<div>\n",
       "<style scoped>\n",
       "    .dataframe tbody tr th:only-of-type {\n",
       "        vertical-align: middle;\n",
       "    }\n",
       "\n",
       "    .dataframe tbody tr th {\n",
       "        vertical-align: top;\n",
       "    }\n",
       "\n",
       "    .dataframe thead th {\n",
       "        text-align: right;\n",
       "    }\n",
       "</style>\n",
       "<table border=\"1\" class=\"dataframe\">\n",
       "  <thead>\n",
       "    <tr style=\"text-align: right;\">\n",
       "      <th></th>\n",
       "      <th>gene_names</th>\n",
       "      <th>gene_name_unified</th>\n",
       "      <th>Uniprot</th>\n",
       "      <th>Uniprot_unified</th>\n",
       "      <th>gn_from_uniprot</th>\n",
       "      <th>uniprot_from_gn</th>\n",
       "      <th>gene_id_final</th>\n",
       "    </tr>\n",
       "  </thead>\n",
       "  <tbody>\n",
       "    <tr>\n",
       "      <th>73497</th>\n",
       "      <td>NaN</td>\n",
       "      <td>None</td>\n",
       "      <td>B2RTM0</td>\n",
       "      <td>P62806</td>\n",
       "      <td>[H4C1, H4C2, H4C3, H4C4, H4C6, H4C8, H4C9, H4C...</td>\n",
       "      <td>NoMapping</td>\n",
       "      <td>HIST2H4;HIST1H4C</td>\n",
       "    </tr>\n",
       "  </tbody>\n",
       "</table>\n",
       "</div>"
      ],
      "text/plain": [
       "      gene_names gene_name_unified Uniprot Uniprot_unified  \\\n",
       "73497        NaN              None  B2RTM0          P62806   \n",
       "\n",
       "                                         gn_from_uniprot uniprot_from_gn  \\\n",
       "73497  [H4C1, H4C2, H4C3, H4C4, H4C6, H4C8, H4C9, H4C...       NoMapping   \n",
       "\n",
       "          gene_id_final  \n",
       "73497  HIST2H4;HIST1H4C  "
      ]
     },
     "execution_count": 212,
     "metadata": {},
     "output_type": "execute_result"
    }
   ],
   "source": [
    "df_fgn.loc[df_fgn['gene_id_final'].str.contains(';')]"
   ]
  },
  {
   "cell_type": "code",
   "execution_count": 213,
   "metadata": {},
   "outputs": [],
   "source": [
    "df_fgn.loc[(df_fgn['gene_id_final'].str.contains(';')) & (df_fgn['gene_id_final']== 'HIST2H4;HIST1H4C') & (df_fgn['Uniprot']=='B2RTM0'),\"gene_id_final\"] = 'HIST2H4'\n",
    "#by Uniprot \n"
   ]
  },
  {
   "cell_type": "code",
   "execution_count": 214,
   "metadata": {},
   "outputs": [
    {
     "data": {
      "text/html": [
       "<div>\n",
       "<style scoped>\n",
       "    .dataframe tbody tr th:only-of-type {\n",
       "        vertical-align: middle;\n",
       "    }\n",
       "\n",
       "    .dataframe tbody tr th {\n",
       "        vertical-align: top;\n",
       "    }\n",
       "\n",
       "    .dataframe thead th {\n",
       "        text-align: right;\n",
       "    }\n",
       "</style>\n",
       "<table border=\"1\" class=\"dataframe\">\n",
       "  <thead>\n",
       "    <tr style=\"text-align: right;\">\n",
       "      <th></th>\n",
       "      <th>gene_names</th>\n",
       "      <th>gene_name_unified</th>\n",
       "      <th>Uniprot</th>\n",
       "      <th>Uniprot_unified</th>\n",
       "      <th>gn_from_uniprot</th>\n",
       "      <th>uniprot_from_gn</th>\n",
       "      <th>gene_id_final</th>\n",
       "    </tr>\n",
       "  </thead>\n",
       "  <tbody>\n",
       "  </tbody>\n",
       "</table>\n",
       "</div>"
      ],
      "text/plain": [
       "Empty DataFrame\n",
       "Columns: [gene_names, gene_name_unified, Uniprot, Uniprot_unified, gn_from_uniprot, uniprot_from_gn, gene_id_final]\n",
       "Index: []"
      ]
     },
     "execution_count": 214,
     "metadata": {},
     "output_type": "execute_result"
    }
   ],
   "source": [
    "df_fgn.loc[df_fgn['gene_id_final'].str.contains(';')]"
   ]
  },
  {
   "cell_type": "code",
   "execution_count": 215,
   "metadata": {
    "collapsed": true,
    "jupyter": {
     "outputs_hidden": true
    },
    "tags": []
   },
   "outputs": [
    {
     "data": {
      "text/html": [
       "<div>\n",
       "<style scoped>\n",
       "    .dataframe tbody tr th:only-of-type {\n",
       "        vertical-align: middle;\n",
       "    }\n",
       "\n",
       "    .dataframe tbody tr th {\n",
       "        vertical-align: top;\n",
       "    }\n",
       "\n",
       "    .dataframe thead th {\n",
       "        text-align: right;\n",
       "    }\n",
       "</style>\n",
       "<table border=\"1\" class=\"dataframe\">\n",
       "  <thead>\n",
       "    <tr style=\"text-align: right;\">\n",
       "      <th></th>\n",
       "      <th>gene_names</th>\n",
       "      <th>gene_name_unified</th>\n",
       "      <th>Uniprot</th>\n",
       "      <th>Uniprot_unified</th>\n",
       "      <th>gn_from_uniprot</th>\n",
       "      <th>uniprot_from_gn</th>\n",
       "      <th>gene_id_final</th>\n",
       "    </tr>\n",
       "  </thead>\n",
       "  <tbody>\n",
       "    <tr>\n",
       "      <th>47473</th>\n",
       "      <td>NaN</td>\n",
       "      <td>None</td>\n",
       "      <td>Q3UZV7;Q3UZV7-2;Q3UZV7-3;E9PUJ3;Q3UZV7-5</td>\n",
       "      <td>Q3UZV7</td>\n",
       "      <td>NoMapping</td>\n",
       "      <td>NoMapping</td>\n",
       "      <td>ELAPOR2@EIG121L@ELAPOR2@EIG121L@ELAPOR2@EIG121...</td>\n",
       "    </tr>\n",
       "    <tr>\n",
       "      <th>69990</th>\n",
       "      <td>NaN</td>\n",
       "      <td>None</td>\n",
       "      <td>Q3TYS2</td>\n",
       "      <td>Q3TYS2</td>\n",
       "      <td>[CYBC1]</td>\n",
       "      <td>NoMapping</td>\n",
       "      <td>CYBC1@EROS</td>\n",
       "    </tr>\n",
       "    <tr>\n",
       "      <th>72851</th>\n",
       "      <td>NaN</td>\n",
       "      <td>None</td>\n",
       "      <td>Q6AYA6</td>\n",
       "      <td>Q6AYA6</td>\n",
       "      <td>[CYBC1]</td>\n",
       "      <td>NoMapping</td>\n",
       "      <td>CYBC1@EROS</td>\n",
       "    </tr>\n",
       "    <tr>\n",
       "      <th>72858</th>\n",
       "      <td>NaN</td>\n",
       "      <td>None</td>\n",
       "      <td>Q5RJN4</td>\n",
       "      <td>Q5RJN4</td>\n",
       "      <td>[SHFL]</td>\n",
       "      <td>NoMapping</td>\n",
       "      <td>SHFL@RYDEN</td>\n",
       "    </tr>\n",
       "    <tr>\n",
       "      <th>72865</th>\n",
       "      <td>NaN</td>\n",
       "      <td>None</td>\n",
       "      <td>A2AG58;A2AG58-2</td>\n",
       "      <td>A2AG58</td>\n",
       "      <td>[BCLAF3]</td>\n",
       "      <td>NoMapping</td>\n",
       "      <td>BCLAF3@BCLAF3</td>\n",
       "    </tr>\n",
       "    <tr>\n",
       "      <th>72872</th>\n",
       "      <td>NaN</td>\n",
       "      <td>None</td>\n",
       "      <td>Q3TYS2;X1WI15</td>\n",
       "      <td>Q3TYS2</td>\n",
       "      <td>[CYBC1]</td>\n",
       "      <td>NoMapping</td>\n",
       "      <td>CYBC1@EROS</td>\n",
       "    </tr>\n",
       "    <tr>\n",
       "      <th>72875</th>\n",
       "      <td>NaN</td>\n",
       "      <td>None</td>\n",
       "      <td>Q499E6;Q499E6-3;Q499E6-2</td>\n",
       "      <td>Q499E6</td>\n",
       "      <td>[C1ORF109]</td>\n",
       "      <td>NoMapping</td>\n",
       "      <td>C1ORF109@C1ORF109@C1ORF109</td>\n",
       "    </tr>\n",
       "    <tr>\n",
       "      <th>72878</th>\n",
       "      <td>NaN</td>\n",
       "      <td>None</td>\n",
       "      <td>Q6PD19;Q6PD19-3</td>\n",
       "      <td>Q6PD19</td>\n",
       "      <td>[ARMH3]</td>\n",
       "      <td>NoMapping</td>\n",
       "      <td>ARMH3@ARMH3</td>\n",
       "    </tr>\n",
       "    <tr>\n",
       "      <th>72885</th>\n",
       "      <td>NaN</td>\n",
       "      <td>None</td>\n",
       "      <td>Q8C779;Q8C779-2</td>\n",
       "      <td>Q8C779</td>\n",
       "      <td>[RADX]</td>\n",
       "      <td>NoMapping</td>\n",
       "      <td>RADX@RADX</td>\n",
       "    </tr>\n",
       "    <tr>\n",
       "      <th>72888</th>\n",
       "      <td>NaN</td>\n",
       "      <td>None</td>\n",
       "      <td>Q8CAK3;Q8CAK3-2</td>\n",
       "      <td>Q8CAK3</td>\n",
       "      <td>[SHFL]</td>\n",
       "      <td>NoMapping</td>\n",
       "      <td>SHFL@RYDEN@SHFL@RYDEN</td>\n",
       "    </tr>\n",
       "    <tr>\n",
       "      <th>72892</th>\n",
       "      <td>NaN</td>\n",
       "      <td>None</td>\n",
       "      <td>Q91W34;Q91W34-2</td>\n",
       "      <td>Q91W34</td>\n",
       "      <td>NoMapping</td>\n",
       "      <td>NoMapping</td>\n",
       "      <td>RUSF1@RUSF1</td>\n",
       "    </tr>\n",
       "    <tr>\n",
       "      <th>72908</th>\n",
       "      <td>NaN</td>\n",
       "      <td>None</td>\n",
       "      <td>A0A0N4SUI7</td>\n",
       "      <td>A0A0N4SUI7</td>\n",
       "      <td>[NBDY]</td>\n",
       "      <td>NoMapping</td>\n",
       "      <td>NBDY@2210013O21RIK</td>\n",
       "    </tr>\n",
       "    <tr>\n",
       "      <th>72911</th>\n",
       "      <td>NaN</td>\n",
       "      <td>None</td>\n",
       "      <td>Q9CQT9</td>\n",
       "      <td>Q9CQT9</td>\n",
       "      <td>[RAB5IF]</td>\n",
       "      <td>NoMapping</td>\n",
       "      <td>RAB5IF@RCAF1</td>\n",
       "    </tr>\n",
       "    <tr>\n",
       "      <th>72913</th>\n",
       "      <td>NaN</td>\n",
       "      <td>None</td>\n",
       "      <td>Q05AH6;Q05AH6-2</td>\n",
       "      <td>Q05AH6</td>\n",
       "      <td>[SPINDOC]</td>\n",
       "      <td>NoMapping</td>\n",
       "      <td>SPINDOC@SPINDOC</td>\n",
       "    </tr>\n",
       "    <tr>\n",
       "      <th>72914</th>\n",
       "      <td>NaN</td>\n",
       "      <td>None</td>\n",
       "      <td>Q6PD19;Q6PD19-2</td>\n",
       "      <td>Q6PD19</td>\n",
       "      <td>[ARMH3]</td>\n",
       "      <td>NoMapping</td>\n",
       "      <td>ARMH3@ARMH3</td>\n",
       "    </tr>\n",
       "    <tr>\n",
       "      <th>72919</th>\n",
       "      <td>NaN</td>\n",
       "      <td>None</td>\n",
       "      <td>Q499E6-3;Q499E6-2;Q499E6</td>\n",
       "      <td>Q499E6</td>\n",
       "      <td>[C1ORF109]</td>\n",
       "      <td>NoMapping</td>\n",
       "      <td>C1ORF109@C1ORF109@C1ORF109</td>\n",
       "    </tr>\n",
       "    <tr>\n",
       "      <th>72921</th>\n",
       "      <td>NaN</td>\n",
       "      <td>None</td>\n",
       "      <td>Q8BXK4;A0A0N4SUJ1</td>\n",
       "      <td>Q8BXK4</td>\n",
       "      <td>[BMT2]</td>\n",
       "      <td>NoMapping</td>\n",
       "      <td>BMT2@SAMTOR</td>\n",
       "    </tr>\n",
       "    <tr>\n",
       "      <th>72925</th>\n",
       "      <td>NaN</td>\n",
       "      <td>None</td>\n",
       "      <td>A0A0R4J1C4</td>\n",
       "      <td>A0A0R4J1C4</td>\n",
       "      <td>[ZSWIM9]</td>\n",
       "      <td>NoMapping</td>\n",
       "      <td>ZSWIM9@6330408A02RIK</td>\n",
       "    </tr>\n",
       "    <tr>\n",
       "      <th>72948</th>\n",
       "      <td>NaN</td>\n",
       "      <td>None</td>\n",
       "      <td>A2AG58-2;A2AG58</td>\n",
       "      <td>A2AG58</td>\n",
       "      <td>[BCLAF3]</td>\n",
       "      <td>NoMapping</td>\n",
       "      <td>BCLAF3@BCLAF3</td>\n",
       "    </tr>\n",
       "    <tr>\n",
       "      <th>72960</th>\n",
       "      <td>NaN</td>\n",
       "      <td>None</td>\n",
       "      <td>Q14BP6;Q14BP6-3;Q14BP6-2</td>\n",
       "      <td>Q14BP6</td>\n",
       "      <td>[LRRC74B]</td>\n",
       "      <td>NoMapping</td>\n",
       "      <td>LRRC74B@LRRC74B@LRRC74B</td>\n",
       "    </tr>\n",
       "    <tr>\n",
       "      <th>72964</th>\n",
       "      <td>NaN</td>\n",
       "      <td>None</td>\n",
       "      <td>Q3UNZ8;Q3UNZ8-2</td>\n",
       "      <td>Q3UNZ8</td>\n",
       "      <td>[CRYZL2]</td>\n",
       "      <td>NoMapping</td>\n",
       "      <td>CRYZL2@CRYZL2</td>\n",
       "    </tr>\n",
       "    <tr>\n",
       "      <th>72983</th>\n",
       "      <td>NaN</td>\n",
       "      <td>None</td>\n",
       "      <td>Q8BXK4</td>\n",
       "      <td>Q8BXK4</td>\n",
       "      <td>[BMT2]</td>\n",
       "      <td>NoMapping</td>\n",
       "      <td>BMT2@SAMTOR</td>\n",
       "    </tr>\n",
       "    <tr>\n",
       "      <th>72984</th>\n",
       "      <td>NaN</td>\n",
       "      <td>None</td>\n",
       "      <td>Q8CAK3-2;Q8CAK3</td>\n",
       "      <td>Q8CAK3</td>\n",
       "      <td>[SHFL]</td>\n",
       "      <td>NoMapping</td>\n",
       "      <td>SHFL@RYDEN@SHFL@RYDEN</td>\n",
       "    </tr>\n",
       "    <tr>\n",
       "      <th>72993</th>\n",
       "      <td>NaN</td>\n",
       "      <td>None</td>\n",
       "      <td>Q9DBD2;F6THH9</td>\n",
       "      <td>Q9DBD2</td>\n",
       "      <td>[MARCHF8]</td>\n",
       "      <td>NoMapping</td>\n",
       "      <td>MARCHF8@MARCH8@MIR</td>\n",
       "    </tr>\n",
       "    <tr>\n",
       "      <th>72995</th>\n",
       "      <td>NaN</td>\n",
       "      <td>None</td>\n",
       "      <td>Q9DCR4-2</td>\n",
       "      <td>Q9DCR4</td>\n",
       "      <td>[EID1]</td>\n",
       "      <td>NoMapping</td>\n",
       "      <td>EID1@CRI1</td>\n",
       "    </tr>\n",
       "    <tr>\n",
       "      <th>73019</th>\n",
       "      <td>NaN</td>\n",
       "      <td>None</td>\n",
       "      <td>Q6GQV0-2;Q6GQV0</td>\n",
       "      <td>Q6GQV0</td>\n",
       "      <td>[TEDC2]</td>\n",
       "      <td>NoMapping</td>\n",
       "      <td>TEDC2@TEDC2</td>\n",
       "    </tr>\n",
       "    <tr>\n",
       "      <th>73021</th>\n",
       "      <td>NaN</td>\n",
       "      <td>None</td>\n",
       "      <td>Q8C779-2;Q8C779</td>\n",
       "      <td>Q8C779</td>\n",
       "      <td>[RADX]</td>\n",
       "      <td>NoMapping</td>\n",
       "      <td>RADX@RADX</td>\n",
       "    </tr>\n",
       "    <tr>\n",
       "      <th>73027</th>\n",
       "      <td>NaN</td>\n",
       "      <td>None</td>\n",
       "      <td>Q6NV72;Q6NV72-2</td>\n",
       "      <td>Q6NV72</td>\n",
       "      <td>[WDCP]</td>\n",
       "      <td>NoMapping</td>\n",
       "      <td>WDCP@WDCP</td>\n",
       "    </tr>\n",
       "    <tr>\n",
       "      <th>73040</th>\n",
       "      <td>NaN</td>\n",
       "      <td>None</td>\n",
       "      <td>B8JJH0;F7D3E1;A9C445</td>\n",
       "      <td>B8JJH0</td>\n",
       "      <td>[CCDC191]</td>\n",
       "      <td>NoMapping</td>\n",
       "      <td>CCDC191@2610015P09RIK@CCDC191@2610015P09RIK</td>\n",
       "    </tr>\n",
       "    <tr>\n",
       "      <th>73045</th>\n",
       "      <td>NaN</td>\n",
       "      <td>None</td>\n",
       "      <td>E9Q2K5;Q8BWQ6;D3YW19;D3YW20;Q8BWQ6-3</td>\n",
       "      <td>Q8BWQ6</td>\n",
       "      <td>[VPS35L]</td>\n",
       "      <td>NoMapping</td>\n",
       "      <td>VPS35L@VPS35L</td>\n",
       "    </tr>\n",
       "    <tr>\n",
       "      <th>73048</th>\n",
       "      <td>NaN</td>\n",
       "      <td>None</td>\n",
       "      <td>E9Q9Y3;F6UXX4</td>\n",
       "      <td>E9Q9Y3</td>\n",
       "      <td>[CCDC7B]</td>\n",
       "      <td>NoMapping</td>\n",
       "      <td>CCDC7B@1700008F21RIK</td>\n",
       "    </tr>\n",
       "    <tr>\n",
       "      <th>73049</th>\n",
       "      <td>NaN</td>\n",
       "      <td>None</td>\n",
       "      <td>E9QJR0;Q2KHK3</td>\n",
       "      <td>E9QJR0</td>\n",
       "      <td>[LVRN]</td>\n",
       "      <td>NoMapping</td>\n",
       "      <td>LVRN@AQPEP</td>\n",
       "    </tr>\n",
       "    <tr>\n",
       "      <th>73077</th>\n",
       "      <td>NaN</td>\n",
       "      <td>None</td>\n",
       "      <td>Q8BHG2-3;Q8BHG2;A2A8E2;Q8BHG2-2;B7ZC71;B7ZC72;...</td>\n",
       "      <td>Q8BHG2</td>\n",
       "      <td>[CZIB]</td>\n",
       "      <td>NoMapping</td>\n",
       "      <td>CZIB@CZIB@CZIB</td>\n",
       "    </tr>\n",
       "    <tr>\n",
       "      <th>73106</th>\n",
       "      <td>NaN</td>\n",
       "      <td>None</td>\n",
       "      <td>O35423-2</td>\n",
       "      <td>O35423</td>\n",
       "      <td>[AGXT]</td>\n",
       "      <td>NoMapping</td>\n",
       "      <td>AGXT@AGXT1</td>\n",
       "    </tr>\n",
       "    <tr>\n",
       "      <th>73166</th>\n",
       "      <td>NaN</td>\n",
       "      <td>None</td>\n",
       "      <td>C0HKG6;C0HKG5</td>\n",
       "      <td>C0HKG6</td>\n",
       "      <td>[RNASET2B]</td>\n",
       "      <td>NoMapping</td>\n",
       "      <td>RNASET2B@RNASET2A@RNASE6PL</td>\n",
       "    </tr>\n",
       "    <tr>\n",
       "      <th>73184</th>\n",
       "      <td>NaN</td>\n",
       "      <td>None</td>\n",
       "      <td>Q8IZJ3-2</td>\n",
       "      <td>Q8IZJ3</td>\n",
       "      <td>[CPAMD8]</td>\n",
       "      <td>NoMapping</td>\n",
       "      <td>CPAMD8@KIAA1283</td>\n",
       "    </tr>\n",
       "    <tr>\n",
       "      <th>73208</th>\n",
       "      <td>NaN</td>\n",
       "      <td>None</td>\n",
       "      <td>G3XAH0</td>\n",
       "      <td>Q9Z2Q6</td>\n",
       "      <td>[SEPTIN5]</td>\n",
       "      <td>NoMapping</td>\n",
       "      <td>SEPTIN5@HCG_2002594</td>\n",
       "    </tr>\n",
       "    <tr>\n",
       "      <th>74781</th>\n",
       "      <td>NaN</td>\n",
       "      <td>None</td>\n",
       "      <td>Q8CAK3</td>\n",
       "      <td>Q8CAK3</td>\n",
       "      <td>[SHFL]</td>\n",
       "      <td>NoMapping</td>\n",
       "      <td>SHFL@RYDEN</td>\n",
       "    </tr>\n",
       "    <tr>\n",
       "      <th>74799</th>\n",
       "      <td>NaN</td>\n",
       "      <td>None</td>\n",
       "      <td>A2A5N3</td>\n",
       "      <td>A2A5N3</td>\n",
       "      <td>[PABPC1L]</td>\n",
       "      <td>NoMapping</td>\n",
       "      <td>PABPC1L@EPAB</td>\n",
       "    </tr>\n",
       "    <tr>\n",
       "      <th>75163</th>\n",
       "      <td>NaN</td>\n",
       "      <td>None</td>\n",
       "      <td>Q2TA93</td>\n",
       "      <td>Q2TA93</td>\n",
       "      <td>[GBP11]</td>\n",
       "      <td>NoMapping</td>\n",
       "      <td>GBP11@EG634650</td>\n",
       "    </tr>\n",
       "    <tr>\n",
       "      <th>75195</th>\n",
       "      <td>NaN</td>\n",
       "      <td>None</td>\n",
       "      <td>Q8BJ40</td>\n",
       "      <td>Q8BJ40</td>\n",
       "      <td>[GM6498]</td>\n",
       "      <td>NoMapping</td>\n",
       "      <td>GM6498@EG624367</td>\n",
       "    </tr>\n",
       "    <tr>\n",
       "      <th>75428</th>\n",
       "      <td>NaN</td>\n",
       "      <td>None</td>\n",
       "      <td>Q0GUM3</td>\n",
       "      <td>Q0GUM3</td>\n",
       "      <td>[GM12250]</td>\n",
       "      <td>NoMapping</td>\n",
       "      <td>GM12250@IRGB10@OTTMUSG00000005723</td>\n",
       "    </tr>\n",
       "    <tr>\n",
       "      <th>75617</th>\n",
       "      <td>NaN</td>\n",
       "      <td>None</td>\n",
       "      <td>Q9JM45</td>\n",
       "      <td>Q9JM45</td>\n",
       "      <td>[2010204K13RIK]</td>\n",
       "      <td>NoMapping</td>\n",
       "      <td>2010204K13RIK@CIP7</td>\n",
       "    </tr>\n",
       "    <tr>\n",
       "      <th>75679</th>\n",
       "      <td>NaN</td>\n",
       "      <td>None</td>\n",
       "      <td>Q3UNL7</td>\n",
       "      <td>Q3UNL7</td>\n",
       "      <td>[TMEM251]</td>\n",
       "      <td>NoMapping</td>\n",
       "      <td>TMEM251@D230037D09RIK</td>\n",
       "    </tr>\n",
       "    <tr>\n",
       "      <th>75731</th>\n",
       "      <td>NaN</td>\n",
       "      <td>None</td>\n",
       "      <td>Q3UZV7</td>\n",
       "      <td>Q3UZV7</td>\n",
       "      <td>NoMapping</td>\n",
       "      <td>NoMapping</td>\n",
       "      <td>ELAPOR2@EIG121L</td>\n",
       "    </tr>\n",
       "    <tr>\n",
       "      <th>75940</th>\n",
       "      <td>NaN</td>\n",
       "      <td>None</td>\n",
       "      <td>Q5SVD0</td>\n",
       "      <td>Q5SVD0</td>\n",
       "      <td>[RFLNB]</td>\n",
       "      <td>NoMapping</td>\n",
       "      <td>RFLNB@CFM1@FAM101B</td>\n",
       "    </tr>\n",
       "    <tr>\n",
       "      <th>75958</th>\n",
       "      <td>NaN</td>\n",
       "      <td>None</td>\n",
       "      <td>Q3UUY6</td>\n",
       "      <td>Q3UUY6</td>\n",
       "      <td>[PROM2]</td>\n",
       "      <td>NoMapping</td>\n",
       "      <td>PROM2@PROML2</td>\n",
       "    </tr>\n",
       "    <tr>\n",
       "      <th>76245</th>\n",
       "      <td>NaN</td>\n",
       "      <td>None</td>\n",
       "      <td>Q8CHC1</td>\n",
       "      <td>Q8CHC1</td>\n",
       "      <td>[BTBD3]</td>\n",
       "      <td>NoMapping</td>\n",
       "      <td>BTBD3@MKIAA0952</td>\n",
       "    </tr>\n",
       "    <tr>\n",
       "      <th>76527</th>\n",
       "      <td>NaN</td>\n",
       "      <td>None</td>\n",
       "      <td>Q8BI99</td>\n",
       "      <td>Q8BI99</td>\n",
       "      <td>[ZNF879]</td>\n",
       "      <td>NoMapping</td>\n",
       "      <td>ZNF879@ZFP879</td>\n",
       "    </tr>\n",
       "    <tr>\n",
       "      <th>76538</th>\n",
       "      <td>NaN</td>\n",
       "      <td>None</td>\n",
       "      <td>Q2XU92</td>\n",
       "      <td>Q2XU92</td>\n",
       "      <td>[ACSBG2]</td>\n",
       "      <td>NoMapping</td>\n",
       "      <td>ACSBG2@BGR</td>\n",
       "    </tr>\n",
       "    <tr>\n",
       "      <th>76664</th>\n",
       "      <td>NaN</td>\n",
       "      <td>None</td>\n",
       "      <td>Q64G17</td>\n",
       "      <td>Q64G17</td>\n",
       "      <td>[ANP32C]</td>\n",
       "      <td>NoMapping</td>\n",
       "      <td>ANP32C@ANP32-PS</td>\n",
       "    </tr>\n",
       "    <tr>\n",
       "      <th>76689</th>\n",
       "      <td>NaN</td>\n",
       "      <td>None</td>\n",
       "      <td>O88575</td>\n",
       "      <td>O88575</td>\n",
       "      <td>[SLC6A20B]</td>\n",
       "      <td>NoMapping</td>\n",
       "      <td>SLC6A20B@SLC6A20@XT3@XTRP3</td>\n",
       "    </tr>\n",
       "    <tr>\n",
       "      <th>76774</th>\n",
       "      <td>NaN</td>\n",
       "      <td>None</td>\n",
       "      <td>Q548Z6</td>\n",
       "      <td>Q548Z6</td>\n",
       "      <td>[LDHC]</td>\n",
       "      <td>NoMapping</td>\n",
       "      <td>LDHC@LDH3</td>\n",
       "    </tr>\n",
       "    <tr>\n",
       "      <th>76824</th>\n",
       "      <td>NaN</td>\n",
       "      <td>None</td>\n",
       "      <td>Q8BID6</td>\n",
       "      <td>Q8BID6</td>\n",
       "      <td>[ZBTB46]</td>\n",
       "      <td>NoMapping</td>\n",
       "      <td>ZBTB46@BTBD4</td>\n",
       "    </tr>\n",
       "    <tr>\n",
       "      <th>76859</th>\n",
       "      <td>NaN</td>\n",
       "      <td>None</td>\n",
       "      <td>Q6ZPY5</td>\n",
       "      <td>Q6ZPY5</td>\n",
       "      <td>[ZNF507]</td>\n",
       "      <td>NoMapping</td>\n",
       "      <td>ZNF507@KIAA1084@ZFP507</td>\n",
       "    </tr>\n",
       "    <tr>\n",
       "      <th>77028</th>\n",
       "      <td>NaN</td>\n",
       "      <td>None</td>\n",
       "      <td>Q7TQI8</td>\n",
       "      <td>Q7TQI8</td>\n",
       "      <td>[TSPYL2]</td>\n",
       "      <td>NoMapping</td>\n",
       "      <td>TSPYL2@CINAP@DENTT@DXBWG1396E@TSPX</td>\n",
       "    </tr>\n",
       "    <tr>\n",
       "      <th>77466</th>\n",
       "      <td>NaN</td>\n",
       "      <td>None</td>\n",
       "      <td>Q8JZL2</td>\n",
       "      <td>Q8JZL2</td>\n",
       "      <td>[MCHR1]</td>\n",
       "      <td>NoMapping</td>\n",
       "      <td>MCHR1@GPR24@SLC1</td>\n",
       "    </tr>\n",
       "    <tr>\n",
       "      <th>77477</th>\n",
       "      <td>NaN</td>\n",
       "      <td>None</td>\n",
       "      <td>P86792</td>\n",
       "      <td>P86792</td>\n",
       "      <td>[CCL21B]</td>\n",
       "      <td>NoMapping</td>\n",
       "      <td>CCL21B@SCYA21@SCYA21B</td>\n",
       "    </tr>\n",
       "    <tr>\n",
       "      <th>77506</th>\n",
       "      <td>NaN</td>\n",
       "      <td>None</td>\n",
       "      <td>O35739</td>\n",
       "      <td>O35739</td>\n",
       "      <td>[KLF9]</td>\n",
       "      <td>NoMapping</td>\n",
       "      <td>KLF9@BTEB@BTEB-1@BTEB1</td>\n",
       "    </tr>\n",
       "    <tr>\n",
       "      <th>77514</th>\n",
       "      <td>NaN</td>\n",
       "      <td>None</td>\n",
       "      <td>B2RRM8</td>\n",
       "      <td>B2RRM8</td>\n",
       "      <td>[SYNDIG1L]</td>\n",
       "      <td>NoMapping</td>\n",
       "      <td>SYNDIG1L@TMEM90A</td>\n",
       "    </tr>\n",
       "    <tr>\n",
       "      <th>77559</th>\n",
       "      <td>NaN</td>\n",
       "      <td>None</td>\n",
       "      <td>Q7TMA2</td>\n",
       "      <td>Q7TMA2</td>\n",
       "      <td>[ZNF503]</td>\n",
       "      <td>NoMapping</td>\n",
       "      <td>ZNF503@NOLZ1@ZFP503</td>\n",
       "    </tr>\n",
       "    <tr>\n",
       "      <th>77572</th>\n",
       "      <td>NaN</td>\n",
       "      <td>None</td>\n",
       "      <td>Q80VY2</td>\n",
       "      <td>Q80VY2</td>\n",
       "      <td>[INKA2]</td>\n",
       "      <td>NoMapping</td>\n",
       "      <td>INKA2@FAM212B</td>\n",
       "    </tr>\n",
       "    <tr>\n",
       "      <th>77594</th>\n",
       "      <td>NaN</td>\n",
       "      <td>None</td>\n",
       "      <td>Q8R1X0</td>\n",
       "      <td>Q8R1X0</td>\n",
       "      <td>[BC022960]</td>\n",
       "      <td>NoMapping</td>\n",
       "      <td>BC022960@GM16590</td>\n",
       "    </tr>\n",
       "    <tr>\n",
       "      <th>77596</th>\n",
       "      <td>NaN</td>\n",
       "      <td>None</td>\n",
       "      <td>Q923X1</td>\n",
       "      <td>Q923X1</td>\n",
       "      <td>[ADGRL4]</td>\n",
       "      <td>NoMapping</td>\n",
       "      <td>ADGRL4@ELTD1</td>\n",
       "    </tr>\n",
       "    <tr>\n",
       "      <th>77634</th>\n",
       "      <td>NaN</td>\n",
       "      <td>None</td>\n",
       "      <td>Q9DB38</td>\n",
       "      <td>Q9DB38</td>\n",
       "      <td>[ZNF580]</td>\n",
       "      <td>NoMapping</td>\n",
       "      <td>ZNF580@ZFP580</td>\n",
       "    </tr>\n",
       "    <tr>\n",
       "      <th>77831</th>\n",
       "      <td>NaN</td>\n",
       "      <td>None</td>\n",
       "      <td>Q8K2V4</td>\n",
       "      <td>Q9QZ85</td>\n",
       "      <td>[IIGP1]</td>\n",
       "      <td>NoMapping</td>\n",
       "      <td>IIGP1B@LOC435565</td>\n",
       "    </tr>\n",
       "    <tr>\n",
       "      <th>77874</th>\n",
       "      <td>NaN</td>\n",
       "      <td>None</td>\n",
       "      <td>Q3U4K5</td>\n",
       "      <td>Q3U4K5</td>\n",
       "      <td>[F630007L15RIK]</td>\n",
       "      <td>NoMapping</td>\n",
       "      <td>F630007L15RIK@BC005512@EG641366</td>\n",
       "    </tr>\n",
       "    <tr>\n",
       "      <th>77877</th>\n",
       "      <td>NaN</td>\n",
       "      <td>None</td>\n",
       "      <td>Q9D1Y9</td>\n",
       "      <td>Q9D1Y9</td>\n",
       "      <td>[SHISAL2B]</td>\n",
       "      <td>NoMapping</td>\n",
       "      <td>SHISAL2B@FAM159B</td>\n",
       "    </tr>\n",
       "    <tr>\n",
       "      <th>77926</th>\n",
       "      <td>NaN</td>\n",
       "      <td>None</td>\n",
       "      <td>Q8BGX1</td>\n",
       "      <td>Q8BGX1</td>\n",
       "      <td>[PCED1B]</td>\n",
       "      <td>NoMapping</td>\n",
       "      <td>PCED1B@FAM113B</td>\n",
       "    </tr>\n",
       "    <tr>\n",
       "      <th>78008</th>\n",
       "      <td>NaN</td>\n",
       "      <td>None</td>\n",
       "      <td>E9Q046</td>\n",
       "      <td>E9Q046</td>\n",
       "      <td>[TCP10C]</td>\n",
       "      <td>NoMapping</td>\n",
       "      <td>TCP10C@GM9880</td>\n",
       "    </tr>\n",
       "    <tr>\n",
       "      <th>78070</th>\n",
       "      <td>NaN</td>\n",
       "      <td>None</td>\n",
       "      <td>Q9DCX8</td>\n",
       "      <td>Q9DCX8</td>\n",
       "      <td>[IYD]</td>\n",
       "      <td>NoMapping</td>\n",
       "      <td>IYD@DEHAL1</td>\n",
       "    </tr>\n",
       "    <tr>\n",
       "      <th>78193</th>\n",
       "      <td>NaN</td>\n",
       "      <td>None</td>\n",
       "      <td>Q8BGS5</td>\n",
       "      <td>Q8BGS5</td>\n",
       "      <td>[ZSCAN22]</td>\n",
       "      <td>NoMapping</td>\n",
       "      <td>ZSCAN22@HKR2</td>\n",
       "    </tr>\n",
       "    <tr>\n",
       "      <th>78195</th>\n",
       "      <td>NaN</td>\n",
       "      <td>None</td>\n",
       "      <td>Q53ZW9</td>\n",
       "      <td>Q53ZW9</td>\n",
       "      <td>[SLCO1A1]</td>\n",
       "      <td>NoMapping</td>\n",
       "      <td>SLCO1A1@SLC21A1</td>\n",
       "    </tr>\n",
       "    <tr>\n",
       "      <th>78206</th>\n",
       "      <td>NaN</td>\n",
       "      <td>None</td>\n",
       "      <td>Q8BWA8</td>\n",
       "      <td>Q8BWA8</td>\n",
       "      <td>[ARHGEF19]</td>\n",
       "      <td>NoMapping</td>\n",
       "      <td>ARHGEF19@WGEF</td>\n",
       "    </tr>\n",
       "    <tr>\n",
       "      <th>78207</th>\n",
       "      <td>NaN</td>\n",
       "      <td>None</td>\n",
       "      <td>Q8VIF2</td>\n",
       "      <td>Q8VIF2</td>\n",
       "      <td>[PRSS42]</td>\n",
       "      <td>NoMapping</td>\n",
       "      <td>PRSS42@TESSP2</td>\n",
       "    </tr>\n",
       "    <tr>\n",
       "      <th>78304</th>\n",
       "      <td>NaN</td>\n",
       "      <td>None</td>\n",
       "      <td>Q8K0E3</td>\n",
       "      <td>Q8K0E3</td>\n",
       "      <td>[SLC5A11]</td>\n",
       "      <td>NoMapping</td>\n",
       "      <td>SLC5A11@KST1@SMIT2</td>\n",
       "    </tr>\n",
       "    <tr>\n",
       "      <th>78337</th>\n",
       "      <td>NaN</td>\n",
       "      <td>None</td>\n",
       "      <td>Q9D869</td>\n",
       "      <td>Q9D869</td>\n",
       "      <td>[CHP2]</td>\n",
       "      <td>NoMapping</td>\n",
       "      <td>CHP2@HCA520</td>\n",
       "    </tr>\n",
       "    <tr>\n",
       "      <th>78346</th>\n",
       "      <td>NaN</td>\n",
       "      <td>None</td>\n",
       "      <td>Q7TQM2</td>\n",
       "      <td>Q7TQM2</td>\n",
       "      <td>[SCFV 6H8]</td>\n",
       "      <td>NoMapping</td>\n",
       "      <td>SCFV@6H8</td>\n",
       "    </tr>\n",
       "    <tr>\n",
       "      <th>78356</th>\n",
       "      <td>NaN</td>\n",
       "      <td>None</td>\n",
       "      <td>P09023</td>\n",
       "      <td>P09023</td>\n",
       "      <td>[HOXB6]</td>\n",
       "      <td>NoMapping</td>\n",
       "      <td>HOXB6@HOX-2.2@HOXB-6</td>\n",
       "    </tr>\n",
       "    <tr>\n",
       "      <th>78369</th>\n",
       "      <td>NaN</td>\n",
       "      <td>None</td>\n",
       "      <td>Q8BS35</td>\n",
       "      <td>Q8BS35</td>\n",
       "      <td>[AGMO]</td>\n",
       "      <td>NoMapping</td>\n",
       "      <td>AGMO@TMEM195</td>\n",
       "    </tr>\n",
       "    <tr>\n",
       "      <th>78371</th>\n",
       "      <td>NaN</td>\n",
       "      <td>None</td>\n",
       "      <td>Q8BQS5</td>\n",
       "      <td>Q8BQS5</td>\n",
       "      <td>[ADIPOR2]</td>\n",
       "      <td>NoMapping</td>\n",
       "      <td>ADIPOR2@D6UCLA1E@PARQ2</td>\n",
       "    </tr>\n",
       "    <tr>\n",
       "      <th>78412</th>\n",
       "      <td>NaN</td>\n",
       "      <td>None</td>\n",
       "      <td>Q9WV06</td>\n",
       "      <td>Q9WV06</td>\n",
       "      <td>[ANKRD2]</td>\n",
       "      <td>NoMapping</td>\n",
       "      <td>ANKRD2@ARPP</td>\n",
       "    </tr>\n",
       "    <tr>\n",
       "      <th>78417</th>\n",
       "      <td>NaN</td>\n",
       "      <td>None</td>\n",
       "      <td>Q5DTZ7</td>\n",
       "      <td>Q5DTZ7</td>\n",
       "      <td>[FBXO40]</td>\n",
       "      <td>NoMapping</td>\n",
       "      <td>FBXO40@MKIAA1195</td>\n",
       "    </tr>\n",
       "  </tbody>\n",
       "</table>\n",
       "</div>"
      ],
      "text/plain": [
       "      gene_names gene_name_unified  \\\n",
       "47473        NaN              None   \n",
       "69990        NaN              None   \n",
       "72851        NaN              None   \n",
       "72858        NaN              None   \n",
       "72865        NaN              None   \n",
       "72872        NaN              None   \n",
       "72875        NaN              None   \n",
       "72878        NaN              None   \n",
       "72885        NaN              None   \n",
       "72888        NaN              None   \n",
       "72892        NaN              None   \n",
       "72908        NaN              None   \n",
       "72911        NaN              None   \n",
       "72913        NaN              None   \n",
       "72914        NaN              None   \n",
       "72919        NaN              None   \n",
       "72921        NaN              None   \n",
       "72925        NaN              None   \n",
       "72948        NaN              None   \n",
       "72960        NaN              None   \n",
       "72964        NaN              None   \n",
       "72983        NaN              None   \n",
       "72984        NaN              None   \n",
       "72993        NaN              None   \n",
       "72995        NaN              None   \n",
       "73019        NaN              None   \n",
       "73021        NaN              None   \n",
       "73027        NaN              None   \n",
       "73040        NaN              None   \n",
       "73045        NaN              None   \n",
       "73048        NaN              None   \n",
       "73049        NaN              None   \n",
       "73077        NaN              None   \n",
       "73106        NaN              None   \n",
       "73166        NaN              None   \n",
       "73184        NaN              None   \n",
       "73208        NaN              None   \n",
       "74781        NaN              None   \n",
       "74799        NaN              None   \n",
       "75163        NaN              None   \n",
       "75195        NaN              None   \n",
       "75428        NaN              None   \n",
       "75617        NaN              None   \n",
       "75679        NaN              None   \n",
       "75731        NaN              None   \n",
       "75940        NaN              None   \n",
       "75958        NaN              None   \n",
       "76245        NaN              None   \n",
       "76527        NaN              None   \n",
       "76538        NaN              None   \n",
       "76664        NaN              None   \n",
       "76689        NaN              None   \n",
       "76774        NaN              None   \n",
       "76824        NaN              None   \n",
       "76859        NaN              None   \n",
       "77028        NaN              None   \n",
       "77466        NaN              None   \n",
       "77477        NaN              None   \n",
       "77506        NaN              None   \n",
       "77514        NaN              None   \n",
       "77559        NaN              None   \n",
       "77572        NaN              None   \n",
       "77594        NaN              None   \n",
       "77596        NaN              None   \n",
       "77634        NaN              None   \n",
       "77831        NaN              None   \n",
       "77874        NaN              None   \n",
       "77877        NaN              None   \n",
       "77926        NaN              None   \n",
       "78008        NaN              None   \n",
       "78070        NaN              None   \n",
       "78193        NaN              None   \n",
       "78195        NaN              None   \n",
       "78206        NaN              None   \n",
       "78207        NaN              None   \n",
       "78304        NaN              None   \n",
       "78337        NaN              None   \n",
       "78346        NaN              None   \n",
       "78356        NaN              None   \n",
       "78369        NaN              None   \n",
       "78371        NaN              None   \n",
       "78412        NaN              None   \n",
       "78417        NaN              None   \n",
       "\n",
       "                                                 Uniprot Uniprot_unified  \\\n",
       "47473           Q3UZV7;Q3UZV7-2;Q3UZV7-3;E9PUJ3;Q3UZV7-5          Q3UZV7   \n",
       "69990                                             Q3TYS2          Q3TYS2   \n",
       "72851                                             Q6AYA6          Q6AYA6   \n",
       "72858                                             Q5RJN4          Q5RJN4   \n",
       "72865                                    A2AG58;A2AG58-2          A2AG58   \n",
       "72872                                      Q3TYS2;X1WI15          Q3TYS2   \n",
       "72875                           Q499E6;Q499E6-3;Q499E6-2          Q499E6   \n",
       "72878                                    Q6PD19;Q6PD19-3          Q6PD19   \n",
       "72885                                    Q8C779;Q8C779-2          Q8C779   \n",
       "72888                                    Q8CAK3;Q8CAK3-2          Q8CAK3   \n",
       "72892                                    Q91W34;Q91W34-2          Q91W34   \n",
       "72908                                         A0A0N4SUI7      A0A0N4SUI7   \n",
       "72911                                             Q9CQT9          Q9CQT9   \n",
       "72913                                    Q05AH6;Q05AH6-2          Q05AH6   \n",
       "72914                                    Q6PD19;Q6PD19-2          Q6PD19   \n",
       "72919                           Q499E6-3;Q499E6-2;Q499E6          Q499E6   \n",
       "72921                                  Q8BXK4;A0A0N4SUJ1          Q8BXK4   \n",
       "72925                                         A0A0R4J1C4      A0A0R4J1C4   \n",
       "72948                                    A2AG58-2;A2AG58          A2AG58   \n",
       "72960                           Q14BP6;Q14BP6-3;Q14BP6-2          Q14BP6   \n",
       "72964                                    Q3UNZ8;Q3UNZ8-2          Q3UNZ8   \n",
       "72983                                             Q8BXK4          Q8BXK4   \n",
       "72984                                    Q8CAK3-2;Q8CAK3          Q8CAK3   \n",
       "72993                                      Q9DBD2;F6THH9          Q9DBD2   \n",
       "72995                                           Q9DCR4-2          Q9DCR4   \n",
       "73019                                    Q6GQV0-2;Q6GQV0          Q6GQV0   \n",
       "73021                                    Q8C779-2;Q8C779          Q8C779   \n",
       "73027                                    Q6NV72;Q6NV72-2          Q6NV72   \n",
       "73040                               B8JJH0;F7D3E1;A9C445          B8JJH0   \n",
       "73045               E9Q2K5;Q8BWQ6;D3YW19;D3YW20;Q8BWQ6-3          Q8BWQ6   \n",
       "73048                                      E9Q9Y3;F6UXX4          E9Q9Y3   \n",
       "73049                                      E9QJR0;Q2KHK3          E9QJR0   \n",
       "73077  Q8BHG2-3;Q8BHG2;A2A8E2;Q8BHG2-2;B7ZC71;B7ZC72;...          Q8BHG2   \n",
       "73106                                           O35423-2          O35423   \n",
       "73166                                      C0HKG6;C0HKG5          C0HKG6   \n",
       "73184                                           Q8IZJ3-2          Q8IZJ3   \n",
       "73208                                             G3XAH0          Q9Z2Q6   \n",
       "74781                                             Q8CAK3          Q8CAK3   \n",
       "74799                                             A2A5N3          A2A5N3   \n",
       "75163                                             Q2TA93          Q2TA93   \n",
       "75195                                             Q8BJ40          Q8BJ40   \n",
       "75428                                             Q0GUM3          Q0GUM3   \n",
       "75617                                             Q9JM45          Q9JM45   \n",
       "75679                                             Q3UNL7          Q3UNL7   \n",
       "75731                                             Q3UZV7          Q3UZV7   \n",
       "75940                                             Q5SVD0          Q5SVD0   \n",
       "75958                                             Q3UUY6          Q3UUY6   \n",
       "76245                                             Q8CHC1          Q8CHC1   \n",
       "76527                                             Q8BI99          Q8BI99   \n",
       "76538                                             Q2XU92          Q2XU92   \n",
       "76664                                             Q64G17          Q64G17   \n",
       "76689                                             O88575          O88575   \n",
       "76774                                             Q548Z6          Q548Z6   \n",
       "76824                                             Q8BID6          Q8BID6   \n",
       "76859                                             Q6ZPY5          Q6ZPY5   \n",
       "77028                                             Q7TQI8          Q7TQI8   \n",
       "77466                                             Q8JZL2          Q8JZL2   \n",
       "77477                                             P86792          P86792   \n",
       "77506                                             O35739          O35739   \n",
       "77514                                             B2RRM8          B2RRM8   \n",
       "77559                                             Q7TMA2          Q7TMA2   \n",
       "77572                                             Q80VY2          Q80VY2   \n",
       "77594                                             Q8R1X0          Q8R1X0   \n",
       "77596                                             Q923X1          Q923X1   \n",
       "77634                                             Q9DB38          Q9DB38   \n",
       "77831                                             Q8K2V4          Q9QZ85   \n",
       "77874                                             Q3U4K5          Q3U4K5   \n",
       "77877                                             Q9D1Y9          Q9D1Y9   \n",
       "77926                                             Q8BGX1          Q8BGX1   \n",
       "78008                                             E9Q046          E9Q046   \n",
       "78070                                             Q9DCX8          Q9DCX8   \n",
       "78193                                             Q8BGS5          Q8BGS5   \n",
       "78195                                             Q53ZW9          Q53ZW9   \n",
       "78206                                             Q8BWA8          Q8BWA8   \n",
       "78207                                             Q8VIF2          Q8VIF2   \n",
       "78304                                             Q8K0E3          Q8K0E3   \n",
       "78337                                             Q9D869          Q9D869   \n",
       "78346                                             Q7TQM2          Q7TQM2   \n",
       "78356                                             P09023          P09023   \n",
       "78369                                             Q8BS35          Q8BS35   \n",
       "78371                                             Q8BQS5          Q8BQS5   \n",
       "78412                                             Q9WV06          Q9WV06   \n",
       "78417                                             Q5DTZ7          Q5DTZ7   \n",
       "\n",
       "       gn_from_uniprot uniprot_from_gn  \\\n",
       "47473        NoMapping       NoMapping   \n",
       "69990          [CYBC1]       NoMapping   \n",
       "72851          [CYBC1]       NoMapping   \n",
       "72858           [SHFL]       NoMapping   \n",
       "72865         [BCLAF3]       NoMapping   \n",
       "72872          [CYBC1]       NoMapping   \n",
       "72875       [C1ORF109]       NoMapping   \n",
       "72878          [ARMH3]       NoMapping   \n",
       "72885           [RADX]       NoMapping   \n",
       "72888           [SHFL]       NoMapping   \n",
       "72892        NoMapping       NoMapping   \n",
       "72908           [NBDY]       NoMapping   \n",
       "72911         [RAB5IF]       NoMapping   \n",
       "72913        [SPINDOC]       NoMapping   \n",
       "72914          [ARMH3]       NoMapping   \n",
       "72919       [C1ORF109]       NoMapping   \n",
       "72921           [BMT2]       NoMapping   \n",
       "72925         [ZSWIM9]       NoMapping   \n",
       "72948         [BCLAF3]       NoMapping   \n",
       "72960        [LRRC74B]       NoMapping   \n",
       "72964         [CRYZL2]       NoMapping   \n",
       "72983           [BMT2]       NoMapping   \n",
       "72984           [SHFL]       NoMapping   \n",
       "72993        [MARCHF8]       NoMapping   \n",
       "72995           [EID1]       NoMapping   \n",
       "73019          [TEDC2]       NoMapping   \n",
       "73021           [RADX]       NoMapping   \n",
       "73027           [WDCP]       NoMapping   \n",
       "73040        [CCDC191]       NoMapping   \n",
       "73045         [VPS35L]       NoMapping   \n",
       "73048         [CCDC7B]       NoMapping   \n",
       "73049           [LVRN]       NoMapping   \n",
       "73077           [CZIB]       NoMapping   \n",
       "73106           [AGXT]       NoMapping   \n",
       "73166       [RNASET2B]       NoMapping   \n",
       "73184         [CPAMD8]       NoMapping   \n",
       "73208        [SEPTIN5]       NoMapping   \n",
       "74781           [SHFL]       NoMapping   \n",
       "74799        [PABPC1L]       NoMapping   \n",
       "75163          [GBP11]       NoMapping   \n",
       "75195         [GM6498]       NoMapping   \n",
       "75428        [GM12250]       NoMapping   \n",
       "75617  [2010204K13RIK]       NoMapping   \n",
       "75679        [TMEM251]       NoMapping   \n",
       "75731        NoMapping       NoMapping   \n",
       "75940          [RFLNB]       NoMapping   \n",
       "75958          [PROM2]       NoMapping   \n",
       "76245          [BTBD3]       NoMapping   \n",
       "76527         [ZNF879]       NoMapping   \n",
       "76538         [ACSBG2]       NoMapping   \n",
       "76664         [ANP32C]       NoMapping   \n",
       "76689       [SLC6A20B]       NoMapping   \n",
       "76774           [LDHC]       NoMapping   \n",
       "76824         [ZBTB46]       NoMapping   \n",
       "76859         [ZNF507]       NoMapping   \n",
       "77028         [TSPYL2]       NoMapping   \n",
       "77466          [MCHR1]       NoMapping   \n",
       "77477         [CCL21B]       NoMapping   \n",
       "77506           [KLF9]       NoMapping   \n",
       "77514       [SYNDIG1L]       NoMapping   \n",
       "77559         [ZNF503]       NoMapping   \n",
       "77572          [INKA2]       NoMapping   \n",
       "77594       [BC022960]       NoMapping   \n",
       "77596         [ADGRL4]       NoMapping   \n",
       "77634         [ZNF580]       NoMapping   \n",
       "77831          [IIGP1]       NoMapping   \n",
       "77874  [F630007L15RIK]       NoMapping   \n",
       "77877       [SHISAL2B]       NoMapping   \n",
       "77926         [PCED1B]       NoMapping   \n",
       "78008         [TCP10C]       NoMapping   \n",
       "78070            [IYD]       NoMapping   \n",
       "78193        [ZSCAN22]       NoMapping   \n",
       "78195        [SLCO1A1]       NoMapping   \n",
       "78206       [ARHGEF19]       NoMapping   \n",
       "78207         [PRSS42]       NoMapping   \n",
       "78304        [SLC5A11]       NoMapping   \n",
       "78337           [CHP2]       NoMapping   \n",
       "78346       [SCFV 6H8]       NoMapping   \n",
       "78356          [HOXB6]       NoMapping   \n",
       "78369           [AGMO]       NoMapping   \n",
       "78371        [ADIPOR2]       NoMapping   \n",
       "78412         [ANKRD2]       NoMapping   \n",
       "78417         [FBXO40]       NoMapping   \n",
       "\n",
       "                                           gene_id_final  \n",
       "47473  ELAPOR2@EIG121L@ELAPOR2@EIG121L@ELAPOR2@EIG121...  \n",
       "69990                                         CYBC1@EROS  \n",
       "72851                                         CYBC1@EROS  \n",
       "72858                                         SHFL@RYDEN  \n",
       "72865                                      BCLAF3@BCLAF3  \n",
       "72872                                         CYBC1@EROS  \n",
       "72875                         C1ORF109@C1ORF109@C1ORF109  \n",
       "72878                                        ARMH3@ARMH3  \n",
       "72885                                          RADX@RADX  \n",
       "72888                              SHFL@RYDEN@SHFL@RYDEN  \n",
       "72892                                        RUSF1@RUSF1  \n",
       "72908                                 NBDY@2210013O21RIK  \n",
       "72911                                       RAB5IF@RCAF1  \n",
       "72913                                    SPINDOC@SPINDOC  \n",
       "72914                                        ARMH3@ARMH3  \n",
       "72919                         C1ORF109@C1ORF109@C1ORF109  \n",
       "72921                                        BMT2@SAMTOR  \n",
       "72925                               ZSWIM9@6330408A02RIK  \n",
       "72948                                      BCLAF3@BCLAF3  \n",
       "72960                            LRRC74B@LRRC74B@LRRC74B  \n",
       "72964                                      CRYZL2@CRYZL2  \n",
       "72983                                        BMT2@SAMTOR  \n",
       "72984                              SHFL@RYDEN@SHFL@RYDEN  \n",
       "72993                                 MARCHF8@MARCH8@MIR  \n",
       "72995                                          EID1@CRI1  \n",
       "73019                                        TEDC2@TEDC2  \n",
       "73021                                          RADX@RADX  \n",
       "73027                                          WDCP@WDCP  \n",
       "73040        CCDC191@2610015P09RIK@CCDC191@2610015P09RIK  \n",
       "73045                                      VPS35L@VPS35L  \n",
       "73048                               CCDC7B@1700008F21RIK  \n",
       "73049                                         LVRN@AQPEP  \n",
       "73077                                     CZIB@CZIB@CZIB  \n",
       "73106                                         AGXT@AGXT1  \n",
       "73166                         RNASET2B@RNASET2A@RNASE6PL  \n",
       "73184                                    CPAMD8@KIAA1283  \n",
       "73208                                SEPTIN5@HCG_2002594  \n",
       "74781                                         SHFL@RYDEN  \n",
       "74799                                       PABPC1L@EPAB  \n",
       "75163                                     GBP11@EG634650  \n",
       "75195                                    GM6498@EG624367  \n",
       "75428                  GM12250@IRGB10@OTTMUSG00000005723  \n",
       "75617                                 2010204K13RIK@CIP7  \n",
       "75679                              TMEM251@D230037D09RIK  \n",
       "75731                                    ELAPOR2@EIG121L  \n",
       "75940                                 RFLNB@CFM1@FAM101B  \n",
       "75958                                       PROM2@PROML2  \n",
       "76245                                    BTBD3@MKIAA0952  \n",
       "76527                                      ZNF879@ZFP879  \n",
       "76538                                         ACSBG2@BGR  \n",
       "76664                                    ANP32C@ANP32-PS  \n",
       "76689                         SLC6A20B@SLC6A20@XT3@XTRP3  \n",
       "76774                                          LDHC@LDH3  \n",
       "76824                                       ZBTB46@BTBD4  \n",
       "76859                             ZNF507@KIAA1084@ZFP507  \n",
       "77028                 TSPYL2@CINAP@DENTT@DXBWG1396E@TSPX  \n",
       "77466                                   MCHR1@GPR24@SLC1  \n",
       "77477                              CCL21B@SCYA21@SCYA21B  \n",
       "77506                             KLF9@BTEB@BTEB-1@BTEB1  \n",
       "77514                                   SYNDIG1L@TMEM90A  \n",
       "77559                                ZNF503@NOLZ1@ZFP503  \n",
       "77572                                      INKA2@FAM212B  \n",
       "77594                                   BC022960@GM16590  \n",
       "77596                                       ADGRL4@ELTD1  \n",
       "77634                                      ZNF580@ZFP580  \n",
       "77831                                   IIGP1B@LOC435565  \n",
       "77874                    F630007L15RIK@BC005512@EG641366  \n",
       "77877                                   SHISAL2B@FAM159B  \n",
       "77926                                     PCED1B@FAM113B  \n",
       "78008                                      TCP10C@GM9880  \n",
       "78070                                         IYD@DEHAL1  \n",
       "78193                                       ZSCAN22@HKR2  \n",
       "78195                                    SLCO1A1@SLC21A1  \n",
       "78206                                      ARHGEF19@WGEF  \n",
       "78207                                      PRSS42@TESSP2  \n",
       "78304                                 SLC5A11@KST1@SMIT2  \n",
       "78337                                        CHP2@HCA520  \n",
       "78346                                           SCFV@6H8  \n",
       "78356                               HOXB6@HOX-2.2@HOXB-6  \n",
       "78369                                       AGMO@TMEM195  \n",
       "78371                             ADIPOR2@D6UCLA1E@PARQ2  \n",
       "78412                                        ANKRD2@ARPP  \n",
       "78417                                   FBXO40@MKIAA1195  "
      ]
     },
     "execution_count": 215,
     "metadata": {},
     "output_type": "execute_result"
    }
   ],
   "source": [
    "df_fgn.loc[df_fgn['gene_id_final'].str.contains('@')]"
   ]
  },
  {
   "cell_type": "code",
   "execution_count": 406,
   "metadata": {},
   "outputs": [
    {
     "data": {
      "text/plain": [
       "83"
      ]
     },
     "execution_count": 406,
     "metadata": {},
     "output_type": "execute_result"
    }
   ],
   "source": [
    "len(df_fgn.loc[df_fgn['gene_id_final'].str.contains('@')])"
   ]
  },
  {
   "cell_type": "code",
   "execution_count": 407,
   "metadata": {},
   "outputs": [],
   "source": [
    "df_fgn = df_fgn.reset_index(drop=True)\n",
    "\n",
    "df_fgn_gene_id_final_counts = df_fgn.loc[(~df_fgn['gene_id_final'].str.contains(';')) & (~df_fgn['gene_id_final'].str.contains('@'))].groupby('gene_id_final').count()\n",
    "\n",
    "df_fgn_gene_id_final_counts['sum'] = df_fgn_gene_id_final_counts.sum(axis=1)\n",
    "\n",
    "df_fgn_gene_id_final_counts_dict = pd.Series(df_fgn_gene_id_final_counts['sum'].values,index=df_fgn_gene_id_final_counts.index).to_dict() "
   ]
  },
  {
   "cell_type": "code",
   "execution_count": 216,
   "metadata": {
    "collapsed": true,
    "jupyter": {
     "outputs_hidden": true
    },
    "tags": []
   },
   "outputs": [
    {
     "name": "stdout",
     "output_type": "stream",
     "text": [
      "check 1  47473\n",
      "check 1  69990\n",
      "check 1  72851\n",
      "check 1  72858\n",
      "check 1  72865\n",
      "check 1  72872\n",
      "check 1  72875\n",
      "check 1  72885\n",
      "check 1  72888\n",
      "check 1  72908\n",
      "check 1  72911\n",
      "check 1  72919\n",
      "check 1  72921\n",
      "check 1  72925\n",
      "check 1  72948\n",
      "check 1  72960\n",
      "check 1  72983\n",
      "check 1  72984\n",
      "check 1  72993\n",
      "check 1  72995\n",
      "check 1  73019\n",
      "check 1  73021\n",
      "check 1  73040\n",
      "check 1  73048\n",
      "check 1  73049\n",
      "check 1  73106\n",
      "check 1  73166\n",
      "check 1  73184\n",
      "check 1  74781\n",
      "check 1  74799\n",
      "check 1  75163\n",
      "check 1  75195\n",
      "check 1  75428\n",
      "check 1  75617\n",
      "check 1  75731\n",
      "check 1  75940\n",
      "check 1  75958\n",
      "check 1  76245\n",
      "check 1  76527\n",
      "check 1  76538\n",
      "check 1  76664\n",
      "check 1  76689\n",
      "check 1  76774\n",
      "check 1  76824\n",
      "check 1  76859\n",
      "check 1  77028\n",
      "check 1  77466\n",
      "check 1  77477\n",
      "check 1  77506\n",
      "check 1  77514\n",
      "check 1  77559\n",
      "check 1  77572\n",
      "check 1  77594\n",
      "check 1  77596\n",
      "check 1  77634\n",
      "check 1  77831\n",
      "check 1  77874\n",
      "check 1  77877\n",
      "check 1  77926\n",
      "check 1  78008\n",
      "check 1  78070\n",
      "check 1  78193\n",
      "check 1  78195\n",
      "check 1  78206\n",
      "check 1  78207\n",
      "check 1  78304\n",
      "check 1  78337\n",
      "check 1  78346\n",
      "check 1  78356\n",
      "check 1  78369\n",
      "check 1  78371\n",
      "check 1  78412\n",
      "check 1  78417\n"
     ]
    }
   ],
   "source": [
    "for idx,row in df_fgn.loc[df_fgn['gene_id_final'].str.contains('@')].iterrows():\n",
    "    \n",
    "    gns_mostFreq41=np.nan\n",
    "    \n",
    "\n",
    "    gids = row['gene_id_final'].split('@')\n",
    "\n",
    "    counts_occ=dict()\n",
    "    for gid in gids:\n",
    "        counts_occ[gid] = df_fgn_gene_id_final_counts_dict.get(gid,0.0)\n",
    "\n",
    "    # get keys with max value:\n",
    "    max_value = max(counts_occ.values())\n",
    "\n",
    "    if max_value >0:\n",
    "        gns_mostFreq41 = [k for k,v in counts_occ.items() if v == max_value]\n",
    "    else:\n",
    "        df_fgn.loc[idx,'gene_id_final'] = gids[0]\n",
    "        \n",
    "        ns_mostFreq41 = np.nan\n",
    "        print(\"check 1 \",idx)\n",
    "\n",
    "\n",
    "\n",
    "    if isinstance(gns_mostFreq41, list):\n",
    "\n",
    "        if len(gns_mostFreq41)==1:\n",
    "            df_fgn.loc[idx,'gene_id_final'] = gns_mostFreq41[0]\n",
    "            #print(gns_mostFreq41[0])\n",
    "\n",
    "\n",
    "        elif len(gns_mostFreq41) >1:\n",
    "            df_fgn.loc[idx,'gene_id_final'] = gns_mostFreq41[0]\n",
    "            #print(\"check 2 \",idx)\n",
    "        else:\n",
    "            print(\"check 3 \",idx)\n",
    "            \n"
   ]
  },
  {
   "cell_type": "code",
   "execution_count": 217,
   "metadata": {},
   "outputs": [
    {
     "data": {
      "text/plain": [
       "0"
      ]
     },
     "execution_count": 217,
     "metadata": {},
     "output_type": "execute_result"
    }
   ],
   "source": [
    "len(df_fgn.loc[df_fgn['gene_id_final'].str.contains('@')])"
   ]
  },
  {
   "cell_type": "code",
   "execution_count": 218,
   "metadata": {},
   "outputs": [
    {
     "data": {
      "text/html": [
       "<div>\n",
       "<style scoped>\n",
       "    .dataframe tbody tr th:only-of-type {\n",
       "        vertical-align: middle;\n",
       "    }\n",
       "\n",
       "    .dataframe tbody tr th {\n",
       "        vertical-align: top;\n",
       "    }\n",
       "\n",
       "    .dataframe thead th {\n",
       "        text-align: right;\n",
       "    }\n",
       "</style>\n",
       "<table border=\"1\" class=\"dataframe\">\n",
       "  <thead>\n",
       "    <tr style=\"text-align: right;\">\n",
       "      <th></th>\n",
       "      <th>gene_names</th>\n",
       "      <th>gene_name_unified</th>\n",
       "      <th>Uniprot</th>\n",
       "      <th>Uniprot_unified</th>\n",
       "      <th>gn_from_uniprot</th>\n",
       "      <th>uniprot_from_gn</th>\n",
       "      <th>gene_id_final</th>\n",
       "    </tr>\n",
       "  </thead>\n",
       "  <tbody>\n",
       "  </tbody>\n",
       "</table>\n",
       "</div>"
      ],
      "text/plain": [
       "Empty DataFrame\n",
       "Columns: [gene_names, gene_name_unified, Uniprot, Uniprot_unified, gn_from_uniprot, uniprot_from_gn, gene_id_final]\n",
       "Index: []"
      ]
     },
     "execution_count": 218,
     "metadata": {},
     "output_type": "execute_result"
    }
   ],
   "source": [
    "df_fgn.loc[df_fgn['gene_id_final'].str.contains('@')]"
   ]
  },
  {
   "cell_type": "code",
   "execution_count": null,
   "metadata": {},
   "outputs": [],
   "source": []
  },
  {
   "cell_type": "code",
   "execution_count": 219,
   "metadata": {},
   "outputs": [],
   "source": [
    "with open('../data/2_df_fgn_9May2021.pkl','wb') as f:\n",
    "    pkl.dump(df_fgn,f)"
   ]
  },
  {
   "cell_type": "code",
   "execution_count": null,
   "metadata": {},
   "outputs": [],
   "source": []
  },
  {
   "cell_type": "code",
   "execution_count": null,
   "metadata": {},
   "outputs": [],
   "source": [
    "# Possible improvement:\n",
    "\n",
    "# for rat and human entries check if their gene_id_final exists in mouse entries\n",
    "# if gene_id_final doesn't exist in mouse entries, try to find corresponding mouse gene name using Entry-name, Gene name, Uniprot from uniprot_rev, uniprot_unrev\n"
   ]
  },
  {
   "cell_type": "code",
   "execution_count": null,
   "metadata": {},
   "outputs": [],
   "source": []
  },
  {
   "cell_type": "code",
   "execution_count": 220,
   "metadata": {},
   "outputs": [
    {
     "data": {
      "text/plain": [
       "14798"
      ]
     },
     "execution_count": 220,
     "metadata": {},
     "output_type": "execute_result"
    }
   ],
   "source": [
    "len(df_fgn['gene_id_final'].unique())"
   ]
  },
  {
   "cell_type": "code",
   "execution_count": 221,
   "metadata": {},
   "outputs": [
    {
     "data": {
      "text/plain": [
       "14798"
      ]
     },
     "execution_count": 221,
     "metadata": {},
     "output_type": "execute_result"
    }
   ],
   "source": [
    "len(df_fgn.loc[~df_fgn['gene_id_final'].isna(),'gene_id_final'].unique()) #14823"
   ]
  },
  {
   "cell_type": "code",
   "execution_count": null,
   "metadata": {},
   "outputs": [],
   "source": []
  },
  {
   "cell_type": "code",
   "execution_count": 222,
   "metadata": {},
   "outputs": [],
   "source": [
    "df_fgn = df_fgn.reset_index(drop=True)"
   ]
  },
  {
   "cell_type": "code",
   "execution_count": 223,
   "metadata": {},
   "outputs": [
    {
     "data": {
      "text/plain": [
       "Index(['gene_names', 'Uniprot', 'Study', 'Organism', 'location', 'Age_cat',\n",
       "       'Age_days', 'condition', 'sample_id', 'molecular_weight_kDa',\n",
       "       'raw_data', 'raw_data_units', 'gene_name_unified', 'Uniprot_unified'],\n",
       "      dtype='object')"
      ]
     },
     "execution_count": 223,
     "metadata": {},
     "output_type": "execute_result"
    }
   ],
   "source": [
    "df_all.columns"
   ]
  },
  {
   "cell_type": "code",
   "execution_count": 224,
   "metadata": {},
   "outputs": [
    {
     "data": {
      "text/plain": [
       "Index(['gene_names', 'gene_name_unified', 'Uniprot', 'Uniprot_unified',\n",
       "       'gn_from_uniprot', 'uniprot_from_gn', 'gene_id_final'],\n",
       "      dtype='object')"
      ]
     },
     "execution_count": 224,
     "metadata": {},
     "output_type": "execute_result"
    }
   ],
   "source": [
    "df_fgn.columns"
   ]
  },
  {
   "cell_type": "code",
   "execution_count": 225,
   "metadata": {},
   "outputs": [
    {
     "name": "stdout",
     "output_type": "stream",
     "text": [
      "2140373\n",
      "86673\n"
     ]
    }
   ],
   "source": [
    "print(len(df_all))\n",
    "print(len(df_fgn))"
   ]
  },
  {
   "cell_type": "code",
   "execution_count": 226,
   "metadata": {},
   "outputs": [
    {
     "data": {
      "text/plain": [
       "2132553"
      ]
     },
     "execution_count": 226,
     "metadata": {},
     "output_type": "execute_result"
    }
   ],
   "source": [
    "df = pd.merge(df_all,df_fgn,how='inner',on=['gene_names', 'gene_name_unified', 'Uniprot', 'Uniprot_unified'])\n",
    "len(df)"
   ]
  },
  {
   "cell_type": "code",
   "execution_count": 227,
   "metadata": {},
   "outputs": [
    {
     "data": {
      "text/html": [
       "<div>\n",
       "<style scoped>\n",
       "    .dataframe tbody tr th:only-of-type {\n",
       "        vertical-align: middle;\n",
       "    }\n",
       "\n",
       "    .dataframe tbody tr th {\n",
       "        vertical-align: top;\n",
       "    }\n",
       "\n",
       "    .dataframe thead th {\n",
       "        text-align: right;\n",
       "    }\n",
       "</style>\n",
       "<table border=\"1\" class=\"dataframe\">\n",
       "  <thead>\n",
       "    <tr style=\"text-align: right;\">\n",
       "      <th></th>\n",
       "      <th>gene_names</th>\n",
       "      <th>Uniprot</th>\n",
       "      <th>Study</th>\n",
       "      <th>Organism</th>\n",
       "      <th>location</th>\n",
       "      <th>Age_cat</th>\n",
       "      <th>Age_days</th>\n",
       "      <th>condition</th>\n",
       "      <th>sample_id</th>\n",
       "      <th>molecular_weight_kDa</th>\n",
       "      <th>raw_data</th>\n",
       "      <th>raw_data_units</th>\n",
       "      <th>gene_name_unified</th>\n",
       "      <th>Uniprot_unified</th>\n",
       "      <th>gn_from_uniprot</th>\n",
       "      <th>uniprot_from_gn</th>\n",
       "      <th>gene_id_final</th>\n",
       "    </tr>\n",
       "  </thead>\n",
       "  <tbody>\n",
       "  </tbody>\n",
       "</table>\n",
       "</div>"
      ],
      "text/plain": [
       "Empty DataFrame\n",
       "Columns: [gene_names, Uniprot, Study, Organism, location, Age_cat, Age_days, condition, sample_id, molecular_weight_kDa, raw_data, raw_data_units, gene_name_unified, Uniprot_unified, gn_from_uniprot, uniprot_from_gn, gene_id_final]\n",
       "Index: []"
      ]
     },
     "execution_count": 227,
     "metadata": {},
     "output_type": "execute_result"
    }
   ],
   "source": [
    "df.loc[df['gene_id_final'].isna()].head()"
   ]
  },
  {
   "cell_type": "code",
   "execution_count": 228,
   "metadata": {},
   "outputs": [
    {
     "name": "stdout",
     "output_type": "stream",
     "text": [
      "2132553\n",
      "2132553\n"
     ]
    }
   ],
   "source": [
    "### check gene_id_final\n",
    "\n",
    "print(len(df))\n",
    "print(len(df.loc[~df['gene_id_final'].isna()].copy()))\n",
    "\n"
   ]
  },
  {
   "cell_type": "code",
   "execution_count": 229,
   "metadata": {},
   "outputs": [
    {
     "data": {
      "text/plain": [
       "[both, left_only]\n",
       "Categories (2, object): [both, left_only]"
      ]
     },
     "execution_count": 229,
     "metadata": {},
     "output_type": "execute_result"
    }
   ],
   "source": [
    "extra = pd.merge(df_all,df_fgn, how='left', indicator=True)\n",
    "\n",
    "extra['_merge'].unique()"
   ]
  },
  {
   "cell_type": "code",
   "execution_count": 230,
   "metadata": {},
   "outputs": [
    {
     "data": {
      "text/plain": [
       "7820"
      ]
     },
     "execution_count": 230,
     "metadata": {},
     "output_type": "execute_result"
    }
   ],
   "source": [
    "len(extra.loc[extra['_merge']=='left_only'])"
   ]
  },
  {
   "cell_type": "code",
   "execution_count": 231,
   "metadata": {},
   "outputs": [
    {
     "data": {
      "text/plain": [
       "0"
      ]
     },
     "execution_count": 231,
     "metadata": {},
     "output_type": "execute_result"
    }
   ],
   "source": [
    "len(extra.loc[(extra['_merge']=='left_only') & (~extra['gene_names'].isna()) ])"
   ]
  },
  {
   "cell_type": "code",
   "execution_count": 232,
   "metadata": {},
   "outputs": [],
   "source": [
    "with open('../data/2_df_best_alignedIDs_9May2021.pkl','wb') as f:\n",
    "    pkl.dump(df,f)"
   ]
  },
  {
   "cell_type": "code",
   "execution_count": null,
   "metadata": {},
   "outputs": [],
   "source": []
  }
 ],
 "metadata": {
  "kernelspec": {
   "display_name": "Python 3",
   "language": "python",
   "name": "python3"
  },
  "language_info": {
   "codemirror_mode": {
    "name": "ipython",
    "version": 3
   },
   "file_extension": ".py",
   "mimetype": "text/x-python",
   "name": "python",
   "nbconvert_exporter": "python",
   "pygments_lexer": "ipython3",
   "version": "3.7.4"
  }
 },
 "nbformat": 4,
 "nbformat_minor": 4
}
