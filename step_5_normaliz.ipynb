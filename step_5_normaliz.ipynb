{
 "cells": [
  {
   "cell_type": "markdown",
   "metadata": {},
   "source": [
    "This file is part of MADIP: Molecular Atlas Data Integration Pipeline\n",
    "\n",
    "This file performs normalization\n",
    "\n",
    "Copyright 2021 Blue Brain Project / EPFL \n",
    "\n",
    "   Licensed under the Apache License, Version 2.0 (the \"License\");\n",
    "   you may not use this file except in compliance with the License.\n",
    "   You may obtain a copy of the License at\n",
    "\n",
    "       http://www.apache.org/licenses/LICENSE-2.0\n",
    "\n",
    "   Unless required by applicable law or agreed to in writing, software\n",
    "   distributed under the License is distributed on an \"AS IS\" BASIS,\n",
    "   WITHOUT WARRANTIES OR CONDITIONS OF ANY KIND, either express or implied.\n",
    "   See the License for the specific language governing permissions and\n",
    "   limitations under the License.\n",
    "   "
   ]
  },
  {
   "cell_type": "code",
   "execution_count": 1,
   "metadata": {},
   "outputs": [],
   "source": [
    "import pandas as pd\n",
    "import numpy as np\n",
    "from numpy.random import seed\n",
    "from numpy.random import randint\n",
    "\n",
    "from matplotlib import pyplot as plt\n",
    "import seaborn as sns\n",
    "\n",
    "import re\n",
    "import pickle as pkl\n",
    "\n",
    "import scipy.stats as st\n",
    "\n",
    "from matplotlib.cbook import boxplot_stats\n",
    "\n",
    "from scipy.stats import ks_2samp\n",
    "from scipy.stats import levene\n",
    "from scipy.stats import kruskal\n",
    "\n",
    "import scikit_posthocs as sp\n",
    "\n",
    "pd.options.display.max_columns = None\n",
    "pd.options.display.max_rows = None\n",
    "\n",
    "%matplotlib inline\n",
    "%config InlineBackend.figure_format = 'retina'\n",
    "\n",
    "sns.set_style('whitegrid',{'axes.grid':False})"
   ]
  },
  {
   "cell_type": "code",
   "execution_count": null,
   "metadata": {},
   "outputs": [],
   "source": [
    "# load data from 4_cleanMetadata.ipynb\n",
    "\n",
    "with open('../data/4_df_agecat.pkl','rb') as f:\n",
    "    df = pkl.load(f)\n",
    "print(len(df))\n"
   ]
  },
  {
   "cell_type": "markdown",
   "metadata": {},
   "source": [
    "### Normalization"
   ]
  },
  {
   "cell_type": "code",
   "execution_count": null,
   "metadata": {},
   "outputs": [],
   "source": [
    "# sort entries by studies in required order\n",
    "\n",
    "custom_dict = {'Itzhak 2017':0,\n",
    "               'Wisniewski 2015':1,\n",
    "              'Bai 2020':2,\n",
    "              'Hasan 2020':3,\n",
    "              'Geiger 2013':4,\n",
    "              'Kjell 2020':5,\n",
    "              'Fecher 2019':6,\n",
    "              'Guergues 2019':7,\n",
    "              'Hamezah 2019':8,\n",
    "              'McKetney 2019':9,\n",
    "              'Hamezah 2018':10,\n",
    "              'Krogager 2018':11,\n",
    "              'Zhu 2018':12,\n",
    "              'Carlyle 2017':13,\n",
    "              'Sharma 2015, isolated':14,\n",
    "              'Sharma 2015, cultured':15,\n",
    "              'Han 2014':16,\n",
    "              'Davis 2019':17,\n",
    "              'Chuang 2018':18,\n",
    "              'Fornasiero 2018':19,\n",
    "              'Hosp 2017, insoluble':20,\n",
    "              'Hosp 2017, soluble':21,\n",
    "              'Hosp 2017, CSF':22,\n",
    "              'Beltran 2016':23,\n",
    "              'Duda 2018':24}  \n",
    "\n",
    "df = df.iloc[df['Study'].map(custom_dict).argsort()]\n",
    "df = df.reset_index(drop=True)"
   ]
  },
  {
   "cell_type": "code",
   "execution_count": null,
   "metadata": {},
   "outputs": [],
   "source": [
    "df['compound_gene_protein_id'] = df['gene_id_final'] +\"#\"+ df['Uniprot_final']\n",
    "\n",
    "df['row_id'] = df['compound_gene_protein_id'] +\"@\"+ df['sample_full_id']\n",
    "\n",
    "df['row_gene_id'] = df['gene_id_final'] +\"@\"+ df['sample_full_id']"
   ]
  },
  {
   "cell_type": "code",
   "execution_count": 7,
   "metadata": {},
   "outputs": [
    {
     "name": "stdout",
     "output_type": "stream",
     "text": [
      "2131798\n",
      "2131797\n",
      "2131942\n",
      "42078\n",
      "946\n",
      "1404\n"
     ]
    }
   ],
   "source": [
    "df2 = df.drop_duplicates(subset=['row_id','compound_gene_protein_id','sample_full_id','Study','raw_data'],keep='first').reset_index(drop=True) #.unique()\n",
    "\n",
    "df2g = df.drop_duplicates(subset=['row_gene_id','gene_id_final','sample_full_id','Study','raw_data'],keep='first').reset_index(drop=True) #.unique()\n",
    "\n",
    "print(len(df2))\n",
    "print(len(df2g))\n",
    "print(len(df))\n",
    "\n",
    "dt = df2[['gene_id_final','row_id','compound_gene_protein_id','sample_full_id','Study']].copy()\n",
    "dtg = df2[['gene_id_final','row_gene_id','sample_full_id','Study']].copy()\n",
    "\n",
    "\n",
    "dd = dt[dt.duplicated(keep=False)].sort_values(['row_id','compound_gene_protein_id','sample_full_id','Study'], ascending=[True,True,True,True])\n",
    "ddg = dtg[dtg.duplicated(keep=False)].sort_values(['row_gene_id','gene_id_final','sample_full_id','Study'], ascending=[True,True,True,True])\n",
    "\n",
    "print(len(dd)) \n",
    "\n",
    "print(len(df.loc[df['row_id'].isin(dd['row_id'].unique()),'gene_names'].unique()))\n",
    "print(len(df.loc[df['row_gene_id'].isin(ddg['row_gene_id'].unique()),'gene_names'].unique()))\n",
    "\n",
    "df_fgn = df[['gene_id_final','Study']].copy()\n",
    "\n",
    "df_fgn_gene_id_final_counts = df_fgn.groupby('gene_id_final').count()\n",
    "\n",
    "df_fgn_gene_id_final_counts['sum'] = df_fgn_gene_id_final_counts.sum(axis=1)\n",
    "\n",
    "df_fgn_gene_id_final_counts_dict = pd.Series(df_fgn_gene_id_final_counts['sum'].values,index=df_fgn_gene_id_final_counts.index).to_dict() \n",
    "\n",
    "df_fgn2 = df[['Uniprot_final','Study']].copy()\n",
    "\n",
    "df_fgn_uniprot_final_counts = df_fgn2.groupby('Uniprot_final').count()\n",
    "\n",
    "df_fgn_uniprot_final_counts['sum'] = df_fgn_uniprot_final_counts.sum(axis=1)\n",
    "\n",
    "df_fgn_uniprot_final_counts_dict = pd.Series(df_fgn_uniprot_final_counts['sum'].values,index=df_fgn_uniprot_final_counts.index).to_dict() "
   ]
  },
  {
   "cell_type": "code",
   "execution_count": 8,
   "metadata": {},
   "outputs": [],
   "source": [
    "def deduplicate_gn_uni(idx,row):\n",
    "    gns = list()\n",
    "    gns_new = list()\n",
    "    \n",
    "    uniprots = list()\n",
    "    uniprots_new = list()\n",
    "    \n",
    "    if isinstance(row['gene_names'],str):\n",
    "        if (';' in row['gene_names']):\n",
    "            for elem in row['gene_names'].split(';'):\n",
    "                if df_fgn_gene_id_final_counts_dict.get(elem,\"NotFoundInDict\") != 'NotFoundInDict':\n",
    "                    if (~(elem +\"@\"+ row['sample_full_id'] in df['row_gene_id'].unique())):\n",
    "                        return elem\n",
    "                        \n",
    "                        \n",
    "                    else:\n",
    "                        gns.append(elem)\n",
    "                else:\n",
    "                    gns_new.append(elem)\n",
    "            \n",
    "            gns_new = [x for x in gns_new if not None]\n",
    "            gns = [x for x in gns if not None]\n",
    "            \n",
    "            if len(gns_new)>0:        \n",
    "                return gns_new[0]\n",
    "            elif len(gns)>0:        \n",
    "                return gns[0]\n",
    "                    \n",
    "                \n",
    "        else:\n",
    "            return row['gene_names']\n",
    "                    \n",
    "    \n",
    "    else:\n",
    "        #print(\"attention \",idx)\n",
    "        \n",
    "        if isinstance(row['Uniprot'],str):\n",
    "\n",
    "            if (';' in row['Uniprot']):\n",
    "                for elem in row['Uniprot'].split(';'):\n",
    "                    if df_fgn_uniprot_final_counts_dict.get(elem,\"NotFoundInDict\") != 'NotFoundInDict':\n",
    "                        if (~(row['gene_id_final'] +\"#\"+  elem +\"@\"+ row['sample_full_id'] in df['row_id'].unique())):\n",
    "                            return  \"attention\"+\"#\"+elem\n",
    "\n",
    "\n",
    "                        else:\n",
    "                            uniprots.append(elem)\n",
    "                    else:\n",
    "                        uniprots_new.append(elem)\n",
    "\n",
    "                uniprots_new = [x for x in uniprots_new if not None]\n",
    "                uniprots = [x for x in uniprots if not None]\n",
    "\n",
    "                if len(uniprots_new)>0:        \n",
    "                    return \"attention\"+\"#\"+uniprots_new[0]\n",
    "                elif len(uniprots)>0:        \n",
    "                    return \"attention\"+\"#\"+uniprots[0]\n",
    "\n",
    "                \n",
    "            else:\n",
    "                return \"attention\"+\"#\"+row['Uniprot']\n",
    "            \n",
    "        else:\n",
    "            return \"check_this_entry\""
   ]
  },
  {
   "cell_type": "code",
   "execution_count": 9,
   "metadata": {},
   "outputs": [
    {
     "name": "stdout",
     "output_type": "stream",
     "text": [
      "58892\n"
     ]
    }
   ],
   "source": [
    "df4ids = df[['gene_names', 'Uniprot', 'gene_name_unified', 'Uniprot_unified',\n",
    "       'gene_id_final',  'Uniprot_final',\n",
    "       'sample_full_id','row_id','row_gene_id']].copy()\n",
    "\n",
    "df4ids = df4ids.drop_duplicates(keep='first')\n",
    "\n",
    "df4ids = df4ids.reset_index(drop=True)\n",
    "\n",
    "print(len(df4ids.loc[df4ids['row_gene_id'].isin(ddg['row_gene_id'].unique())]))\n"
   ]
  },
  {
   "cell_type": "code",
   "execution_count": 10,
   "metadata": {},
   "outputs": [
    {
     "name": "stdout",
     "output_type": "stream",
     "text": [
      "2073050\n"
     ]
    }
   ],
   "source": [
    "print(len(df4ids.loc[~df4ids['row_gene_id'].isin(ddg['row_gene_id'].unique())]))\n"
   ]
  },
  {
   "cell_type": "code",
   "execution_count": 9,
   "metadata": {},
   "outputs": [
    {
     "name": "stdout",
     "output_type": "stream",
     "text": [
      "10000\n",
      "840000\n",
      "960000\n",
      "1440000\n",
      "1470000\n",
      "1960000\n"
     ]
    }
   ],
   "source": [
    "df['gene_id_dd'] = None\n",
    "\n",
    "for idx,row in df.loc[df['row_gene_id'].isin(ddg['row_gene_id'].unique())].iterrows():\n",
    "    df.loc[idx,'gene_id_dd'] = deduplicate_gn_uni(idx,row)\n",
    "    if ((idx % 10000 )==0):\n",
    "        print(idx)"
   ]
  },
  {
   "cell_type": "code",
   "execution_count": 12,
   "metadata": {},
   "outputs": [
    {
     "data": {
      "text/html": [
       "<div>\n",
       "<style scoped>\n",
       "    .dataframe tbody tr th:only-of-type {\n",
       "        vertical-align: middle;\n",
       "    }\n",
       "\n",
       "    .dataframe tbody tr th {\n",
       "        vertical-align: top;\n",
       "    }\n",
       "\n",
       "    .dataframe thead th {\n",
       "        text-align: right;\n",
       "    }\n",
       "</style>\n",
       "<table border=\"1\" class=\"dataframe\">\n",
       "  <thead>\n",
       "    <tr style=\"text-align: right;\">\n",
       "      <th></th>\n",
       "      <th>gene_names</th>\n",
       "      <th>Uniprot</th>\n",
       "      <th>Study</th>\n",
       "      <th>Organism</th>\n",
       "      <th>location</th>\n",
       "      <th>Age_cat</th>\n",
       "      <th>Age_days</th>\n",
       "      <th>condition</th>\n",
       "      <th>sample_id</th>\n",
       "      <th>molecular_weight_kDa</th>\n",
       "      <th>raw_data</th>\n",
       "      <th>raw_data_units</th>\n",
       "      <th>gene_name_unified</th>\n",
       "      <th>Uniprot_unified</th>\n",
       "      <th>gene_id_final</th>\n",
       "      <th>log_raw_data</th>\n",
       "      <th>uniprot_from_gn</th>\n",
       "      <th>Uniprot_final</th>\n",
       "      <th>TheorPepNum</th>\n",
       "      <th>conc_uM</th>\n",
       "      <th>log_conc_uM</th>\n",
       "      <th>copyNum</th>\n",
       "      <th>totalProtein</th>\n",
       "      <th>totalVolume</th>\n",
       "      <th>sample_full_id</th>\n",
       "      <th>compound_gene_protein_id</th>\n",
       "      <th>row_id</th>\n",
       "      <th>row_gene_id</th>\n",
       "      <th>gene_id_dd</th>\n",
       "    </tr>\n",
       "  </thead>\n",
       "  <tbody>\n",
       "    <tr>\n",
       "      <th>170</th>\n",
       "      <td>SERBP1</td>\n",
       "      <td>Q9CY58;Q3UMP4;A0A0N4SV32;Q9CY58-4</td>\n",
       "      <td>Itzhak 2017</td>\n",
       "      <td>mouse</td>\n",
       "      <td>large protein complex</td>\n",
       "      <td>embr</td>\n",
       "      <td>15</td>\n",
       "      <td>NaN</td>\n",
       "      <td>NaN</td>\n",
       "      <td>44.714</td>\n",
       "      <td>250.760031</td>\n",
       "      <td>Median cellular concentration [nM]</td>\n",
       "      <td>SERBP1</td>\n",
       "      <td>Q9CY58</td>\n",
       "      <td>SERBP1</td>\n",
       "      <td>5.524496</td>\n",
       "      <td>[Q6AXS5, Q8NC51, Q9CY58]</td>\n",
       "      <td>Q9CY58</td>\n",
       "      <td>None</td>\n",
       "      <td>0.25076</td>\n",
       "      <td>-1.383259</td>\n",
       "      <td>None</td>\n",
       "      <td>None</td>\n",
       "      <td>None</td>\n",
       "      <td>Itzhak 2017_mouse_large protein complex_15_nan...</td>\n",
       "      <td>SERBP1#Q9CY58</td>\n",
       "      <td>SERBP1#Q9CY58@Itzhak 2017_mouse_large protein ...</td>\n",
       "      <td>SERBP1@Itzhak 2017_mouse_large protein complex...</td>\n",
       "      <td>SERBP1</td>\n",
       "    </tr>\n",
       "    <tr>\n",
       "      <th>172</th>\n",
       "      <td>SERBP1</td>\n",
       "      <td>Q9CY58-2;Q9CY58-3</td>\n",
       "      <td>Itzhak 2017</td>\n",
       "      <td>mouse</td>\n",
       "      <td>large protein complex</td>\n",
       "      <td>embr</td>\n",
       "      <td>15</td>\n",
       "      <td>NaN</td>\n",
       "      <td>NaN</td>\n",
       "      <td>42.944</td>\n",
       "      <td>4483.937667</td>\n",
       "      <td>Median cellular concentration [nM]</td>\n",
       "      <td>SERBP1</td>\n",
       "      <td>Q9CY58</td>\n",
       "      <td>SERBP1</td>\n",
       "      <td>8.408257</td>\n",
       "      <td>[Q6AXS5, Q8NC51, Q9CY58]</td>\n",
       "      <td>Q9CY58</td>\n",
       "      <td>None</td>\n",
       "      <td>4.48394</td>\n",
       "      <td>1.500502</td>\n",
       "      <td>None</td>\n",
       "      <td>None</td>\n",
       "      <td>None</td>\n",
       "      <td>Itzhak 2017_mouse_large protein complex_15_nan...</td>\n",
       "      <td>SERBP1#Q9CY58</td>\n",
       "      <td>SERBP1#Q9CY58@Itzhak 2017_mouse_large protein ...</td>\n",
       "      <td>SERBP1@Itzhak 2017_mouse_large protein complex...</td>\n",
       "      <td>SERBP1</td>\n",
       "    </tr>\n",
       "    <tr>\n",
       "      <th>249</th>\n",
       "      <td>DOCK11</td>\n",
       "      <td>A2AF67</td>\n",
       "      <td>Itzhak 2017</td>\n",
       "      <td>mouse</td>\n",
       "      <td>subcellular not specified</td>\n",
       "      <td>embr</td>\n",
       "      <td>15</td>\n",
       "      <td>NaN</td>\n",
       "      <td>NaN</td>\n",
       "      <td>218.24</td>\n",
       "      <td>0.043733</td>\n",
       "      <td>Median cellular concentration [nM]</td>\n",
       "      <td>DOCK11</td>\n",
       "      <td>A2AF47</td>\n",
       "      <td>DOCK11</td>\n",
       "      <td>-3.129652</td>\n",
       "      <td>[Q5JSL3, A2AF47]</td>\n",
       "      <td>A2AF47</td>\n",
       "      <td>None</td>\n",
       "      <td>4.3733e-05</td>\n",
       "      <td>-10.037407</td>\n",
       "      <td>None</td>\n",
       "      <td>None</td>\n",
       "      <td>None</td>\n",
       "      <td>Itzhak 2017_mouse_subcellular not specified_15...</td>\n",
       "      <td>DOCK11#A2AF47</td>\n",
       "      <td>DOCK11#A2AF47@Itzhak 2017_mouse_subcellular no...</td>\n",
       "      <td>DOCK11@Itzhak 2017_mouse_subcellular not speci...</td>\n",
       "      <td>DOCK11</td>\n",
       "    </tr>\n",
       "    <tr>\n",
       "      <th>250</th>\n",
       "      <td>DOCK11</td>\n",
       "      <td>A2AF65</td>\n",
       "      <td>Itzhak 2017</td>\n",
       "      <td>mouse</td>\n",
       "      <td>subcellular not specified</td>\n",
       "      <td>embr</td>\n",
       "      <td>15</td>\n",
       "      <td>NaN</td>\n",
       "      <td>NaN</td>\n",
       "      <td>61.047</td>\n",
       "      <td>0.715648</td>\n",
       "      <td>Median cellular concentration [nM]</td>\n",
       "      <td>DOCK11</td>\n",
       "      <td>A2AF47</td>\n",
       "      <td>DOCK11</td>\n",
       "      <td>-0.334567</td>\n",
       "      <td>[Q5JSL3, A2AF47]</td>\n",
       "      <td>A2AF47</td>\n",
       "      <td>None</td>\n",
       "      <td>0.000715648</td>\n",
       "      <td>-7.242323</td>\n",
       "      <td>None</td>\n",
       "      <td>None</td>\n",
       "      <td>None</td>\n",
       "      <td>Itzhak 2017_mouse_subcellular not specified_15...</td>\n",
       "      <td>DOCK11#A2AF47</td>\n",
       "      <td>DOCK11#A2AF47@Itzhak 2017_mouse_subcellular no...</td>\n",
       "      <td>DOCK11@Itzhak 2017_mouse_subcellular not speci...</td>\n",
       "      <td>DOCK11</td>\n",
       "    </tr>\n",
       "    <tr>\n",
       "      <th>349</th>\n",
       "      <td>PITPNC1</td>\n",
       "      <td>Q8K4R4-2</td>\n",
       "      <td>Itzhak 2017</td>\n",
       "      <td>mouse</td>\n",
       "      <td>subcellular not specified</td>\n",
       "      <td>embr</td>\n",
       "      <td>15</td>\n",
       "      <td>NaN</td>\n",
       "      <td>NaN</td>\n",
       "      <td>31.772</td>\n",
       "      <td>13.835509</td>\n",
       "      <td>Median cellular concentration [nM]</td>\n",
       "      <td>PITPNC1</td>\n",
       "      <td>Q8K4R4</td>\n",
       "      <td>PITPNC1</td>\n",
       "      <td>2.627238</td>\n",
       "      <td>[Q9UKF7, Q8K4R4]</td>\n",
       "      <td>Q8K4R4</td>\n",
       "      <td>None</td>\n",
       "      <td>0.0138355</td>\n",
       "      <td>-4.280517</td>\n",
       "      <td>None</td>\n",
       "      <td>None</td>\n",
       "      <td>None</td>\n",
       "      <td>Itzhak 2017_mouse_subcellular not specified_15...</td>\n",
       "      <td>PITPNC1#Q8K4R4</td>\n",
       "      <td>PITPNC1#Q8K4R4@Itzhak 2017_mouse_subcellular n...</td>\n",
       "      <td>PITPNC1@Itzhak 2017_mouse_subcellular not spec...</td>\n",
       "      <td>PITPNC1</td>\n",
       "    </tr>\n",
       "  </tbody>\n",
       "</table>\n",
       "</div>"
      ],
      "text/plain": [
       "    gene_names                            Uniprot        Study Organism  \\\n",
       "170     SERBP1  Q9CY58;Q3UMP4;A0A0N4SV32;Q9CY58-4  Itzhak 2017    mouse   \n",
       "172     SERBP1                  Q9CY58-2;Q9CY58-3  Itzhak 2017    mouse   \n",
       "249     DOCK11                             A2AF67  Itzhak 2017    mouse   \n",
       "250     DOCK11                             A2AF65  Itzhak 2017    mouse   \n",
       "349    PITPNC1                           Q8K4R4-2  Itzhak 2017    mouse   \n",
       "\n",
       "                      location Age_cat Age_days condition sample_id  \\\n",
       "170      large protein complex    embr       15       NaN       NaN   \n",
       "172      large protein complex    embr       15       NaN       NaN   \n",
       "249  subcellular not specified    embr       15       NaN       NaN   \n",
       "250  subcellular not specified    embr       15       NaN       NaN   \n",
       "349  subcellular not specified    embr       15       NaN       NaN   \n",
       "\n",
       "    molecular_weight_kDa     raw_data                      raw_data_units  \\\n",
       "170               44.714   250.760031  Median cellular concentration [nM]   \n",
       "172               42.944  4483.937667  Median cellular concentration [nM]   \n",
       "249               218.24     0.043733  Median cellular concentration [nM]   \n",
       "250               61.047     0.715648  Median cellular concentration [nM]   \n",
       "349               31.772    13.835509  Median cellular concentration [nM]   \n",
       "\n",
       "    gene_name_unified Uniprot_unified gene_id_final  log_raw_data  \\\n",
       "170            SERBP1          Q9CY58        SERBP1      5.524496   \n",
       "172            SERBP1          Q9CY58        SERBP1      8.408257   \n",
       "249            DOCK11          A2AF47        DOCK11     -3.129652   \n",
       "250            DOCK11          A2AF47        DOCK11     -0.334567   \n",
       "349           PITPNC1          Q8K4R4       PITPNC1      2.627238   \n",
       "\n",
       "              uniprot_from_gn Uniprot_final TheorPepNum      conc_uM  \\\n",
       "170  [Q6AXS5, Q8NC51, Q9CY58]        Q9CY58        None      0.25076   \n",
       "172  [Q6AXS5, Q8NC51, Q9CY58]        Q9CY58        None      4.48394   \n",
       "249          [Q5JSL3, A2AF47]        A2AF47        None   4.3733e-05   \n",
       "250          [Q5JSL3, A2AF47]        A2AF47        None  0.000715648   \n",
       "349          [Q9UKF7, Q8K4R4]        Q8K4R4        None    0.0138355   \n",
       "\n",
       "     log_conc_uM copyNum totalProtein totalVolume  \\\n",
       "170    -1.383259    None         None        None   \n",
       "172     1.500502    None         None        None   \n",
       "249   -10.037407    None         None        None   \n",
       "250    -7.242323    None         None        None   \n",
       "349    -4.280517    None         None        None   \n",
       "\n",
       "                                        sample_full_id  \\\n",
       "170  Itzhak 2017_mouse_large protein complex_15_nan...   \n",
       "172  Itzhak 2017_mouse_large protein complex_15_nan...   \n",
       "249  Itzhak 2017_mouse_subcellular not specified_15...   \n",
       "250  Itzhak 2017_mouse_subcellular not specified_15...   \n",
       "349  Itzhak 2017_mouse_subcellular not specified_15...   \n",
       "\n",
       "    compound_gene_protein_id  \\\n",
       "170            SERBP1#Q9CY58   \n",
       "172            SERBP1#Q9CY58   \n",
       "249            DOCK11#A2AF47   \n",
       "250            DOCK11#A2AF47   \n",
       "349           PITPNC1#Q8K4R4   \n",
       "\n",
       "                                                row_id  \\\n",
       "170  SERBP1#Q9CY58@Itzhak 2017_mouse_large protein ...   \n",
       "172  SERBP1#Q9CY58@Itzhak 2017_mouse_large protein ...   \n",
       "249  DOCK11#A2AF47@Itzhak 2017_mouse_subcellular no...   \n",
       "250  DOCK11#A2AF47@Itzhak 2017_mouse_subcellular no...   \n",
       "349  PITPNC1#Q8K4R4@Itzhak 2017_mouse_subcellular n...   \n",
       "\n",
       "                                           row_gene_id gene_id_dd  \n",
       "170  SERBP1@Itzhak 2017_mouse_large protein complex...     SERBP1  \n",
       "172  SERBP1@Itzhak 2017_mouse_large protein complex...     SERBP1  \n",
       "249  DOCK11@Itzhak 2017_mouse_subcellular not speci...     DOCK11  \n",
       "250  DOCK11@Itzhak 2017_mouse_subcellular not speci...     DOCK11  \n",
       "349  PITPNC1@Itzhak 2017_mouse_subcellular not spec...    PITPNC1  "
      ]
     },
     "execution_count": 12,
     "metadata": {},
     "output_type": "execute_result"
    }
   ],
   "source": [
    "df.loc[df['row_gene_id'].isin(ddg['row_gene_id'].unique())].head()"
   ]
  },
  {
   "cell_type": "code",
   "execution_count": null,
   "metadata": {},
   "outputs": [],
   "source": []
  },
  {
   "cell_type": "code",
   "execution_count": 18,
   "metadata": {},
   "outputs": [
    {
     "data": {
      "text/html": [
       "<div>\n",
       "<style scoped>\n",
       "    .dataframe tbody tr th:only-of-type {\n",
       "        vertical-align: middle;\n",
       "    }\n",
       "\n",
       "    .dataframe tbody tr th {\n",
       "        vertical-align: top;\n",
       "    }\n",
       "\n",
       "    .dataframe thead th {\n",
       "        text-align: right;\n",
       "    }\n",
       "</style>\n",
       "<table border=\"1\" class=\"dataframe\">\n",
       "  <thead>\n",
       "    <tr style=\"text-align: right;\">\n",
       "      <th></th>\n",
       "      <th>gene_names</th>\n",
       "      <th>Uniprot</th>\n",
       "      <th>Study</th>\n",
       "      <th>Organism</th>\n",
       "      <th>location</th>\n",
       "      <th>Age_cat</th>\n",
       "      <th>Age_days</th>\n",
       "      <th>condition</th>\n",
       "      <th>sample_id</th>\n",
       "      <th>molecular_weight_kDa</th>\n",
       "      <th>raw_data</th>\n",
       "      <th>raw_data_units</th>\n",
       "      <th>gene_name_unified</th>\n",
       "      <th>Uniprot_unified</th>\n",
       "      <th>gene_id_final</th>\n",
       "      <th>log_raw_data</th>\n",
       "      <th>uniprot_from_gn</th>\n",
       "      <th>Uniprot_final</th>\n",
       "      <th>TheorPepNum</th>\n",
       "      <th>conc_uM</th>\n",
       "      <th>log_conc_uM</th>\n",
       "      <th>copyNum</th>\n",
       "      <th>totalProtein</th>\n",
       "      <th>totalVolume</th>\n",
       "      <th>sample_full_id</th>\n",
       "      <th>compound_gene_protein_id</th>\n",
       "      <th>row_id</th>\n",
       "      <th>row_gene_id</th>\n",
       "      <th>gene_id_dd</th>\n",
       "    </tr>\n",
       "  </thead>\n",
       "  <tbody>\n",
       "    <tr>\n",
       "      <th>301116</th>\n",
       "      <td>NaN</td>\n",
       "      <td>Q3UD67</td>\n",
       "      <td>Hasan 2020</td>\n",
       "      <td>mouse</td>\n",
       "      <td>cerebellum</td>\n",
       "      <td>mature adult</td>\n",
       "      <td>156</td>\n",
       "      <td>EAE</td>\n",
       "      <td>EAE1</td>\n",
       "      <td>106.909</td>\n",
       "      <td>19659.7</td>\n",
       "      <td>tmt abundance</td>\n",
       "      <td>None</td>\n",
       "      <td>Q8BGQ7</td>\n",
       "      <td>AARS</td>\n",
       "      <td>9.886326</td>\n",
       "      <td>[P49588, P50475, Q8BGQ7]</td>\n",
       "      <td>Q8BGQ7</td>\n",
       "      <td>69</td>\n",
       "      <td>1.27744</td>\n",
       "      <td>0.244854</td>\n",
       "      <td>769290</td>\n",
       "      <td>200</td>\n",
       "      <td>1000</td>\n",
       "      <td>Hasan 2020_mouse_cerebellum_156_EAE_EAE1</td>\n",
       "      <td>AARS#Q8BGQ7</td>\n",
       "      <td>AARS#Q8BGQ7@Hasan 2020_mouse_cerebellum_156_EA...</td>\n",
       "      <td>AARS@Hasan 2020_mouse_cerebellum_156_EAE_EAE1</td>\n",
       "      <td>attention#Q3UD67</td>\n",
       "    </tr>\n",
       "    <tr>\n",
       "      <th>392325</th>\n",
       "      <td>NaN</td>\n",
       "      <td>Q3TZ32</td>\n",
       "      <td>Hasan 2020</td>\n",
       "      <td>mouse</td>\n",
       "      <td>cerebellum</td>\n",
       "      <td>mature adult</td>\n",
       "      <td>156</td>\n",
       "      <td>EAE</td>\n",
       "      <td>EAE1</td>\n",
       "      <td>106.909</td>\n",
       "      <td>147.4</td>\n",
       "      <td>tmt abundance</td>\n",
       "      <td>None</td>\n",
       "      <td>Q8BGQ7</td>\n",
       "      <td>AARS</td>\n",
       "      <td>4.993150</td>\n",
       "      <td>[P49588, P50475, Q8BGQ7]</td>\n",
       "      <td>Q8BGQ7</td>\n",
       "      <td>69</td>\n",
       "      <td>0.00957766</td>\n",
       "      <td>-4.648322</td>\n",
       "      <td>5767.8</td>\n",
       "      <td>200</td>\n",
       "      <td>1000</td>\n",
       "      <td>Hasan 2020_mouse_cerebellum_156_EAE_EAE1</td>\n",
       "      <td>AARS#Q8BGQ7</td>\n",
       "      <td>AARS#Q8BGQ7@Hasan 2020_mouse_cerebellum_156_EA...</td>\n",
       "      <td>AARS@Hasan 2020_mouse_cerebellum_156_EAE_EAE1</td>\n",
       "      <td>attention#Q3TZ32</td>\n",
       "    </tr>\n",
       "  </tbody>\n",
       "</table>\n",
       "</div>"
      ],
      "text/plain": [
       "       gene_names Uniprot       Study Organism    location       Age_cat  \\\n",
       "301116        NaN  Q3UD67  Hasan 2020    mouse  cerebellum  mature adult   \n",
       "392325        NaN  Q3TZ32  Hasan 2020    mouse  cerebellum  mature adult   \n",
       "\n",
       "       Age_days condition sample_id molecular_weight_kDa  raw_data  \\\n",
       "301116      156       EAE      EAE1              106.909   19659.7   \n",
       "392325      156       EAE      EAE1              106.909     147.4   \n",
       "\n",
       "       raw_data_units gene_name_unified Uniprot_unified gene_id_final  \\\n",
       "301116  tmt abundance              None          Q8BGQ7          AARS   \n",
       "392325  tmt abundance              None          Q8BGQ7          AARS   \n",
       "\n",
       "        log_raw_data           uniprot_from_gn Uniprot_final TheorPepNum  \\\n",
       "301116      9.886326  [P49588, P50475, Q8BGQ7]        Q8BGQ7          69   \n",
       "392325      4.993150  [P49588, P50475, Q8BGQ7]        Q8BGQ7          69   \n",
       "\n",
       "           conc_uM  log_conc_uM copyNum totalProtein totalVolume  \\\n",
       "301116     1.27744     0.244854  769290          200        1000   \n",
       "392325  0.00957766    -4.648322  5767.8          200        1000   \n",
       "\n",
       "                                  sample_full_id compound_gene_protein_id  \\\n",
       "301116  Hasan 2020_mouse_cerebellum_156_EAE_EAE1              AARS#Q8BGQ7   \n",
       "392325  Hasan 2020_mouse_cerebellum_156_EAE_EAE1              AARS#Q8BGQ7   \n",
       "\n",
       "                                                   row_id  \\\n",
       "301116  AARS#Q8BGQ7@Hasan 2020_mouse_cerebellum_156_EA...   \n",
       "392325  AARS#Q8BGQ7@Hasan 2020_mouse_cerebellum_156_EA...   \n",
       "\n",
       "                                          row_gene_id        gene_id_dd  \n",
       "301116  AARS@Hasan 2020_mouse_cerebellum_156_EAE_EAE1  attention#Q3UD67  \n",
       "392325  AARS@Hasan 2020_mouse_cerebellum_156_EAE_EAE1  attention#Q3TZ32  "
      ]
     },
     "execution_count": 18,
     "metadata": {},
     "output_type": "execute_result"
    }
   ],
   "source": [
    "df.loc[(df['Study']=='Hasan 2020')&(df['gene_id_final']=='AARS')&(df['location']=='cerebellum')&(df['sample_id']=='EAE1') ].head()"
   ]
  },
  {
   "cell_type": "code",
   "execution_count": null,
   "metadata": {},
   "outputs": [],
   "source": [
    "# Q3UD67 and Q3TZ32 - both unreviewed, same gene AARS, same info on Uniprot"
   ]
  },
  {
   "cell_type": "code",
   "execution_count": 24,
   "metadata": {},
   "outputs": [
    {
     "data": {
      "text/plain": [
       "2073050"
      ]
     },
     "execution_count": 24,
     "metadata": {},
     "output_type": "execute_result"
    }
   ],
   "source": [
    "len(df.loc[df['gene_id_dd'].isna()])"
   ]
  },
  {
   "cell_type": "code",
   "execution_count": 13,
   "metadata": {},
   "outputs": [
    {
     "data": {
      "text/plain": [
       "58892"
      ]
     },
     "execution_count": 13,
     "metadata": {},
     "output_type": "execute_result"
    }
   ],
   "source": [
    "len(df.loc[~df['gene_id_dd'].isna()])"
   ]
  },
  {
   "cell_type": "code",
   "execution_count": 25,
   "metadata": {},
   "outputs": [
    {
     "data": {
      "text/plain": [
       "0.028408383782349677"
      ]
     },
     "execution_count": 25,
     "metadata": {},
     "output_type": "execute_result"
    }
   ],
   "source": [
    "len(df.loc[~df['gene_id_dd'].isna()])/len(df.loc[df['gene_id_dd'].isna()])"
   ]
  },
  {
   "cell_type": "code",
   "execution_count": 14,
   "metadata": {},
   "outputs": [
    {
     "data": {
      "text/plain": [
       "0"
      ]
     },
     "execution_count": 14,
     "metadata": {},
     "output_type": "execute_result"
    }
   ],
   "source": [
    "len(df.loc[df['gene_id_dd']=='check_this_entry'])"
   ]
  },
  {
   "cell_type": "code",
   "execution_count": 15,
   "metadata": {},
   "outputs": [
    {
     "data": {
      "text/plain": [
       "18822"
      ]
     },
     "execution_count": 15,
     "metadata": {},
     "output_type": "execute_result"
    }
   ],
   "source": [
    "len(df.loc[(~df['gene_id_dd'].isna())&(df['gene_id_dd'].str.contains('attention'))])"
   ]
  },
  {
   "cell_type": "code",
   "execution_count": 26,
   "metadata": {},
   "outputs": [
    {
     "name": "stdout",
     "output_type": "stream",
     "text": [
      "0.019736934682087974\n"
     ]
    }
   ],
   "source": [
    "print(len(dd)/len(df)) "
   ]
  },
  {
   "cell_type": "code",
   "execution_count": 27,
   "metadata": {},
   "outputs": [
    {
     "data": {
      "text/plain": [
       "1045"
      ]
     },
     "execution_count": 27,
     "metadata": {},
     "output_type": "execute_result"
    }
   ],
   "source": [
    "len(dd.loc[(~dd['gene_id_final'].isna())& (~dd['gene_id_final'].isnull()) ,'gene_id_final'].unique())"
   ]
  },
  {
   "cell_type": "code",
   "execution_count": 24,
   "metadata": {
    "tags": []
   },
   "outputs": [
    {
     "data": {
      "text/plain": [
       "1043"
      ]
     },
     "execution_count": 24,
     "metadata": {},
     "output_type": "execute_result"
    }
   ],
   "source": [
    "len(df2.loc[(df2['compound_gene_protein_id'].isin(dd['compound_gene_protein_id'].unique())) & \\\n",
    "            (df2['sample_full_id'].isin(dd['sample_full_id'].unique())) &(~df2['gene_names'].isna())& \\\n",
    "            (~df2['gene_names'].isnull()) ,'gene_id_final'].unique())\n"
   ]
  },
  {
   "cell_type": "code",
   "execution_count": 28,
   "metadata": {},
   "outputs": [],
   "source": [
    "df = df.reset_index(drop=True)"
   ]
  },
  {
   "cell_type": "code",
   "execution_count": 30,
   "metadata": {},
   "outputs": [],
   "source": [
    "with open('../data/5_1_df_markDup_10May2021.pkl','wb') as f:\n",
    "    pkl.dump(df,f)"
   ]
  },
  {
   "cell_type": "code",
   "execution_count": 31,
   "metadata": {},
   "outputs": [
    {
     "data": {
      "image/png": "[encoded data removed]",
      "text/plain": [
       "<Figure size 864x432 with 1 Axes>"
      ]
     },
     "metadata": {
      "image/png": {
       "height": 478,
       "width": 726
      }
     },
     "output_type": "display_data"
    }
   ],
   "source": [
    "fig = plt.figure(figsize=(12, 6))\n",
    "\n",
    "ax = sns.violinplot(x=\"Study\", y=\"log_conc_uM\", data=df, inner=None,dodge=False, width=0.3,color='#b8cbe1', zorder=1 ) #, fliersize=2)\n",
    "\n",
    "\n",
    "ax.grid(False)\n",
    "plt.xticks(rotation=75)\n",
    "ax.set_ylabel('log_conc_uM')\n",
    "\n",
    "\n",
    "plt.ylim([-30,30])\n",
    "\n",
    "\n",
    "plt.show()\n"
   ]
  },
  {
   "cell_type": "code",
   "execution_count": 32,
   "metadata": {},
   "outputs": [
    {
     "data": {
      "text/plain": [
       "array([nan, 'AD', 'LPC: low pathology of plaques and tangles. AD',\n",
       "       'control',\n",
       "       'AD: late-stage AD with high pathology scores of plaques and tangles',\n",
       "       'PSP: progressive supranuclear palsy, another neurodegenerative disorder of tauopathy',\n",
       "       'HPC: high Ab pathology but no detectable cognitive defects. AD',\n",
       "       'MCI: mild cognitive impairment with Ab pathology and a slight but measurable defect in cognition. AD',\n",
       "       'EAE', 'Alzheimer', 'WT', 'AD_intermediate', 'AD_severe', 'SORT',\n",
       "       'adult', 'young'], dtype=object)"
      ]
     },
     "execution_count": 32,
     "metadata": {},
     "output_type": "execute_result"
    }
   ],
   "source": [
    "df['condition'].unique()"
   ]
  },
  {
   "cell_type": "code",
   "execution_count": 33,
   "metadata": {},
   "outputs": [
    {
     "data": {
      "text/html": [
       "<div>\n",
       "<style scoped>\n",
       "    .dataframe tbody tr th:only-of-type {\n",
       "        vertical-align: middle;\n",
       "    }\n",
       "\n",
       "    .dataframe tbody tr th {\n",
       "        vertical-align: top;\n",
       "    }\n",
       "\n",
       "    .dataframe thead tr th {\n",
       "        text-align: left;\n",
       "    }\n",
       "</style>\n",
       "<table border=\"1\" class=\"dataframe\">\n",
       "  <thead>\n",
       "    <tr>\n",
       "      <th></th>\n",
       "      <th>Study</th>\n",
       "      <th colspan=\"8\" halign=\"left\">log_conc_uM</th>\n",
       "    </tr>\n",
       "    <tr>\n",
       "      <th></th>\n",
       "      <th></th>\n",
       "      <th>count</th>\n",
       "      <th>mean</th>\n",
       "      <th>std</th>\n",
       "      <th>min</th>\n",
       "      <th>25%</th>\n",
       "      <th>50%</th>\n",
       "      <th>75%</th>\n",
       "      <th>max</th>\n",
       "    </tr>\n",
       "  </thead>\n",
       "  <tbody>\n",
       "    <tr>\n",
       "      <th>0</th>\n",
       "      <td>Itzhak 2017</td>\n",
       "      <td>9019.0</td>\n",
       "      <td>-3.574031</td>\n",
       "      <td>2.634868</td>\n",
       "      <td>-11.746833</td>\n",
       "      <td>-5.410533</td>\n",
       "      <td>-3.516066</td>\n",
       "      <td>-1.768979</td>\n",
       "      <td>5.473066</td>\n",
       "    </tr>\n",
       "    <tr>\n",
       "      <th>1</th>\n",
       "      <td>Wisniewski 2015</td>\n",
       "      <td>19508.0</td>\n",
       "      <td>-2.990055</td>\n",
       "      <td>2.355982</td>\n",
       "      <td>-9.813204</td>\n",
       "      <td>-4.738661</td>\n",
       "      <td>-3.111072</td>\n",
       "      <td>-1.375348</td>\n",
       "      <td>5.395629</td>\n",
       "    </tr>\n",
       "    <tr>\n",
       "      <th>2</th>\n",
       "      <td>Bai 2020</td>\n",
       "      <td>242008.0</td>\n",
       "      <td>-2.850197</td>\n",
       "      <td>2.025065</td>\n",
       "      <td>-11.853548</td>\n",
       "      <td>-4.336174</td>\n",
       "      <td>-3.087313</td>\n",
       "      <td>-1.559628</td>\n",
       "      <td>4.665113</td>\n",
       "    </tr>\n",
       "    <tr>\n",
       "      <th>3</th>\n",
       "      <td>Hasan 2020</td>\n",
       "      <td>260202.0</td>\n",
       "      <td>-1.904118</td>\n",
       "      <td>1.754050</td>\n",
       "      <td>-10.454866</td>\n",
       "      <td>-3.060130</td>\n",
       "      <td>-1.820813</td>\n",
       "      <td>-0.665333</td>\n",
       "      <td>3.732447</td>\n",
       "    </tr>\n",
       "    <tr>\n",
       "      <th>4</th>\n",
       "      <td>Geiger 2013</td>\n",
       "      <td>24722.0</td>\n",
       "      <td>-2.678293</td>\n",
       "      <td>2.496064</td>\n",
       "      <td>-13.814960</td>\n",
       "      <td>-4.404753</td>\n",
       "      <td>-2.692309</td>\n",
       "      <td>-0.949276</td>\n",
       "      <td>5.742239</td>\n",
       "    </tr>\n",
       "    <tr>\n",
       "      <th>5</th>\n",
       "      <td>Kjell 2020</td>\n",
       "      <td>94128.0</td>\n",
       "      <td>-2.776824</td>\n",
       "      <td>2.068386</td>\n",
       "      <td>-8.697280</td>\n",
       "      <td>-4.351806</td>\n",
       "      <td>-3.000416</td>\n",
       "      <td>-1.418040</td>\n",
       "      <td>6.081400</td>\n",
       "    </tr>\n",
       "    <tr>\n",
       "      <th>6</th>\n",
       "      <td>Fecher 2019</td>\n",
       "      <td>128733.0</td>\n",
       "      <td>-1.777524</td>\n",
       "      <td>1.963697</td>\n",
       "      <td>-9.615706</td>\n",
       "      <td>-3.173269</td>\n",
       "      <td>-1.889410</td>\n",
       "      <td>-0.534319</td>\n",
       "      <td>4.998807</td>\n",
       "    </tr>\n",
       "    <tr>\n",
       "      <th>7</th>\n",
       "      <td>Guergues 2019</td>\n",
       "      <td>14013.0</td>\n",
       "      <td>-2.110201</td>\n",
       "      <td>2.133245</td>\n",
       "      <td>-10.964717</td>\n",
       "      <td>-3.596309</td>\n",
       "      <td>-2.124881</td>\n",
       "      <td>-0.704798</td>\n",
       "      <td>5.575077</td>\n",
       "    </tr>\n",
       "    <tr>\n",
       "      <th>8</th>\n",
       "      <td>Hamezah 2019</td>\n",
       "      <td>11564.0</td>\n",
       "      <td>-1.201468</td>\n",
       "      <td>1.852353</td>\n",
       "      <td>-7.857028</td>\n",
       "      <td>-2.576463</td>\n",
       "      <td>-1.456766</td>\n",
       "      <td>-0.052499</td>\n",
       "      <td>5.960968</td>\n",
       "    </tr>\n",
       "    <tr>\n",
       "      <th>9</th>\n",
       "      <td>McKetney 2019</td>\n",
       "      <td>191456.0</td>\n",
       "      <td>-2.718276</td>\n",
       "      <td>2.067121</td>\n",
       "      <td>-10.958957</td>\n",
       "      <td>-4.220339</td>\n",
       "      <td>-2.855011</td>\n",
       "      <td>-1.350261</td>\n",
       "      <td>5.435532</td>\n",
       "    </tr>\n",
       "    <tr>\n",
       "      <th>10</th>\n",
       "      <td>Hamezah 2018</td>\n",
       "      <td>8720.0</td>\n",
       "      <td>-0.448525</td>\n",
       "      <td>2.038547</td>\n",
       "      <td>-5.785247</td>\n",
       "      <td>-2.042931</td>\n",
       "      <td>-0.650802</td>\n",
       "      <td>0.930166</td>\n",
       "      <td>7.894965</td>\n",
       "    </tr>\n",
       "    <tr>\n",
       "      <th>11</th>\n",
       "      <td>Krogager 2018</td>\n",
       "      <td>4414.0</td>\n",
       "      <td>-1.748781</td>\n",
       "      <td>2.010158</td>\n",
       "      <td>-8.925834</td>\n",
       "      <td>-3.183549</td>\n",
       "      <td>-1.918666</td>\n",
       "      <td>-0.443702</td>\n",
       "      <td>5.730001</td>\n",
       "    </tr>\n",
       "    <tr>\n",
       "      <th>12</th>\n",
       "      <td>Zhu 2018</td>\n",
       "      <td>13200.0</td>\n",
       "      <td>-0.691595</td>\n",
       "      <td>1.868645</td>\n",
       "      <td>-6.582196</td>\n",
       "      <td>-1.998296</td>\n",
       "      <td>-0.750087</td>\n",
       "      <td>0.550875</td>\n",
       "      <td>6.834091</td>\n",
       "    </tr>\n",
       "    <tr>\n",
       "      <th>13</th>\n",
       "      <td>Carlyle 2017</td>\n",
       "      <td>363748.0</td>\n",
       "      <td>-3.134417</td>\n",
       "      <td>2.561117</td>\n",
       "      <td>-12.683718</td>\n",
       "      <td>-5.308766</td>\n",
       "      <td>-3.325143</td>\n",
       "      <td>-1.184685</td>\n",
       "      <td>8.063418</td>\n",
       "    </tr>\n",
       "    <tr>\n",
       "      <th>14</th>\n",
       "      <td>Sharma 2015, isolated</td>\n",
       "      <td>142430.0</td>\n",
       "      <td>-2.708684</td>\n",
       "      <td>2.046121</td>\n",
       "      <td>-9.881729</td>\n",
       "      <td>-4.184818</td>\n",
       "      <td>-2.887714</td>\n",
       "      <td>-1.324972</td>\n",
       "      <td>5.520212</td>\n",
       "    </tr>\n",
       "    <tr>\n",
       "      <th>15</th>\n",
       "      <td>Sharma 2015, cultured</td>\n",
       "      <td>167579.0</td>\n",
       "      <td>-2.288380</td>\n",
       "      <td>1.966163</td>\n",
       "      <td>-10.965412</td>\n",
       "      <td>-3.682358</td>\n",
       "      <td>-2.390941</td>\n",
       "      <td>-0.963766</td>\n",
       "      <td>5.982338</td>\n",
       "    </tr>\n",
       "    <tr>\n",
       "      <th>16</th>\n",
       "      <td>Han 2014</td>\n",
       "      <td>56202.0</td>\n",
       "      <td>-2.537255</td>\n",
       "      <td>2.091922</td>\n",
       "      <td>-9.675219</td>\n",
       "      <td>-4.052269</td>\n",
       "      <td>-2.622424</td>\n",
       "      <td>-1.109754</td>\n",
       "      <td>5.956336</td>\n",
       "    </tr>\n",
       "    <tr>\n",
       "      <th>17</th>\n",
       "      <td>Davis 2019</td>\n",
       "      <td>32696.0</td>\n",
       "      <td>-1.674276</td>\n",
       "      <td>2.167604</td>\n",
       "      <td>-9.326251</td>\n",
       "      <td>-3.194790</td>\n",
       "      <td>-1.752174</td>\n",
       "      <td>-0.221445</td>\n",
       "      <td>8.036255</td>\n",
       "    </tr>\n",
       "    <tr>\n",
       "      <th>18</th>\n",
       "      <td>Chuang 2018</td>\n",
       "      <td>10552.0</td>\n",
       "      <td>-1.533945</td>\n",
       "      <td>2.151207</td>\n",
       "      <td>-10.534245</td>\n",
       "      <td>-3.060550</td>\n",
       "      <td>-1.572190</td>\n",
       "      <td>0.007728</td>\n",
       "      <td>6.115131</td>\n",
       "    </tr>\n",
       "    <tr>\n",
       "      <th>19</th>\n",
       "      <td>Fornasiero 2018</td>\n",
       "      <td>1651.0</td>\n",
       "      <td>-2.606201</td>\n",
       "      <td>2.777497</td>\n",
       "      <td>-7.749452</td>\n",
       "      <td>-4.790390</td>\n",
       "      <td>-2.703557</td>\n",
       "      <td>-0.720543</td>\n",
       "      <td>5.552611</td>\n",
       "    </tr>\n",
       "    <tr>\n",
       "      <th>20</th>\n",
       "      <td>Hosp 2017, insoluble</td>\n",
       "      <td>32466.0</td>\n",
       "      <td>-0.472751</td>\n",
       "      <td>2.062751</td>\n",
       "      <td>-8.150127</td>\n",
       "      <td>-1.865331</td>\n",
       "      <td>-0.510470</td>\n",
       "      <td>0.862461</td>\n",
       "      <td>7.995532</td>\n",
       "    </tr>\n",
       "    <tr>\n",
       "      <th>21</th>\n",
       "      <td>Hosp 2017, soluble</td>\n",
       "      <td>293790.0</td>\n",
       "      <td>-2.833536</td>\n",
       "      <td>2.137521</td>\n",
       "      <td>-11.581159</td>\n",
       "      <td>-4.376968</td>\n",
       "      <td>-2.978435</td>\n",
       "      <td>-1.391548</td>\n",
       "      <td>5.673179</td>\n",
       "    </tr>\n",
       "    <tr>\n",
       "      <th>22</th>\n",
       "      <td>Hosp 2017, CSF</td>\n",
       "      <td>4916.0</td>\n",
       "      <td>-0.537517</td>\n",
       "      <td>2.336171</td>\n",
       "      <td>-7.213443</td>\n",
       "      <td>-2.226603</td>\n",
       "      <td>-0.636368</td>\n",
       "      <td>1.026928</td>\n",
       "      <td>7.600704</td>\n",
       "    </tr>\n",
       "    <tr>\n",
       "      <th>23</th>\n",
       "      <td>Beltran 2016</td>\n",
       "      <td>2389.0</td>\n",
       "      <td>0.960509</td>\n",
       "      <td>1.854870</td>\n",
       "      <td>-6.328920</td>\n",
       "      <td>-0.296585</td>\n",
       "      <td>0.998348</td>\n",
       "      <td>2.213565</td>\n",
       "      <td>7.089637</td>\n",
       "    </tr>\n",
       "    <tr>\n",
       "      <th>24</th>\n",
       "      <td>Duda 2018</td>\n",
       "      <td>1138.0</td>\n",
       "      <td>1.656080</td>\n",
       "      <td>1.699159</td>\n",
       "      <td>-2.803087</td>\n",
       "      <td>0.429010</td>\n",
       "      <td>1.404389</td>\n",
       "      <td>2.677055</td>\n",
       "      <td>6.955096</td>\n",
       "    </tr>\n",
       "  </tbody>\n",
       "</table>\n",
       "</div>"
      ],
      "text/plain": [
       "                    Study log_conc_uM                                 \\\n",
       "                                count      mean       std        min   \n",
       "0             Itzhak 2017      9019.0 -3.574031  2.634868 -11.746833   \n",
       "1         Wisniewski 2015     19508.0 -2.990055  2.355982  -9.813204   \n",
       "2                Bai 2020    242008.0 -2.850197  2.025065 -11.853548   \n",
       "3              Hasan 2020    260202.0 -1.904118  1.754050 -10.454866   \n",
       "4             Geiger 2013     24722.0 -2.678293  2.496064 -13.814960   \n",
       "5              Kjell 2020     94128.0 -2.776824  2.068386  -8.697280   \n",
       "6             Fecher 2019    128733.0 -1.777524  1.963697  -9.615706   \n",
       "7           Guergues 2019     14013.0 -2.110201  2.133245 -10.964717   \n",
       "8            Hamezah 2019     11564.0 -1.201468  1.852353  -7.857028   \n",
       "9           McKetney 2019    191456.0 -2.718276  2.067121 -10.958957   \n",
       "10           Hamezah 2018      8720.0 -0.448525  2.038547  -5.785247   \n",
       "11          Krogager 2018      4414.0 -1.748781  2.010158  -8.925834   \n",
       "12               Zhu 2018     13200.0 -0.691595  1.868645  -6.582196   \n",
       "13           Carlyle 2017    363748.0 -3.134417  2.561117 -12.683718   \n",
       "14  Sharma 2015, isolated    142430.0 -2.708684  2.046121  -9.881729   \n",
       "15  Sharma 2015, cultured    167579.0 -2.288380  1.966163 -10.965412   \n",
       "16               Han 2014     56202.0 -2.537255  2.091922  -9.675219   \n",
       "17             Davis 2019     32696.0 -1.674276  2.167604  -9.326251   \n",
       "18            Chuang 2018     10552.0 -1.533945  2.151207 -10.534245   \n",
       "19        Fornasiero 2018      1651.0 -2.606201  2.777497  -7.749452   \n",
       "20   Hosp 2017, insoluble     32466.0 -0.472751  2.062751  -8.150127   \n",
       "21     Hosp 2017, soluble    293790.0 -2.833536  2.137521 -11.581159   \n",
       "22         Hosp 2017, CSF      4916.0 -0.537517  2.336171  -7.213443   \n",
       "23           Beltran 2016      2389.0  0.960509  1.854870  -6.328920   \n",
       "24              Duda 2018      1138.0  1.656080  1.699159  -2.803087   \n",
       "\n",
       "                                            \n",
       "         25%       50%       75%       max  \n",
       "0  -5.410533 -3.516066 -1.768979  5.473066  \n",
       "1  -4.738661 -3.111072 -1.375348  5.395629  \n",
       "2  -4.336174 -3.087313 -1.559628  4.665113  \n",
       "3  -3.060130 -1.820813 -0.665333  3.732447  \n",
       "4  -4.404753 -2.692309 -0.949276  5.742239  \n",
       "5  -4.351806 -3.000416 -1.418040  6.081400  \n",
       "6  -3.173269 -1.889410 -0.534319  4.998807  \n",
       "7  -3.596309 -2.124881 -0.704798  5.575077  \n",
       "8  -2.576463 -1.456766 -0.052499  5.960968  \n",
       "9  -4.220339 -2.855011 -1.350261  5.435532  \n",
       "10 -2.042931 -0.650802  0.930166  7.894965  \n",
       "11 -3.183549 -1.918666 -0.443702  5.730001  \n",
       "12 -1.998296 -0.750087  0.550875  6.834091  \n",
       "13 -5.308766 -3.325143 -1.184685  8.063418  \n",
       "14 -4.184818 -2.887714 -1.324972  5.520212  \n",
       "15 -3.682358 -2.390941 -0.963766  5.982338  \n",
       "16 -4.052269 -2.622424 -1.109754  5.956336  \n",
       "17 -3.194790 -1.752174 -0.221445  8.036255  \n",
       "18 -3.060550 -1.572190  0.007728  6.115131  \n",
       "19 -4.790390 -2.703557 -0.720543  5.552611  \n",
       "20 -1.865331 -0.510470  0.862461  7.995532  \n",
       "21 -4.376968 -2.978435 -1.391548  5.673179  \n",
       "22 -2.226603 -0.636368  1.026928  7.600704  \n",
       "23 -0.296585  0.998348  2.213565  7.089637  \n",
       "24  0.429010  1.404389  2.677055  6.955096  "
      ]
     },
     "execution_count": 33,
     "metadata": {},
     "output_type": "execute_result"
    }
   ],
   "source": [
    "df_stat = df[['log_conc_uM','Study']].groupby(['Study']).describe()\n",
    "\n",
    "\n",
    "custom_dict = {'Itzhak 2017':0,\n",
    "               'Wisniewski 2015':1,\n",
    "              'Bai 2020':2,\n",
    "              'Hasan 2020':3,\n",
    "              'Geiger 2013':4,\n",
    "              'Kjell 2020':5,\n",
    "              'Fecher 2019':6,\n",
    "              'Guergues 2019':7,\n",
    "              'Hamezah 2019':8,\n",
    "              'McKetney 2019':9,\n",
    "              'Hamezah 2018':10,\n",
    "              'Krogager 2018':11,\n",
    "              'Zhu 2018':12,\n",
    "              'Carlyle 2017':13,\n",
    "              'Sharma 2015, isolated':14,\n",
    "              'Sharma 2015, cultured':15,\n",
    "              'Han 2014':16,\n",
    "              'Davis 2019':17,\n",
    "              'Chuang 2018':18,\n",
    "              'Fornasiero 2018':19,\n",
    "              'Hosp 2017, insoluble':20,\n",
    "              'Hosp 2017, soluble':21,\n",
    "              'Hosp 2017, CSF':22,\n",
    "              'Beltran 2016':23,\n",
    "              'Duda 2018':24}  \n",
    "\n",
    "\n",
    "\n",
    "df_stat = df_stat.iloc[df_stat.index.map(custom_dict).argsort()]\n",
    "\n",
    "df_stat = df_stat.reset_index()\n",
    "\n",
    "df_stat"
   ]
  },
  {
   "cell_type": "code",
   "execution_count": 34,
   "metadata": {},
   "outputs": [
    {
     "data": {
      "text/plain": [
       "-2.124881208395103"
      ]
     },
     "execution_count": 34,
     "metadata": {},
     "output_type": "execute_result"
    }
   ],
   "source": [
    "commonMed = np.median(df_stat['log_conc_uM']['50%'].values)\n",
    "\n",
    "commonMed"
   ]
  },
  {
   "cell_type": "code",
   "execution_count": 35,
   "metadata": {},
   "outputs": [
    {
     "data": {
      "text/html": [
       "<div>\n",
       "<style scoped>\n",
       "    .dataframe tbody tr th:only-of-type {\n",
       "        vertical-align: middle;\n",
       "    }\n",
       "\n",
       "    .dataframe tbody tr th {\n",
       "        vertical-align: top;\n",
       "    }\n",
       "\n",
       "    .dataframe thead th {\n",
       "        text-align: right;\n",
       "    }\n",
       "</style>\n",
       "<table border=\"1\" class=\"dataframe\">\n",
       "  <thead>\n",
       "    <tr style=\"text-align: right;\">\n",
       "      <th></th>\n",
       "      <th>Gene</th>\n",
       "      <th>Ensembl ID</th>\n",
       "      <th>Transcript start</th>\n",
       "      <th>Transcript end</th>\n",
       "      <th>Chromosome_scaffold</th>\n",
       "    </tr>\n",
       "  </thead>\n",
       "  <tbody>\n",
       "    <tr>\n",
       "      <th>0</th>\n",
       "      <td>0610009B22RIK</td>\n",
       "      <td>ENSMUST00000007921</td>\n",
       "      <td>51685386</td>\n",
       "      <td>51688653</td>\n",
       "      <td>11</td>\n",
       "    </tr>\n",
       "    <tr>\n",
       "      <th>1</th>\n",
       "      <td>0610030E20RIK</td>\n",
       "      <td>ENSMUST00000077783</td>\n",
       "      <td>72347334</td>\n",
       "      <td>72353148</td>\n",
       "      <td>6</td>\n",
       "    </tr>\n",
       "    <tr>\n",
       "      <th>2</th>\n",
       "      <td>0610030E20RIK</td>\n",
       "      <td>ENSMUST00000192144</td>\n",
       "      <td>72347333</td>\n",
       "      <td>72353147</td>\n",
       "      <td>CHR_MG184_PATCH</td>\n",
       "    </tr>\n",
       "    <tr>\n",
       "      <th>3</th>\n",
       "      <td>0610037L13RIK</td>\n",
       "      <td>ENSMUST00000125107</td>\n",
       "      <td>107889899</td>\n",
       "      <td>107897802</td>\n",
       "      <td>4</td>\n",
       "    </tr>\n",
       "    <tr>\n",
       "      <th>4</th>\n",
       "      <td>0610037L13RIK</td>\n",
       "      <td>ENSMUST00000106727</td>\n",
       "      <td>107889863</td>\n",
       "      <td>107897118</td>\n",
       "      <td>4</td>\n",
       "    </tr>\n",
       "  </tbody>\n",
       "</table>\n",
       "</div>"
      ],
      "text/plain": [
       "            Gene          Ensembl ID  Transcript start  Transcript end  \\\n",
       "0  0610009B22RIK  ENSMUST00000007921          51685386        51688653   \n",
       "1  0610030E20RIK  ENSMUST00000077783          72347334        72353148   \n",
       "2  0610030E20RIK  ENSMUST00000192144          72347333        72353147   \n",
       "3  0610037L13RIK  ENSMUST00000125107         107889899       107897802   \n",
       "4  0610037L13RIK  ENSMUST00000106727         107889863       107897118   \n",
       "\n",
       "  Chromosome_scaffold  \n",
       "0                  11  \n",
       "1                   6  \n",
       "2     CHR_MG184_PATCH  \n",
       "3                   4  \n",
       "4                   4  "
      ]
     },
     "execution_count": 35,
     "metadata": {},
     "output_type": "execute_result"
    }
   ],
   "source": [
    "# housekeeping genes mouse: http://www.housekeeping.unicamp.br/?download bioRxiv preprint doi: https://doi.org/10.1101/787150 \n",
    "\n",
    "mhg = pd.read_csv('../data/Mouse_HK_genes.csv')\n",
    "\n",
    "mhg['Gene'] = mhg['Gene'].str.upper()\n",
    "\n",
    "mhg.head()"
   ]
  },
  {
   "cell_type": "code",
   "execution_count": 36,
   "metadata": {},
   "outputs": [
    {
     "data": {
      "text/plain": [
       "3277"
      ]
     },
     "execution_count": 36,
     "metadata": {},
     "output_type": "execute_result"
    }
   ],
   "source": [
    "len(mhg['Gene'].unique())"
   ]
  },
  {
   "cell_type": "code",
   "execution_count": 37,
   "metadata": {},
   "outputs": [
    {
     "data": {
      "text/plain": [
       "639650"
      ]
     },
     "execution_count": 37,
     "metadata": {},
     "output_type": "execute_result"
    }
   ],
   "source": [
    "df_mhg = df.loc[df['gene_id_final'].isin(mhg['Gene'].unique())].copy()\n",
    "len(df_mhg)"
   ]
  },
  {
   "cell_type": "code",
   "execution_count": 38,
   "metadata": {},
   "outputs": [
    {
     "data": {
      "text/plain": [
       "25"
      ]
     },
     "execution_count": 38,
     "metadata": {},
     "output_type": "execute_result"
    }
   ],
   "source": [
    "len(df_mhg['Study'].unique())"
   ]
  },
  {
   "cell_type": "code",
   "execution_count": 39,
   "metadata": {},
   "outputs": [],
   "source": [
    "#find most frequent proteins and less variable proteins\n",
    "\n",
    "dfg = df[['log_conc_uM','Study','gene_id_final']].groupby(['Study','gene_id_final']).describe()\n"
   ]
  },
  {
   "cell_type": "code",
   "execution_count": 40,
   "metadata": {},
   "outputs": [],
   "source": [
    "dfg = dfg.reset_index()"
   ]
  },
  {
   "cell_type": "code",
   "execution_count": 42,
   "metadata": {},
   "outputs": [
    {
     "data": {
      "text/plain": [
       "38049"
      ]
     },
     "execution_count": 42,
     "metadata": {},
     "output_type": "execute_result"
    }
   ],
   "source": [
    "dfgmhg = dfg.loc[dfg['gene_id_final'].isin(mhg['Gene'].unique())].copy()\n",
    "len(dfgmhg)"
   ]
  },
  {
   "cell_type": "code",
   "execution_count": 43,
   "metadata": {},
   "outputs": [
    {
     "data": {
      "text/plain": [
       "3110"
      ]
     },
     "execution_count": 43,
     "metadata": {},
     "output_type": "execute_result"
    }
   ],
   "source": [
    "len(dfgmhg['gene_id_final'].unique())"
   ]
  },
  {
   "cell_type": "code",
   "execution_count": 44,
   "metadata": {},
   "outputs": [
    {
     "data": {
      "text/plain": [
       "Index(['gene_names', 'Uniprot', 'Study', 'Organism', 'location', 'Age_cat',\n",
       "       'Age_days', 'condition', 'sample_id', 'molecular_weight_kDa',\n",
       "       'raw_data', 'raw_data_units', 'gene_name_unified', 'Uniprot_unified',\n",
       "       'gene_id_final', 'log_raw_data', 'uniprot_from_gn', 'Uniprot_final',\n",
       "       'TheorPepNum', 'conc_uM', 'log_conc_uM', 'copyNum', 'totalProtein',\n",
       "       'totalVolume', 'sample_full_id', 'compound_gene_protein_id', 'row_id',\n",
       "       'row_gene_id', 'gene_id_dd'],\n",
       "      dtype='object')"
      ]
     },
     "execution_count": 44,
     "metadata": {},
     "output_type": "execute_result"
    }
   ],
   "source": [
    "df_mhg.columns"
   ]
  },
  {
   "cell_type": "code",
   "execution_count": 45,
   "metadata": {},
   "outputs": [
    {
     "data": {
      "text/plain": [
       "array([nan, 'AD', 'LPC: low pathology of plaques and tangles. AD',\n",
       "       'HPC: high Ab pathology but no detectable cognitive defects. AD',\n",
       "       'PSP: progressive supranuclear palsy, another neurodegenerative disorder of tauopathy',\n",
       "       'AD: late-stage AD with high pathology scores of plaques and tangles',\n",
       "       'MCI: mild cognitive impairment with Ab pathology and a slight but measurable defect in cognition. AD',\n",
       "       'control', 'EAE', 'Alzheimer', 'WT', 'AD_intermediate',\n",
       "       'AD_severe', 'SORT', 'young', 'adult'], dtype=object)"
      ]
     },
     "execution_count": 45,
     "metadata": {},
     "output_type": "execute_result"
    }
   ],
   "source": [
    "df_mhg['condition'].unique()"
   ]
  },
  {
   "cell_type": "code",
   "execution_count": 46,
   "metadata": {},
   "outputs": [
    {
     "data": {
      "text/plain": [
       "array([nan, 'AD', 'LPC: low pathology of plaques and tangles. AD',\n",
       "       'control',\n",
       "       'AD: late-stage AD with high pathology scores of plaques and tangles',\n",
       "       'PSP: progressive supranuclear palsy, another neurodegenerative disorder of tauopathy',\n",
       "       'HPC: high Ab pathology but no detectable cognitive defects. AD',\n",
       "       'MCI: mild cognitive impairment with Ab pathology and a slight but measurable defect in cognition. AD',\n",
       "       'EAE', 'Alzheimer', 'WT', 'AD_intermediate', 'AD_severe', 'SORT',\n",
       "       'adult', 'young'], dtype=object)"
      ]
     },
     "execution_count": 46,
     "metadata": {},
     "output_type": "execute_result"
    }
   ],
   "source": [
    "df['condition'].unique()"
   ]
  },
  {
   "cell_type": "code",
   "execution_count": 48,
   "metadata": {},
   "outputs": [
    {
     "data": {
      "text/plain": [
       "array(['embr', 'adult', 'mature adult', 'post-mortem', 'middle-aged',\n",
       "       'old', 'young', 'child', 'adolescence'], dtype=object)"
      ]
     },
     "execution_count": 48,
     "metadata": {},
     "output_type": "execute_result"
    }
   ],
   "source": [
    "df_mhg['Age_cat'].unique()"
   ]
  },
  {
   "cell_type": "code",
   "execution_count": 49,
   "metadata": {},
   "outputs": [
    {
     "data": {
      "text/plain": [
       "array(['actin binding proteins', 'plasma membrane',\n",
       "       'subcellular not specified', 'large protein complex', 'er',\n",
       "       'mitochondria', 'golgi', 'endosome', 'nucleus', 'lysosome',\n",
       "       'peroxisome', 'brain', 'cortex', 'hippocampus', 'striatum',\n",
       "       'spinal cord', 'brainstem', 'cerebellum', 'midbrain',\n",
       "       'olfactory bulb', 'medulla', 'subependymal zone',\n",
       "       'medial subependymal zone', 'microglia', 'thalamus', 'amygdala',\n",
       "       'neurons', 'corpus callosum', 'astrocytes', 'oligodendrocytes',\n",
       "       'optic nerve', 'axon', 'csf', 'cytoplasm'], dtype=object)"
      ]
     },
     "execution_count": 49,
     "metadata": {},
     "output_type": "execute_result"
    }
   ],
   "source": [
    "df_mhg['location'].unique()"
   ]
  },
  {
   "cell_type": "code",
   "execution_count": 50,
   "metadata": {},
   "outputs": [
    {
     "data": {
      "text/plain": [
       "434769"
      ]
     },
     "execution_count": 50,
     "metadata": {},
     "output_type": "execute_result"
    }
   ],
   "source": [
    "len(df_mhg.loc[(df_mhg['condition'].isna())])"
   ]
  },
  {
   "cell_type": "code",
   "execution_count": 51,
   "metadata": {},
   "outputs": [
    {
     "data": {
      "text/html": [
       "<div>\n",
       "<style scoped>\n",
       "    .dataframe tbody tr th:only-of-type {\n",
       "        vertical-align: middle;\n",
       "    }\n",
       "\n",
       "    .dataframe tbody tr th {\n",
       "        vertical-align: top;\n",
       "    }\n",
       "\n",
       "    .dataframe thead tr th {\n",
       "        text-align: left;\n",
       "    }\n",
       "</style>\n",
       "<table border=\"1\" class=\"dataframe\">\n",
       "  <thead>\n",
       "    <tr>\n",
       "      <th></th>\n",
       "      <th>Study</th>\n",
       "      <th colspan=\"8\" halign=\"left\">log_conc_uM</th>\n",
       "    </tr>\n",
       "    <tr>\n",
       "      <th></th>\n",
       "      <th></th>\n",
       "      <th>count</th>\n",
       "      <th>mean</th>\n",
       "      <th>std</th>\n",
       "      <th>min</th>\n",
       "      <th>25%</th>\n",
       "      <th>50%</th>\n",
       "      <th>75%</th>\n",
       "      <th>max</th>\n",
       "    </tr>\n",
       "  </thead>\n",
       "  <tbody>\n",
       "    <tr>\n",
       "      <th>0</th>\n",
       "      <td>Itzhak 2017</td>\n",
       "      <td>2994.0</td>\n",
       "      <td>-2.755689</td>\n",
       "      <td>2.383091</td>\n",
       "      <td>-10.923798</td>\n",
       "      <td>-4.313887</td>\n",
       "      <td>-2.642314</td>\n",
       "      <td>-1.089321</td>\n",
       "      <td>3.844481</td>\n",
       "    </tr>\n",
       "    <tr>\n",
       "      <th>1</th>\n",
       "      <td>Wisniewski 2015</td>\n",
       "      <td>5603.0</td>\n",
       "      <td>-2.829793</td>\n",
       "      <td>2.201288</td>\n",
       "      <td>-9.813204</td>\n",
       "      <td>-4.436213</td>\n",
       "      <td>-2.757105</td>\n",
       "      <td>-1.237803</td>\n",
       "      <td>4.361808</td>\n",
       "    </tr>\n",
       "    <tr>\n",
       "      <th>2</th>\n",
       "      <td>Bai 2020</td>\n",
       "      <td>21160.0</td>\n",
       "      <td>-2.639715</td>\n",
       "      <td>1.807188</td>\n",
       "      <td>-7.700293</td>\n",
       "      <td>-4.036123</td>\n",
       "      <td>-2.798117</td>\n",
       "      <td>-1.352052</td>\n",
       "      <td>3.257621</td>\n",
       "    </tr>\n",
       "    <tr>\n",
       "      <th>3</th>\n",
       "      <td>Hasan 2020</td>\n",
       "      <td>38568.0</td>\n",
       "      <td>-1.728067</td>\n",
       "      <td>1.630595</td>\n",
       "      <td>-9.307307</td>\n",
       "      <td>-2.772626</td>\n",
       "      <td>-1.588807</td>\n",
       "      <td>-0.552499</td>\n",
       "      <td>3.332178</td>\n",
       "    </tr>\n",
       "    <tr>\n",
       "      <th>4</th>\n",
       "      <td>Geiger 2013</td>\n",
       "      <td>7648.0</td>\n",
       "      <td>-2.485414</td>\n",
       "      <td>2.330253</td>\n",
       "      <td>-10.553649</td>\n",
       "      <td>-4.072600</td>\n",
       "      <td>-2.419146</td>\n",
       "      <td>-0.818156</td>\n",
       "      <td>4.564067</td>\n",
       "    </tr>\n",
       "    <tr>\n",
       "      <th>5</th>\n",
       "      <td>Kjell 2020</td>\n",
       "      <td>29376.0</td>\n",
       "      <td>-2.723036</td>\n",
       "      <td>1.901825</td>\n",
       "      <td>-7.820844</td>\n",
       "      <td>-4.164949</td>\n",
       "      <td>-2.874920</td>\n",
       "      <td>-1.443385</td>\n",
       "      <td>5.233592</td>\n",
       "    </tr>\n",
       "    <tr>\n",
       "      <th>6</th>\n",
       "      <td>Guergues 2019</td>\n",
       "      <td>5887.0</td>\n",
       "      <td>-1.968306</td>\n",
       "      <td>1.973884</td>\n",
       "      <td>-8.539880</td>\n",
       "      <td>-3.323568</td>\n",
       "      <td>-1.905077</td>\n",
       "      <td>-0.588730</td>\n",
       "      <td>3.911852</td>\n",
       "    </tr>\n",
       "    <tr>\n",
       "      <th>7</th>\n",
       "      <td>Hamezah 2019</td>\n",
       "      <td>1791.0</td>\n",
       "      <td>-1.431116</td>\n",
       "      <td>1.580731</td>\n",
       "      <td>-4.964267</td>\n",
       "      <td>-2.565219</td>\n",
       "      <td>-1.653823</td>\n",
       "      <td>-0.604810</td>\n",
       "      <td>5.024790</td>\n",
       "    </tr>\n",
       "    <tr>\n",
       "      <th>8</th>\n",
       "      <td>Krogager 2018</td>\n",
       "      <td>1434.0</td>\n",
       "      <td>-1.906829</td>\n",
       "      <td>1.816301</td>\n",
       "      <td>-7.111528</td>\n",
       "      <td>-3.190251</td>\n",
       "      <td>-2.032461</td>\n",
       "      <td>-0.690381</td>\n",
       "      <td>5.186267</td>\n",
       "    </tr>\n",
       "    <tr>\n",
       "      <th>9</th>\n",
       "      <td>Sharma 2015, isolated</td>\n",
       "      <td>43046.0</td>\n",
       "      <td>-2.359960</td>\n",
       "      <td>1.882640</td>\n",
       "      <td>-8.444207</td>\n",
       "      <td>-3.741537</td>\n",
       "      <td>-2.429602</td>\n",
       "      <td>-1.017558</td>\n",
       "      <td>4.016700</td>\n",
       "    </tr>\n",
       "    <tr>\n",
       "      <th>10</th>\n",
       "      <td>Sharma 2015, cultured</td>\n",
       "      <td>56352.0</td>\n",
       "      <td>-1.939981</td>\n",
       "      <td>1.809360</td>\n",
       "      <td>-10.944333</td>\n",
       "      <td>-3.249561</td>\n",
       "      <td>-2.014671</td>\n",
       "      <td>-0.682669</td>\n",
       "      <td>4.514092</td>\n",
       "    </tr>\n",
       "    <tr>\n",
       "      <th>11</th>\n",
       "      <td>Han 2014</td>\n",
       "      <td>20960.0</td>\n",
       "      <td>-2.330744</td>\n",
       "      <td>1.960838</td>\n",
       "      <td>-9.214843</td>\n",
       "      <td>-3.755806</td>\n",
       "      <td>-2.308907</td>\n",
       "      <td>-0.966570</td>\n",
       "      <td>3.651303</td>\n",
       "    </tr>\n",
       "    <tr>\n",
       "      <th>12</th>\n",
       "      <td>Fornasiero 2018</td>\n",
       "      <td>575.0</td>\n",
       "      <td>-2.990518</td>\n",
       "      <td>2.519221</td>\n",
       "      <td>-7.525322</td>\n",
       "      <td>-4.951078</td>\n",
       "      <td>-3.021306</td>\n",
       "      <td>-1.408006</td>\n",
       "      <td>4.986430</td>\n",
       "    </tr>\n",
       "    <tr>\n",
       "      <th>13</th>\n",
       "      <td>Hosp 2017, insoluble</td>\n",
       "      <td>9440.0</td>\n",
       "      <td>-0.669984</td>\n",
       "      <td>1.931837</td>\n",
       "      <td>-7.872273</td>\n",
       "      <td>-1.995185</td>\n",
       "      <td>-0.668241</td>\n",
       "      <td>0.613259</td>\n",
       "      <td>5.784888</td>\n",
       "    </tr>\n",
       "    <tr>\n",
       "      <th>14</th>\n",
       "      <td>Hosp 2017, soluble</td>\n",
       "      <td>86732.0</td>\n",
       "      <td>-2.643869</td>\n",
       "      <td>1.995114</td>\n",
       "      <td>-10.116697</td>\n",
       "      <td>-4.078433</td>\n",
       "      <td>-2.660763</td>\n",
       "      <td>-1.236066</td>\n",
       "      <td>4.805379</td>\n",
       "    </tr>\n",
       "    <tr>\n",
       "      <th>15</th>\n",
       "      <td>Hosp 2017, CSF</td>\n",
       "      <td>945.0</td>\n",
       "      <td>-0.881215</td>\n",
       "      <td>2.185183</td>\n",
       "      <td>-7.109382</td>\n",
       "      <td>-2.461911</td>\n",
       "      <td>-0.854334</td>\n",
       "      <td>0.549315</td>\n",
       "      <td>4.654205</td>\n",
       "    </tr>\n",
       "    <tr>\n",
       "      <th>16</th>\n",
       "      <td>Duda 2018</td>\n",
       "      <td>240.0</td>\n",
       "      <td>1.147192</td>\n",
       "      <td>1.436252</td>\n",
       "      <td>-2.599001</td>\n",
       "      <td>0.198193</td>\n",
       "      <td>1.004681</td>\n",
       "      <td>1.905808</td>\n",
       "      <td>5.748415</td>\n",
       "    </tr>\n",
       "  </tbody>\n",
       "</table>\n",
       "</div>"
      ],
      "text/plain": [
       "                    Study log_conc_uM                                 \\\n",
       "                                count      mean       std        min   \n",
       "0             Itzhak 2017      2994.0 -2.755689  2.383091 -10.923798   \n",
       "1         Wisniewski 2015      5603.0 -2.829793  2.201288  -9.813204   \n",
       "2                Bai 2020     21160.0 -2.639715  1.807188  -7.700293   \n",
       "3              Hasan 2020     38568.0 -1.728067  1.630595  -9.307307   \n",
       "4             Geiger 2013      7648.0 -2.485414  2.330253 -10.553649   \n",
       "5              Kjell 2020     29376.0 -2.723036  1.901825  -7.820844   \n",
       "6           Guergues 2019      5887.0 -1.968306  1.973884  -8.539880   \n",
       "7            Hamezah 2019      1791.0 -1.431116  1.580731  -4.964267   \n",
       "8           Krogager 2018      1434.0 -1.906829  1.816301  -7.111528   \n",
       "9   Sharma 2015, isolated     43046.0 -2.359960  1.882640  -8.444207   \n",
       "10  Sharma 2015, cultured     56352.0 -1.939981  1.809360 -10.944333   \n",
       "11               Han 2014     20960.0 -2.330744  1.960838  -9.214843   \n",
       "12        Fornasiero 2018       575.0 -2.990518  2.519221  -7.525322   \n",
       "13   Hosp 2017, insoluble      9440.0 -0.669984  1.931837  -7.872273   \n",
       "14     Hosp 2017, soluble     86732.0 -2.643869  1.995114 -10.116697   \n",
       "15         Hosp 2017, CSF       945.0 -0.881215  2.185183  -7.109382   \n",
       "16              Duda 2018       240.0  1.147192  1.436252  -2.599001   \n",
       "\n",
       "                                            \n",
       "         25%       50%       75%       max  \n",
       "0  -4.313887 -2.642314 -1.089321  3.844481  \n",
       "1  -4.436213 -2.757105 -1.237803  4.361808  \n",
       "2  -4.036123 -2.798117 -1.352052  3.257621  \n",
       "3  -2.772626 -1.588807 -0.552499  3.332178  \n",
       "4  -4.072600 -2.419146 -0.818156  4.564067  \n",
       "5  -4.164949 -2.874920 -1.443385  5.233592  \n",
       "6  -3.323568 -1.905077 -0.588730  3.911852  \n",
       "7  -2.565219 -1.653823 -0.604810  5.024790  \n",
       "8  -3.190251 -2.032461 -0.690381  5.186267  \n",
       "9  -3.741537 -2.429602 -1.017558  4.016700  \n",
       "10 -3.249561 -2.014671 -0.682669  4.514092  \n",
       "11 -3.755806 -2.308907 -0.966570  3.651303  \n",
       "12 -4.951078 -3.021306 -1.408006  4.986430  \n",
       "13 -1.995185 -0.668241  0.613259  5.784888  \n",
       "14 -4.078433 -2.660763 -1.236066  4.805379  \n",
       "15 -2.461911 -0.854334  0.549315  4.654205  \n",
       "16  0.198193  1.004681  1.905808  5.748415  "
      ]
     },
     "execution_count": 51,
     "metadata": {},
     "output_type": "execute_result"
    }
   ],
   "source": [
    "df_stat2 = df_mhg.loc[((df_mhg['condition'].isin(['control','WT','SORT', 'adult', 'young'])) | \n",
    "                       (df_mhg['condition'].isna())) & (df_mhg['Organism']=='mouse')&\n",
    "                      (df_mhg['Age_cat'].isin(['embr','young','adult', 'mature adult','middle-aged']))& \n",
    "                      (df_mhg['Study']!='Fecher 2019'),['log_conc_uM','Study']].groupby(['Study']).describe()\n",
    "\n",
    "\n",
    "custom_dict = {'Itzhak 2017':0,\n",
    "               'Wisniewski 2015':1,\n",
    "              'Bai 2020':2,\n",
    "              'Hasan 2020':3,\n",
    "              'Geiger 2013':4,\n",
    "              'Kjell 2020':5,\n",
    "              'Fecher 2019':6,\n",
    "              'Guergues 2019':7,\n",
    "              'Hamezah 2019':8,\n",
    "              'McKetney 2019':9,\n",
    "              'Hamezah 2018':10,\n",
    "              'Krogager 2018':11,\n",
    "              'Zhu 2018':12,\n",
    "              'Carlyle 2017':13,\n",
    "              'Sharma 2015, isolated':14,\n",
    "              'Sharma 2015, cultured':15,\n",
    "              'Han 2014':16,\n",
    "              'Davis 2019':17,\n",
    "              'Chuang 2018':18,\n",
    "              'Fornasiero 2018':19,\n",
    "              'Hosp 2017, insoluble':20,\n",
    "              'Hosp 2017, soluble':21,\n",
    "              'Hosp 2017, CSF':22,\n",
    "              'Beltran 2016':23,\n",
    "              'Duda 2018':24}  \n",
    "\n",
    "\n",
    "\n",
    "df_stat2 = df_stat2.iloc[df_stat2.index.map(custom_dict).argsort()]\n",
    "\n",
    "df_stat2 = df_stat2.reset_index()\n",
    "\n",
    "df_stat2"
   ]
  },
  {
   "cell_type": "code",
   "execution_count": 52,
   "metadata": {},
   "outputs": [
    {
     "data": {
      "text/plain": [
       "-2.3089067812917943"
      ]
     },
     "execution_count": 52,
     "metadata": {},
     "output_type": "execute_result"
    }
   ],
   "source": [
    "# comm med mouse age cat housekeeping genes condition\n",
    "\n",
    "commonMedMain = np.median(df_stat2['log_conc_uM']['50%'].values)\n",
    "\n",
    "commonMedMain"
   ]
  },
  {
   "cell_type": "code",
   "execution_count": 53,
   "metadata": {},
   "outputs": [],
   "source": [
    "df['log_conc_uM_medNorm'] = None"
   ]
  },
  {
   "cell_type": "code",
   "execution_count": 54,
   "metadata": {},
   "outputs": [],
   "source": [
    "for study in df['Study'].unique():\n",
    "    df.loc[df['Study']==study,'log_conc_uM_medNorm'] = df.loc[df['Study']==study,'log_conc_uM']  -  df_stat.loc[df_stat['Study']==study,'log_conc_uM']['50%'].values[0] + commonMedMain\n",
    "    \n",
    "    "
   ]
  },
  {
   "cell_type": "code",
   "execution_count": 56,
   "metadata": {},
   "outputs": [],
   "source": [
    "with open('../data/5_2_df_commMedMouseHKG_10May2021.pkl','wb') as f:\n",
    "    pkl.dump(df,f)"
   ]
  },
  {
   "cell_type": "code",
   "execution_count": 57,
   "metadata": {},
   "outputs": [
    {
     "data": {
      "text/plain": [
       "array(['Itzhak 2017', 'Fecher 2019', 'Beltran 2016'], dtype=object)"
      ]
     },
     "execution_count": 57,
     "metadata": {},
     "output_type": "execute_result"
    }
   ],
   "source": [
    "df.loc[df['location']=='mitochondria','Study'].unique()"
   ]
  },
  {
   "cell_type": "code",
   "execution_count": null,
   "metadata": {},
   "outputs": [],
   "source": [
    "# do not replace condiiton names as may lead to duplicates\n",
    "# df.loc[(df['condition'].isin(['WT','control', 'SORT','young', 'adult']) | (df['condition'].isna())),'condition' ] = \"control\""
   ]
  },
  {
   "cell_type": "code",
   "execution_count": null,
   "metadata": {},
   "outputs": [],
   "source": [
    "with open('../data/5_2_df_commMedMouseHKG.pkl','rb') as f:\n",
    "    df = pkl.load(f)\n",
    "print(len(df))\n",
    "df[\"log_conc_uM_medNorm\"]  = df[\"log_conc_uM_medNorm\"].astype('float64')\n",
    "\n",
    "custom_dict = {'Itzhak 2017':0,\n",
    "               'Wisniewski 2015':1,\n",
    "              'Bai 2020':2,\n",
    "              'Hasan 2020':3,\n",
    "              'Geiger 2013':4,\n",
    "              'Kjell 2020':5,\n",
    "              'Fecher 2019':6,\n",
    "              'Guergues 2019':7,\n",
    "              'Hamezah 2019':8,\n",
    "              'McKetney 2019':9,\n",
    "              'Hamezah 2018':10,\n",
    "              'Krogager 2018':11,\n",
    "              'Zhu 2018':12,\n",
    "              'Carlyle 2017':13,\n",
    "              'Sharma 2015, isolated':14,\n",
    "              'Sharma 2015, cultured':15,\n",
    "              'Han 2014':16,\n",
    "              'Davis 2019':17,\n",
    "              'Chuang 2018':18,\n",
    "              'Fornasiero 2018':19,\n",
    "              'Hosp 2017, insoluble':20,\n",
    "              'Hosp 2017, soluble':21,\n",
    "              'Hosp 2017, CSF':22,\n",
    "              'Beltran 2016':23,\n",
    "              'Duda 2018':24}   \n",
    "\n",
    "\n",
    "\n",
    "df = df.iloc[df['Study'].map(custom_dict).argsort()]\n",
    "df = df.loc[~df['log_conc_uM'].isna()]\n",
    "\n",
    "df = df.reset_index(drop=True)\n",
    "\n",
    "with open('../data/6_df_processed_10May2021.pkl','wb') as f:\n",
    "    pkl.dump(df,f)"
   ]
  },
  {
   "cell_type": "code",
   "execution_count": null,
   "metadata": {},
   "outputs": [],
   "source": [
    "df_sort = df.drop(columns=['gene_names', 'gene_name_unified', 'Uniprot', 'Uniprot_unified','Age_days','sample_id',\n",
    "                          'molecular_weight_kDa', 'raw_data', 'raw_data_units',\n",
    "                          'uniprot_from_gn','Uniprot_final', 'TheorPepNum', 'conc_uM', 'log_conc_uM',\n",
    "                          'sample_full_id', 'compound_gene_protein_id','row_id',\n",
    "                          'row_gene_id', 'gene_id_dd','totalProtein',\n",
    "                          'totalVolume','copyNum'])\n",
    "\n",
    "\n",
    "\n",
    "with open('../data/6_df_sort_10May2021.pkl','wb') as f:\n",
    "    pkl.dump(df_sort,f)"
   ]
  }
 ],
 "metadata": {
  "kernelspec": {
   "display_name": "Python 3",
   "language": "python",
   "name": "python3"
  },
  "language_info": {
   "codemirror_mode": {
    "name": "ipython",
    "version": 3
   },
   "file_extension": ".py",
   "mimetype": "text/x-python",
   "name": "python",
   "nbconvert_exporter": "python",
   "pygments_lexer": "ipython3",
   "version": "3.7.4"
  }
 },
 "nbformat": 4,
 "nbformat_minor": 4
}
