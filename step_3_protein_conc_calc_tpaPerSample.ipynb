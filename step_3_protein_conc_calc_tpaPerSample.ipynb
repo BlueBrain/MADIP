{
 "cells": [
  {
   "cell_type": "markdown",
   "metadata": {},
   "source": [
    "This file is part of MADIP: Molecular Atlas Data Integration Pipeline\n",
    "\n",
    "This file provide some additional nomenclature refinements and concentrations calculation\n",
    "\n",
    "\n",
    "Copyright 2021 Blue Brain Project / EPFL \n",
    "\n",
    "   Licensed under the Apache License, Version 2.0 (the \"License\");\n",
    "   you may not use this file except in compliance with the License.\n",
    "   You may obtain a copy of the License at\n",
    "\n",
    "       http://www.apache.org/licenses/LICENSE-2.0\n",
    "\n",
    "   Unless required by applicable law or agreed to in writing, software\n",
    "   distributed under the License is distributed on an \"AS IS\" BASIS,\n",
    "   WITHOUT WARRANTIES OR CONDITIONS OF ANY KIND, either express or implied.\n",
    "   See the License for the specific language governing permissions and\n",
    "   limitations under the License.\n",
    "   "
   ]
  },
  {
   "cell_type": "code",
   "execution_count": 109,
   "metadata": {},
   "outputs": [],
   "source": [
    "import pandas as pd\n",
    "import numpy as np\n",
    "\n",
    "from matplotlib import pyplot as plt\n",
    "import seaborn as sns\n",
    "\n",
    "from itertools import chain\n",
    "\n",
    "import re\n",
    "\n",
    "import pickle as pkl\n",
    "\n",
    "pd.options.display.max_columns = None\n",
    "pd.options.display.max_rows = None"
   ]
  },
  {
   "cell_type": "code",
   "execution_count": 2,
   "metadata": {},
   "outputs": [],
   "source": [
    "%matplotlib inline\n",
    "%config InlineBackend.figure_format = 'retina'"
   ]
  },
  {
   "cell_type": "code",
   "execution_count": 3,
   "metadata": {},
   "outputs": [],
   "source": [
    "sns.set_style(\"whitegrid\")"
   ]
  },
  {
   "cell_type": "code",
   "execution_count": 4,
   "metadata": {},
   "outputs": [
    {
     "name": "stdout",
     "output_type": "stream",
     "text": [
      "2132553\n"
     ]
    }
   ],
   "source": [
    "with open('../data/2_df_best_alignedIDs_9May2021.pkl','rb') as f:\n",
    "    df = pkl.load(f)\n",
    "print(len(df))"
   ]
  },
  {
   "cell_type": "markdown",
   "metadata": {},
   "source": [
    "## Some additional checks and refinements"
   ]
  },
  {
   "cell_type": "code",
   "execution_count": 5,
   "metadata": {},
   "outputs": [
    {
     "data": {
      "text/html": [
       "<div>\n",
       "<style scoped>\n",
       "    .dataframe tbody tr th:only-of-type {\n",
       "        vertical-align: middle;\n",
       "    }\n",
       "\n",
       "    .dataframe tbody tr th {\n",
       "        vertical-align: top;\n",
       "    }\n",
       "\n",
       "    .dataframe thead th {\n",
       "        text-align: right;\n",
       "    }\n",
       "</style>\n",
       "<table border=\"1\" class=\"dataframe\">\n",
       "  <thead>\n",
       "    <tr style=\"text-align: right;\">\n",
       "      <th></th>\n",
       "      <th>gene_names</th>\n",
       "      <th>Uniprot</th>\n",
       "      <th>Study</th>\n",
       "      <th>Organism</th>\n",
       "      <th>location</th>\n",
       "      <th>Age_cat</th>\n",
       "      <th>Age_days</th>\n",
       "      <th>condition</th>\n",
       "      <th>sample_id</th>\n",
       "      <th>molecular_weight_kDa</th>\n",
       "      <th>raw_data</th>\n",
       "      <th>raw_data_units</th>\n",
       "      <th>gene_name_unified</th>\n",
       "      <th>Uniprot_unified</th>\n",
       "      <th>gn_from_uniprot</th>\n",
       "      <th>uniprot_from_gn</th>\n",
       "      <th>gene_id_final</th>\n",
       "    </tr>\n",
       "  </thead>\n",
       "  <tbody>\n",
       "  </tbody>\n",
       "</table>\n",
       "</div>"
      ],
      "text/plain": [
       "Empty DataFrame\n",
       "Columns: [gene_names, Uniprot, Study, Organism, location, Age_cat, Age_days, condition, sample_id, molecular_weight_kDa, raw_data, raw_data_units, gene_name_unified, Uniprot_unified, gn_from_uniprot, uniprot_from_gn, gene_id_final]\n",
       "Index: []"
      ]
     },
     "execution_count": 5,
     "metadata": {},
     "output_type": "execute_result"
    }
   ],
   "source": [
    "df.loc[df['gene_id_final'].str.contains(';')]"
   ]
  },
  {
   "cell_type": "code",
   "execution_count": 7,
   "metadata": {},
   "outputs": [],
   "source": [
    "df.loc[df['gene_id_final']=='C2CD4CC2CD4FAMILY','gene_id_final'] = 'C2CD4CC2CD4'"
   ]
  },
  {
   "cell_type": "code",
   "execution_count": 8,
   "metadata": {},
   "outputs": [
    {
     "data": {
      "text/html": [
       "<div>\n",
       "<style scoped>\n",
       "    .dataframe tbody tr th:only-of-type {\n",
       "        vertical-align: middle;\n",
       "    }\n",
       "\n",
       "    .dataframe tbody tr th {\n",
       "        vertical-align: top;\n",
       "    }\n",
       "\n",
       "    .dataframe thead th {\n",
       "        text-align: right;\n",
       "    }\n",
       "</style>\n",
       "<table border=\"1\" class=\"dataframe\">\n",
       "  <thead>\n",
       "    <tr style=\"text-align: right;\">\n",
       "      <th></th>\n",
       "      <th>gene_names</th>\n",
       "      <th>Uniprot</th>\n",
       "      <th>Study</th>\n",
       "      <th>Organism</th>\n",
       "      <th>location</th>\n",
       "      <th>Age_cat</th>\n",
       "      <th>Age_days</th>\n",
       "      <th>condition</th>\n",
       "      <th>sample_id</th>\n",
       "      <th>molecular_weight_kDa</th>\n",
       "      <th>raw_data</th>\n",
       "      <th>raw_data_units</th>\n",
       "      <th>gene_name_unified</th>\n",
       "      <th>Uniprot_unified</th>\n",
       "      <th>gn_from_uniprot</th>\n",
       "      <th>uniprot_from_gn</th>\n",
       "      <th>gene_id_final</th>\n",
       "    </tr>\n",
       "  </thead>\n",
       "  <tbody>\n",
       "  </tbody>\n",
       "</table>\n",
       "</div>"
      ],
      "text/plain": [
       "Empty DataFrame\n",
       "Columns: [gene_names, Uniprot, Study, Organism, location, Age_cat, Age_days, condition, sample_id, molecular_weight_kDa, raw_data, raw_data_units, gene_name_unified, Uniprot_unified, gn_from_uniprot, uniprot_from_gn, gene_id_final]\n",
       "Index: []"
      ]
     },
     "execution_count": 8,
     "metadata": {},
     "output_type": "execute_result"
    }
   ],
   "source": [
    "df.loc[df['gene_id_final'].isna()]"
   ]
  },
  {
   "cell_type": "code",
   "execution_count": 9,
   "metadata": {},
   "outputs": [
    {
     "data": {
      "text/html": [
       "<div>\n",
       "<style scoped>\n",
       "    .dataframe tbody tr th:only-of-type {\n",
       "        vertical-align: middle;\n",
       "    }\n",
       "\n",
       "    .dataframe tbody tr th {\n",
       "        vertical-align: top;\n",
       "    }\n",
       "\n",
       "    .dataframe thead th {\n",
       "        text-align: right;\n",
       "    }\n",
       "</style>\n",
       "<table border=\"1\" class=\"dataframe\">\n",
       "  <thead>\n",
       "    <tr style=\"text-align: right;\">\n",
       "      <th></th>\n",
       "      <th>gene_names</th>\n",
       "      <th>Uniprot</th>\n",
       "      <th>Study</th>\n",
       "      <th>Organism</th>\n",
       "      <th>location</th>\n",
       "      <th>Age_cat</th>\n",
       "      <th>Age_days</th>\n",
       "      <th>condition</th>\n",
       "      <th>sample_id</th>\n",
       "      <th>molecular_weight_kDa</th>\n",
       "      <th>raw_data</th>\n",
       "      <th>raw_data_units</th>\n",
       "      <th>gene_name_unified</th>\n",
       "      <th>Uniprot_unified</th>\n",
       "      <th>gn_from_uniprot</th>\n",
       "      <th>uniprot_from_gn</th>\n",
       "      <th>gene_id_final</th>\n",
       "    </tr>\n",
       "  </thead>\n",
       "  <tbody>\n",
       "  </tbody>\n",
       "</table>\n",
       "</div>"
      ],
      "text/plain": [
       "Empty DataFrame\n",
       "Columns: [gene_names, Uniprot, Study, Organism, location, Age_cat, Age_days, condition, sample_id, molecular_weight_kDa, raw_data, raw_data_units, gene_name_unified, Uniprot_unified, gn_from_uniprot, uniprot_from_gn, gene_id_final]\n",
       "Index: []"
      ]
     },
     "execution_count": 9,
     "metadata": {},
     "output_type": "execute_result"
    }
   ],
   "source": [
    "df.loc[df['raw_data']==0]"
   ]
  },
  {
   "cell_type": "code",
   "execution_count": 10,
   "metadata": {},
   "outputs": [
    {
     "data": {
      "text/html": [
       "<div>\n",
       "<style scoped>\n",
       "    .dataframe tbody tr th:only-of-type {\n",
       "        vertical-align: middle;\n",
       "    }\n",
       "\n",
       "    .dataframe tbody tr th {\n",
       "        vertical-align: top;\n",
       "    }\n",
       "\n",
       "    .dataframe thead th {\n",
       "        text-align: right;\n",
       "    }\n",
       "</style>\n",
       "<table border=\"1\" class=\"dataframe\">\n",
       "  <thead>\n",
       "    <tr style=\"text-align: right;\">\n",
       "      <th></th>\n",
       "      <th>gene_names</th>\n",
       "      <th>Uniprot</th>\n",
       "      <th>Study</th>\n",
       "      <th>Organism</th>\n",
       "      <th>location</th>\n",
       "      <th>Age_cat</th>\n",
       "      <th>Age_days</th>\n",
       "      <th>condition</th>\n",
       "      <th>sample_id</th>\n",
       "      <th>molecular_weight_kDa</th>\n",
       "      <th>raw_data</th>\n",
       "      <th>raw_data_units</th>\n",
       "      <th>gene_name_unified</th>\n",
       "      <th>Uniprot_unified</th>\n",
       "      <th>gn_from_uniprot</th>\n",
       "      <th>uniprot_from_gn</th>\n",
       "      <th>gene_id_final</th>\n",
       "    </tr>\n",
       "  </thead>\n",
       "  <tbody>\n",
       "  </tbody>\n",
       "</table>\n",
       "</div>"
      ],
      "text/plain": [
       "Empty DataFrame\n",
       "Columns: [gene_names, Uniprot, Study, Organism, location, Age_cat, Age_days, condition, sample_id, molecular_weight_kDa, raw_data, raw_data_units, gene_name_unified, Uniprot_unified, gn_from_uniprot, uniprot_from_gn, gene_id_final]\n",
       "Index: []"
      ]
     },
     "execution_count": 10,
     "metadata": {},
     "output_type": "execute_result"
    }
   ],
   "source": [
    "df.loc[df['raw_data']<0]"
   ]
  },
  {
   "cell_type": "code",
   "execution_count": null,
   "metadata": {},
   "outputs": [],
   "source": []
  },
  {
   "cell_type": "code",
   "execution_count": 11,
   "metadata": {},
   "outputs": [],
   "source": [
    "#for figures\n",
    "df['log_raw_data'] = np.log(df['raw_data'])"
   ]
  },
  {
   "cell_type": "code",
   "execution_count": 12,
   "metadata": {},
   "outputs": [
    {
     "name": "stdout",
     "output_type": "stream",
     "text": [
      "9\n"
     ]
    },
    {
     "data": {
      "text/plain": [
       "array(['LFQintensity', 'IntensityL', 'iBAQ',\n",
       "       'Median cellular concentration [nM]',\n",
       "       'Protein concentration (mol/g protein)', 'LFQ',\n",
       "       'Protein Abundance (Summerized TMT Reporter Ion Intensities)',\n",
       "       'tmt abundance', 'Mean concentration [mol/(g total protein)]'],\n",
       "      dtype=object)"
      ]
     },
     "execution_count": 12,
     "metadata": {},
     "output_type": "execute_result"
    }
   ],
   "source": [
    "print(len(df['raw_data_units'].unique()))\n",
    "df['raw_data_units'].unique()"
   ]
  },
  {
   "cell_type": "code",
   "execution_count": 13,
   "metadata": {},
   "outputs": [
    {
     "name": "stdout",
     "output_type": "stream",
     "text": [
      "7\n"
     ]
    },
    {
     "data": {
      "text/plain": [
       "array(['LFQintensity', 'IntensityL', 'iBAQ',\n",
       "       'Median cellular concentration [nM]',\n",
       "       'Protein concentration (mol/g protein)', 'tmt abundance',\n",
       "       'Mean concentration [mol/(g total protein)]'], dtype=object)"
      ]
     },
     "execution_count": 13,
     "metadata": {},
     "output_type": "execute_result"
    }
   ],
   "source": [
    "df.loc[df['raw_data_units']=='Protein Abundance (Summerized TMT Reporter Ion Intensities)','raw_data_units'] = 'tmt abundance'\n",
    "\n",
    "df.loc[df['raw_data_units']=='LFQ','raw_data_units'] = 'LFQintensity'\n",
    "\n",
    "print(len(df['raw_data_units'].unique()))\n",
    "df['raw_data_units'].unique()"
   ]
  },
  {
   "cell_type": "code",
   "execution_count": 14,
   "metadata": {},
   "outputs": [
    {
     "data": {
      "text/plain": [
       "9554"
      ]
     },
     "execution_count": 14,
     "metadata": {},
     "output_type": "execute_result"
    }
   ],
   "source": [
    "len(df.loc[(df['Uniprot_unified'].isna()) & (df['uniprot_from_gn'] == 'NoMapping')])"
   ]
  },
  {
   "cell_type": "code",
   "execution_count": 15,
   "metadata": {},
   "outputs": [
    {
     "data": {
      "text/plain": [
       "array(['Kjell 2020', 'Carlyle 2017', 'Fecher 2019', 'Duda 2018',\n",
       "       'Han 2014'], dtype=object)"
      ]
     },
     "execution_count": 15,
     "metadata": {},
     "output_type": "execute_result"
    }
   ],
   "source": [
    "df.loc[(df['Uniprot_unified'].isna()) & (df['uniprot_from_gn'] == 'NoMapping'),'Study'].unique()"
   ]
  },
  {
   "cell_type": "code",
   "execution_count": 16,
   "metadata": {},
   "outputs": [
    {
     "data": {
      "text/plain": [
       "array(['Mean concentration [mol/(g total protein)]'], dtype=object)"
      ]
     },
     "execution_count": 16,
     "metadata": {},
     "output_type": "execute_result"
    }
   ],
   "source": [
    "df.loc[df['Study']=='Duda 2018','raw_data_units'].unique()"
   ]
  },
  {
   "cell_type": "code",
   "execution_count": 17,
   "metadata": {},
   "outputs": [
    {
     "data": {
      "text/plain": [
       "array(['LFQintensity'], dtype=object)"
      ]
     },
     "execution_count": 17,
     "metadata": {},
     "output_type": "execute_result"
    }
   ],
   "source": [
    "df.loc[df['Study']=='Kjell 2020','raw_data_units'].unique()"
   ]
  },
  {
   "cell_type": "code",
   "execution_count": 18,
   "metadata": {},
   "outputs": [
    {
     "data": {
      "text/plain": [
       "array(['LFQintensity'], dtype=object)"
      ]
     },
     "execution_count": 18,
     "metadata": {},
     "output_type": "execute_result"
    }
   ],
   "source": [
    "df.loc[df['Study']=='Carlyle 2017','raw_data_units'].unique()"
   ]
  },
  {
   "cell_type": "code",
   "execution_count": 19,
   "metadata": {},
   "outputs": [
    {
     "data": {
      "text/plain": [
       "array(['LFQintensity'], dtype=object)"
      ]
     },
     "execution_count": 19,
     "metadata": {},
     "output_type": "execute_result"
    }
   ],
   "source": [
    "df.loc[df['Study']=='Fecher 2019','raw_data_units'].unique()"
   ]
  },
  {
   "cell_type": "code",
   "execution_count": 20,
   "metadata": {},
   "outputs": [
    {
     "data": {
      "text/plain": [
       "array(['LFQintensity'], dtype=object)"
      ]
     },
     "execution_count": 20,
     "metadata": {},
     "output_type": "execute_result"
    }
   ],
   "source": [
    "df.loc[df['Study']=='Han 2014','raw_data_units'].unique()"
   ]
  },
  {
   "cell_type": "code",
   "execution_count": null,
   "metadata": {},
   "outputs": [],
   "source": []
  },
  {
   "cell_type": "markdown",
   "metadata": {},
   "source": [
    "### Check Uniprot to get protein seq to count number of possible peptides\n"
   ]
  },
  {
   "cell_type": "code",
   "execution_count": 21,
   "metadata": {},
   "outputs": [
    {
     "name": "stdout",
     "output_type": "stream",
     "text": [
      "45524\n",
      "270950\n"
     ]
    }
   ],
   "source": [
    "# Uniprot 21july2020\n",
    "\n",
    "#(taxonomy:\"Mus musculus (Mouse) [10090]\" OR taxonomy:\"Rattus norvegicus (Rat) [10116]\" OR taxonomy:\"Homo sapiens (Human) [9606]\") AND reviewed:yes\n",
    "#(taxonomy:\"Mus musculus (Mouse) [10090]\" OR taxonomy:\"Rattus norvegicus (Rat) [10116]\" OR taxonomy:\"Homo sapiens (Human) [9606]\") AND reviewed:no\n",
    "\n",
    "\n",
    "uniprot_rev = pd.read_csv('../data/uniprot_rev_taxonomyMRH_21july2020.tab', sep='\\t')\n",
    "print(len(uniprot_rev))\n",
    "\n",
    "uniprot_unrev = pd.read_csv('../data/uniprot_taxonomyMRH_unreviewed_21july2020.gz', sep='\\t')\n",
    "print(len(uniprot_unrev))\n"
   ]
  },
  {
   "cell_type": "code",
   "execution_count": 22,
   "metadata": {},
   "outputs": [
    {
     "data": {
      "text/html": [
       "<div>\n",
       "<style scoped>\n",
       "    .dataframe tbody tr th:only-of-type {\n",
       "        vertical-align: middle;\n",
       "    }\n",
       "\n",
       "    .dataframe tbody tr th {\n",
       "        vertical-align: top;\n",
       "    }\n",
       "\n",
       "    .dataframe thead th {\n",
       "        text-align: right;\n",
       "    }\n",
       "</style>\n",
       "<table border=\"1\" class=\"dataframe\">\n",
       "  <thead>\n",
       "    <tr style=\"text-align: right;\">\n",
       "      <th></th>\n",
       "      <th>Entry</th>\n",
       "      <th>Entry name</th>\n",
       "      <th>Status</th>\n",
       "      <th>Protein names</th>\n",
       "      <th>Gene names</th>\n",
       "      <th>Organism</th>\n",
       "      <th>Length</th>\n",
       "    </tr>\n",
       "  </thead>\n",
       "  <tbody>\n",
       "  </tbody>\n",
       "</table>\n",
       "</div>"
      ],
      "text/plain": [
       "Empty DataFrame\n",
       "Columns: [Entry, Entry name, Status, Protein names, Gene names, Organism, Length]\n",
       "Index: []"
      ]
     },
     "execution_count": 22,
     "metadata": {},
     "output_type": "execute_result"
    }
   ],
   "source": [
    "uniprot_rev.loc[uniprot_rev['Entry'].str.contains(\"-\")].head()"
   ]
  },
  {
   "cell_type": "code",
   "execution_count": 23,
   "metadata": {},
   "outputs": [
    {
     "data": {
      "text/html": [
       "<div>\n",
       "<style scoped>\n",
       "    .dataframe tbody tr th:only-of-type {\n",
       "        vertical-align: middle;\n",
       "    }\n",
       "\n",
       "    .dataframe tbody tr th {\n",
       "        vertical-align: top;\n",
       "    }\n",
       "\n",
       "    .dataframe thead th {\n",
       "        text-align: right;\n",
       "    }\n",
       "</style>\n",
       "<table border=\"1\" class=\"dataframe\">\n",
       "  <thead>\n",
       "    <tr style=\"text-align: right;\">\n",
       "      <th></th>\n",
       "      <th>Entry</th>\n",
       "      <th>Entry name</th>\n",
       "      <th>Status</th>\n",
       "      <th>Protein names</th>\n",
       "      <th>Gene names</th>\n",
       "      <th>Organism</th>\n",
       "      <th>Length</th>\n",
       "    </tr>\n",
       "  </thead>\n",
       "  <tbody>\n",
       "  </tbody>\n",
       "</table>\n",
       "</div>"
      ],
      "text/plain": [
       "Empty DataFrame\n",
       "Columns: [Entry, Entry name, Status, Protein names, Gene names, Organism, Length]\n",
       "Index: []"
      ]
     },
     "execution_count": 23,
     "metadata": {},
     "output_type": "execute_result"
    }
   ],
   "source": [
    "uniprot_unrev.loc[uniprot_unrev['Entry'].str.contains(\"-\")].head()"
   ]
  },
  {
   "cell_type": "code",
   "execution_count": 24,
   "metadata": {},
   "outputs": [],
   "source": [
    "uniprot_rev = uniprot_rev.loc[~uniprot_rev['Gene names'].isna()]\n",
    "uniprot_unrev = uniprot_unrev.loc[~uniprot_unrev['Gene names'].isna()]"
   ]
  },
  {
   "cell_type": "code",
   "execution_count": 25,
   "metadata": {},
   "outputs": [
    {
     "name": "stdout",
     "output_type": "stream",
     "text": [
      "44907\n",
      "229391\n"
     ]
    }
   ],
   "source": [
    "print(len(uniprot_rev))\n",
    "print(len(uniprot_unrev))\n"
   ]
  },
  {
   "cell_type": "code",
   "execution_count": 26,
   "metadata": {},
   "outputs": [],
   "source": [
    "uniprot_rev['Gene names'] = uniprot_rev['Gene names'].str.upper()\n",
    "uniprot_unrev['Gene names'] = uniprot_unrev['Gene names'].str.upper()"
   ]
  },
  {
   "cell_type": "code",
   "execution_count": null,
   "metadata": {},
   "outputs": [],
   "source": []
  },
  {
   "cell_type": "code",
   "execution_count": 27,
   "metadata": {},
   "outputs": [],
   "source": [
    "s1 = uniprot_rev['Gene names'].str.split(' ').apply(pd.Series, 1).stack()\n",
    "s1.index = s1.index.droplevel(-1) \n",
    "s1.name = 'Gene names' \n",
    "del uniprot_rev['Gene names']\n",
    "uniprot_rev = uniprot_rev.join(s1)\n",
    "\n",
    "\n",
    "s2 = uniprot_unrev['Gene names'].str.split(' ').apply(pd.Series, 1).stack()\n",
    "s2.index = s2.index.droplevel(-1) \n",
    "s2.name = 'Gene names' \n",
    "del uniprot_unrev['Gene names']\n",
    "uniprot_unrev = uniprot_unrev.join(s2)"
   ]
  },
  {
   "cell_type": "code",
   "execution_count": null,
   "metadata": {},
   "outputs": [],
   "source": []
  },
  {
   "cell_type": "code",
   "execution_count": 28,
   "metadata": {},
   "outputs": [
    {
     "data": {
      "text/plain": [
       "0.5604836910445763"
      ]
     },
     "execution_count": 28,
     "metadata": {},
     "output_type": "execute_result"
    }
   ],
   "source": [
    "len(uniprot_rev['Gene names'].unique())/len(uniprot_rev)"
   ]
  },
  {
   "cell_type": "code",
   "execution_count": 29,
   "metadata": {},
   "outputs": [
    {
     "data": {
      "text/plain": [
       "Index(['Entry', 'Entry name', 'Status', 'Protein names', 'Organism', 'Length',\n",
       "       'Gene names'],\n",
       "      dtype='object')"
      ]
     },
     "execution_count": 29,
     "metadata": {},
     "output_type": "execute_result"
    }
   ],
   "source": [
    "uniprot_rev.columns"
   ]
  },
  {
   "cell_type": "code",
   "execution_count": 30,
   "metadata": {},
   "outputs": [],
   "source": [
    "uniprot_rev = uniprot_rev.drop(columns = ['Entry name', 'Status', 'Protein names', 'Organism', 'Length'])\n",
    "uniprot_unrev = uniprot_unrev.drop(columns = ['Entry name', 'Status', 'Protein names', 'Organism', 'Length'])"
   ]
  },
  {
   "cell_type": "code",
   "execution_count": 31,
   "metadata": {},
   "outputs": [],
   "source": [
    "uniprot_rev = pd.DataFrame(uniprot_rev.groupby('Gene names')['Entry'].apply(list))\n",
    "uniprot_unrev = pd.DataFrame(uniprot_unrev.groupby('Gene names')['Entry'].apply(list))"
   ]
  },
  {
   "cell_type": "code",
   "execution_count": null,
   "metadata": {},
   "outputs": [],
   "source": []
  },
  {
   "cell_type": "code",
   "execution_count": 32,
   "metadata": {},
   "outputs": [],
   "source": [
    "uniprot_rev_dict = pd.Series(uniprot_rev['Entry'].values,index=uniprot_rev.index).to_dict() \n",
    "uniprot_unrev_dict = pd.Series(uniprot_unrev['Entry'].values,index=uniprot_unrev.index).to_dict() \n",
    "\n",
    "\n",
    "uniprot_rev_genes = list(set([item for sublist in uniprot_rev.index.tolist() for item in sublist]))\n",
    "uniprot_unrev_genes = list(set([item for sublist in uniprot_unrev.index.tolist() for item in sublist]))"
   ]
  },
  {
   "cell_type": "code",
   "execution_count": 33,
   "metadata": {},
   "outputs": [],
   "source": [
    "uniprot_rev_ids = list(set([item for sublist in uniprot_rev['Entry'].values.tolist() for item in sublist]))\n",
    "uniprot_unrev_ids = list(set([item for sublist in uniprot_unrev['Entry'].values.tolist() for item in sublist]))"
   ]
  },
  {
   "cell_type": "code",
   "execution_count": null,
   "metadata": {},
   "outputs": [],
   "source": []
  },
  {
   "cell_type": "code",
   "execution_count": 34,
   "metadata": {},
   "outputs": [
    {
     "name": "stdout",
     "output_type": "stream",
     "text": [
      "1.0 9349861\n",
      "9349861\n",
      "828947\n"
     ]
    },
    {
     "data": {
      "text/plain": [
       "268298"
      ]
     },
     "execution_count": 34,
     "metadata": {},
     "output_type": "execute_result"
    }
   ],
   "source": [
    "# Data downloaded on 05june2020 is from \n",
    "# ftp://ftp.uniprot.org/pub/databases/uniprot/current_release/knowledgebase/idmapping/\n",
    "\n",
    "mouse_uniprot_ids = pd.read_csv('../data/MOUSE_10090_idmapping.dat.gz',header=None,sep='\\t')\n",
    "rat_uniprot_ids = pd.read_csv('../data/RAT_10116_idmapping.dat.gz',header=None,sep='\\t')\n",
    "human_uniprot_ids = pd.read_csv('../data/HUMAN_9606_idmapping.dat.gz',header=None,sep='\\t')\n",
    "\n",
    "mouse_uniprot_ids.columns = ['Uniprot','ID_type','ID']\n",
    "rat_uniprot_ids.columns = ['Uniprot','ID_type','ID']\n",
    "human_uniprot_ids.columns = ['Uniprot','ID_type','ID']\n",
    "\n",
    "mouse_uniprot_ids['id_of_organism'] = 'mouse'\n",
    "rat_uniprot_ids['id_of_organism'] = 'rat'\n",
    "human_uniprot_ids['id_of_organism'] = 'human'\n",
    "\n",
    "#combine data for multiple organisms\n",
    "uniprot_ids_mrh = pd.concat([mouse_uniprot_ids,rat_uniprot_ids,human_uniprot_ids],ignore_index=True,sort=True)\n",
    "\n",
    "print((len(mouse_uniprot_ids['Uniprot'].unique())+len(rat_uniprot_ids['Uniprot'].unique())+len(human_uniprot_ids['Uniprot'].unique()))/len(uniprot_ids_mrh['Uniprot'].unique()),len(uniprot_ids_mrh))\n",
    "\n",
    "#keep only needed id-types\n",
    "print(len(uniprot_ids_mrh))\n",
    "uniprot_ids_mrh = uniprot_ids_mrh.loc[uniprot_ids_mrh['ID_type'].isin(['UniProtKB-ID', 'Gene_Name','GeneID','Gene_Synonym','GeneCards','HGNC'])].copy()\n",
    "print(len(uniprot_ids_mrh))\n",
    "\n",
    "uniprot_ids_mrh = uniprot_ids_mrh.reset_index(drop=True)\n",
    "\n",
    "uniprot_ids_mrh['ID'] = uniprot_ids_mrh['ID'].str.upper()\n",
    "\n",
    "len(uniprot_ids_mrh.loc[uniprot_ids_mrh['ID_type']=='Gene_Name','Uniprot'].unique())"
   ]
  },
  {
   "cell_type": "code",
   "execution_count": 35,
   "metadata": {},
   "outputs": [
    {
     "name": "stdout",
     "output_type": "stream",
     "text": [
      "268476\n",
      "268476\n"
     ]
    },
    {
     "data": {
      "text/html": [
       "<div>\n",
       "<style scoped>\n",
       "    .dataframe tbody tr th:only-of-type {\n",
       "        vertical-align: middle;\n",
       "    }\n",
       "\n",
       "    .dataframe tbody tr th {\n",
       "        vertical-align: top;\n",
       "    }\n",
       "\n",
       "    .dataframe thead th {\n",
       "        text-align: right;\n",
       "    }\n",
       "</style>\n",
       "<table border=\"1\" class=\"dataframe\">\n",
       "  <thead>\n",
       "    <tr style=\"text-align: right;\">\n",
       "      <th></th>\n",
       "      <th>Uniprot</th>\n",
       "      <th>ID</th>\n",
       "    </tr>\n",
       "  </thead>\n",
       "  <tbody>\n",
       "    <tr>\n",
       "      <th>1</th>\n",
       "      <td>Q9CQV8</td>\n",
       "      <td>YWHAB</td>\n",
       "    </tr>\n",
       "    <tr>\n",
       "      <th>4</th>\n",
       "      <td>P62259</td>\n",
       "      <td>YWHAE</td>\n",
       "    </tr>\n",
       "    <tr>\n",
       "      <th>7</th>\n",
       "      <td>P68510</td>\n",
       "      <td>YWHAH</td>\n",
       "    </tr>\n",
       "    <tr>\n",
       "      <th>10</th>\n",
       "      <td>P61982</td>\n",
       "      <td>YWHAG</td>\n",
       "    </tr>\n",
       "    <tr>\n",
       "      <th>13</th>\n",
       "      <td>O70456</td>\n",
       "      <td>SFN</td>\n",
       "    </tr>\n",
       "    <tr>\n",
       "      <th>17</th>\n",
       "      <td>P68254</td>\n",
       "      <td>YWHAQ</td>\n",
       "    </tr>\n",
       "    <tr>\n",
       "      <th>20</th>\n",
       "      <td>P63101</td>\n",
       "      <td>YWHAZ</td>\n",
       "    </tr>\n",
       "    <tr>\n",
       "      <th>23</th>\n",
       "      <td>A2AIG8</td>\n",
       "      <td>ACCS</td>\n",
       "    </tr>\n",
       "    <tr>\n",
       "      <th>26</th>\n",
       "      <td>Q3UX83</td>\n",
       "      <td>ACCSL</td>\n",
       "    </tr>\n",
       "    <tr>\n",
       "      <th>30</th>\n",
       "      <td>Q6PD03</td>\n",
       "      <td>PPP2R5A</td>\n",
       "    </tr>\n",
       "  </tbody>\n",
       "</table>\n",
       "</div>"
      ],
      "text/plain": [
       "   Uniprot       ID\n",
       "1   Q9CQV8    YWHAB\n",
       "4   P62259    YWHAE\n",
       "7   P68510    YWHAH\n",
       "10  P61982    YWHAG\n",
       "13  O70456      SFN\n",
       "17  P68254    YWHAQ\n",
       "20  P63101    YWHAZ\n",
       "23  A2AIG8     ACCS\n",
       "26  Q3UX83    ACCSL\n",
       "30  Q6PD03  PPP2R5A"
      ]
     },
     "execution_count": 35,
     "metadata": {},
     "output_type": "execute_result"
    }
   ],
   "source": [
    "uniprot_ids_mrh_gnDupl = uniprot_ids_mrh.loc[uniprot_ids_mrh['ID_type']=='Gene_Name',['Uniprot','ID']]\n",
    "\n",
    "print(len(uniprot_ids_mrh_gnDupl))\n",
    "uniprot_ids_mrh_gnDupl = uniprot_ids_mrh_gnDupl.drop_duplicates(keep=False)\n",
    "\n",
    "print(len(uniprot_ids_mrh_gnDupl))\n",
    "uniprot_ids_mrh_gnDupl.head(10)"
   ]
  },
  {
   "cell_type": "code",
   "execution_count": 36,
   "metadata": {},
   "outputs": [],
   "source": [
    "uniprot_gn = uniprot_ids_mrh.loc[uniprot_ids_mrh['ID_type']=='Gene_Name',['Uniprot','ID']].groupby('Uniprot').aggregate(lambda tdf: tdf.unique().tolist())\n",
    "\n",
    "uniprot_ids_mrh_dict = pd.Series(uniprot_gn['ID'].values,index=uniprot_gn.index).to_dict()"
   ]
  },
  {
   "cell_type": "code",
   "execution_count": 37,
   "metadata": {},
   "outputs": [],
   "source": [
    "gn_uniprot = uniprot_ids_mrh.loc[uniprot_ids_mrh['ID_type']=='Gene_Name',['Uniprot','ID']].groupby('ID').aggregate(lambda tdf: tdf.unique().tolist())\n",
    "\n",
    "uniprot_gn_mrh_dict =  pd.Series(gn_uniprot['Uniprot'].values,index=gn_uniprot.index).to_dict() "
   ]
  },
  {
   "cell_type": "code",
   "execution_count": 38,
   "metadata": {},
   "outputs": [
    {
     "name": "stdout",
     "output_type": "stream",
     "text": [
      "2132553\n"
     ]
    }
   ],
   "source": [
    "print(len(df))"
   ]
  },
  {
   "cell_type": "code",
   "execution_count": 39,
   "metadata": {},
   "outputs": [
    {
     "name": "stdout",
     "output_type": "stream",
     "text": [
      "2122999\n",
      "9554\n"
     ]
    }
   ],
   "source": [
    "print(len(df.loc[~((df['Uniprot_unified'].isna()) & (df['uniprot_from_gn'] == 'NoMapping'))]))  \n",
    "print(len(df.loc[((df['Uniprot_unified'].isna()) & (df['uniprot_from_gn'] == 'NoMapping'))]))"
   ]
  },
  {
   "cell_type": "code",
   "execution_count": 41,
   "metadata": {},
   "outputs": [
    {
     "name": "stdout",
     "output_type": "stream",
     "text": [
      "1612438\n"
     ]
    }
   ],
   "source": [
    "print(len(df.loc[~df['Uniprot_unified'].isna()]))"
   ]
  },
  {
   "cell_type": "code",
   "execution_count": 42,
   "metadata": {},
   "outputs": [
    {
     "name": "stdout",
     "output_type": "stream",
     "text": [
      "520115\n"
     ]
    }
   ],
   "source": [
    "print(len(df.loc[df['Uniprot_unified'].isna()]))"
   ]
  },
  {
   "cell_type": "code",
   "execution_count": 43,
   "metadata": {},
   "outputs": [
    {
     "name": "stdout",
     "output_type": "stream",
     "text": [
      "520115\n"
     ]
    }
   ],
   "source": [
    "print(len(df.loc[df['Uniprot'].isna()]))"
   ]
  },
  {
   "cell_type": "code",
   "execution_count": 46,
   "metadata": {},
   "outputs": [
    {
     "data": {
      "text/plain": [
       "0"
      ]
     },
     "execution_count": 46,
     "metadata": {},
     "output_type": "execute_result"
    }
   ],
   "source": [
    "len(df.loc[(~df['Uniprot_unified'].isna()) & (df['Uniprot_unified'].str.contains('CON_'))])"
   ]
  },
  {
   "cell_type": "code",
   "execution_count": 47,
   "metadata": {},
   "outputs": [
    {
     "data": {
      "text/html": [
       "<div>\n",
       "<style scoped>\n",
       "    .dataframe tbody tr th:only-of-type {\n",
       "        vertical-align: middle;\n",
       "    }\n",
       "\n",
       "    .dataframe tbody tr th {\n",
       "        vertical-align: top;\n",
       "    }\n",
       "\n",
       "    .dataframe thead th {\n",
       "        text-align: right;\n",
       "    }\n",
       "</style>\n",
       "<table border=\"1\" class=\"dataframe\">\n",
       "  <thead>\n",
       "    <tr style=\"text-align: right;\">\n",
       "      <th></th>\n",
       "      <th>gene_names</th>\n",
       "      <th>Uniprot</th>\n",
       "      <th>Study</th>\n",
       "      <th>Organism</th>\n",
       "      <th>location</th>\n",
       "      <th>Age_cat</th>\n",
       "      <th>Age_days</th>\n",
       "      <th>condition</th>\n",
       "      <th>sample_id</th>\n",
       "      <th>molecular_weight_kDa</th>\n",
       "      <th>raw_data</th>\n",
       "      <th>raw_data_units</th>\n",
       "      <th>gene_name_unified</th>\n",
       "      <th>Uniprot_unified</th>\n",
       "      <th>gn_from_uniprot</th>\n",
       "      <th>uniprot_from_gn</th>\n",
       "      <th>gene_id_final</th>\n",
       "      <th>log_raw_data</th>\n",
       "    </tr>\n",
       "  </thead>\n",
       "  <tbody>\n",
       "  </tbody>\n",
       "</table>\n",
       "</div>"
      ],
      "text/plain": [
       "Empty DataFrame\n",
       "Columns: [gene_names, Uniprot, Study, Organism, location, Age_cat, Age_days, condition, sample_id, molecular_weight_kDa, raw_data, raw_data_units, gene_name_unified, Uniprot_unified, gn_from_uniprot, uniprot_from_gn, gene_id_final, log_raw_data]\n",
       "Index: []"
      ]
     },
     "execution_count": 47,
     "metadata": {},
     "output_type": "execute_result"
    }
   ],
   "source": [
    "df.loc[(~df['Uniprot_unified'].isna()) & (df['Uniprot_unified'].str.contains('CON_'))].head()"
   ]
  },
  {
   "cell_type": "code",
   "execution_count": null,
   "metadata": {},
   "outputs": [],
   "source": []
  },
  {
   "cell_type": "markdown",
   "metadata": {},
   "source": [
    "#### Given"
   ]
  },
  {
   "cell_type": "code",
   "execution_count": 48,
   "metadata": {},
   "outputs": [
    {
     "data": {
      "text/plain": [
       "['P08670', 'P31000', 'P20152']"
      ]
     },
     "execution_count": 48,
     "metadata": {},
     "output_type": "execute_result"
    }
   ],
   "source": [
    "# gn to uniprot\n",
    "\n",
    "uniprot_rev_dict[\"VIM\"]"
   ]
  },
  {
   "cell_type": "code",
   "execution_count": 49,
   "metadata": {},
   "outputs": [
    {
     "data": {
      "text/plain": [
       "['A0A1B0GVG8',\n",
       " 'A0A1B0GTT5',\n",
       " 'B0YJC5',\n",
       " 'V9HWE1',\n",
       " 'Q3UD36',\n",
       " 'G3V8C3',\n",
       " 'A2AKJ2',\n",
       " 'Q3TFD9',\n",
       " 'Q3V2S4',\n",
       " 'A0A0S2Z4T0',\n",
       " 'B0YJC4',\n",
       " 'A0A0K0TMV9',\n",
       " 'Q3TWV0',\n",
       " 'A4IF59',\n",
       " 'Q3UAX1',\n",
       " 'A0A0A6YWC8',\n",
       " 'Q3U6S1',\n",
       " 'Q5FWJ3']"
      ]
     },
     "execution_count": 49,
     "metadata": {},
     "output_type": "execute_result"
    }
   ],
   "source": [
    "# gn to uniprot\n",
    "\n",
    "uniprot_unrev_dict[\"VIM\"]"
   ]
  },
  {
   "cell_type": "code",
   "execution_count": 50,
   "metadata": {},
   "outputs": [
    {
     "data": {
      "text/plain": [
       "['P20152',\n",
       " 'Q5FWJ3',\n",
       " 'A0A0A6YWC8',\n",
       " 'A2AKJ2',\n",
       " 'Q3UD36',\n",
       " 'Q3TWV0',\n",
       " 'Q3UAX1',\n",
       " 'Q3TFD9',\n",
       " 'Q3V2S4',\n",
       " 'A4IF59',\n",
       " 'Q3U6S1',\n",
       " 'P31000',\n",
       " 'G3V8C3',\n",
       " 'P08670',\n",
       " 'B0YJC5',\n",
       " 'B0YJC4',\n",
       " 'A0A1B0GTT5',\n",
       " 'A0A1B0GVG8',\n",
       " 'A0A0S2Z4T0']"
      ]
     },
     "execution_count": 50,
     "metadata": {},
     "output_type": "execute_result"
    }
   ],
   "source": [
    "# gn to list of uniprots, based on ftp mapping file\n",
    "\n",
    "uniprot_gn_mrh_dict['VIM']"
   ]
  },
  {
   "cell_type": "code",
   "execution_count": 51,
   "metadata": {},
   "outputs": [
    {
     "data": {
      "text/plain": [
       "Index(['gene_names', 'Uniprot', 'Study', 'Organism', 'location', 'Age_cat',\n",
       "       'Age_days', 'condition', 'sample_id', 'molecular_weight_kDa',\n",
       "       'raw_data', 'raw_data_units', 'gene_name_unified', 'Uniprot_unified',\n",
       "       'gn_from_uniprot', 'uniprot_from_gn', 'gene_id_final', 'log_raw_data'],\n",
       "      dtype='object')"
      ]
     },
     "execution_count": 51,
     "metadata": {},
     "output_type": "execute_result"
    }
   ],
   "source": [
    "df.columns"
   ]
  },
  {
   "cell_type": "code",
   "execution_count": null,
   "metadata": {},
   "outputs": [],
   "source": []
  },
  {
   "cell_type": "markdown",
   "metadata": {},
   "source": [
    "#### Needed"
   ]
  },
  {
   "cell_type": "code",
   "execution_count": 52,
   "metadata": {},
   "outputs": [
    {
     "data": {
      "text/plain": [
       "Index(['gene_names', 'Uniprot', 'Study', 'Organism', 'location', 'Age_cat',\n",
       "       'Age_days', 'condition', 'sample_id', 'molecular_weight_kDa',\n",
       "       'raw_data', 'raw_data_units', 'gene_name_unified', 'Uniprot_unified',\n",
       "       'gn_from_uniprot', 'uniprot_from_gn', 'gene_id_final', 'log_raw_data'],\n",
       "      dtype='object')"
      ]
     },
     "execution_count": 52,
     "metadata": {},
     "output_type": "execute_result"
    }
   ],
   "source": [
    "df.columns"
   ]
  },
  {
   "cell_type": "code",
   "execution_count": 53,
   "metadata": {},
   "outputs": [
    {
     "name": "stdout",
     "output_type": "stream",
     "text": [
      "2132553\n",
      "80020\n"
     ]
    },
    {
     "data": {
      "text/html": [
       "<div>\n",
       "<style scoped>\n",
       "    .dataframe tbody tr th:only-of-type {\n",
       "        vertical-align: middle;\n",
       "    }\n",
       "\n",
       "    .dataframe tbody tr th {\n",
       "        vertical-align: top;\n",
       "    }\n",
       "\n",
       "    .dataframe thead th {\n",
       "        text-align: right;\n",
       "    }\n",
       "</style>\n",
       "<table border=\"1\" class=\"dataframe\">\n",
       "  <thead>\n",
       "    <tr style=\"text-align: right;\">\n",
       "      <th></th>\n",
       "      <th>gene_id_final</th>\n",
       "      <th>Uniprot</th>\n",
       "      <th>Uniprot_unified</th>\n",
       "      <th>uniprot_from_gn</th>\n",
       "    </tr>\n",
       "  </thead>\n",
       "  <tbody>\n",
       "    <tr>\n",
       "      <th>0</th>\n",
       "      <td>HSD17B8</td>\n",
       "      <td>A0A068BEQ2;P50171;G3UX44</td>\n",
       "      <td>P50171</td>\n",
       "      <td>[Q92506, Q6MGB5, P50171]</td>\n",
       "    </tr>\n",
       "    <tr>\n",
       "      <th>1</th>\n",
       "      <td>RAB11B</td>\n",
       "      <td>Q78ZJ8;A0A068BFR3;P46638;G3UY29;E9Q3P9;F8WGS1;...</td>\n",
       "      <td>P46638</td>\n",
       "      <td>[Q15907, P46638, O35509]</td>\n",
       "    </tr>\n",
       "    <tr>\n",
       "      <th>2</th>\n",
       "      <td>RAB11B</td>\n",
       "      <td>Q78ZJ8;A0A068BFR3;P46638;G3UY29;E9Q3P9;F8WGS1;...</td>\n",
       "      <td>P46638</td>\n",
       "      <td>[Q15907, P46638, O35509]</td>\n",
       "    </tr>\n",
       "    <tr>\n",
       "      <th>3</th>\n",
       "      <td>RAB11B</td>\n",
       "      <td>P46638</td>\n",
       "      <td>P46638</td>\n",
       "      <td>[Q15907, P46638, O35509]</td>\n",
       "    </tr>\n",
       "    <tr>\n",
       "      <th>4</th>\n",
       "      <td>RAB11B</td>\n",
       "      <td>Q78ZJ8;P46638;G3UY29;E9Q3P9;F8WGS1;Q0PD45;P624...</td>\n",
       "      <td>P46638</td>\n",
       "      <td>[Q15907, P46638, O35509]</td>\n",
       "    </tr>\n",
       "  </tbody>\n",
       "</table>\n",
       "</div>"
      ],
      "text/plain": [
       "  gene_id_final                                            Uniprot  \\\n",
       "0       HSD17B8                           A0A068BEQ2;P50171;G3UX44   \n",
       "1        RAB11B  Q78ZJ8;A0A068BFR3;P46638;G3UY29;E9Q3P9;F8WGS1;...   \n",
       "2        RAB11B  Q78ZJ8;A0A068BFR3;P46638;G3UY29;E9Q3P9;F8WGS1;...   \n",
       "3        RAB11B                                             P46638   \n",
       "4        RAB11B  Q78ZJ8;P46638;G3UY29;E9Q3P9;F8WGS1;Q0PD45;P624...   \n",
       "\n",
       "  Uniprot_unified           uniprot_from_gn  \n",
       "0          P50171  [Q92506, Q6MGB5, P50171]  \n",
       "1          P46638  [Q15907, P46638, O35509]  \n",
       "2          P46638  [Q15907, P46638, O35509]  \n",
       "3          P46638  [Q15907, P46638, O35509]  \n",
       "4          P46638  [Q15907, P46638, O35509]  "
      ]
     },
     "execution_count": 53,
     "metadata": {},
     "output_type": "execute_result"
    }
   ],
   "source": [
    "df_fgn = df[['gene_id_final', 'Uniprot', 'Uniprot_unified']].copy()\n",
    "\n",
    "print(len(df_fgn))\n",
    "\n",
    "df_fgn = df_fgn.drop_duplicates(keep='first')\n",
    "df_fgn = df_fgn.reset_index(drop=True)\n",
    "\n",
    "print(len(df_fgn))\n",
    "\n",
    "df_fgn['uniprot_from_gn'] = df_fgn['gene_id_final'].copy()\n",
    "\n",
    "df_fgn['uniprot_from_gn'] = df_fgn['uniprot_from_gn'].map(uniprot_rev_dict).fillna(df_fgn['uniprot_from_gn'].map(uniprot_unrev_dict).fillna(df_fgn['uniprot_from_gn'].map(uniprot_gn_mrh_dict).fillna('NoMapping')))  #\n",
    "\n",
    "df_fgn.head()"
   ]
  },
  {
   "cell_type": "code",
   "execution_count": 54,
   "metadata": {},
   "outputs": [
    {
     "name": "stdout",
     "output_type": "stream",
     "text": [
      "199\n"
     ]
    },
    {
     "data": {
      "text/plain": [
       "0.0024868782804298925"
      ]
     },
     "execution_count": 54,
     "metadata": {},
     "output_type": "execute_result"
    }
   ],
   "source": [
    "print(len(df_fgn.loc[df_fgn['uniprot_from_gn']=='NoMapping']))\n",
    "len(df_fgn.loc[df_fgn['uniprot_from_gn']=='NoMapping'])/len(df_fgn)"
   ]
  },
  {
   "cell_type": "code",
   "execution_count": 55,
   "metadata": {},
   "outputs": [
    {
     "data": {
      "text/html": [
       "<div>\n",
       "<style scoped>\n",
       "    .dataframe tbody tr th:only-of-type {\n",
       "        vertical-align: middle;\n",
       "    }\n",
       "\n",
       "    .dataframe tbody tr th {\n",
       "        vertical-align: top;\n",
       "    }\n",
       "\n",
       "    .dataframe thead th {\n",
       "        text-align: right;\n",
       "    }\n",
       "</style>\n",
       "<table border=\"1\" class=\"dataframe\">\n",
       "  <thead>\n",
       "    <tr style=\"text-align: right;\">\n",
       "      <th></th>\n",
       "      <th>gene_id_final</th>\n",
       "      <th>Uniprot</th>\n",
       "      <th>Uniprot_unified</th>\n",
       "      <th>uniprot_from_gn</th>\n",
       "    </tr>\n",
       "  </thead>\n",
       "  <tbody>\n",
       "    <tr>\n",
       "      <th>73662</th>\n",
       "      <td>AI837181</td>\n",
       "      <td>NaN</td>\n",
       "      <td>None</td>\n",
       "      <td>NoMapping</td>\n",
       "    </tr>\n",
       "    <tr>\n",
       "      <th>74125</th>\n",
       "      <td>C2CD4CC2CD4</td>\n",
       "      <td>NaN</td>\n",
       "      <td>None</td>\n",
       "      <td>NoMapping</td>\n",
       "    </tr>\n",
       "    <tr>\n",
       "      <th>76095</th>\n",
       "      <td>HIST1H4A</td>\n",
       "      <td>NaN</td>\n",
       "      <td>None</td>\n",
       "      <td>NoMapping</td>\n",
       "    </tr>\n",
       "    <tr>\n",
       "      <th>76410</th>\n",
       "      <td>GM20425</td>\n",
       "      <td>NaN</td>\n",
       "      <td>None</td>\n",
       "      <td>NoMapping</td>\n",
       "    </tr>\n",
       "    <tr>\n",
       "      <th>77010</th>\n",
       "      <td>HIST1H3B</td>\n",
       "      <td>NaN</td>\n",
       "      <td>None</td>\n",
       "      <td>NoMapping</td>\n",
       "    </tr>\n",
       "    <tr>\n",
       "      <th>78882</th>\n",
       "      <td>GM5093</td>\n",
       "      <td>NaN</td>\n",
       "      <td>None</td>\n",
       "      <td>NoMapping</td>\n",
       "    </tr>\n",
       "    <tr>\n",
       "      <th>78929</th>\n",
       "      <td>1700021F05RIK</td>\n",
       "      <td>NaN</td>\n",
       "      <td>None</td>\n",
       "      <td>NoMapping</td>\n",
       "    </tr>\n",
       "    <tr>\n",
       "      <th>79437</th>\n",
       "      <td>AI848285</td>\n",
       "      <td>NaN</td>\n",
       "      <td>None</td>\n",
       "      <td>NoMapping</td>\n",
       "    </tr>\n",
       "    <tr>\n",
       "      <th>79629</th>\n",
       "      <td>1110057K04RIK</td>\n",
       "      <td>NaN</td>\n",
       "      <td>None</td>\n",
       "      <td>NoMapping</td>\n",
       "    </tr>\n",
       "    <tr>\n",
       "      <th>79635</th>\n",
       "      <td>GM3934</td>\n",
       "      <td>NaN</td>\n",
       "      <td>None</td>\n",
       "      <td>NoMapping</td>\n",
       "    </tr>\n",
       "    <tr>\n",
       "      <th>79637</th>\n",
       "      <td>GM6788</td>\n",
       "      <td>NaN</td>\n",
       "      <td>None</td>\n",
       "      <td>NoMapping</td>\n",
       "    </tr>\n",
       "    <tr>\n",
       "      <th>79639</th>\n",
       "      <td>GM4887</td>\n",
       "      <td>NaN</td>\n",
       "      <td>None</td>\n",
       "      <td>NoMapping</td>\n",
       "    </tr>\n",
       "    <tr>\n",
       "      <th>79641</th>\n",
       "      <td>GM5780</td>\n",
       "      <td>NaN</td>\n",
       "      <td>None</td>\n",
       "      <td>NoMapping</td>\n",
       "    </tr>\n",
       "    <tr>\n",
       "      <th>79642</th>\n",
       "      <td>GM7061</td>\n",
       "      <td>NaN</td>\n",
       "      <td>None</td>\n",
       "      <td>NoMapping</td>\n",
       "    </tr>\n",
       "    <tr>\n",
       "      <th>79643</th>\n",
       "      <td>LOC100504025</td>\n",
       "      <td>NaN</td>\n",
       "      <td>None</td>\n",
       "      <td>NoMapping</td>\n",
       "    </tr>\n",
       "    <tr>\n",
       "      <th>79644</th>\n",
       "      <td>GM19444</td>\n",
       "      <td>NaN</td>\n",
       "      <td>None</td>\n",
       "      <td>NoMapping</td>\n",
       "    </tr>\n",
       "    <tr>\n",
       "      <th>79645</th>\n",
       "      <td>GM12271</td>\n",
       "      <td>NaN</td>\n",
       "      <td>None</td>\n",
       "      <td>NoMapping</td>\n",
       "    </tr>\n",
       "    <tr>\n",
       "      <th>79646</th>\n",
       "      <td>LOC100047183</td>\n",
       "      <td>NaN</td>\n",
       "      <td>None</td>\n",
       "      <td>NoMapping</td>\n",
       "    </tr>\n",
       "    <tr>\n",
       "      <th>79647</th>\n",
       "      <td>GM14217</td>\n",
       "      <td>NaN</td>\n",
       "      <td>None</td>\n",
       "      <td>NoMapping</td>\n",
       "    </tr>\n",
       "    <tr>\n",
       "      <th>79648</th>\n",
       "      <td>GM2423</td>\n",
       "      <td>NaN</td>\n",
       "      <td>None</td>\n",
       "      <td>NoMapping</td>\n",
       "    </tr>\n",
       "    <tr>\n",
       "      <th>79649</th>\n",
       "      <td>GM5196</td>\n",
       "      <td>NaN</td>\n",
       "      <td>None</td>\n",
       "      <td>NoMapping</td>\n",
       "    </tr>\n",
       "    <tr>\n",
       "      <th>79765</th>\n",
       "      <td>AF196779.12</td>\n",
       "      <td>NaN</td>\n",
       "      <td>None</td>\n",
       "      <td>NoMapping</td>\n",
       "    </tr>\n",
       "    <tr>\n",
       "      <th>79797</th>\n",
       "      <td>CH507-9B2.4</td>\n",
       "      <td>NaN</td>\n",
       "      <td>None</td>\n",
       "      <td>NoMapping</td>\n",
       "    </tr>\n",
       "    <tr>\n",
       "      <th>79800</th>\n",
       "      <td>CTC-260F20.3</td>\n",
       "      <td>NaN</td>\n",
       "      <td>None</td>\n",
       "      <td>NoMapping</td>\n",
       "    </tr>\n",
       "    <tr>\n",
       "      <th>79806</th>\n",
       "      <td>FLJ22184</td>\n",
       "      <td>NaN</td>\n",
       "      <td>None</td>\n",
       "      <td>NoMapping</td>\n",
       "    </tr>\n",
       "    <tr>\n",
       "      <th>79879</th>\n",
       "      <td>GFPL</td>\n",
       "      <td>NaN</td>\n",
       "      <td>None</td>\n",
       "      <td>NoMapping</td>\n",
       "    </tr>\n",
       "  </tbody>\n",
       "</table>\n",
       "</div>"
      ],
      "text/plain": [
       "       gene_id_final Uniprot Uniprot_unified uniprot_from_gn\n",
       "73662       AI837181     NaN            None       NoMapping\n",
       "74125    C2CD4CC2CD4     NaN            None       NoMapping\n",
       "76095       HIST1H4A     NaN            None       NoMapping\n",
       "76410        GM20425     NaN            None       NoMapping\n",
       "77010       HIST1H3B     NaN            None       NoMapping\n",
       "78882         GM5093     NaN            None       NoMapping\n",
       "78929  1700021F05RIK     NaN            None       NoMapping\n",
       "79437       AI848285     NaN            None       NoMapping\n",
       "79629  1110057K04RIK     NaN            None       NoMapping\n",
       "79635         GM3934     NaN            None       NoMapping\n",
       "79637         GM6788     NaN            None       NoMapping\n",
       "79639         GM4887     NaN            None       NoMapping\n",
       "79641         GM5780     NaN            None       NoMapping\n",
       "79642         GM7061     NaN            None       NoMapping\n",
       "79643   LOC100504025     NaN            None       NoMapping\n",
       "79644        GM19444     NaN            None       NoMapping\n",
       "79645        GM12271     NaN            None       NoMapping\n",
       "79646   LOC100047183     NaN            None       NoMapping\n",
       "79647        GM14217     NaN            None       NoMapping\n",
       "79648         GM2423     NaN            None       NoMapping\n",
       "79649         GM5196     NaN            None       NoMapping\n",
       "79765    AF196779.12     NaN            None       NoMapping\n",
       "79797    CH507-9B2.4     NaN            None       NoMapping\n",
       "79800   CTC-260F20.3     NaN            None       NoMapping\n",
       "79806       FLJ22184     NaN            None       NoMapping\n",
       "79879           GFPL     NaN            None       NoMapping"
      ]
     },
     "execution_count": 55,
     "metadata": {},
     "output_type": "execute_result"
    }
   ],
   "source": [
    "df_fgn.loc[(df_fgn['uniprot_from_gn']=='NoMapping') & (df_fgn['Uniprot'].isna())]"
   ]
  },
  {
   "cell_type": "code",
   "execution_count": 56,
   "metadata": {},
   "outputs": [
    {
     "data": {
      "text/plain": [
       "26"
      ]
     },
     "execution_count": 56,
     "metadata": {},
     "output_type": "execute_result"
    }
   ],
   "source": [
    "len(df_fgn.loc[( (df_fgn['uniprot_from_gn']=='NoMapping') & (df_fgn['Uniprot'].isna()) ) ])"
   ]
  },
  {
   "cell_type": "code",
   "execution_count": 57,
   "metadata": {},
   "outputs": [
    {
     "data": {
      "text/html": [
       "<div>\n",
       "<style scoped>\n",
       "    .dataframe tbody tr th:only-of-type {\n",
       "        vertical-align: middle;\n",
       "    }\n",
       "\n",
       "    .dataframe tbody tr th {\n",
       "        vertical-align: top;\n",
       "    }\n",
       "\n",
       "    .dataframe thead th {\n",
       "        text-align: right;\n",
       "    }\n",
       "</style>\n",
       "<table border=\"1\" class=\"dataframe\">\n",
       "  <thead>\n",
       "    <tr style=\"text-align: right;\">\n",
       "      <th></th>\n",
       "      <th>gene_id_final</th>\n",
       "      <th>Uniprot</th>\n",
       "      <th>Uniprot_unified</th>\n",
       "      <th>uniprot_from_gn</th>\n",
       "    </tr>\n",
       "  </thead>\n",
       "  <tbody>\n",
       "    <tr>\n",
       "      <th>73662</th>\n",
       "      <td>AI837181</td>\n",
       "      <td>NaN</td>\n",
       "      <td>None</td>\n",
       "      <td>NoMapping</td>\n",
       "    </tr>\n",
       "    <tr>\n",
       "      <th>74125</th>\n",
       "      <td>C2CD4CC2CD4</td>\n",
       "      <td>NaN</td>\n",
       "      <td>None</td>\n",
       "      <td>NoMapping</td>\n",
       "    </tr>\n",
       "    <tr>\n",
       "      <th>76095</th>\n",
       "      <td>HIST1H4A</td>\n",
       "      <td>NaN</td>\n",
       "      <td>None</td>\n",
       "      <td>NoMapping</td>\n",
       "    </tr>\n",
       "    <tr>\n",
       "      <th>76410</th>\n",
       "      <td>GM20425</td>\n",
       "      <td>NaN</td>\n",
       "      <td>None</td>\n",
       "      <td>NoMapping</td>\n",
       "    </tr>\n",
       "    <tr>\n",
       "      <th>77010</th>\n",
       "      <td>HIST1H3B</td>\n",
       "      <td>NaN</td>\n",
       "      <td>None</td>\n",
       "      <td>NoMapping</td>\n",
       "    </tr>\n",
       "    <tr>\n",
       "      <th>78882</th>\n",
       "      <td>GM5093</td>\n",
       "      <td>NaN</td>\n",
       "      <td>None</td>\n",
       "      <td>NoMapping</td>\n",
       "    </tr>\n",
       "    <tr>\n",
       "      <th>78929</th>\n",
       "      <td>1700021F05RIK</td>\n",
       "      <td>NaN</td>\n",
       "      <td>None</td>\n",
       "      <td>NoMapping</td>\n",
       "    </tr>\n",
       "    <tr>\n",
       "      <th>79437</th>\n",
       "      <td>AI848285</td>\n",
       "      <td>NaN</td>\n",
       "      <td>None</td>\n",
       "      <td>NoMapping</td>\n",
       "    </tr>\n",
       "    <tr>\n",
       "      <th>79629</th>\n",
       "      <td>1110057K04RIK</td>\n",
       "      <td>NaN</td>\n",
       "      <td>None</td>\n",
       "      <td>NoMapping</td>\n",
       "    </tr>\n",
       "    <tr>\n",
       "      <th>79635</th>\n",
       "      <td>GM3934</td>\n",
       "      <td>NaN</td>\n",
       "      <td>None</td>\n",
       "      <td>NoMapping</td>\n",
       "    </tr>\n",
       "    <tr>\n",
       "      <th>79637</th>\n",
       "      <td>GM6788</td>\n",
       "      <td>NaN</td>\n",
       "      <td>None</td>\n",
       "      <td>NoMapping</td>\n",
       "    </tr>\n",
       "    <tr>\n",
       "      <th>79639</th>\n",
       "      <td>GM4887</td>\n",
       "      <td>NaN</td>\n",
       "      <td>None</td>\n",
       "      <td>NoMapping</td>\n",
       "    </tr>\n",
       "    <tr>\n",
       "      <th>79641</th>\n",
       "      <td>GM5780</td>\n",
       "      <td>NaN</td>\n",
       "      <td>None</td>\n",
       "      <td>NoMapping</td>\n",
       "    </tr>\n",
       "    <tr>\n",
       "      <th>79642</th>\n",
       "      <td>GM7061</td>\n",
       "      <td>NaN</td>\n",
       "      <td>None</td>\n",
       "      <td>NoMapping</td>\n",
       "    </tr>\n",
       "    <tr>\n",
       "      <th>79643</th>\n",
       "      <td>LOC100504025</td>\n",
       "      <td>NaN</td>\n",
       "      <td>None</td>\n",
       "      <td>NoMapping</td>\n",
       "    </tr>\n",
       "    <tr>\n",
       "      <th>79644</th>\n",
       "      <td>GM19444</td>\n",
       "      <td>NaN</td>\n",
       "      <td>None</td>\n",
       "      <td>NoMapping</td>\n",
       "    </tr>\n",
       "    <tr>\n",
       "      <th>79645</th>\n",
       "      <td>GM12271</td>\n",
       "      <td>NaN</td>\n",
       "      <td>None</td>\n",
       "      <td>NoMapping</td>\n",
       "    </tr>\n",
       "    <tr>\n",
       "      <th>79646</th>\n",
       "      <td>LOC100047183</td>\n",
       "      <td>NaN</td>\n",
       "      <td>None</td>\n",
       "      <td>NoMapping</td>\n",
       "    </tr>\n",
       "    <tr>\n",
       "      <th>79647</th>\n",
       "      <td>GM14217</td>\n",
       "      <td>NaN</td>\n",
       "      <td>None</td>\n",
       "      <td>NoMapping</td>\n",
       "    </tr>\n",
       "    <tr>\n",
       "      <th>79648</th>\n",
       "      <td>GM2423</td>\n",
       "      <td>NaN</td>\n",
       "      <td>None</td>\n",
       "      <td>NoMapping</td>\n",
       "    </tr>\n",
       "    <tr>\n",
       "      <th>79649</th>\n",
       "      <td>GM5196</td>\n",
       "      <td>NaN</td>\n",
       "      <td>None</td>\n",
       "      <td>NoMapping</td>\n",
       "    </tr>\n",
       "    <tr>\n",
       "      <th>79765</th>\n",
       "      <td>AF196779.12</td>\n",
       "      <td>NaN</td>\n",
       "      <td>None</td>\n",
       "      <td>NoMapping</td>\n",
       "    </tr>\n",
       "    <tr>\n",
       "      <th>79797</th>\n",
       "      <td>CH507-9B2.4</td>\n",
       "      <td>NaN</td>\n",
       "      <td>None</td>\n",
       "      <td>NoMapping</td>\n",
       "    </tr>\n",
       "    <tr>\n",
       "      <th>79800</th>\n",
       "      <td>CTC-260F20.3</td>\n",
       "      <td>NaN</td>\n",
       "      <td>None</td>\n",
       "      <td>NoMapping</td>\n",
       "    </tr>\n",
       "    <tr>\n",
       "      <th>79806</th>\n",
       "      <td>FLJ22184</td>\n",
       "      <td>NaN</td>\n",
       "      <td>None</td>\n",
       "      <td>NoMapping</td>\n",
       "    </tr>\n",
       "    <tr>\n",
       "      <th>79879</th>\n",
       "      <td>GFPL</td>\n",
       "      <td>NaN</td>\n",
       "      <td>None</td>\n",
       "      <td>NoMapping</td>\n",
       "    </tr>\n",
       "  </tbody>\n",
       "</table>\n",
       "</div>"
      ],
      "text/plain": [
       "       gene_id_final Uniprot Uniprot_unified uniprot_from_gn\n",
       "73662       AI837181     NaN            None       NoMapping\n",
       "74125    C2CD4CC2CD4     NaN            None       NoMapping\n",
       "76095       HIST1H4A     NaN            None       NoMapping\n",
       "76410        GM20425     NaN            None       NoMapping\n",
       "77010       HIST1H3B     NaN            None       NoMapping\n",
       "78882         GM5093     NaN            None       NoMapping\n",
       "78929  1700021F05RIK     NaN            None       NoMapping\n",
       "79437       AI848285     NaN            None       NoMapping\n",
       "79629  1110057K04RIK     NaN            None       NoMapping\n",
       "79635         GM3934     NaN            None       NoMapping\n",
       "79637         GM6788     NaN            None       NoMapping\n",
       "79639         GM4887     NaN            None       NoMapping\n",
       "79641         GM5780     NaN            None       NoMapping\n",
       "79642         GM7061     NaN            None       NoMapping\n",
       "79643   LOC100504025     NaN            None       NoMapping\n",
       "79644        GM19444     NaN            None       NoMapping\n",
       "79645        GM12271     NaN            None       NoMapping\n",
       "79646   LOC100047183     NaN            None       NoMapping\n",
       "79647        GM14217     NaN            None       NoMapping\n",
       "79648         GM2423     NaN            None       NoMapping\n",
       "79649         GM5196     NaN            None       NoMapping\n",
       "79765    AF196779.12     NaN            None       NoMapping\n",
       "79797    CH507-9B2.4     NaN            None       NoMapping\n",
       "79800   CTC-260F20.3     NaN            None       NoMapping\n",
       "79806       FLJ22184     NaN            None       NoMapping\n",
       "79879           GFPL     NaN            None       NoMapping"
      ]
     },
     "execution_count": 57,
     "metadata": {},
     "output_type": "execute_result"
    }
   ],
   "source": [
    "df_fgn.loc[( (df_fgn['uniprot_from_gn']=='NoMapping') & (df_fgn['Uniprot'].isna()) ) ]"
   ]
  },
  {
   "cell_type": "code",
   "execution_count": 58,
   "metadata": {},
   "outputs": [
    {
     "data": {
      "text/html": [
       "<div>\n",
       "<style scoped>\n",
       "    .dataframe tbody tr th:only-of-type {\n",
       "        vertical-align: middle;\n",
       "    }\n",
       "\n",
       "    .dataframe tbody tr th {\n",
       "        vertical-align: top;\n",
       "    }\n",
       "\n",
       "    .dataframe thead th {\n",
       "        text-align: right;\n",
       "    }\n",
       "</style>\n",
       "<table border=\"1\" class=\"dataframe\">\n",
       "  <thead>\n",
       "    <tr style=\"text-align: right;\">\n",
       "      <th></th>\n",
       "      <th>gene_id_final</th>\n",
       "      <th>Uniprot</th>\n",
       "      <th>Uniprot_unified</th>\n",
       "      <th>uniprot_from_gn</th>\n",
       "    </tr>\n",
       "  </thead>\n",
       "  <tbody>\n",
       "    <tr>\n",
       "      <th>73662</th>\n",
       "      <td>AI837181</td>\n",
       "      <td>NaN</td>\n",
       "      <td>None</td>\n",
       "      <td>NoMapping</td>\n",
       "    </tr>\n",
       "    <tr>\n",
       "      <th>74125</th>\n",
       "      <td>C2CD4CC2CD4</td>\n",
       "      <td>NaN</td>\n",
       "      <td>None</td>\n",
       "      <td>NoMapping</td>\n",
       "    </tr>\n",
       "    <tr>\n",
       "      <th>76095</th>\n",
       "      <td>HIST1H4A</td>\n",
       "      <td>NaN</td>\n",
       "      <td>None</td>\n",
       "      <td>NoMapping</td>\n",
       "    </tr>\n",
       "    <tr>\n",
       "      <th>76410</th>\n",
       "      <td>GM20425</td>\n",
       "      <td>NaN</td>\n",
       "      <td>None</td>\n",
       "      <td>NoMapping</td>\n",
       "    </tr>\n",
       "    <tr>\n",
       "      <th>77010</th>\n",
       "      <td>HIST1H3B</td>\n",
       "      <td>NaN</td>\n",
       "      <td>None</td>\n",
       "      <td>NoMapping</td>\n",
       "    </tr>\n",
       "    <tr>\n",
       "      <th>78882</th>\n",
       "      <td>GM5093</td>\n",
       "      <td>NaN</td>\n",
       "      <td>None</td>\n",
       "      <td>NoMapping</td>\n",
       "    </tr>\n",
       "    <tr>\n",
       "      <th>78929</th>\n",
       "      <td>1700021F05RIK</td>\n",
       "      <td>NaN</td>\n",
       "      <td>None</td>\n",
       "      <td>NoMapping</td>\n",
       "    </tr>\n",
       "    <tr>\n",
       "      <th>79437</th>\n",
       "      <td>AI848285</td>\n",
       "      <td>NaN</td>\n",
       "      <td>None</td>\n",
       "      <td>NoMapping</td>\n",
       "    </tr>\n",
       "    <tr>\n",
       "      <th>79629</th>\n",
       "      <td>1110057K04RIK</td>\n",
       "      <td>NaN</td>\n",
       "      <td>None</td>\n",
       "      <td>NoMapping</td>\n",
       "    </tr>\n",
       "    <tr>\n",
       "      <th>79635</th>\n",
       "      <td>GM3934</td>\n",
       "      <td>NaN</td>\n",
       "      <td>None</td>\n",
       "      <td>NoMapping</td>\n",
       "    </tr>\n",
       "    <tr>\n",
       "      <th>79637</th>\n",
       "      <td>GM6788</td>\n",
       "      <td>NaN</td>\n",
       "      <td>None</td>\n",
       "      <td>NoMapping</td>\n",
       "    </tr>\n",
       "    <tr>\n",
       "      <th>79639</th>\n",
       "      <td>GM4887</td>\n",
       "      <td>NaN</td>\n",
       "      <td>None</td>\n",
       "      <td>NoMapping</td>\n",
       "    </tr>\n",
       "    <tr>\n",
       "      <th>79641</th>\n",
       "      <td>GM5780</td>\n",
       "      <td>NaN</td>\n",
       "      <td>None</td>\n",
       "      <td>NoMapping</td>\n",
       "    </tr>\n",
       "    <tr>\n",
       "      <th>79642</th>\n",
       "      <td>GM7061</td>\n",
       "      <td>NaN</td>\n",
       "      <td>None</td>\n",
       "      <td>NoMapping</td>\n",
       "    </tr>\n",
       "    <tr>\n",
       "      <th>79643</th>\n",
       "      <td>LOC100504025</td>\n",
       "      <td>NaN</td>\n",
       "      <td>None</td>\n",
       "      <td>NoMapping</td>\n",
       "    </tr>\n",
       "    <tr>\n",
       "      <th>79644</th>\n",
       "      <td>GM19444</td>\n",
       "      <td>NaN</td>\n",
       "      <td>None</td>\n",
       "      <td>NoMapping</td>\n",
       "    </tr>\n",
       "    <tr>\n",
       "      <th>79645</th>\n",
       "      <td>GM12271</td>\n",
       "      <td>NaN</td>\n",
       "      <td>None</td>\n",
       "      <td>NoMapping</td>\n",
       "    </tr>\n",
       "    <tr>\n",
       "      <th>79646</th>\n",
       "      <td>LOC100047183</td>\n",
       "      <td>NaN</td>\n",
       "      <td>None</td>\n",
       "      <td>NoMapping</td>\n",
       "    </tr>\n",
       "    <tr>\n",
       "      <th>79647</th>\n",
       "      <td>GM14217</td>\n",
       "      <td>NaN</td>\n",
       "      <td>None</td>\n",
       "      <td>NoMapping</td>\n",
       "    </tr>\n",
       "    <tr>\n",
       "      <th>79648</th>\n",
       "      <td>GM2423</td>\n",
       "      <td>NaN</td>\n",
       "      <td>None</td>\n",
       "      <td>NoMapping</td>\n",
       "    </tr>\n",
       "    <tr>\n",
       "      <th>79649</th>\n",
       "      <td>GM5196</td>\n",
       "      <td>NaN</td>\n",
       "      <td>None</td>\n",
       "      <td>NoMapping</td>\n",
       "    </tr>\n",
       "    <tr>\n",
       "      <th>79765</th>\n",
       "      <td>AF196779.12</td>\n",
       "      <td>NaN</td>\n",
       "      <td>None</td>\n",
       "      <td>NoMapping</td>\n",
       "    </tr>\n",
       "    <tr>\n",
       "      <th>79797</th>\n",
       "      <td>CH507-9B2.4</td>\n",
       "      <td>NaN</td>\n",
       "      <td>None</td>\n",
       "      <td>NoMapping</td>\n",
       "    </tr>\n",
       "    <tr>\n",
       "      <th>79800</th>\n",
       "      <td>CTC-260F20.3</td>\n",
       "      <td>NaN</td>\n",
       "      <td>None</td>\n",
       "      <td>NoMapping</td>\n",
       "    </tr>\n",
       "    <tr>\n",
       "      <th>79806</th>\n",
       "      <td>FLJ22184</td>\n",
       "      <td>NaN</td>\n",
       "      <td>None</td>\n",
       "      <td>NoMapping</td>\n",
       "    </tr>\n",
       "    <tr>\n",
       "      <th>79879</th>\n",
       "      <td>GFPL</td>\n",
       "      <td>NaN</td>\n",
       "      <td>None</td>\n",
       "      <td>NoMapping</td>\n",
       "    </tr>\n",
       "  </tbody>\n",
       "</table>\n",
       "</div>"
      ],
      "text/plain": [
       "       gene_id_final Uniprot Uniprot_unified uniprot_from_gn\n",
       "73662       AI837181     NaN            None       NoMapping\n",
       "74125    C2CD4CC2CD4     NaN            None       NoMapping\n",
       "76095       HIST1H4A     NaN            None       NoMapping\n",
       "76410        GM20425     NaN            None       NoMapping\n",
       "77010       HIST1H3B     NaN            None       NoMapping\n",
       "78882         GM5093     NaN            None       NoMapping\n",
       "78929  1700021F05RIK     NaN            None       NoMapping\n",
       "79437       AI848285     NaN            None       NoMapping\n",
       "79629  1110057K04RIK     NaN            None       NoMapping\n",
       "79635         GM3934     NaN            None       NoMapping\n",
       "79637         GM6788     NaN            None       NoMapping\n",
       "79639         GM4887     NaN            None       NoMapping\n",
       "79641         GM5780     NaN            None       NoMapping\n",
       "79642         GM7061     NaN            None       NoMapping\n",
       "79643   LOC100504025     NaN            None       NoMapping\n",
       "79644        GM19444     NaN            None       NoMapping\n",
       "79645        GM12271     NaN            None       NoMapping\n",
       "79646   LOC100047183     NaN            None       NoMapping\n",
       "79647        GM14217     NaN            None       NoMapping\n",
       "79648         GM2423     NaN            None       NoMapping\n",
       "79649         GM5196     NaN            None       NoMapping\n",
       "79765    AF196779.12     NaN            None       NoMapping\n",
       "79797    CH507-9B2.4     NaN            None       NoMapping\n",
       "79800   CTC-260F20.3     NaN            None       NoMapping\n",
       "79806       FLJ22184     NaN            None       NoMapping\n",
       "79879           GFPL     NaN            None       NoMapping"
      ]
     },
     "execution_count": 58,
     "metadata": {},
     "output_type": "execute_result"
    }
   ],
   "source": [
    "df_fgn.loc[( (df_fgn['uniprot_from_gn']=='NoMapping') & (df_fgn['Uniprot_unified'].isna()) ) ]"
   ]
  },
  {
   "cell_type": "code",
   "execution_count": 59,
   "metadata": {},
   "outputs": [
    {
     "name": "stdout",
     "output_type": "stream",
     "text": [
      "80020\n",
      "79994\n"
     ]
    }
   ],
   "source": [
    "print(len(df_fgn))\n",
    "df_fgn = df_fgn.loc[~( (df_fgn['uniprot_from_gn']=='NoMapping') & (df_fgn['Uniprot'].isna()) ) ]\n",
    "print(len(df_fgn))"
   ]
  },
  {
   "cell_type": "code",
   "execution_count": null,
   "metadata": {},
   "outputs": [],
   "source": []
  },
  {
   "cell_type": "code",
   "execution_count": 60,
   "metadata": {},
   "outputs": [
    {
     "data": {
      "text/html": [
       "<div>\n",
       "<style scoped>\n",
       "    .dataframe tbody tr th:only-of-type {\n",
       "        vertical-align: middle;\n",
       "    }\n",
       "\n",
       "    .dataframe tbody tr th {\n",
       "        vertical-align: top;\n",
       "    }\n",
       "\n",
       "    .dataframe thead th {\n",
       "        text-align: right;\n",
       "    }\n",
       "</style>\n",
       "<table border=\"1\" class=\"dataframe\">\n",
       "  <thead>\n",
       "    <tr style=\"text-align: right;\">\n",
       "      <th></th>\n",
       "      <th>gene_id_final</th>\n",
       "      <th>Uniprot</th>\n",
       "      <th>Uniprot_unified</th>\n",
       "      <th>uniprot_from_gn</th>\n",
       "    </tr>\n",
       "  </thead>\n",
       "  <tbody>\n",
       "    <tr>\n",
       "      <th>1575</th>\n",
       "      <td>MCG1038069</td>\n",
       "      <td>P61089;A2RTT4</td>\n",
       "      <td>P61089</td>\n",
       "      <td>NoMapping</td>\n",
       "    </tr>\n",
       "    <tr>\n",
       "      <th>2219</th>\n",
       "      <td>HIST1H4A</td>\n",
       "      <td>B2RTM0;P62806;Q61667</td>\n",
       "      <td>P62806</td>\n",
       "      <td>NoMapping</td>\n",
       "    </tr>\n",
       "    <tr>\n",
       "      <th>16040</th>\n",
       "      <td>LOC639541</td>\n",
       "      <td>Q8K2I1;D3YWJ4</td>\n",
       "      <td>Q8K2I1</td>\n",
       "      <td>NoMapping</td>\n",
       "    </tr>\n",
       "    <tr>\n",
       "      <th>16783</th>\n",
       "      <td>AI837181</td>\n",
       "      <td>E9QNR6;Q8VD62</td>\n",
       "      <td>E9QNR6</td>\n",
       "      <td>NoMapping</td>\n",
       "    </tr>\n",
       "    <tr>\n",
       "      <th>20497</th>\n",
       "      <td>C2CD4CC2CD4</td>\n",
       "      <td>Q5HZI2</td>\n",
       "      <td>Q5HZI2</td>\n",
       "      <td>NoMapping</td>\n",
       "    </tr>\n",
       "  </tbody>\n",
       "</table>\n",
       "</div>"
      ],
      "text/plain": [
       "      gene_id_final               Uniprot Uniprot_unified uniprot_from_gn\n",
       "1575     MCG1038069         P61089;A2RTT4          P61089       NoMapping\n",
       "2219       HIST1H4A  B2RTM0;P62806;Q61667          P62806       NoMapping\n",
       "16040     LOC639541         Q8K2I1;D3YWJ4          Q8K2I1       NoMapping\n",
       "16783      AI837181         E9QNR6;Q8VD62          E9QNR6       NoMapping\n",
       "20497   C2CD4CC2CD4                Q5HZI2          Q5HZI2       NoMapping"
      ]
     },
     "execution_count": 60,
     "metadata": {},
     "output_type": "execute_result"
    }
   ],
   "source": [
    "df_fgn.loc[df_fgn['uniprot_from_gn']=='NoMapping'].head()"
   ]
  },
  {
   "cell_type": "code",
   "execution_count": 61,
   "metadata": {},
   "outputs": [
    {
     "data": {
      "text/plain": [
       "16488"
      ]
     },
     "execution_count": 61,
     "metadata": {},
     "output_type": "execute_result"
    }
   ],
   "source": [
    "len(df_fgn.loc[(~df_fgn['Uniprot'].isna()) & (df_fgn['Uniprot'].str.contains(\"-\"))])"
   ]
  },
  {
   "cell_type": "code",
   "execution_count": 62,
   "metadata": {},
   "outputs": [
    {
     "data": {
      "text/plain": [
       "8057"
      ]
     },
     "execution_count": 62,
     "metadata": {},
     "output_type": "execute_result"
    }
   ],
   "source": [
    "len(df_fgn.loc[(df_fgn['Uniprot'].isna())])"
   ]
  },
  {
   "cell_type": "code",
   "execution_count": 63,
   "metadata": {},
   "outputs": [
    {
     "data": {
      "text/plain": [
       "8057"
      ]
     },
     "execution_count": 63,
     "metadata": {},
     "output_type": "execute_result"
    }
   ],
   "source": [
    "len(df_fgn.loc[(df_fgn['Uniprot'].isna()) & (df_fgn['uniprot_from_gn'] != \"NoMapping\")] )"
   ]
  },
  {
   "cell_type": "code",
   "execution_count": 64,
   "metadata": {},
   "outputs": [
    {
     "data": {
      "text/plain": [
       "0"
      ]
     },
     "execution_count": 64,
     "metadata": {},
     "output_type": "execute_result"
    }
   ],
   "source": [
    "len(df_fgn.loc[(df_fgn['Uniprot'].isna()) & (~df_fgn['Uniprot_unified'].isna())])"
   ]
  },
  {
   "cell_type": "code",
   "execution_count": 65,
   "metadata": {},
   "outputs": [
    {
     "data": {
      "text/plain": [
       "0"
      ]
     },
     "execution_count": 65,
     "metadata": {},
     "output_type": "execute_result"
    }
   ],
   "source": [
    "len(df_fgn.loc[(~df_fgn['Uniprot'].isna()) & (df_fgn['Uniprot_unified'].isna())])"
   ]
  },
  {
   "cell_type": "code",
   "execution_count": 66,
   "metadata": {},
   "outputs": [
    {
     "data": {
      "text/plain": [
       "8057"
      ]
     },
     "execution_count": 66,
     "metadata": {},
     "output_type": "execute_result"
    }
   ],
   "source": [
    "len(df_fgn.loc[(df_fgn['Uniprot_unified'].isna())])"
   ]
  },
  {
   "cell_type": "markdown",
   "metadata": {},
   "source": [
    "Uniprot_final\n",
    "\n",
    "1. Uniprot isna & uniprot_from_gn != \"NoMapping\" -> Uniprot_final = uniprot_from_gn[0]\n",
    "\n",
    "1.5. Uniprot isna & uniprot_from_gn == \"NoMapping\" -> Uniprot_final = np.nan\n",
    "\n",
    "2. Uniprot_unified in Uniprot -> Uniprot_final = Uniprot_unified\n",
    "\n",
    "3. uniprot_from_gn == NoMapping -> Uniprot_final = Uniprot.split(\";\")[0].split(\"-\")[0] \n",
    "\n",
    "4. any(uniprot_from_gn) in Uniprot -> Uniprot_final = uniprot_from_gn which is in Uniprot \n",
    "\n",
    "5. Uniprot_unified in uniprot_from_gn -> Uniprot_final = Uniprot_unified (attention, check for consistency)\n"
   ]
  },
  {
   "cell_type": "code",
   "execution_count": null,
   "metadata": {},
   "outputs": [],
   "source": []
  },
  {
   "cell_type": "code",
   "execution_count": 67,
   "metadata": {},
   "outputs": [],
   "source": [
    "#check if at least one item in list exists in another list\n",
    "any_in = lambda a, b: any(i in b for i in a)\n",
    "\n",
    "def get_uniprot_final(index,row):\n",
    "    \n",
    "    uniprot = row['Uniprot']\n",
    "    uniprot_from_gn = row['uniprot_from_gn']\n",
    "    \n",
    "    \n",
    "    #case 1\n",
    "    if (isinstance(uniprot,float))&(uniprot_from_gn!=\"NoMapping\"):\n",
    "        return uniprot_from_gn[0].split(\"-\")[0]\n",
    "    \n",
    "    #case 1.5\n",
    "    elif (isinstance(uniprot,float))&(uniprot_from_gn==\"NoMapping\"):\n",
    "        return np.nan\n",
    "    \n",
    "    else:\n",
    "        uniprots_list0 = uniprot.replace(\" \",\"\").split(\";\")\n",
    "        uniprots_list = [x.split(\"-\")[0] for x in uniprots_list0 if x is not None] \n",
    "        \n",
    "        uniprot_unified = row['Uniprot_unified'].split(\"-\")[0]\n",
    "    \n",
    "        \n",
    "        #case 2\n",
    "        if uniprot_unified in uniprots_list:\n",
    "            return uniprot_unified\n",
    "        \n",
    "        #case 3\n",
    "        elif uniprot_from_gn==\"NoMapping\":\n",
    "            return uniprots_list[0]\n",
    "            \n",
    "        #case 4\n",
    "        elif any_in(uniprot_from_gn,uniprots_list):\n",
    "            ugn = [x for x in uniprot_from_gn if x in uniprots_list]\n",
    "            if isinstance(ugn,list):\n",
    "                if len(ugn)>0:\n",
    "                    return ugn[0]\n",
    "            else:\n",
    "                print(\"attention #################\",index)\n",
    "            \n",
    "        #case 5\n",
    "        elif uniprot_unified in uniprot_from_gn:\n",
    "            #print(\"check \",index)\n",
    "            return uniprot_unified\n",
    "        \n",
    "        #case 6\n",
    "        else:\n",
    "            if any_in(uniprots_list,uniprot_rev_ids):\n",
    "                ugn1 = [x for x in uniprots_list if x in uniprot_rev_ids]\n",
    "                if isinstance(ugn1,list):\n",
    "                    if len(ugn1)>0:\n",
    "                        return ugn1[0]\n",
    "                else:\n",
    "                    print(\"attention #################\",index)\n",
    "\n",
    "                \n",
    "            elif any_in(uniprots_list,uniprot_unrev_ids): \n",
    "                ugn2 = [x for x in uniprots_list if x in uniprot_unrev_ids]\n",
    "                if isinstance(ugn2,list):\n",
    "                    if len(ugn2)>0:\n",
    "                        return ugn2[0]\n",
    "                else:\n",
    "                    print(\"attention #################\",index)\n",
    "                    \n",
    "                \n",
    "            else:\n",
    "                return \"#\".join(['attention',uniprot_from_gn[0]])\n",
    "                #print(\"ATTENTTION\",index)\n",
    "                # make counts dict and return the most common\n",
    "                #return \"#\".join(['attention',uniprots_list[0]])"
   ]
  },
  {
   "cell_type": "code",
   "execution_count": null,
   "metadata": {},
   "outputs": [],
   "source": []
  },
  {
   "cell_type": "code",
   "execution_count": 68,
   "metadata": {},
   "outputs": [],
   "source": [
    "# need Uniprot to get protein seq to count number of possible peptides\n",
    "\n",
    "#df_fgn = df_fgn.drop(columns='Uniprot_final')\n",
    "\n",
    "df_fgn = df_fgn.reset_index(drop=True)\n",
    "\n",
    "df_fgn['Uniprot_final'] =  None\n",
    "\n",
    "for index,row in df_fgn.iterrows():\n",
    "    #print(index)\n",
    "    df_fgn.loc[index,'Uniprot_final'] = get_uniprot_final(index,row)"
   ]
  },
  {
   "cell_type": "code",
   "execution_count": null,
   "metadata": {},
   "outputs": [],
   "source": []
  },
  {
   "cell_type": "code",
   "execution_count": 69,
   "metadata": {},
   "outputs": [
    {
     "data": {
      "text/plain": [
       "29"
      ]
     },
     "execution_count": 69,
     "metadata": {},
     "output_type": "execute_result"
    }
   ],
   "source": [
    "len(df_fgn.loc[df_fgn['Uniprot_final'].str.contains(\"attention\")])"
   ]
  },
  {
   "cell_type": "code",
   "execution_count": null,
   "metadata": {},
   "outputs": [],
   "source": []
  },
  {
   "cell_type": "markdown",
   "metadata": {},
   "source": [
    "##### Manually check remained ids"
   ]
  },
  {
   "cell_type": "code",
   "execution_count": 70,
   "metadata": {},
   "outputs": [],
   "source": [
    "df_fgn.loc[(df_fgn['gene_id_final']=='SLC8A1') & (df_fgn['Uniprot_final']=='attention#P32418'),'Uniprot_final'] = \"P32418\" \n",
    "\n",
    "df_fgn.loc[(df_fgn['gene_id_final']=='GM15800') & (df_fgn['Uniprot_final']=='attention#Q6GQX8'),'Uniprot_final'] = \"Q6GQX8\" \n",
    "\n",
    "df_fgn.loc[(df_fgn['gene_id_final']=='TPR') & (df_fgn['Uniprot_final']=='attention#P12270'),'Uniprot_final'] = \"P12270\" \n",
    "\n",
    "df_fgn.loc[(df_fgn['gene_id_final']=='TSC2') & (df_fgn['Uniprot_final']=='attention#P49816'),'Uniprot_final'] = \"P49816\" \n",
    "\n",
    "df_fgn.loc[(df_fgn['gene_id_final']=='ARMCX4') & (df_fgn['Uniprot_final']=='attention#Q5H9R4'),'Uniprot_final'] = \"Q5H9R4\" \n",
    "\n",
    "df_fgn.loc[(df_fgn['gene_id_final']=='IFI204') & (df_fgn['Uniprot_final']=='attention#P0DOV2'),'Uniprot_final'] = \"P0DOV2\"\n",
    "\n",
    "df_fgn.loc[(df_fgn['gene_id_final']=='DOS') & (df_fgn['Uniprot_final']=='attention#Q66L44'),'Uniprot_final'] = \"Q66L44\" # DOS is synonymous GN in Q66L44 entry\n",
    "\n",
    "df_fgn.loc[(df_fgn['gene_id_final']=='MEX3A') & (df_fgn['Uniprot_final']=='attention#A1L020'),'Uniprot_final'] = \"A1L020\" \n",
    "\n",
    "df_fgn.loc[(df_fgn['gene_id_final']=='EVI5L') & (df_fgn['Uniprot_final']=='attention#Q96CN4'),'Uniprot_final'] = \"Q96CN4\" \n",
    "\n",
    "df_fgn.loc[(df_fgn['gene_id_final']=='RCOR1') & (df_fgn['Uniprot_final']=='attention#Q9UKL0'),'Uniprot_final'] = \"Q9UKL0\"\n",
    "\n",
    "df_fgn.loc[(df_fgn['gene_id_final']=='NAGLU') & (df_fgn['Uniprot_final']=='attention#P54802'),'Uniprot_final'] = \"P54802\" \n",
    "\n",
    "df_fgn.loc[(df_fgn['gene_id_final']=='TRPM3') & (df_fgn['Uniprot_final']=='attention#Q9HCF6'),'Uniprot_final'] = \"Q9HCF6\" \n",
    "\n",
    "df_fgn.loc[(df_fgn['gene_id_final']=='FXR2') & (df_fgn['Uniprot_final']=='attention#Q9WVR4'),'Uniprot_final'] = \"Q9WVR4\" \n",
    "\n",
    "df_fgn.loc[(df_fgn['gene_id_final']=='OSBPL10') & (df_fgn['Uniprot_final']=='attention#S4R1M9'),'Uniprot_final'] = \"S4R1M9\" \n",
    "\n",
    "df_fgn.loc[(df_fgn['gene_id_final']=='SAP18') & (df_fgn['Uniprot_final']=='attention#O55128'),'Uniprot_final'] = \"O55128\" \n",
    "\n",
    "df_fgn.loc[(df_fgn['gene_id_final']=='HLA-A') & (df_fgn['Uniprot_final']=='attention#P04439'),'Uniprot_final'] = \"P04439\"\n",
    "\n",
    "df_fgn.loc[(df_fgn['gene_id_final']=='HLA-C') & (df_fgn['Uniprot_final']=='attention#P10321'),'Uniprot_final'] = \"P10321\" \n",
    "\n",
    "df_fgn.loc[(df_fgn['gene_id_final']=='C21ORF33') & (df_fgn['Uniprot_final']=='attention#P0DPI2'),'Uniprot_final'] = \"P0DPI2\" # C21ORF33 is synonymous GN in Uniprot\n",
    "\n",
    "df_fgn.loc[(df_fgn['gene_id_final']=='HMG1L1') & (df_fgn['Uniprot_final']=='attention#B2RPK0'),'Uniprot_final'] = \"B2RPK0\" \n",
    "\n",
    "df_fgn.loc[(df_fgn['gene_id_final']=='SRP54C') & (df_fgn['Uniprot_final']=='attention#Q99JZ9'),'Uniprot_final'] = \"Q99JZ9\" \n",
    "\n",
    "df_fgn.loc[(df_fgn['gene_id_final']=='SYNJ2BP-COX16') & (df_fgn['Uniprot_final']=='attention#A0A087WYV9'),'Uniprot_final'] = \"A0A087WYV9\" \n",
    "\n",
    "df_fgn.loc[(df_fgn['gene_id_final']=='PPP1R2P3') & (df_fgn['Uniprot_final']=='attention#Q6NXS1'),'Uniprot_final'] = \"Q6NXS1\" \n",
    "\n",
    "df_fgn.loc[(df_fgn['gene_id_final']=='5330417C22RIK') & (df_fgn['Uniprot_final']=='attention#A0A0A0MQC6'),'Uniprot_final'] = \"A0A0A0MQC6\"\n",
    "\n",
    "\n"
   ]
  },
  {
   "cell_type": "code",
   "execution_count": 71,
   "metadata": {},
   "outputs": [
    {
     "data": {
      "text/html": [
       "<div>\n",
       "<style scoped>\n",
       "    .dataframe tbody tr th:only-of-type {\n",
       "        vertical-align: middle;\n",
       "    }\n",
       "\n",
       "    .dataframe tbody tr th {\n",
       "        vertical-align: top;\n",
       "    }\n",
       "\n",
       "    .dataframe thead th {\n",
       "        text-align: right;\n",
       "    }\n",
       "</style>\n",
       "<table border=\"1\" class=\"dataframe\">\n",
       "  <thead>\n",
       "    <tr style=\"text-align: right;\">\n",
       "      <th></th>\n",
       "      <th>gene_id_final</th>\n",
       "      <th>Uniprot</th>\n",
       "      <th>Uniprot_unified</th>\n",
       "      <th>uniprot_from_gn</th>\n",
       "      <th>Uniprot_final</th>\n",
       "    </tr>\n",
       "  </thead>\n",
       "  <tbody>\n",
       "  </tbody>\n",
       "</table>\n",
       "</div>"
      ],
      "text/plain": [
       "Empty DataFrame\n",
       "Columns: [gene_id_final, Uniprot, Uniprot_unified, uniprot_from_gn, Uniprot_final]\n",
       "Index: []"
      ]
     },
     "execution_count": 71,
     "metadata": {},
     "output_type": "execute_result"
    }
   ],
   "source": [
    "df_fgn.loc[df_fgn['Uniprot_final'].str.contains(\"attention\")]\n"
   ]
  },
  {
   "cell_type": "code",
   "execution_count": 72,
   "metadata": {},
   "outputs": [
    {
     "data": {
      "text/html": [
       "<div>\n",
       "<style scoped>\n",
       "    .dataframe tbody tr th:only-of-type {\n",
       "        vertical-align: middle;\n",
       "    }\n",
       "\n",
       "    .dataframe tbody tr th {\n",
       "        vertical-align: top;\n",
       "    }\n",
       "\n",
       "    .dataframe thead th {\n",
       "        text-align: right;\n",
       "    }\n",
       "</style>\n",
       "<table border=\"1\" class=\"dataframe\">\n",
       "  <thead>\n",
       "    <tr style=\"text-align: right;\">\n",
       "      <th></th>\n",
       "      <th>gene_id_final</th>\n",
       "      <th>Uniprot</th>\n",
       "      <th>Uniprot_unified</th>\n",
       "      <th>uniprot_from_gn</th>\n",
       "      <th>Uniprot_final</th>\n",
       "    </tr>\n",
       "  </thead>\n",
       "  <tbody>\n",
       "  </tbody>\n",
       "</table>\n",
       "</div>"
      ],
      "text/plain": [
       "Empty DataFrame\n",
       "Columns: [gene_id_final, Uniprot, Uniprot_unified, uniprot_from_gn, Uniprot_final]\n",
       "Index: []"
      ]
     },
     "execution_count": 72,
     "metadata": {},
     "output_type": "execute_result"
    }
   ],
   "source": [
    "df_fgn.loc[df_fgn['Uniprot_final'].isna()]"
   ]
  },
  {
   "cell_type": "code",
   "execution_count": null,
   "metadata": {},
   "outputs": [],
   "source": [
    "# in some applications ca be useful:\n",
    "\n",
    "#df['Uniprot_final'] = None\n",
    "\n",
    "#df.loc[df['Uniprot_unified'].isna(), 'Uniprot_final'] = df.loc[df['Uniprot_unified'].isna(),'uniprot_from_gn']\n",
    "#df.loc[~df['Uniprot_unified'].isna(), 'Uniprot_final'] = df.loc[~df['Uniprot_unified'].isna(),'Uniprot_unified']\n",
    "\n",
    "\n",
    "#df.loc[df['Uniprot_unified'].isna(),'Uniprot_final'] = df.loc[df['Uniprot_unified'].isna(),'uniprot_from_gn'].map(lambda x: x[0])"
   ]
  },
  {
   "cell_type": "code",
   "execution_count": 73,
   "metadata": {},
   "outputs": [
    {
     "name": "stdout",
     "output_type": "stream",
     "text": [
      "['Han 2014']\n"
     ]
    }
   ],
   "source": [
    "# clean data\n",
    "\n",
    "print(df.loc[df['Uniprot_unified'].isin(['D3YYU8D3Z0M8','P01900P14427','P47963Q5RKP3','P63242Q8BGY2','Q3TCJ1D3Z4D8','Q6ZWZ6P63323','Q8CAY6Q80X81','Q8CHF5Q9JKP5','Q91WK5Q9CV53','Q9CQK7E9PXV5','Q9CR27Q9CYF6','Q9DCS2E9Q5B2','Q9JM76D3Z2F8']),'Study'].unique())\n",
    "\n",
    "df_fgn.loc[df_fgn['Uniprot_final']=='D3YYU8D3Z0M8','Uniprot_final'] = 'D3YYU8'\n",
    "df_fgn.loc[df_fgn['Uniprot_final']=='P01900P14427','Uniprot_final'] = 'P01900'\n",
    "df_fgn.loc[df_fgn['Uniprot_final']=='P47963Q5RKP3','Uniprot_final'] = 'P47963'\n",
    "df_fgn.loc[df_fgn['Uniprot_final']=='P63242Q8BGY2','Uniprot_final'] = 'P63242'\n",
    "df_fgn.loc[df_fgn['Uniprot_final']=='Q3TCJ1D3Z4D8','Uniprot_final'] = 'Q3TCJ1'\n",
    "df_fgn.loc[df_fgn['Uniprot_final']=='Q6ZWZ6P63323','Uniprot_final'] = 'Q6ZWZ6'\n",
    "df_fgn.loc[df_fgn['Uniprot_final']=='Q8CAY6Q80X81','Uniprot_final'] = 'Q8CAY6'\n",
    "df_fgn.loc[df_fgn['Uniprot_final']=='Q8CHF5Q9JKP5','Uniprot_final'] = 'Q8CHF5'\n",
    "df_fgn.loc[df_fgn['Uniprot_final']=='Q91WK5Q9CV53','Uniprot_final'] = 'Q91WK5'\n",
    "df_fgn.loc[df_fgn['Uniprot_final']=='Q9CQK7E9PXV5','Uniprot_final'] = 'Q9CQK7'\n",
    "df_fgn.loc[df_fgn['Uniprot_final']=='Q9CR27Q9CYF6','Uniprot_final'] = 'Q9CR27'\n",
    "df_fgn.loc[df_fgn['Uniprot_final']=='Q9DCS2E9Q5B2','Uniprot_final'] = 'Q9DCS2'\n",
    "df_fgn.loc[df_fgn['Uniprot_final']=='Q9JM76D3Z2F8','Uniprot_final'] = 'Q9JM76'\n"
   ]
  },
  {
   "cell_type": "code",
   "execution_count": 74,
   "metadata": {},
   "outputs": [
    {
     "data": {
      "text/html": [
       "<div>\n",
       "<style scoped>\n",
       "    .dataframe tbody tr th:only-of-type {\n",
       "        vertical-align: middle;\n",
       "    }\n",
       "\n",
       "    .dataframe tbody tr th {\n",
       "        vertical-align: top;\n",
       "    }\n",
       "\n",
       "    .dataframe thead th {\n",
       "        text-align: right;\n",
       "    }\n",
       "</style>\n",
       "<table border=\"1\" class=\"dataframe\">\n",
       "  <thead>\n",
       "    <tr style=\"text-align: right;\">\n",
       "      <th></th>\n",
       "      <th>gene_names</th>\n",
       "      <th>Uniprot</th>\n",
       "      <th>Study</th>\n",
       "      <th>Organism</th>\n",
       "      <th>location</th>\n",
       "      <th>Age_cat</th>\n",
       "      <th>Age_days</th>\n",
       "      <th>condition</th>\n",
       "      <th>sample_id</th>\n",
       "      <th>molecular_weight_kDa</th>\n",
       "      <th>raw_data</th>\n",
       "      <th>raw_data_units</th>\n",
       "      <th>gene_name_unified</th>\n",
       "      <th>Uniprot_unified</th>\n",
       "      <th>gn_from_uniprot</th>\n",
       "      <th>uniprot_from_gn</th>\n",
       "      <th>gene_id_final</th>\n",
       "      <th>log_raw_data</th>\n",
       "    </tr>\n",
       "  </thead>\n",
       "  <tbody>\n",
       "    <tr>\n",
       "      <th>753575</th>\n",
       "      <td>DNMT1</td>\n",
       "      <td>P13864;P13864-2</td>\n",
       "      <td>Hosp 2017, soluble</td>\n",
       "      <td>mouse</td>\n",
       "      <td>cerebellum</td>\n",
       "      <td>NaN</td>\n",
       "      <td>56</td>\n",
       "      <td>NaN</td>\n",
       "      <td>5wWTce1</td>\n",
       "      <td>183.19</td>\n",
       "      <td>5504000.0</td>\n",
       "      <td>iBAQ</td>\n",
       "      <td>DNMT1</td>\n",
       "      <td>P13864</td>\n",
       "      <td>[DNMT1]</td>\n",
       "      <td>[P13864, J3QNW0, Q0VDW2, Q7TSJ0, Q3UPE8, Q3UWN...</td>\n",
       "      <td>DNMT1</td>\n",
       "      <td>15.520986</td>\n",
       "    </tr>\n",
       "  </tbody>\n",
       "</table>\n",
       "</div>"
      ],
      "text/plain": [
       "       gene_names          Uniprot               Study Organism    location  \\\n",
       "753575      DNMT1  P13864;P13864-2  Hosp 2017, soluble    mouse  cerebellum   \n",
       "\n",
       "       Age_cat Age_days condition sample_id  molecular_weight_kDa   raw_data  \\\n",
       "753575     NaN       56       NaN   5wWTce1                183.19  5504000.0   \n",
       "\n",
       "       raw_data_units gene_name_unified Uniprot_unified gn_from_uniprot  \\\n",
       "753575           iBAQ             DNMT1          P13864         [DNMT1]   \n",
       "\n",
       "                                          uniprot_from_gn gene_id_final  \\\n",
       "753575  [P13864, J3QNW0, Q0VDW2, Q7TSJ0, Q3UPE8, Q3UWN...         DNMT1   \n",
       "\n",
       "        log_raw_data  \n",
       "753575     15.520986  "
      ]
     },
     "execution_count": 74,
     "metadata": {},
     "output_type": "execute_result"
    }
   ],
   "source": [
    "df.loc[df['Uniprot_unified']=='P13864'].head(1)\n"
   ]
  },
  {
   "cell_type": "code",
   "execution_count": 75,
   "metadata": {},
   "outputs": [
    {
     "data": {
      "text/html": [
       "<div>\n",
       "<style scoped>\n",
       "    .dataframe tbody tr th:only-of-type {\n",
       "        vertical-align: middle;\n",
       "    }\n",
       "\n",
       "    .dataframe tbody tr th {\n",
       "        vertical-align: top;\n",
       "    }\n",
       "\n",
       "    .dataframe thead th {\n",
       "        text-align: right;\n",
       "    }\n",
       "</style>\n",
       "<table border=\"1\" class=\"dataframe\">\n",
       "  <thead>\n",
       "    <tr style=\"text-align: right;\">\n",
       "      <th></th>\n",
       "      <th>gene_names</th>\n",
       "      <th>Uniprot</th>\n",
       "      <th>Study</th>\n",
       "      <th>Organism</th>\n",
       "      <th>location</th>\n",
       "      <th>Age_cat</th>\n",
       "      <th>Age_days</th>\n",
       "      <th>condition</th>\n",
       "      <th>sample_id</th>\n",
       "      <th>molecular_weight_kDa</th>\n",
       "      <th>raw_data</th>\n",
       "      <th>raw_data_units</th>\n",
       "      <th>gene_name_unified</th>\n",
       "      <th>Uniprot_unified</th>\n",
       "      <th>gn_from_uniprot</th>\n",
       "      <th>uniprot_from_gn</th>\n",
       "      <th>gene_id_final</th>\n",
       "      <th>log_raw_data</th>\n",
       "    </tr>\n",
       "  </thead>\n",
       "  <tbody>\n",
       "    <tr>\n",
       "      <th>1108665</th>\n",
       "      <td>SSH1</td>\n",
       "      <td>Q76I79;Q76I79-2;F8WHT2</td>\n",
       "      <td>Hosp 2017, soluble</td>\n",
       "      <td>mouse</td>\n",
       "      <td>cerebellum</td>\n",
       "      <td>NaN</td>\n",
       "      <td>56</td>\n",
       "      <td>NaN</td>\n",
       "      <td>5wWTce1</td>\n",
       "      <td>115.3</td>\n",
       "      <td>766530.0</td>\n",
       "      <td>iBAQ</td>\n",
       "      <td>SSH1</td>\n",
       "      <td>Q76I79</td>\n",
       "      <td>[SSH1]</td>\n",
       "      <td>[Q76I79, F8WHT2, F7CBJ9, E0CXT3, F1LWM1, Q8WYL...</td>\n",
       "      <td>SSH1</td>\n",
       "      <td>13.549629</td>\n",
       "    </tr>\n",
       "  </tbody>\n",
       "</table>\n",
       "</div>"
      ],
      "text/plain": [
       "        gene_names                 Uniprot               Study Organism  \\\n",
       "1108665       SSH1  Q76I79;Q76I79-2;F8WHT2  Hosp 2017, soluble    mouse   \n",
       "\n",
       "           location Age_cat Age_days condition sample_id  \\\n",
       "1108665  cerebellum     NaN       56       NaN   5wWTce1   \n",
       "\n",
       "         molecular_weight_kDa  raw_data raw_data_units gene_name_unified  \\\n",
       "1108665                 115.3  766530.0           iBAQ              SSH1   \n",
       "\n",
       "        Uniprot_unified gn_from_uniprot  \\\n",
       "1108665          Q76I79          [SSH1]   \n",
       "\n",
       "                                           uniprot_from_gn gene_id_final  \\\n",
       "1108665  [Q76I79, F8WHT2, F7CBJ9, E0CXT3, F1LWM1, Q8WYL...          SSH1   \n",
       "\n",
       "         log_raw_data  \n",
       "1108665     13.549629  "
      ]
     },
     "execution_count": 75,
     "metadata": {},
     "output_type": "execute_result"
    }
   ],
   "source": [
    "df.loc[df['Uniprot_unified']=='Q76I79'].head(1)"
   ]
  },
  {
   "cell_type": "code",
   "execution_count": 78,
   "metadata": {},
   "outputs": [],
   "source": [
    "df = df.drop(columns=['gn_from_uniprot', 'uniprot_from_gn'])"
   ]
  },
  {
   "cell_type": "code",
   "execution_count": 79,
   "metadata": {},
   "outputs": [],
   "source": [
    "df = df.reset_index(drop=True)"
   ]
  },
  {
   "cell_type": "code",
   "execution_count": 80,
   "metadata": {},
   "outputs": [
    {
     "name": "stdout",
     "output_type": "stream",
     "text": [
      "2132553\n"
     ]
    },
    {
     "data": {
      "text/plain": [
       "2132041"
      ]
     },
     "execution_count": 80,
     "metadata": {},
     "output_type": "execute_result"
    }
   ],
   "source": [
    "print(len(df))\n",
    "df_all = pd.merge(df,df_fgn,how='inner',on=['gene_id_final', 'Uniprot', 'Uniprot_unified'])\n",
    "len(df_all)"
   ]
  },
  {
   "cell_type": "code",
   "execution_count": 82,
   "metadata": {},
   "outputs": [
    {
     "data": {
      "text/html": [
       "<div>\n",
       "<style scoped>\n",
       "    .dataframe tbody tr th:only-of-type {\n",
       "        vertical-align: middle;\n",
       "    }\n",
       "\n",
       "    .dataframe tbody tr th {\n",
       "        vertical-align: top;\n",
       "    }\n",
       "\n",
       "    .dataframe thead th {\n",
       "        text-align: right;\n",
       "    }\n",
       "</style>\n",
       "<table border=\"1\" class=\"dataframe\">\n",
       "  <thead>\n",
       "    <tr style=\"text-align: right;\">\n",
       "      <th></th>\n",
       "      <th>gene_names</th>\n",
       "      <th>Uniprot</th>\n",
       "      <th>Study</th>\n",
       "      <th>Organism</th>\n",
       "      <th>location</th>\n",
       "      <th>Age_cat</th>\n",
       "      <th>Age_days</th>\n",
       "      <th>condition</th>\n",
       "      <th>sample_id</th>\n",
       "      <th>molecular_weight_kDa</th>\n",
       "      <th>raw_data</th>\n",
       "      <th>raw_data_units</th>\n",
       "      <th>gene_name_unified</th>\n",
       "      <th>Uniprot_unified</th>\n",
       "      <th>gene_id_final</th>\n",
       "      <th>log_raw_data</th>\n",
       "      <th>uniprot_from_gn</th>\n",
       "      <th>Uniprot_final</th>\n",
       "      <th>_merge</th>\n",
       "    </tr>\n",
       "  </thead>\n",
       "  <tbody>\n",
       "    <tr>\n",
       "      <th>0</th>\n",
       "      <td>H2-KE6;HSD17B8</td>\n",
       "      <td>A0A068BEQ2;P50171;G3UX44</td>\n",
       "      <td>Hamezah 2019</td>\n",
       "      <td>mouse</td>\n",
       "      <td>hippocampus</td>\n",
       "      <td>NaN</td>\n",
       "      <td>476</td>\n",
       "      <td>WT</td>\n",
       "      <td>NaN</td>\n",
       "      <td>26.587</td>\n",
       "      <td>3.324025e+06</td>\n",
       "      <td>LFQintensity</td>\n",
       "      <td>HSD17B8</td>\n",
       "      <td>P50171</td>\n",
       "      <td>HSD17B8</td>\n",
       "      <td>15.016687</td>\n",
       "      <td>[Q92506, Q6MGB5, P50171]</td>\n",
       "      <td>P50171</td>\n",
       "      <td>both</td>\n",
       "    </tr>\n",
       "    <tr>\n",
       "      <th>1</th>\n",
       "      <td>H2-KE6;HSD17B8</td>\n",
       "      <td>A0A068BEQ2;P50171;G3UX44</td>\n",
       "      <td>Hamezah 2019</td>\n",
       "      <td>mouse</td>\n",
       "      <td>hippocampus</td>\n",
       "      <td>NaN</td>\n",
       "      <td>476</td>\n",
       "      <td>Alzheimer</td>\n",
       "      <td>NaN</td>\n",
       "      <td>26.587</td>\n",
       "      <td>1.736439e+06</td>\n",
       "      <td>LFQintensity</td>\n",
       "      <td>HSD17B8</td>\n",
       "      <td>P50171</td>\n",
       "      <td>HSD17B8</td>\n",
       "      <td>14.367347</td>\n",
       "      <td>[Q92506, Q6MGB5, P50171]</td>\n",
       "      <td>P50171</td>\n",
       "      <td>both</td>\n",
       "    </tr>\n",
       "    <tr>\n",
       "      <th>2</th>\n",
       "      <td>H2-KE6;HSD17B8</td>\n",
       "      <td>A0A068BEQ2;P50171;G3UX44</td>\n",
       "      <td>Hamezah 2019</td>\n",
       "      <td>mouse</td>\n",
       "      <td>striatum</td>\n",
       "      <td>NaN</td>\n",
       "      <td>476</td>\n",
       "      <td>WT</td>\n",
       "      <td>NaN</td>\n",
       "      <td>26.587</td>\n",
       "      <td>1.980690e+07</td>\n",
       "      <td>LFQintensity</td>\n",
       "      <td>HSD17B8</td>\n",
       "      <td>P50171</td>\n",
       "      <td>HSD17B8</td>\n",
       "      <td>16.801541</td>\n",
       "      <td>[Q92506, Q6MGB5, P50171]</td>\n",
       "      <td>P50171</td>\n",
       "      <td>both</td>\n",
       "    </tr>\n",
       "    <tr>\n",
       "      <th>3</th>\n",
       "      <td>H2-KE6;HSD17B8</td>\n",
       "      <td>A0A068BEQ2;P50171;G3UX44</td>\n",
       "      <td>Hamezah 2019</td>\n",
       "      <td>mouse</td>\n",
       "      <td>striatum</td>\n",
       "      <td>NaN</td>\n",
       "      <td>476</td>\n",
       "      <td>Alzheimer</td>\n",
       "      <td>NaN</td>\n",
       "      <td>26.587</td>\n",
       "      <td>3.241369e+07</td>\n",
       "      <td>LFQintensity</td>\n",
       "      <td>HSD17B8</td>\n",
       "      <td>P50171</td>\n",
       "      <td>HSD17B8</td>\n",
       "      <td>17.294091</td>\n",
       "      <td>[Q92506, Q6MGB5, P50171]</td>\n",
       "      <td>P50171</td>\n",
       "      <td>both</td>\n",
       "    </tr>\n",
       "    <tr>\n",
       "      <th>4</th>\n",
       "      <td>RAB11B;RAB11A</td>\n",
       "      <td>Q78ZJ8;A0A068BFR3;P46638;G3UY29;E9Q3P9;F8WGS1;...</td>\n",
       "      <td>Hamezah 2019</td>\n",
       "      <td>mouse</td>\n",
       "      <td>hippocampus</td>\n",
       "      <td>NaN</td>\n",
       "      <td>476</td>\n",
       "      <td>WT</td>\n",
       "      <td>NaN</td>\n",
       "      <td>24.489</td>\n",
       "      <td>4.273752e+07</td>\n",
       "      <td>LFQintensity</td>\n",
       "      <td>RAB11B</td>\n",
       "      <td>P46638</td>\n",
       "      <td>RAB11B</td>\n",
       "      <td>17.570588</td>\n",
       "      <td>[Q15907, P46638, O35509]</td>\n",
       "      <td>P46638</td>\n",
       "      <td>both</td>\n",
       "    </tr>\n",
       "  </tbody>\n",
       "</table>\n",
       "</div>"
      ],
      "text/plain": [
       "       gene_names                                            Uniprot  \\\n",
       "0  H2-KE6;HSD17B8                           A0A068BEQ2;P50171;G3UX44   \n",
       "1  H2-KE6;HSD17B8                           A0A068BEQ2;P50171;G3UX44   \n",
       "2  H2-KE6;HSD17B8                           A0A068BEQ2;P50171;G3UX44   \n",
       "3  H2-KE6;HSD17B8                           A0A068BEQ2;P50171;G3UX44   \n",
       "4   RAB11B;RAB11A  Q78ZJ8;A0A068BFR3;P46638;G3UY29;E9Q3P9;F8WGS1;...   \n",
       "\n",
       "          Study Organism     location Age_cat Age_days  condition sample_id  \\\n",
       "0  Hamezah 2019    mouse  hippocampus     NaN      476         WT       NaN   \n",
       "1  Hamezah 2019    mouse  hippocampus     NaN      476  Alzheimer       NaN   \n",
       "2  Hamezah 2019    mouse     striatum     NaN      476         WT       NaN   \n",
       "3  Hamezah 2019    mouse     striatum     NaN      476  Alzheimer       NaN   \n",
       "4  Hamezah 2019    mouse  hippocampus     NaN      476         WT       NaN   \n",
       "\n",
       "   molecular_weight_kDa      raw_data raw_data_units gene_name_unified  \\\n",
       "0                26.587  3.324025e+06   LFQintensity           HSD17B8   \n",
       "1                26.587  1.736439e+06   LFQintensity           HSD17B8   \n",
       "2                26.587  1.980690e+07   LFQintensity           HSD17B8   \n",
       "3                26.587  3.241369e+07   LFQintensity           HSD17B8   \n",
       "4                24.489  4.273752e+07   LFQintensity            RAB11B   \n",
       "\n",
       "  Uniprot_unified gene_id_final  log_raw_data           uniprot_from_gn  \\\n",
       "0          P50171       HSD17B8     15.016687  [Q92506, Q6MGB5, P50171]   \n",
       "1          P50171       HSD17B8     14.367347  [Q92506, Q6MGB5, P50171]   \n",
       "2          P50171       HSD17B8     16.801541  [Q92506, Q6MGB5, P50171]   \n",
       "3          P50171       HSD17B8     17.294091  [Q92506, Q6MGB5, P50171]   \n",
       "4          P46638        RAB11B     17.570588  [Q15907, P46638, O35509]   \n",
       "\n",
       "  Uniprot_final _merge  \n",
       "0        P50171   both  \n",
       "1        P50171   both  \n",
       "2        P50171   both  \n",
       "3        P50171   both  \n",
       "4        P46638   both  "
      ]
     },
     "execution_count": 82,
     "metadata": {},
     "output_type": "execute_result"
    }
   ],
   "source": [
    "extra = pd.merge(df,df_fgn, how='left', indicator=True)\n",
    "extra.head()"
   ]
  },
  {
   "cell_type": "code",
   "execution_count": 83,
   "metadata": {},
   "outputs": [
    {
     "data": {
      "text/plain": [
       "[both, left_only]\n",
       "Categories (2, object): [both, left_only]"
      ]
     },
     "execution_count": 83,
     "metadata": {},
     "output_type": "execute_result"
    }
   ],
   "source": [
    "extra['_merge'].unique()"
   ]
  },
  {
   "cell_type": "code",
   "execution_count": 84,
   "metadata": {},
   "outputs": [
    {
     "data": {
      "text/plain": [
       "512"
      ]
     },
     "execution_count": 84,
     "metadata": {},
     "output_type": "execute_result"
    }
   ],
   "source": [
    "len(extra.loc[extra['_merge']=='left_only'])"
   ]
  },
  {
   "cell_type": "code",
   "execution_count": 85,
   "metadata": {},
   "outputs": [
    {
     "data": {
      "text/html": [
       "<div>\n",
       "<style scoped>\n",
       "    .dataframe tbody tr th:only-of-type {\n",
       "        vertical-align: middle;\n",
       "    }\n",
       "\n",
       "    .dataframe tbody tr th {\n",
       "        vertical-align: top;\n",
       "    }\n",
       "\n",
       "    .dataframe thead th {\n",
       "        text-align: right;\n",
       "    }\n",
       "</style>\n",
       "<table border=\"1\" class=\"dataframe\">\n",
       "  <thead>\n",
       "    <tr style=\"text-align: right;\">\n",
       "      <th></th>\n",
       "      <th>gene_names</th>\n",
       "      <th>Uniprot</th>\n",
       "      <th>Study</th>\n",
       "      <th>Organism</th>\n",
       "      <th>location</th>\n",
       "      <th>Age_cat</th>\n",
       "      <th>Age_days</th>\n",
       "      <th>condition</th>\n",
       "      <th>sample_id</th>\n",
       "      <th>molecular_weight_kDa</th>\n",
       "      <th>raw_data</th>\n",
       "      <th>raw_data_units</th>\n",
       "      <th>gene_name_unified</th>\n",
       "      <th>Uniprot_unified</th>\n",
       "      <th>gene_id_final</th>\n",
       "      <th>log_raw_data</th>\n",
       "      <th>uniprot_from_gn</th>\n",
       "      <th>Uniprot_final</th>\n",
       "      <th>_merge</th>\n",
       "    </tr>\n",
       "  </thead>\n",
       "  <tbody>\n",
       "  </tbody>\n",
       "</table>\n",
       "</div>"
      ],
      "text/plain": [
       "Empty DataFrame\n",
       "Columns: [gene_names, Uniprot, Study, Organism, location, Age_cat, Age_days, condition, sample_id, molecular_weight_kDa, raw_data, raw_data_units, gene_name_unified, Uniprot_unified, gene_id_final, log_raw_data, uniprot_from_gn, Uniprot_final, _merge]\n",
       "Index: []"
      ]
     },
     "execution_count": 85,
     "metadata": {},
     "output_type": "execute_result"
    }
   ],
   "source": [
    "extra.loc[(extra['_merge']=='left_only') & (~extra['uniprot_from_gn'].isna()) & (~extra['Uniprot'].isna())]"
   ]
  },
  {
   "cell_type": "code",
   "execution_count": 88,
   "metadata": {},
   "outputs": [],
   "source": [
    "df = df_all.copy()"
   ]
  },
  {
   "cell_type": "code",
   "execution_count": null,
   "metadata": {},
   "outputs": [],
   "source": []
  },
  {
   "cell_type": "markdown",
   "metadata": {},
   "source": [
    "##### Theor pep number"
   ]
  },
  {
   "cell_type": "code",
   "execution_count": 91,
   "metadata": {},
   "outputs": [],
   "source": [
    "#Proteases\n",
    "\n",
    "#trypsin:  (.*?(?:K|R|$))\n",
    "#lysC:   (.*?(?:K|$))"
   ]
  },
  {
   "cell_type": "code",
   "execution_count": 92,
   "metadata": {},
   "outputs": [],
   "source": [
    "df['TheorPepNum'] = None\n",
    "\n",
    "# needed only for:\n",
    "studiesTheorPepNum = ['Hamezah 2019', 'Sharma 2015, isolated', 'Guergues 2019','Sharma 2015, cultured', \n",
    "                      'Han 2014', 'Kjell 2020', 'Krogager 2018','Hamezah 2018', \n",
    "                      'Zhu 2018', 'Fecher 2019', 'Carlyle 2017','McKetney 2019',\n",
    "                      'Geiger 2013','Hasan 2020', 'Bai 2020'] #,'Wisniewski 2015','Duda 2018'\n",
    "\n",
    "\n",
    "\n",
    "# trypsin | trypsin + LysC\n",
    "studiesTrypsin = ['Hamezah 2018','Krogager 2018','Sharma 2015, isolated','Sharma 2015, cultured','Han 2014','Hamezah 2019','Guergues 2019','Kjell 2020','Zhu 2018','Fecher 2019','Carlyle 2017','McKetney 2019','Hasan 2020','Bai 2020'] #,'Wisniewski 2015','Duda 2018']    \n",
    "\n",
    "# 'Krogager 2018': Trypsin & L-Lys ### both (?) sequent.. for approx trypsin because of enzyme specificty\n",
    "# 'Han 2014': use trypsin for approximation (from supp info: The proteins were first digested with trypsin (enzyme-to-substrate ratio [w/w] of 1:100) at 37°C overnight, after which the peptides were collected by centrifugation. In the second digestion, the filter units were washed sequentially with water, UA buffer, and 40 mM ammonium bicarbonate, respectively, and the proteins were cleaved with trypsin (enzyme-to-substrate ratio [w/w] of 1:200).)\n",
    "# 'Geiger 2013':  digested in solution with endoprotease Lys-C. \n",
    "\n",
    "# 'Hamezah 2019': Trypsin was set as the digestive enzyme\n",
    "# 'Guergues 2019': Trypsin/Lys-C protease - for approx trypsin because of enzyme specificty\n",
    "# 'Kjell 2020': digested with LysC and trypsin - for approx trypsin because of enzyme specificty\n",
    "# 'Zhu 2018': two-step digestion was performed at 37 °C with Lys-C and trypsin - for approx trypsin because of enzyme specificty\n",
    "# 'Fecher 2019': LysC (Promega) followed by 4-h incubation with 0.15 μg trypsin - for approx trypsin because of enzyme specificty\n",
    "# 'Carlyle 2017': Trypsin-digested peptides \n",
    "# 'McKetney 2019': Trypsin was added to the protein lysate sample at a ratio of 50:1 w/v and digested overnight.\n",
    "# 'Hasan 2020': Sequencing-grade modified porcine trypsin \n",
    "# 'Bai 2020': Lys-C (Wako, 1:100 w/w) at 21 C for 2 h, diluted by 4-fold to reduce urea to 2 M for the addition of trypsin - for approx trypsin because of enzyme specificty\n",
    "\n",
    "# 'Wisniewski 2015': Lys-C and trypsin were used for sequential digestion of proteins.\n",
    "# using LysC and trypsin.\n",
    "\n",
    "# lysC\n",
    "studiesLysC = ['Geiger 2013']\n",
    "\n",
    "#\n"
   ]
  },
  {
   "cell_type": "code",
   "execution_count": 93,
   "metadata": {},
   "outputs": [
    {
     "name": "stdout",
     "output_type": "stream",
     "text": [
      "24192\n",
      "25829 24192\n",
      "27880\n"
     ]
    }
   ],
   "source": [
    "uniprot_TP = df.loc[df['Study'].isin(studiesTheorPepNum),'Uniprot_final'].unique().tolist()\n",
    "\n",
    "uniprot_tryp = df.loc[df['Study'].isin(studiesTrypsin),'Uniprot_final'].unique().tolist()\n",
    "uniprot_lysc = df.loc[df['Study'].isin(studiesLysC),'Uniprot_final'].unique().tolist()\n",
    "\n",
    "print(len(df.loc[df['molecular_weight_kDa'].isna(),'Uniprot_final'].unique()))\n",
    "uniprot_noMW = df.loc[df['molecular_weight_kDa'].isna(),'Uniprot_final'].unique().tolist()\n",
    "\n",
    "\n",
    "print(len(uniprot_TP),len(uniprot_noMW))\n",
    "\n",
    "\n",
    "uniprot_all = df['Uniprot_final'].unique().tolist()\n",
    "\n",
    "\n",
    "#uniprot_toQuery = list(set(uniprot_TP + uniprot_noMW))\n",
    "uniprot_toQuery = list(set(uniprot_all))\n",
    "\n",
    "print(len(uniprot_toQuery))"
   ]
  },
  {
   "cell_type": "code",
   "execution_count": 94,
   "metadata": {},
   "outputs": [],
   "source": [
    "with open('../data/uniprot_toQuery_9May2021.txt', 'w') as f:\n",
    "    f.write(\"\\n\".join(uniprot_toQuery))\n",
    "\n",
    "with open('../data/uniprot_tryp_9May2021.txt', 'w') as f:\n",
    "    f.write(\"\\n\".join(uniprot_tryp))\n",
    "\n",
    "with open('../data/uniprot_lysc_9May2021.txt', 'w') as f:\n",
    "    f.write(\"\\n\".join(uniprot_lysc))\n",
    "\n",
    "with open('../data/uniprot_noMW_9May2021.txt', 'w') as f:\n",
    "    f.write(\"\\n\".join(uniprot_noMW))\n"
   ]
  },
  {
   "cell_type": "code",
   "execution_count": 89,
   "metadata": {},
   "outputs": [],
   "source": [
    "#! cut -f1 ../data/uniprot_toQuery.txt | cut -f1 -d\"-\" | sort | uniq | wc -l"
   ]
  },
  {
   "cell_type": "code",
   "execution_count": 34,
   "metadata": {},
   "outputs": [],
   "source": [
    "#curl to get Uniprot data"
   ]
  },
  {
   "cell_type": "code",
   "execution_count": 95,
   "metadata": {},
   "outputs": [
    {
     "name": "stdout",
     "output_type": "stream",
     "text": [
      "27880\n",
      "27880\n"
     ]
    },
    {
     "data": {
      "text/html": [
       "<div>\n",
       "<style scoped>\n",
       "    .dataframe tbody tr th:only-of-type {\n",
       "        vertical-align: middle;\n",
       "    }\n",
       "\n",
       "    .dataframe tbody tr th {\n",
       "        vertical-align: top;\n",
       "    }\n",
       "\n",
       "    .dataframe thead th {\n",
       "        text-align: right;\n",
       "    }\n",
       "</style>\n",
       "<table border=\"1\" class=\"dataframe\">\n",
       "  <thead>\n",
       "    <tr style=\"text-align: right;\">\n",
       "      <th></th>\n",
       "      <th>Uniprot_id</th>\n",
       "      <th>MWDa</th>\n",
       "      <th>seq</th>\n",
       "    </tr>\n",
       "  </thead>\n",
       "  <tbody>\n",
       "    <tr>\n",
       "      <th>0</th>\n",
       "      <td>Q6P9V9</td>\n",
       "      <td>50152.0</td>\n",
       "      <td>MRECISIHVGQAGVQIGNACWELYCLEHGIQPDGQMPSDKTIGGGD...</td>\n",
       "    </tr>\n",
       "    <tr>\n",
       "      <th>1</th>\n",
       "      <td>Q8R4I7</td>\n",
       "      <td>60242.0</td>\n",
       "      <td>MIYGRSLFHIIASLIILHSSGATKKGTEKQITPETQKSVQCGTWTK...</td>\n",
       "    </tr>\n",
       "    <tr>\n",
       "      <th>2</th>\n",
       "      <td>Q640M6</td>\n",
       "      <td>68890.0</td>\n",
       "      <td>MVRHQPLQYYEPQLCLSCLTGIYGCRWKRYQRSHDDTTPWERLWFL...</td>\n",
       "    </tr>\n",
       "    <tr>\n",
       "      <th>3</th>\n",
       "      <td>P51593</td>\n",
       "      <td>37361.0</td>\n",
       "      <td>EEGQDAGGLLREWYMIISREMFNPMYALFRTSPGDRVTYTINPSSH...</td>\n",
       "    </tr>\n",
       "    <tr>\n",
       "      <th>4</th>\n",
       "      <td>Q86Y38</td>\n",
       "      <td>107569.0</td>\n",
       "      <td>MVAAPCARRLARRSHSALLAALTVLLLQTLVVWNFSSLDSGAGERR...</td>\n",
       "    </tr>\n",
       "  </tbody>\n",
       "</table>\n",
       "</div>"
      ],
      "text/plain": [
       "  Uniprot_id      MWDa                                                seq\n",
       "0     Q6P9V9   50152.0  MRECISIHVGQAGVQIGNACWELYCLEHGIQPDGQMPSDKTIGGGD...\n",
       "1     Q8R4I7   60242.0  MIYGRSLFHIIASLIILHSSGATKKGTEKQITPETQKSVQCGTWTK...\n",
       "2     Q640M6   68890.0  MVRHQPLQYYEPQLCLSCLTGIYGCRWKRYQRSHDDTTPWERLWFL...\n",
       "3     P51593   37361.0  EEGQDAGGLLREWYMIISREMFNPMYALFRTSPGDRVTYTINPSSH...\n",
       "4     Q86Y38  107569.0  MVAAPCARRLARRSHSALLAALTVLLLQTLVVWNFSSLDSGAGERR..."
      ]
     },
     "execution_count": 95,
     "metadata": {},
     "output_type": "execute_result"
    }
   ],
   "source": [
    "mw_seq = pd.read_csv(\"../data/main_run\",header=None,  sep = '\\t')\n",
    "\n",
    "\n",
    "mw_seq.columns = ['Uniprot_id','MWDa','seq']\n",
    "\n",
    "mw_seq['MWDa'] = mw_seq['MWDa'].str.replace(\",\",\"\").astype('float64')\n",
    "print(len(mw_seq))\n",
    "mw_seq = mw_seq.drop_duplicates(keep='first').reset_index(drop=True)\n",
    "print(len(mw_seq))\n",
    "mw_seq.head()"
   ]
  },
  {
   "cell_type": "code",
   "execution_count": 96,
   "metadata": {},
   "outputs": [
    {
     "data": {
      "text/html": [
       "<div>\n",
       "<style scoped>\n",
       "    .dataframe tbody tr th:only-of-type {\n",
       "        vertical-align: middle;\n",
       "    }\n",
       "\n",
       "    .dataframe tbody tr th {\n",
       "        vertical-align: top;\n",
       "    }\n",
       "\n",
       "    .dataframe thead th {\n",
       "        text-align: right;\n",
       "    }\n",
       "</style>\n",
       "<table border=\"1\" class=\"dataframe\">\n",
       "  <thead>\n",
       "    <tr style=\"text-align: right;\">\n",
       "      <th></th>\n",
       "      <th>Uniprot_id</th>\n",
       "      <th>MWDa</th>\n",
       "      <th>seq</th>\n",
       "    </tr>\n",
       "  </thead>\n",
       "  <tbody>\n",
       "    <tr>\n",
       "      <th>14212</th>\n",
       "      <td>P13864</td>\n",
       "      <td>183189.0</td>\n",
       "      <td>MPARTAPARVPALASPAGSLPDHVRRRLKDLERDGLTEKECVREKL...</td>\n",
       "    </tr>\n",
       "  </tbody>\n",
       "</table>\n",
       "</div>"
      ],
      "text/plain": [
       "      Uniprot_id      MWDa                                                seq\n",
       "14212     P13864  183189.0  MPARTAPARVPALASPAGSLPDHVRRRLKDLERDGLTEKECVREKL..."
      ]
     },
     "execution_count": 96,
     "metadata": {},
     "output_type": "execute_result"
    }
   ],
   "source": [
    "mw_seq.loc[mw_seq['Uniprot_id']=='P13864']\n"
   ]
  },
  {
   "cell_type": "code",
   "execution_count": 97,
   "metadata": {},
   "outputs": [
    {
     "data": {
      "text/html": [
       "<div>\n",
       "<style scoped>\n",
       "    .dataframe tbody tr th:only-of-type {\n",
       "        vertical-align: middle;\n",
       "    }\n",
       "\n",
       "    .dataframe tbody tr th {\n",
       "        vertical-align: top;\n",
       "    }\n",
       "\n",
       "    .dataframe thead th {\n",
       "        text-align: right;\n",
       "    }\n",
       "</style>\n",
       "<table border=\"1\" class=\"dataframe\">\n",
       "  <thead>\n",
       "    <tr style=\"text-align: right;\">\n",
       "      <th></th>\n",
       "      <th>Uniprot_id</th>\n",
       "      <th>MWDa</th>\n",
       "      <th>seq</th>\n",
       "    </tr>\n",
       "  </thead>\n",
       "  <tbody>\n",
       "    <tr>\n",
       "      <th>13566</th>\n",
       "      <td>Q76I79</td>\n",
       "      <td>115297.0</td>\n",
       "      <td>MALVTLQRSPTPSAASSSASNSELEAGSDEERKLNLSLSESFFMVK...</td>\n",
       "    </tr>\n",
       "  </tbody>\n",
       "</table>\n",
       "</div>"
      ],
      "text/plain": [
       "      Uniprot_id      MWDa                                                seq\n",
       "13566     Q76I79  115297.0  MALVTLQRSPTPSAASSSASNSELEAGSDEERKLNLSLSESFFMVK..."
      ]
     },
     "execution_count": 97,
     "metadata": {},
     "output_type": "execute_result"
    }
   ],
   "source": [
    "mw_seq.loc[mw_seq['Uniprot_id']=='Q76I79']\n"
   ]
  },
  {
   "cell_type": "code",
   "execution_count": 98,
   "metadata": {},
   "outputs": [
    {
     "data": {
      "text/plain": [
       "254"
      ]
     },
     "execution_count": 98,
     "metadata": {},
     "output_type": "execute_result"
    }
   ],
   "source": [
    "notFoundIds= mw_seq.loc[(mw_seq['MWDa'].isna()) | (mw_seq['seq'].isna()),'Uniprot_id' ].unique()\n",
    "len(notFoundIds)"
   ]
  },
  {
   "cell_type": "code",
   "execution_count": 99,
   "metadata": {},
   "outputs": [
    {
     "data": {
      "text/plain": [
       "254"
      ]
     },
     "execution_count": 99,
     "metadata": {},
     "output_type": "execute_result"
    }
   ],
   "source": [
    "len(mw_seq.loc[(mw_seq['MWDa'].isna()) | (mw_seq['seq'].isna())])"
   ]
  },
  {
   "cell_type": "code",
   "execution_count": 100,
   "metadata": {},
   "outputs": [
    {
     "data": {
      "text/plain": [
       "254"
      ]
     },
     "execution_count": 100,
     "metadata": {},
     "output_type": "execute_result"
    }
   ],
   "source": [
    "len(mw_seq.loc[mw_seq['MWDa'].isna()])"
   ]
  },
  {
   "cell_type": "code",
   "execution_count": 101,
   "metadata": {},
   "outputs": [
    {
     "data": {
      "text/plain": [
       "254"
      ]
     },
     "execution_count": 101,
     "metadata": {},
     "output_type": "execute_result"
    }
   ],
   "source": [
    "len(mw_seq.loc[mw_seq['seq'].isna()])"
   ]
  },
  {
   "cell_type": "code",
   "execution_count": 104,
   "metadata": {
    "collapsed": true,
    "jupyter": {
     "outputs_hidden": true
    },
    "tags": []
   },
   "outputs": [
    {
     "data": {
      "text/html": [
       "<div>\n",
       "<style scoped>\n",
       "    .dataframe tbody tr th:only-of-type {\n",
       "        vertical-align: middle;\n",
       "    }\n",
       "\n",
       "    .dataframe tbody tr th {\n",
       "        vertical-align: top;\n",
       "    }\n",
       "\n",
       "    .dataframe thead th {\n",
       "        text-align: right;\n",
       "    }\n",
       "</style>\n",
       "<table border=\"1\" class=\"dataframe\">\n",
       "  <thead>\n",
       "    <tr style=\"text-align: right;\">\n",
       "      <th></th>\n",
       "      <th>Uniprot_id</th>\n",
       "      <th>MWDa</th>\n",
       "      <th>seq</th>\n",
       "    </tr>\n",
       "  </thead>\n",
       "  <tbody>\n",
       "    <tr>\n",
       "      <th>229</th>\n",
       "      <td>E9PZA5</td>\n",
       "      <td>NaN</td>\n",
       "      <td>NaN</td>\n",
       "    </tr>\n",
       "    <tr>\n",
       "      <th>249</th>\n",
       "      <td>E9Q584</td>\n",
       "      <td>NaN</td>\n",
       "      <td>NaN</td>\n",
       "    </tr>\n",
       "    <tr>\n",
       "      <th>279</th>\n",
       "      <td>A0A0A6YYJ2</td>\n",
       "      <td>NaN</td>\n",
       "      <td>NaN</td>\n",
       "    </tr>\n",
       "    <tr>\n",
       "      <th>289</th>\n",
       "      <td>J3QP13</td>\n",
       "      <td>NaN</td>\n",
       "      <td>NaN</td>\n",
       "    </tr>\n",
       "    <tr>\n",
       "      <th>408</th>\n",
       "      <td>E9Q6C7</td>\n",
       "      <td>NaN</td>\n",
       "      <td>NaN</td>\n",
       "    </tr>\n",
       "    <tr>\n",
       "      <th>409</th>\n",
       "      <td>B5TE77</td>\n",
       "      <td>NaN</td>\n",
       "      <td>NaN</td>\n",
       "    </tr>\n",
       "    <tr>\n",
       "      <th>559</th>\n",
       "      <td>P62158</td>\n",
       "      <td>NaN</td>\n",
       "      <td>NaN</td>\n",
       "    </tr>\n",
       "    <tr>\n",
       "      <th>679</th>\n",
       "      <td>D6REB5</td>\n",
       "      <td>NaN</td>\n",
       "      <td>NaN</td>\n",
       "    </tr>\n",
       "    <tr>\n",
       "      <th>1039</th>\n",
       "      <td>Q9GIY3</td>\n",
       "      <td>NaN</td>\n",
       "      <td>NaN</td>\n",
       "    </tr>\n",
       "    <tr>\n",
       "      <th>1139</th>\n",
       "      <td>D3Z2D0</td>\n",
       "      <td>NaN</td>\n",
       "      <td>NaN</td>\n",
       "    </tr>\n",
       "    <tr>\n",
       "      <th>1189</th>\n",
       "      <td>A0A075B6L0</td>\n",
       "      <td>NaN</td>\n",
       "      <td>NaN</td>\n",
       "    </tr>\n",
       "    <tr>\n",
       "      <th>1289</th>\n",
       "      <td>E9QNE5</td>\n",
       "      <td>NaN</td>\n",
       "      <td>NaN</td>\n",
       "    </tr>\n",
       "    <tr>\n",
       "      <th>1519</th>\n",
       "      <td>D6RI37</td>\n",
       "      <td>NaN</td>\n",
       "      <td>NaN</td>\n",
       "    </tr>\n",
       "    <tr>\n",
       "      <th>1529</th>\n",
       "      <td>F7D6E8</td>\n",
       "      <td>NaN</td>\n",
       "      <td>NaN</td>\n",
       "    </tr>\n",
       "    <tr>\n",
       "      <th>1669</th>\n",
       "      <td>D3YU46</td>\n",
       "      <td>NaN</td>\n",
       "      <td>NaN</td>\n",
       "    </tr>\n",
       "    <tr>\n",
       "      <th>1719</th>\n",
       "      <td>B2RUP0</td>\n",
       "      <td>NaN</td>\n",
       "      <td>NaN</td>\n",
       "    </tr>\n",
       "    <tr>\n",
       "      <th>1809</th>\n",
       "      <td>D3YV03</td>\n",
       "      <td>NaN</td>\n",
       "      <td>NaN</td>\n",
       "    </tr>\n",
       "    <tr>\n",
       "      <th>2129</th>\n",
       "      <td>A2AS85</td>\n",
       "      <td>NaN</td>\n",
       "      <td>NaN</td>\n",
       "    </tr>\n",
       "    <tr>\n",
       "      <th>2229</th>\n",
       "      <td>F6UCX4</td>\n",
       "      <td>NaN</td>\n",
       "      <td>NaN</td>\n",
       "    </tr>\n",
       "    <tr>\n",
       "      <th>2279</th>\n",
       "      <td>E9PXD9</td>\n",
       "      <td>NaN</td>\n",
       "      <td>NaN</td>\n",
       "    </tr>\n",
       "    <tr>\n",
       "      <th>2339</th>\n",
       "      <td>Q8C6F3</td>\n",
       "      <td>NaN</td>\n",
       "      <td>NaN</td>\n",
       "    </tr>\n",
       "    <tr>\n",
       "      <th>2359</th>\n",
       "      <td>E9QAF8</td>\n",
       "      <td>NaN</td>\n",
       "      <td>NaN</td>\n",
       "    </tr>\n",
       "    <tr>\n",
       "      <th>2449</th>\n",
       "      <td>Q52KC3</td>\n",
       "      <td>NaN</td>\n",
       "      <td>NaN</td>\n",
       "    </tr>\n",
       "    <tr>\n",
       "      <th>2569</th>\n",
       "      <td>A0A024R368</td>\n",
       "      <td>NaN</td>\n",
       "      <td>NaN</td>\n",
       "    </tr>\n",
       "    <tr>\n",
       "      <th>2639</th>\n",
       "      <td>E9PKF3</td>\n",
       "      <td>NaN</td>\n",
       "      <td>NaN</td>\n",
       "    </tr>\n",
       "    <tr>\n",
       "      <th>2649</th>\n",
       "      <td>Q3TI53</td>\n",
       "      <td>NaN</td>\n",
       "      <td>NaN</td>\n",
       "    </tr>\n",
       "    <tr>\n",
       "      <th>2709</th>\n",
       "      <td>D3YUM8</td>\n",
       "      <td>NaN</td>\n",
       "      <td>NaN</td>\n",
       "    </tr>\n",
       "    <tr>\n",
       "      <th>2749</th>\n",
       "      <td>F6TLU3</td>\n",
       "      <td>NaN</td>\n",
       "      <td>NaN</td>\n",
       "    </tr>\n",
       "    <tr>\n",
       "      <th>2809</th>\n",
       "      <td>R4GMP2</td>\n",
       "      <td>NaN</td>\n",
       "      <td>NaN</td>\n",
       "    </tr>\n",
       "    <tr>\n",
       "      <th>3019</th>\n",
       "      <td>Q8BVU2</td>\n",
       "      <td>NaN</td>\n",
       "      <td>NaN</td>\n",
       "    </tr>\n",
       "    <tr>\n",
       "      <th>3049</th>\n",
       "      <td>G3X9V7</td>\n",
       "      <td>NaN</td>\n",
       "      <td>NaN</td>\n",
       "    </tr>\n",
       "    <tr>\n",
       "      <th>3279</th>\n",
       "      <td>Q6PFF0</td>\n",
       "      <td>NaN</td>\n",
       "      <td>NaN</td>\n",
       "    </tr>\n",
       "    <tr>\n",
       "      <th>3359</th>\n",
       "      <td>Q07000</td>\n",
       "      <td>NaN</td>\n",
       "      <td>NaN</td>\n",
       "    </tr>\n",
       "    <tr>\n",
       "      <th>3599</th>\n",
       "      <td>D6R9U4</td>\n",
       "      <td>NaN</td>\n",
       "      <td>NaN</td>\n",
       "    </tr>\n",
       "    <tr>\n",
       "      <th>3749</th>\n",
       "      <td>P62161</td>\n",
       "      <td>NaN</td>\n",
       "      <td>NaN</td>\n",
       "    </tr>\n",
       "    <tr>\n",
       "      <th>3769</th>\n",
       "      <td>A0A087WUD1</td>\n",
       "      <td>NaN</td>\n",
       "      <td>NaN</td>\n",
       "    </tr>\n",
       "    <tr>\n",
       "      <th>3879</th>\n",
       "      <td>Q5BIX2</td>\n",
       "      <td>NaN</td>\n",
       "      <td>NaN</td>\n",
       "    </tr>\n",
       "    <tr>\n",
       "      <th>4169</th>\n",
       "      <td>A0A0A0MQR1</td>\n",
       "      <td>NaN</td>\n",
       "      <td>NaN</td>\n",
       "    </tr>\n",
       "    <tr>\n",
       "      <th>4229</th>\n",
       "      <td>E9QAW2</td>\n",
       "      <td>NaN</td>\n",
       "      <td>NaN</td>\n",
       "    </tr>\n",
       "    <tr>\n",
       "      <th>4259</th>\n",
       "      <td>F6R9N5</td>\n",
       "      <td>NaN</td>\n",
       "      <td>NaN</td>\n",
       "    </tr>\n",
       "    <tr>\n",
       "      <th>4269</th>\n",
       "      <td>D3Z3W0</td>\n",
       "      <td>NaN</td>\n",
       "      <td>NaN</td>\n",
       "    </tr>\n",
       "    <tr>\n",
       "      <th>4349</th>\n",
       "      <td>D3Z2H8</td>\n",
       "      <td>NaN</td>\n",
       "      <td>NaN</td>\n",
       "    </tr>\n",
       "    <tr>\n",
       "      <th>4359</th>\n",
       "      <td>H3BQG8</td>\n",
       "      <td>NaN</td>\n",
       "      <td>NaN</td>\n",
       "    </tr>\n",
       "    <tr>\n",
       "      <th>4489</th>\n",
       "      <td>D3Z7M8</td>\n",
       "      <td>NaN</td>\n",
       "      <td>NaN</td>\n",
       "    </tr>\n",
       "    <tr>\n",
       "      <th>4609</th>\n",
       "      <td>C9JQV3</td>\n",
       "      <td>NaN</td>\n",
       "      <td>NaN</td>\n",
       "    </tr>\n",
       "    <tr>\n",
       "      <th>4699</th>\n",
       "      <td>F6YB52</td>\n",
       "      <td>NaN</td>\n",
       "      <td>NaN</td>\n",
       "    </tr>\n",
       "    <tr>\n",
       "      <th>4719</th>\n",
       "      <td>P30508</td>\n",
       "      <td>NaN</td>\n",
       "      <td>NaN</td>\n",
       "    </tr>\n",
       "    <tr>\n",
       "      <th>4829</th>\n",
       "      <td>E9Q1E3</td>\n",
       "      <td>NaN</td>\n",
       "      <td>NaN</td>\n",
       "    </tr>\n",
       "    <tr>\n",
       "      <th>4919</th>\n",
       "      <td>Q9CQU1</td>\n",
       "      <td>NaN</td>\n",
       "      <td>NaN</td>\n",
       "    </tr>\n",
       "    <tr>\n",
       "      <th>4959</th>\n",
       "      <td>Q3U3D8</td>\n",
       "      <td>NaN</td>\n",
       "      <td>NaN</td>\n",
       "    </tr>\n",
       "    <tr>\n",
       "      <th>5118</th>\n",
       "      <td>E9PZ26</td>\n",
       "      <td>NaN</td>\n",
       "      <td>NaN</td>\n",
       "    </tr>\n",
       "    <tr>\n",
       "      <th>5119</th>\n",
       "      <td>D3YYI5</td>\n",
       "      <td>NaN</td>\n",
       "      <td>NaN</td>\n",
       "    </tr>\n",
       "    <tr>\n",
       "      <th>5289</th>\n",
       "      <td>J3QQ61</td>\n",
       "      <td>NaN</td>\n",
       "      <td>NaN</td>\n",
       "    </tr>\n",
       "    <tr>\n",
       "      <th>5539</th>\n",
       "      <td>F6S6M1</td>\n",
       "      <td>NaN</td>\n",
       "      <td>NaN</td>\n",
       "    </tr>\n",
       "    <tr>\n",
       "      <th>5659</th>\n",
       "      <td>E9Q3R7</td>\n",
       "      <td>NaN</td>\n",
       "      <td>NaN</td>\n",
       "    </tr>\n",
       "    <tr>\n",
       "      <th>5729</th>\n",
       "      <td>Q07439</td>\n",
       "      <td>NaN</td>\n",
       "      <td>NaN</td>\n",
       "    </tr>\n",
       "    <tr>\n",
       "      <th>5769</th>\n",
       "      <td>E9PXL6</td>\n",
       "      <td>NaN</td>\n",
       "      <td>NaN</td>\n",
       "    </tr>\n",
       "    <tr>\n",
       "      <th>6149</th>\n",
       "      <td>E9PUS7</td>\n",
       "      <td>NaN</td>\n",
       "      <td>NaN</td>\n",
       "    </tr>\n",
       "    <tr>\n",
       "      <th>6369</th>\n",
       "      <td>E9PXG2</td>\n",
       "      <td>NaN</td>\n",
       "      <td>NaN</td>\n",
       "    </tr>\n",
       "    <tr>\n",
       "      <th>6379</th>\n",
       "      <td>H3BN82</td>\n",
       "      <td>NaN</td>\n",
       "      <td>NaN</td>\n",
       "    </tr>\n",
       "    <tr>\n",
       "      <th>6569</th>\n",
       "      <td>P30483</td>\n",
       "      <td>NaN</td>\n",
       "      <td>NaN</td>\n",
       "    </tr>\n",
       "    <tr>\n",
       "      <th>6619</th>\n",
       "      <td>B1AVN8</td>\n",
       "      <td>NaN</td>\n",
       "      <td>NaN</td>\n",
       "    </tr>\n",
       "    <tr>\n",
       "      <th>6699</th>\n",
       "      <td>O15320</td>\n",
       "      <td>NaN</td>\n",
       "      <td>NaN</td>\n",
       "    </tr>\n",
       "    <tr>\n",
       "      <th>6949</th>\n",
       "      <td>E9QA33</td>\n",
       "      <td>NaN</td>\n",
       "      <td>NaN</td>\n",
       "    </tr>\n",
       "    <tr>\n",
       "      <th>7079</th>\n",
       "      <td>G5E837</td>\n",
       "      <td>NaN</td>\n",
       "      <td>NaN</td>\n",
       "    </tr>\n",
       "    <tr>\n",
       "      <th>7179</th>\n",
       "      <td>F6TRM0</td>\n",
       "      <td>NaN</td>\n",
       "      <td>NaN</td>\n",
       "    </tr>\n",
       "    <tr>\n",
       "      <th>7259</th>\n",
       "      <td>Q8BKL2</td>\n",
       "      <td>NaN</td>\n",
       "      <td>NaN</td>\n",
       "    </tr>\n",
       "    <tr>\n",
       "      <th>7539</th>\n",
       "      <td>G3UYF7</td>\n",
       "      <td>NaN</td>\n",
       "      <td>NaN</td>\n",
       "    </tr>\n",
       "    <tr>\n",
       "      <th>7629</th>\n",
       "      <td>E9PYV0</td>\n",
       "      <td>NaN</td>\n",
       "      <td>NaN</td>\n",
       "    </tr>\n",
       "    <tr>\n",
       "      <th>7649</th>\n",
       "      <td>E9PVU1</td>\n",
       "      <td>NaN</td>\n",
       "      <td>NaN</td>\n",
       "    </tr>\n",
       "    <tr>\n",
       "      <th>7679</th>\n",
       "      <td>E9PV77</td>\n",
       "      <td>NaN</td>\n",
       "      <td>NaN</td>\n",
       "    </tr>\n",
       "    <tr>\n",
       "      <th>7809</th>\n",
       "      <td>E9PX99</td>\n",
       "      <td>NaN</td>\n",
       "      <td>NaN</td>\n",
       "    </tr>\n",
       "    <tr>\n",
       "      <th>7959</th>\n",
       "      <td>A2AIX1</td>\n",
       "      <td>NaN</td>\n",
       "      <td>NaN</td>\n",
       "    </tr>\n",
       "    <tr>\n",
       "      <th>7969</th>\n",
       "      <td>F7CJQ5</td>\n",
       "      <td>NaN</td>\n",
       "      <td>NaN</td>\n",
       "    </tr>\n",
       "    <tr>\n",
       "      <th>8069</th>\n",
       "      <td>F6SAC3</td>\n",
       "      <td>NaN</td>\n",
       "      <td>NaN</td>\n",
       "    </tr>\n",
       "    <tr>\n",
       "      <th>8269</th>\n",
       "      <td>E9PVA3</td>\n",
       "      <td>NaN</td>\n",
       "      <td>NaN</td>\n",
       "    </tr>\n",
       "    <tr>\n",
       "      <th>8299</th>\n",
       "      <td>E9Q212</td>\n",
       "      <td>NaN</td>\n",
       "      <td>NaN</td>\n",
       "    </tr>\n",
       "    <tr>\n",
       "      <th>8489</th>\n",
       "      <td>G3V4T7</td>\n",
       "      <td>NaN</td>\n",
       "      <td>NaN</td>\n",
       "    </tr>\n",
       "    <tr>\n",
       "      <th>8689</th>\n",
       "      <td>A0A075B7F8</td>\n",
       "      <td>NaN</td>\n",
       "      <td>NaN</td>\n",
       "    </tr>\n",
       "    <tr>\n",
       "      <th>8929</th>\n",
       "      <td>Q8CFT3</td>\n",
       "      <td>NaN</td>\n",
       "      <td>NaN</td>\n",
       "    </tr>\n",
       "    <tr>\n",
       "      <th>8949</th>\n",
       "      <td>Q9D7E5</td>\n",
       "      <td>NaN</td>\n",
       "      <td>NaN</td>\n",
       "    </tr>\n",
       "    <tr>\n",
       "      <th>9009</th>\n",
       "      <td>F6R059</td>\n",
       "      <td>NaN</td>\n",
       "      <td>NaN</td>\n",
       "    </tr>\n",
       "    <tr>\n",
       "      <th>9019</th>\n",
       "      <td>A4D104</td>\n",
       "      <td>NaN</td>\n",
       "      <td>NaN</td>\n",
       "    </tr>\n",
       "    <tr>\n",
       "      <th>9079</th>\n",
       "      <td>Q3V1C1</td>\n",
       "      <td>NaN</td>\n",
       "      <td>NaN</td>\n",
       "    </tr>\n",
       "    <tr>\n",
       "      <th>9159</th>\n",
       "      <td>E9QJT3</td>\n",
       "      <td>NaN</td>\n",
       "      <td>NaN</td>\n",
       "    </tr>\n",
       "    <tr>\n",
       "      <th>9279</th>\n",
       "      <td>D3Z0Z9</td>\n",
       "      <td>NaN</td>\n",
       "      <td>NaN</td>\n",
       "    </tr>\n",
       "    <tr>\n",
       "      <th>9309</th>\n",
       "      <td>E9Q3C6</td>\n",
       "      <td>NaN</td>\n",
       "      <td>NaN</td>\n",
       "    </tr>\n",
       "    <tr>\n",
       "      <th>9389</th>\n",
       "      <td>V9GY89</td>\n",
       "      <td>NaN</td>\n",
       "      <td>NaN</td>\n",
       "    </tr>\n",
       "    <tr>\n",
       "      <th>9529</th>\n",
       "      <td>A2AQW3</td>\n",
       "      <td>NaN</td>\n",
       "      <td>NaN</td>\n",
       "    </tr>\n",
       "    <tr>\n",
       "      <th>9589</th>\n",
       "      <td>A0A024R341</td>\n",
       "      <td>NaN</td>\n",
       "      <td>NaN</td>\n",
       "    </tr>\n",
       "    <tr>\n",
       "      <th>9619</th>\n",
       "      <td>D3YU05</td>\n",
       "      <td>NaN</td>\n",
       "      <td>NaN</td>\n",
       "    </tr>\n",
       "    <tr>\n",
       "      <th>9729</th>\n",
       "      <td>E9PZH9</td>\n",
       "      <td>NaN</td>\n",
       "      <td>NaN</td>\n",
       "    </tr>\n",
       "    <tr>\n",
       "      <th>10029</th>\n",
       "      <td>E9PWQ0</td>\n",
       "      <td>NaN</td>\n",
       "      <td>NaN</td>\n",
       "    </tr>\n",
       "    <tr>\n",
       "      <th>10179</th>\n",
       "      <td>Q6NXV5</td>\n",
       "      <td>NaN</td>\n",
       "      <td>NaN</td>\n",
       "    </tr>\n",
       "    <tr>\n",
       "      <th>10209</th>\n",
       "      <td>E9Q474</td>\n",
       "      <td>NaN</td>\n",
       "      <td>NaN</td>\n",
       "    </tr>\n",
       "    <tr>\n",
       "      <th>10389</th>\n",
       "      <td>F6Z7A8</td>\n",
       "      <td>NaN</td>\n",
       "      <td>NaN</td>\n",
       "    </tr>\n",
       "    <tr>\n",
       "      <th>10489</th>\n",
       "      <td>A2AJ75</td>\n",
       "      <td>NaN</td>\n",
       "      <td>NaN</td>\n",
       "    </tr>\n",
       "    <tr>\n",
       "      <th>10719</th>\n",
       "      <td>F7ABS0</td>\n",
       "      <td>NaN</td>\n",
       "      <td>NaN</td>\n",
       "    </tr>\n",
       "    <tr>\n",
       "      <th>10879</th>\n",
       "      <td>E9PW57</td>\n",
       "      <td>NaN</td>\n",
       "      <td>NaN</td>\n",
       "    </tr>\n",
       "    <tr>\n",
       "      <th>11069</th>\n",
       "      <td>E9QAC7</td>\n",
       "      <td>NaN</td>\n",
       "      <td>NaN</td>\n",
       "    </tr>\n",
       "    <tr>\n",
       "      <th>11469</th>\n",
       "      <td>Q13748</td>\n",
       "      <td>NaN</td>\n",
       "      <td>NaN</td>\n",
       "    </tr>\n",
       "    <tr>\n",
       "      <th>11559</th>\n",
       "      <td>A0A075B738</td>\n",
       "      <td>NaN</td>\n",
       "      <td>NaN</td>\n",
       "    </tr>\n",
       "    <tr>\n",
       "      <th>11629</th>\n",
       "      <td>Q6GT43</td>\n",
       "      <td>NaN</td>\n",
       "      <td>NaN</td>\n",
       "    </tr>\n",
       "    <tr>\n",
       "      <th>11719</th>\n",
       "      <td>F6QL59</td>\n",
       "      <td>NaN</td>\n",
       "      <td>NaN</td>\n",
       "    </tr>\n",
       "    <tr>\n",
       "      <th>11939</th>\n",
       "      <td>Q9WVC2</td>\n",
       "      <td>NaN</td>\n",
       "      <td>NaN</td>\n",
       "    </tr>\n",
       "    <tr>\n",
       "      <th>12079</th>\n",
       "      <td>E9PY95</td>\n",
       "      <td>NaN</td>\n",
       "      <td>NaN</td>\n",
       "    </tr>\n",
       "    <tr>\n",
       "      <th>12279</th>\n",
       "      <td>Q8R3F0</td>\n",
       "      <td>NaN</td>\n",
       "      <td>NaN</td>\n",
       "    </tr>\n",
       "    <tr>\n",
       "      <th>12489</th>\n",
       "      <td>E9PWZ0</td>\n",
       "      <td>NaN</td>\n",
       "      <td>NaN</td>\n",
       "    </tr>\n",
       "    <tr>\n",
       "      <th>12579</th>\n",
       "      <td>E9PRE2</td>\n",
       "      <td>NaN</td>\n",
       "      <td>NaN</td>\n",
       "    </tr>\n",
       "    <tr>\n",
       "      <th>12589</th>\n",
       "      <td>E9QP23</td>\n",
       "      <td>NaN</td>\n",
       "      <td>NaN</td>\n",
       "    </tr>\n",
       "    <tr>\n",
       "      <th>12749</th>\n",
       "      <td>P13761</td>\n",
       "      <td>NaN</td>\n",
       "      <td>NaN</td>\n",
       "    </tr>\n",
       "    <tr>\n",
       "      <th>12979</th>\n",
       "      <td>E9Q983</td>\n",
       "      <td>NaN</td>\n",
       "      <td>NaN</td>\n",
       "    </tr>\n",
       "    <tr>\n",
       "      <th>13059</th>\n",
       "      <td>Q8CFB8</td>\n",
       "      <td>NaN</td>\n",
       "      <td>NaN</td>\n",
       "    </tr>\n",
       "    <tr>\n",
       "      <th>13179</th>\n",
       "      <td>E9QA25</td>\n",
       "      <td>NaN</td>\n",
       "      <td>NaN</td>\n",
       "    </tr>\n",
       "    <tr>\n",
       "      <th>13659</th>\n",
       "      <td>Q3UN51</td>\n",
       "      <td>NaN</td>\n",
       "      <td>NaN</td>\n",
       "    </tr>\n",
       "    <tr>\n",
       "      <th>14039</th>\n",
       "      <td>E9Q0T2</td>\n",
       "      <td>NaN</td>\n",
       "      <td>NaN</td>\n",
       "    </tr>\n",
       "    <tr>\n",
       "      <th>14069</th>\n",
       "      <td>E9Q9U5</td>\n",
       "      <td>NaN</td>\n",
       "      <td>NaN</td>\n",
       "    </tr>\n",
       "    <tr>\n",
       "      <th>14329</th>\n",
       "      <td>E9Q1P7</td>\n",
       "      <td>NaN</td>\n",
       "      <td>NaN</td>\n",
       "    </tr>\n",
       "    <tr>\n",
       "      <th>14389</th>\n",
       "      <td>E9QNP7</td>\n",
       "      <td>NaN</td>\n",
       "      <td>NaN</td>\n",
       "    </tr>\n",
       "    <tr>\n",
       "      <th>14599</th>\n",
       "      <td>F6QRM7</td>\n",
       "      <td>NaN</td>\n",
       "      <td>NaN</td>\n",
       "    </tr>\n",
       "    <tr>\n",
       "      <th>14639</th>\n",
       "      <td>E9Q3T0</td>\n",
       "      <td>NaN</td>\n",
       "      <td>NaN</td>\n",
       "    </tr>\n",
       "    <tr>\n",
       "      <th>14669</th>\n",
       "      <td>Q5T699</td>\n",
       "      <td>NaN</td>\n",
       "      <td>NaN</td>\n",
       "    </tr>\n",
       "    <tr>\n",
       "      <th>14769</th>\n",
       "      <td>Q9DCV5</td>\n",
       "      <td>NaN</td>\n",
       "      <td>NaN</td>\n",
       "    </tr>\n",
       "    <tr>\n",
       "      <th>14789</th>\n",
       "      <td>A0A087X2E3</td>\n",
       "      <td>NaN</td>\n",
       "      <td>NaN</td>\n",
       "    </tr>\n",
       "    <tr>\n",
       "      <th>14849</th>\n",
       "      <td>E7EVH9</td>\n",
       "      <td>NaN</td>\n",
       "      <td>NaN</td>\n",
       "    </tr>\n",
       "    <tr>\n",
       "      <th>14889</th>\n",
       "      <td>Q3TR26</td>\n",
       "      <td>NaN</td>\n",
       "      <td>NaN</td>\n",
       "    </tr>\n",
       "    <tr>\n",
       "      <th>15059</th>\n",
       "      <td>E9PUK5</td>\n",
       "      <td>NaN</td>\n",
       "      <td>NaN</td>\n",
       "    </tr>\n",
       "    <tr>\n",
       "      <th>15139</th>\n",
       "      <td>E9Q1I0</td>\n",
       "      <td>NaN</td>\n",
       "      <td>NaN</td>\n",
       "    </tr>\n",
       "    <tr>\n",
       "      <th>15259</th>\n",
       "      <td>Q6DU44</td>\n",
       "      <td>NaN</td>\n",
       "      <td>NaN</td>\n",
       "    </tr>\n",
       "    <tr>\n",
       "      <th>15439</th>\n",
       "      <td>D3Z7P5</td>\n",
       "      <td>NaN</td>\n",
       "      <td>NaN</td>\n",
       "    </tr>\n",
       "    <tr>\n",
       "      <th>15529</th>\n",
       "      <td>G3V5Q9</td>\n",
       "      <td>NaN</td>\n",
       "      <td>NaN</td>\n",
       "    </tr>\n",
       "    <tr>\n",
       "      <th>15539</th>\n",
       "      <td>F6TE01</td>\n",
       "      <td>NaN</td>\n",
       "      <td>NaN</td>\n",
       "    </tr>\n",
       "    <tr>\n",
       "      <th>15559</th>\n",
       "      <td>Q8R388</td>\n",
       "      <td>NaN</td>\n",
       "      <td>NaN</td>\n",
       "    </tr>\n",
       "    <tr>\n",
       "      <th>15979</th>\n",
       "      <td>E9QPT3</td>\n",
       "      <td>NaN</td>\n",
       "      <td>NaN</td>\n",
       "    </tr>\n",
       "    <tr>\n",
       "      <th>15989</th>\n",
       "      <td>E9Q4S2</td>\n",
       "      <td>NaN</td>\n",
       "      <td>NaN</td>\n",
       "    </tr>\n",
       "    <tr>\n",
       "      <th>16329</th>\n",
       "      <td>H3BLV5</td>\n",
       "      <td>NaN</td>\n",
       "      <td>NaN</td>\n",
       "    </tr>\n",
       "    <tr>\n",
       "      <th>16599</th>\n",
       "      <td>E9Q1D9</td>\n",
       "      <td>NaN</td>\n",
       "      <td>NaN</td>\n",
       "    </tr>\n",
       "    <tr>\n",
       "      <th>16629</th>\n",
       "      <td>F8WHE2</td>\n",
       "      <td>NaN</td>\n",
       "      <td>NaN</td>\n",
       "    </tr>\n",
       "    <tr>\n",
       "      <th>16659</th>\n",
       "      <td>B2RA97</td>\n",
       "      <td>NaN</td>\n",
       "      <td>NaN</td>\n",
       "    </tr>\n",
       "    <tr>\n",
       "      <th>16869</th>\n",
       "      <td>A2AGQ1</td>\n",
       "      <td>NaN</td>\n",
       "      <td>NaN</td>\n",
       "    </tr>\n",
       "    <tr>\n",
       "      <th>16879</th>\n",
       "      <td>E9PWJ4</td>\n",
       "      <td>NaN</td>\n",
       "      <td>NaN</td>\n",
       "    </tr>\n",
       "    <tr>\n",
       "      <th>17009</th>\n",
       "      <td>E0CX20</td>\n",
       "      <td>NaN</td>\n",
       "      <td>NaN</td>\n",
       "    </tr>\n",
       "    <tr>\n",
       "      <th>17079</th>\n",
       "      <td>Q542J4</td>\n",
       "      <td>NaN</td>\n",
       "      <td>NaN</td>\n",
       "    </tr>\n",
       "    <tr>\n",
       "      <th>17239</th>\n",
       "      <td>F8W8N5</td>\n",
       "      <td>NaN</td>\n",
       "      <td>NaN</td>\n",
       "    </tr>\n",
       "    <tr>\n",
       "      <th>17309</th>\n",
       "      <td>F7B218</td>\n",
       "      <td>NaN</td>\n",
       "      <td>NaN</td>\n",
       "    </tr>\n",
       "    <tr>\n",
       "      <th>17449</th>\n",
       "      <td>X6R433</td>\n",
       "      <td>NaN</td>\n",
       "      <td>NaN</td>\n",
       "    </tr>\n",
       "    <tr>\n",
       "      <th>17459</th>\n",
       "      <td>E9PZ54</td>\n",
       "      <td>NaN</td>\n",
       "      <td>NaN</td>\n",
       "    </tr>\n",
       "    <tr>\n",
       "      <th>17599</th>\n",
       "      <td>Q6A0C2</td>\n",
       "      <td>NaN</td>\n",
       "      <td>NaN</td>\n",
       "    </tr>\n",
       "    <tr>\n",
       "      <th>17639</th>\n",
       "      <td>F8WJB7</td>\n",
       "      <td>NaN</td>\n",
       "      <td>NaN</td>\n",
       "    </tr>\n",
       "    <tr>\n",
       "      <th>17649</th>\n",
       "      <td>E9QAE9</td>\n",
       "      <td>NaN</td>\n",
       "      <td>NaN</td>\n",
       "    </tr>\n",
       "    <tr>\n",
       "      <th>17719</th>\n",
       "      <td>Q08619</td>\n",
       "      <td>NaN</td>\n",
       "      <td>NaN</td>\n",
       "    </tr>\n",
       "    <tr>\n",
       "      <th>17739</th>\n",
       "      <td>D3YX75</td>\n",
       "      <td>NaN</td>\n",
       "      <td>NaN</td>\n",
       "    </tr>\n",
       "    <tr>\n",
       "      <th>17859</th>\n",
       "      <td>E9PUF0</td>\n",
       "      <td>NaN</td>\n",
       "      <td>NaN</td>\n",
       "    </tr>\n",
       "    <tr>\n",
       "      <th>17979</th>\n",
       "      <td>E9PV46</td>\n",
       "      <td>NaN</td>\n",
       "      <td>NaN</td>\n",
       "    </tr>\n",
       "    <tr>\n",
       "      <th>18309</th>\n",
       "      <td>E9PZS1</td>\n",
       "      <td>NaN</td>\n",
       "      <td>NaN</td>\n",
       "    </tr>\n",
       "    <tr>\n",
       "      <th>18389</th>\n",
       "      <td>A0A024R3W6</td>\n",
       "      <td>NaN</td>\n",
       "      <td>NaN</td>\n",
       "    </tr>\n",
       "    <tr>\n",
       "      <th>18409</th>\n",
       "      <td>Q9D365</td>\n",
       "      <td>NaN</td>\n",
       "      <td>NaN</td>\n",
       "    </tr>\n",
       "    <tr>\n",
       "      <th>18459</th>\n",
       "      <td>P15092</td>\n",
       "      <td>NaN</td>\n",
       "      <td>NaN</td>\n",
       "    </tr>\n",
       "    <tr>\n",
       "      <th>18469</th>\n",
       "      <td>F6R9S5</td>\n",
       "      <td>NaN</td>\n",
       "      <td>NaN</td>\n",
       "    </tr>\n",
       "    <tr>\n",
       "      <th>18489</th>\n",
       "      <td>E9PZB3</td>\n",
       "      <td>NaN</td>\n",
       "      <td>NaN</td>\n",
       "    </tr>\n",
       "    <tr>\n",
       "      <th>18749</th>\n",
       "      <td>Q4U205</td>\n",
       "      <td>NaN</td>\n",
       "      <td>NaN</td>\n",
       "    </tr>\n",
       "    <tr>\n",
       "      <th>18799</th>\n",
       "      <td>D3YWP4</td>\n",
       "      <td>NaN</td>\n",
       "      <td>NaN</td>\n",
       "    </tr>\n",
       "    <tr>\n",
       "      <th>18909</th>\n",
       "      <td>E9QPD2</td>\n",
       "      <td>NaN</td>\n",
       "      <td>NaN</td>\n",
       "    </tr>\n",
       "    <tr>\n",
       "      <th>19068</th>\n",
       "      <td>B1B185</td>\n",
       "      <td>NaN</td>\n",
       "      <td>NaN</td>\n",
       "    </tr>\n",
       "    <tr>\n",
       "      <th>19069</th>\n",
       "      <td>Q04826</td>\n",
       "      <td>NaN</td>\n",
       "      <td>NaN</td>\n",
       "    </tr>\n",
       "    <tr>\n",
       "      <th>19199</th>\n",
       "      <td>E9QNR6</td>\n",
       "      <td>NaN</td>\n",
       "      <td>NaN</td>\n",
       "    </tr>\n",
       "    <tr>\n",
       "      <th>19249</th>\n",
       "      <td>Q5Y7A7</td>\n",
       "      <td>NaN</td>\n",
       "      <td>NaN</td>\n",
       "    </tr>\n",
       "    <tr>\n",
       "      <th>19349</th>\n",
       "      <td>Q3UKX6</td>\n",
       "      <td>NaN</td>\n",
       "      <td>NaN</td>\n",
       "    </tr>\n",
       "    <tr>\n",
       "      <th>19469</th>\n",
       "      <td>E9Q987</td>\n",
       "      <td>NaN</td>\n",
       "      <td>NaN</td>\n",
       "    </tr>\n",
       "    <tr>\n",
       "      <th>19478</th>\n",
       "      <td>P18918</td>\n",
       "      <td>NaN</td>\n",
       "      <td>NaN</td>\n",
       "    </tr>\n",
       "    <tr>\n",
       "      <th>19479</th>\n",
       "      <td>A0A087WXQ4</td>\n",
       "      <td>NaN</td>\n",
       "      <td>NaN</td>\n",
       "    </tr>\n",
       "    <tr>\n",
       "      <th>19609</th>\n",
       "      <td>J3QT34</td>\n",
       "      <td>NaN</td>\n",
       "      <td>NaN</td>\n",
       "    </tr>\n",
       "    <tr>\n",
       "      <th>19699</th>\n",
       "      <td>D3Z175</td>\n",
       "      <td>NaN</td>\n",
       "      <td>NaN</td>\n",
       "    </tr>\n",
       "    <tr>\n",
       "      <th>19849</th>\n",
       "      <td>Q3UH49</td>\n",
       "      <td>NaN</td>\n",
       "      <td>NaN</td>\n",
       "    </tr>\n",
       "    <tr>\n",
       "      <th>19879</th>\n",
       "      <td>H0Y2S1</td>\n",
       "      <td>NaN</td>\n",
       "      <td>NaN</td>\n",
       "    </tr>\n",
       "    <tr>\n",
       "      <th>19959</th>\n",
       "      <td>E9Q4G2</td>\n",
       "      <td>NaN</td>\n",
       "      <td>NaN</td>\n",
       "    </tr>\n",
       "    <tr>\n",
       "      <th>20109</th>\n",
       "      <td>E9Q0V1</td>\n",
       "      <td>NaN</td>\n",
       "      <td>NaN</td>\n",
       "    </tr>\n",
       "    <tr>\n",
       "      <th>20169</th>\n",
       "      <td>F6V4Z1</td>\n",
       "      <td>NaN</td>\n",
       "      <td>NaN</td>\n",
       "    </tr>\n",
       "    <tr>\n",
       "      <th>20209</th>\n",
       "      <td>K7EMP8</td>\n",
       "      <td>NaN</td>\n",
       "      <td>NaN</td>\n",
       "    </tr>\n",
       "    <tr>\n",
       "      <th>20319</th>\n",
       "      <td>E9PZ20</td>\n",
       "      <td>NaN</td>\n",
       "      <td>NaN</td>\n",
       "    </tr>\n",
       "    <tr>\n",
       "      <th>20459</th>\n",
       "      <td>A0A087X280</td>\n",
       "      <td>NaN</td>\n",
       "      <td>NaN</td>\n",
       "    </tr>\n",
       "    <tr>\n",
       "      <th>20579</th>\n",
       "      <td>A0A0B4J220</td>\n",
       "      <td>NaN</td>\n",
       "      <td>NaN</td>\n",
       "    </tr>\n",
       "    <tr>\n",
       "      <th>20809</th>\n",
       "      <td>E9PXR0</td>\n",
       "      <td>NaN</td>\n",
       "      <td>NaN</td>\n",
       "    </tr>\n",
       "    <tr>\n",
       "      <th>20859</th>\n",
       "      <td>Q9CQ01</td>\n",
       "      <td>NaN</td>\n",
       "      <td>NaN</td>\n",
       "    </tr>\n",
       "    <tr>\n",
       "      <th>21129</th>\n",
       "      <td>Q4VBW7</td>\n",
       "      <td>NaN</td>\n",
       "      <td>NaN</td>\n",
       "    </tr>\n",
       "    <tr>\n",
       "      <th>21509</th>\n",
       "      <td>E9QNM8</td>\n",
       "      <td>NaN</td>\n",
       "      <td>NaN</td>\n",
       "    </tr>\n",
       "    <tr>\n",
       "      <th>21519</th>\n",
       "      <td>A9C489</td>\n",
       "      <td>NaN</td>\n",
       "      <td>NaN</td>\n",
       "    </tr>\n",
       "    <tr>\n",
       "      <th>21589</th>\n",
       "      <td>B4DTS2</td>\n",
       "      <td>NaN</td>\n",
       "      <td>NaN</td>\n",
       "    </tr>\n",
       "    <tr>\n",
       "      <th>21599</th>\n",
       "      <td>A2AP58</td>\n",
       "      <td>NaN</td>\n",
       "      <td>NaN</td>\n",
       "    </tr>\n",
       "    <tr>\n",
       "      <th>21619</th>\n",
       "      <td>A2AHZ4</td>\n",
       "      <td>NaN</td>\n",
       "      <td>NaN</td>\n",
       "    </tr>\n",
       "    <tr>\n",
       "      <th>21669</th>\n",
       "      <td>B2KFS4</td>\n",
       "      <td>NaN</td>\n",
       "      <td>NaN</td>\n",
       "    </tr>\n",
       "    <tr>\n",
       "      <th>21689</th>\n",
       "      <td>E9QLH9</td>\n",
       "      <td>NaN</td>\n",
       "      <td>NaN</td>\n",
       "    </tr>\n",
       "    <tr>\n",
       "      <th>21739</th>\n",
       "      <td>A2AEP9</td>\n",
       "      <td>NaN</td>\n",
       "      <td>NaN</td>\n",
       "    </tr>\n",
       "    <tr>\n",
       "      <th>21859</th>\n",
       "      <td>D3YYZ2</td>\n",
       "      <td>NaN</td>\n",
       "      <td>NaN</td>\n",
       "    </tr>\n",
       "    <tr>\n",
       "      <th>21969</th>\n",
       "      <td>E9PWG2</td>\n",
       "      <td>NaN</td>\n",
       "      <td>NaN</td>\n",
       "    </tr>\n",
       "    <tr>\n",
       "      <th>22119</th>\n",
       "      <td>A0A0A0MQW9</td>\n",
       "      <td>NaN</td>\n",
       "      <td>NaN</td>\n",
       "    </tr>\n",
       "    <tr>\n",
       "      <th>22319</th>\n",
       "      <td>Q67EY4</td>\n",
       "      <td>NaN</td>\n",
       "      <td>NaN</td>\n",
       "    </tr>\n",
       "    <tr>\n",
       "      <th>22329</th>\n",
       "      <td>A2AKS8</td>\n",
       "      <td>NaN</td>\n",
       "      <td>NaN</td>\n",
       "    </tr>\n",
       "    <tr>\n",
       "      <th>22449</th>\n",
       "      <td>E9QPM5</td>\n",
       "      <td>NaN</td>\n",
       "      <td>NaN</td>\n",
       "    </tr>\n",
       "    <tr>\n",
       "      <th>22459</th>\n",
       "      <td>E9PUV7</td>\n",
       "      <td>NaN</td>\n",
       "      <td>NaN</td>\n",
       "    </tr>\n",
       "    <tr>\n",
       "      <th>22909</th>\n",
       "      <td>D3DTM5</td>\n",
       "      <td>NaN</td>\n",
       "      <td>NaN</td>\n",
       "    </tr>\n",
       "    <tr>\n",
       "      <th>23119</th>\n",
       "      <td>E9Q1T2</td>\n",
       "      <td>NaN</td>\n",
       "      <td>NaN</td>\n",
       "    </tr>\n",
       "    <tr>\n",
       "      <th>23439</th>\n",
       "      <td>A0A0C4DFX3</td>\n",
       "      <td>NaN</td>\n",
       "      <td>NaN</td>\n",
       "    </tr>\n",
       "    <tr>\n",
       "      <th>23499</th>\n",
       "      <td>E9Q4D3</td>\n",
       "      <td>NaN</td>\n",
       "      <td>NaN</td>\n",
       "    </tr>\n",
       "    <tr>\n",
       "      <th>23679</th>\n",
       "      <td>F6QIC8</td>\n",
       "      <td>NaN</td>\n",
       "      <td>NaN</td>\n",
       "    </tr>\n",
       "    <tr>\n",
       "      <th>23739</th>\n",
       "      <td>D3YZV9</td>\n",
       "      <td>NaN</td>\n",
       "      <td>NaN</td>\n",
       "    </tr>\n",
       "    <tr>\n",
       "      <th>23909</th>\n",
       "      <td>A2AKQ3</td>\n",
       "      <td>NaN</td>\n",
       "      <td>NaN</td>\n",
       "    </tr>\n",
       "    <tr>\n",
       "      <th>23999</th>\n",
       "      <td>A0A0A0MS21</td>\n",
       "      <td>NaN</td>\n",
       "      <td>NaN</td>\n",
       "    </tr>\n",
       "    <tr>\n",
       "      <th>24079</th>\n",
       "      <td>F8WID1</td>\n",
       "      <td>NaN</td>\n",
       "      <td>NaN</td>\n",
       "    </tr>\n",
       "    <tr>\n",
       "      <th>24089</th>\n",
       "      <td>F2Z3Z2</td>\n",
       "      <td>NaN</td>\n",
       "      <td>NaN</td>\n",
       "    </tr>\n",
       "    <tr>\n",
       "      <th>24139</th>\n",
       "      <td>A0A1B0GU40</td>\n",
       "      <td>NaN</td>\n",
       "      <td>NaN</td>\n",
       "    </tr>\n",
       "    <tr>\n",
       "      <th>24159</th>\n",
       "      <td>E9PYG4</td>\n",
       "      <td>NaN</td>\n",
       "      <td>NaN</td>\n",
       "    </tr>\n",
       "    <tr>\n",
       "      <th>24269</th>\n",
       "      <td>K7EQW8</td>\n",
       "      <td>NaN</td>\n",
       "      <td>NaN</td>\n",
       "    </tr>\n",
       "    <tr>\n",
       "      <th>24319</th>\n",
       "      <td>F6RVI0</td>\n",
       "      <td>NaN</td>\n",
       "      <td>NaN</td>\n",
       "    </tr>\n",
       "    <tr>\n",
       "      <th>24349</th>\n",
       "      <td>A0A0C4DFN4</td>\n",
       "      <td>NaN</td>\n",
       "      <td>NaN</td>\n",
       "    </tr>\n",
       "    <tr>\n",
       "      <th>24459</th>\n",
       "      <td>A0A0J9YW40</td>\n",
       "      <td>NaN</td>\n",
       "      <td>NaN</td>\n",
       "    </tr>\n",
       "    <tr>\n",
       "      <th>24499</th>\n",
       "      <td>F6XLB2</td>\n",
       "      <td>NaN</td>\n",
       "      <td>NaN</td>\n",
       "    </tr>\n",
       "    <tr>\n",
       "      <th>24549</th>\n",
       "      <td>X5D289</td>\n",
       "      <td>NaN</td>\n",
       "      <td>NaN</td>\n",
       "    </tr>\n",
       "    <tr>\n",
       "      <th>24579</th>\n",
       "      <td>G5E8A3</td>\n",
       "      <td>NaN</td>\n",
       "      <td>NaN</td>\n",
       "    </tr>\n",
       "    <tr>\n",
       "      <th>24709</th>\n",
       "      <td>E9Q4W4</td>\n",
       "      <td>NaN</td>\n",
       "      <td>NaN</td>\n",
       "    </tr>\n",
       "    <tr>\n",
       "      <th>24829</th>\n",
       "      <td>F6R0L1</td>\n",
       "      <td>NaN</td>\n",
       "      <td>NaN</td>\n",
       "    </tr>\n",
       "    <tr>\n",
       "      <th>24849</th>\n",
       "      <td>A0A0A0MR66</td>\n",
       "      <td>NaN</td>\n",
       "      <td>NaN</td>\n",
       "    </tr>\n",
       "    <tr>\n",
       "      <th>25209</th>\n",
       "      <td>Q8C0K8</td>\n",
       "      <td>NaN</td>\n",
       "      <td>NaN</td>\n",
       "    </tr>\n",
       "    <tr>\n",
       "      <th>25219</th>\n",
       "      <td>P13746</td>\n",
       "      <td>NaN</td>\n",
       "      <td>NaN</td>\n",
       "    </tr>\n",
       "    <tr>\n",
       "      <th>25339</th>\n",
       "      <td>A0A0C4DFN1</td>\n",
       "      <td>NaN</td>\n",
       "      <td>NaN</td>\n",
       "    </tr>\n",
       "    <tr>\n",
       "      <th>25489</th>\n",
       "      <td>E9PXL7</td>\n",
       "      <td>NaN</td>\n",
       "      <td>NaN</td>\n",
       "    </tr>\n",
       "    <tr>\n",
       "      <th>25709</th>\n",
       "      <td>F6UR10</td>\n",
       "      <td>NaN</td>\n",
       "      <td>NaN</td>\n",
       "    </tr>\n",
       "    <tr>\n",
       "      <th>25919</th>\n",
       "      <td>B0V3P5</td>\n",
       "      <td>NaN</td>\n",
       "      <td>NaN</td>\n",
       "    </tr>\n",
       "    <tr>\n",
       "      <th>26119</th>\n",
       "      <td>E9Q1N6</td>\n",
       "      <td>NaN</td>\n",
       "      <td>NaN</td>\n",
       "    </tr>\n",
       "    <tr>\n",
       "      <th>26299</th>\n",
       "      <td>F6SL65</td>\n",
       "      <td>NaN</td>\n",
       "      <td>NaN</td>\n",
       "    </tr>\n",
       "    <tr>\n",
       "      <th>26319</th>\n",
       "      <td>E9Q4B7</td>\n",
       "      <td>NaN</td>\n",
       "      <td>NaN</td>\n",
       "    </tr>\n",
       "    <tr>\n",
       "      <th>26339</th>\n",
       "      <td>P30481</td>\n",
       "      <td>NaN</td>\n",
       "      <td>NaN</td>\n",
       "    </tr>\n",
       "    <tr>\n",
       "      <th>26599</th>\n",
       "      <td>E9Q035</td>\n",
       "      <td>NaN</td>\n",
       "      <td>NaN</td>\n",
       "    </tr>\n",
       "    <tr>\n",
       "      <th>26639</th>\n",
       "      <td>B1ATD8</td>\n",
       "      <td>NaN</td>\n",
       "      <td>NaN</td>\n",
       "    </tr>\n",
       "    <tr>\n",
       "      <th>26719</th>\n",
       "      <td>D3Z5I8</td>\n",
       "      <td>NaN</td>\n",
       "      <td>NaN</td>\n",
       "    </tr>\n",
       "    <tr>\n",
       "      <th>26759</th>\n",
       "      <td>D3YTN4</td>\n",
       "      <td>NaN</td>\n",
       "      <td>NaN</td>\n",
       "    </tr>\n",
       "    <tr>\n",
       "      <th>26829</th>\n",
       "      <td>Q08EC7</td>\n",
       "      <td>NaN</td>\n",
       "      <td>NaN</td>\n",
       "    </tr>\n",
       "    <tr>\n",
       "      <th>26849</th>\n",
       "      <td>F8WAB8</td>\n",
       "      <td>NaN</td>\n",
       "      <td>NaN</td>\n",
       "    </tr>\n",
       "    <tr>\n",
       "      <th>26909</th>\n",
       "      <td>B2KF25</td>\n",
       "      <td>NaN</td>\n",
       "      <td>NaN</td>\n",
       "    </tr>\n",
       "    <tr>\n",
       "      <th>27129</th>\n",
       "      <td>F6WXU5</td>\n",
       "      <td>NaN</td>\n",
       "      <td>NaN</td>\n",
       "    </tr>\n",
       "    <tr>\n",
       "      <th>27209</th>\n",
       "      <td>H9KUX9</td>\n",
       "      <td>NaN</td>\n",
       "      <td>NaN</td>\n",
       "    </tr>\n",
       "    <tr>\n",
       "      <th>27229</th>\n",
       "      <td>F6VHY8</td>\n",
       "      <td>NaN</td>\n",
       "      <td>NaN</td>\n",
       "    </tr>\n",
       "    <tr>\n",
       "      <th>27249</th>\n",
       "      <td>C9JNV2</td>\n",
       "      <td>NaN</td>\n",
       "      <td>NaN</td>\n",
       "    </tr>\n",
       "    <tr>\n",
       "      <th>27259</th>\n",
       "      <td>A0A0J9YY34</td>\n",
       "      <td>NaN</td>\n",
       "      <td>NaN</td>\n",
       "    </tr>\n",
       "    <tr>\n",
       "      <th>27269</th>\n",
       "      <td>F8WH22</td>\n",
       "      <td>NaN</td>\n",
       "      <td>NaN</td>\n",
       "    </tr>\n",
       "    <tr>\n",
       "      <th>27359</th>\n",
       "      <td>Q80Z60</td>\n",
       "      <td>NaN</td>\n",
       "      <td>NaN</td>\n",
       "    </tr>\n",
       "    <tr>\n",
       "      <th>27419</th>\n",
       "      <td>A2APF6</td>\n",
       "      <td>NaN</td>\n",
       "      <td>NaN</td>\n",
       "    </tr>\n",
       "    <tr>\n",
       "      <th>27449</th>\n",
       "      <td>D3Z7R4</td>\n",
       "      <td>NaN</td>\n",
       "      <td>NaN</td>\n",
       "    </tr>\n",
       "    <tr>\n",
       "      <th>27579</th>\n",
       "      <td>E9Q2Z2</td>\n",
       "      <td>NaN</td>\n",
       "      <td>NaN</td>\n",
       "    </tr>\n",
       "    <tr>\n",
       "      <th>27598</th>\n",
       "      <td>P62204</td>\n",
       "      <td>NaN</td>\n",
       "      <td>NaN</td>\n",
       "    </tr>\n",
       "    <tr>\n",
       "      <th>27599</th>\n",
       "      <td>E9Q5J6</td>\n",
       "      <td>NaN</td>\n",
       "      <td>NaN</td>\n",
       "    </tr>\n",
       "    <tr>\n",
       "      <th>27619</th>\n",
       "      <td>E9QLW5</td>\n",
       "      <td>NaN</td>\n",
       "      <td>NaN</td>\n",
       "    </tr>\n",
       "    <tr>\n",
       "      <th>27699</th>\n",
       "      <td>B8K282</td>\n",
       "      <td>NaN</td>\n",
       "      <td>NaN</td>\n",
       "    </tr>\n",
       "    <tr>\n",
       "      <th>27859</th>\n",
       "      <td>D3Z6J9</td>\n",
       "      <td>NaN</td>\n",
       "      <td>NaN</td>\n",
       "    </tr>\n",
       "  </tbody>\n",
       "</table>\n",
       "</div>"
      ],
      "text/plain": [
       "       Uniprot_id  MWDa  seq\n",
       "229        E9PZA5   NaN  NaN\n",
       "249        E9Q584   NaN  NaN\n",
       "279    A0A0A6YYJ2   NaN  NaN\n",
       "289        J3QP13   NaN  NaN\n",
       "408        E9Q6C7   NaN  NaN\n",
       "409        B5TE77   NaN  NaN\n",
       "559        P62158   NaN  NaN\n",
       "679        D6REB5   NaN  NaN\n",
       "1039       Q9GIY3   NaN  NaN\n",
       "1139       D3Z2D0   NaN  NaN\n",
       "1189   A0A075B6L0   NaN  NaN\n",
       "1289       E9QNE5   NaN  NaN\n",
       "1519       D6RI37   NaN  NaN\n",
       "1529       F7D6E8   NaN  NaN\n",
       "1669       D3YU46   NaN  NaN\n",
       "1719       B2RUP0   NaN  NaN\n",
       "1809       D3YV03   NaN  NaN\n",
       "2129       A2AS85   NaN  NaN\n",
       "2229       F6UCX4   NaN  NaN\n",
       "2279       E9PXD9   NaN  NaN\n",
       "2339       Q8C6F3   NaN  NaN\n",
       "2359       E9QAF8   NaN  NaN\n",
       "2449       Q52KC3   NaN  NaN\n",
       "2569   A0A024R368   NaN  NaN\n",
       "2639       E9PKF3   NaN  NaN\n",
       "2649       Q3TI53   NaN  NaN\n",
       "2709       D3YUM8   NaN  NaN\n",
       "2749       F6TLU3   NaN  NaN\n",
       "2809       R4GMP2   NaN  NaN\n",
       "3019       Q8BVU2   NaN  NaN\n",
       "3049       G3X9V7   NaN  NaN\n",
       "3279       Q6PFF0   NaN  NaN\n",
       "3359       Q07000   NaN  NaN\n",
       "3599       D6R9U4   NaN  NaN\n",
       "3749       P62161   NaN  NaN\n",
       "3769   A0A087WUD1   NaN  NaN\n",
       "3879       Q5BIX2   NaN  NaN\n",
       "4169   A0A0A0MQR1   NaN  NaN\n",
       "4229       E9QAW2   NaN  NaN\n",
       "4259       F6R9N5   NaN  NaN\n",
       "4269       D3Z3W0   NaN  NaN\n",
       "4349       D3Z2H8   NaN  NaN\n",
       "4359       H3BQG8   NaN  NaN\n",
       "4489       D3Z7M8   NaN  NaN\n",
       "4609       C9JQV3   NaN  NaN\n",
       "4699       F6YB52   NaN  NaN\n",
       "4719       P30508   NaN  NaN\n",
       "4829       E9Q1E3   NaN  NaN\n",
       "4919       Q9CQU1   NaN  NaN\n",
       "4959       Q3U3D8   NaN  NaN\n",
       "5118       E9PZ26   NaN  NaN\n",
       "5119       D3YYI5   NaN  NaN\n",
       "5289       J3QQ61   NaN  NaN\n",
       "5539       F6S6M1   NaN  NaN\n",
       "5659       E9Q3R7   NaN  NaN\n",
       "5729       Q07439   NaN  NaN\n",
       "5769       E9PXL6   NaN  NaN\n",
       "6149       E9PUS7   NaN  NaN\n",
       "6369       E9PXG2   NaN  NaN\n",
       "6379       H3BN82   NaN  NaN\n",
       "6569       P30483   NaN  NaN\n",
       "6619       B1AVN8   NaN  NaN\n",
       "6699       O15320   NaN  NaN\n",
       "6949       E9QA33   NaN  NaN\n",
       "7079       G5E837   NaN  NaN\n",
       "7179       F6TRM0   NaN  NaN\n",
       "7259       Q8BKL2   NaN  NaN\n",
       "7539       G3UYF7   NaN  NaN\n",
       "7629       E9PYV0   NaN  NaN\n",
       "7649       E9PVU1   NaN  NaN\n",
       "7679       E9PV77   NaN  NaN\n",
       "7809       E9PX99   NaN  NaN\n",
       "7959       A2AIX1   NaN  NaN\n",
       "7969       F7CJQ5   NaN  NaN\n",
       "8069       F6SAC3   NaN  NaN\n",
       "8269       E9PVA3   NaN  NaN\n",
       "8299       E9Q212   NaN  NaN\n",
       "8489       G3V4T7   NaN  NaN\n",
       "8689   A0A075B7F8   NaN  NaN\n",
       "8929       Q8CFT3   NaN  NaN\n",
       "8949       Q9D7E5   NaN  NaN\n",
       "9009       F6R059   NaN  NaN\n",
       "9019       A4D104   NaN  NaN\n",
       "9079       Q3V1C1   NaN  NaN\n",
       "9159       E9QJT3   NaN  NaN\n",
       "9279       D3Z0Z9   NaN  NaN\n",
       "9309       E9Q3C6   NaN  NaN\n",
       "9389       V9GY89   NaN  NaN\n",
       "9529       A2AQW3   NaN  NaN\n",
       "9589   A0A024R341   NaN  NaN\n",
       "9619       D3YU05   NaN  NaN\n",
       "9729       E9PZH9   NaN  NaN\n",
       "10029      E9PWQ0   NaN  NaN\n",
       "10179      Q6NXV5   NaN  NaN\n",
       "10209      E9Q474   NaN  NaN\n",
       "10389      F6Z7A8   NaN  NaN\n",
       "10489      A2AJ75   NaN  NaN\n",
       "10719      F7ABS0   NaN  NaN\n",
       "10879      E9PW57   NaN  NaN\n",
       "11069      E9QAC7   NaN  NaN\n",
       "11469      Q13748   NaN  NaN\n",
       "11559  A0A075B738   NaN  NaN\n",
       "11629      Q6GT43   NaN  NaN\n",
       "11719      F6QL59   NaN  NaN\n",
       "11939      Q9WVC2   NaN  NaN\n",
       "12079      E9PY95   NaN  NaN\n",
       "12279      Q8R3F0   NaN  NaN\n",
       "12489      E9PWZ0   NaN  NaN\n",
       "12579      E9PRE2   NaN  NaN\n",
       "12589      E9QP23   NaN  NaN\n",
       "12749      P13761   NaN  NaN\n",
       "12979      E9Q983   NaN  NaN\n",
       "13059      Q8CFB8   NaN  NaN\n",
       "13179      E9QA25   NaN  NaN\n",
       "13659      Q3UN51   NaN  NaN\n",
       "14039      E9Q0T2   NaN  NaN\n",
       "14069      E9Q9U5   NaN  NaN\n",
       "14329      E9Q1P7   NaN  NaN\n",
       "14389      E9QNP7   NaN  NaN\n",
       "14599      F6QRM7   NaN  NaN\n",
       "14639      E9Q3T0   NaN  NaN\n",
       "14669      Q5T699   NaN  NaN\n",
       "14769      Q9DCV5   NaN  NaN\n",
       "14789  A0A087X2E3   NaN  NaN\n",
       "14849      E7EVH9   NaN  NaN\n",
       "14889      Q3TR26   NaN  NaN\n",
       "15059      E9PUK5   NaN  NaN\n",
       "15139      E9Q1I0   NaN  NaN\n",
       "15259      Q6DU44   NaN  NaN\n",
       "15439      D3Z7P5   NaN  NaN\n",
       "15529      G3V5Q9   NaN  NaN\n",
       "15539      F6TE01   NaN  NaN\n",
       "15559      Q8R388   NaN  NaN\n",
       "15979      E9QPT3   NaN  NaN\n",
       "15989      E9Q4S2   NaN  NaN\n",
       "16329      H3BLV5   NaN  NaN\n",
       "16599      E9Q1D9   NaN  NaN\n",
       "16629      F8WHE2   NaN  NaN\n",
       "16659      B2RA97   NaN  NaN\n",
       "16869      A2AGQ1   NaN  NaN\n",
       "16879      E9PWJ4   NaN  NaN\n",
       "17009      E0CX20   NaN  NaN\n",
       "17079      Q542J4   NaN  NaN\n",
       "17239      F8W8N5   NaN  NaN\n",
       "17309      F7B218   NaN  NaN\n",
       "17449      X6R433   NaN  NaN\n",
       "17459      E9PZ54   NaN  NaN\n",
       "17599      Q6A0C2   NaN  NaN\n",
       "17639      F8WJB7   NaN  NaN\n",
       "17649      E9QAE9   NaN  NaN\n",
       "17719      Q08619   NaN  NaN\n",
       "17739      D3YX75   NaN  NaN\n",
       "17859      E9PUF0   NaN  NaN\n",
       "17979      E9PV46   NaN  NaN\n",
       "18309      E9PZS1   NaN  NaN\n",
       "18389  A0A024R3W6   NaN  NaN\n",
       "18409      Q9D365   NaN  NaN\n",
       "18459      P15092   NaN  NaN\n",
       "18469      F6R9S5   NaN  NaN\n",
       "18489      E9PZB3   NaN  NaN\n",
       "18749      Q4U205   NaN  NaN\n",
       "18799      D3YWP4   NaN  NaN\n",
       "18909      E9QPD2   NaN  NaN\n",
       "19068      B1B185   NaN  NaN\n",
       "19069      Q04826   NaN  NaN\n",
       "19199      E9QNR6   NaN  NaN\n",
       "19249      Q5Y7A7   NaN  NaN\n",
       "19349      Q3UKX6   NaN  NaN\n",
       "19469      E9Q987   NaN  NaN\n",
       "19478      P18918   NaN  NaN\n",
       "19479  A0A087WXQ4   NaN  NaN\n",
       "19609      J3QT34   NaN  NaN\n",
       "19699      D3Z175   NaN  NaN\n",
       "19849      Q3UH49   NaN  NaN\n",
       "19879      H0Y2S1   NaN  NaN\n",
       "19959      E9Q4G2   NaN  NaN\n",
       "20109      E9Q0V1   NaN  NaN\n",
       "20169      F6V4Z1   NaN  NaN\n",
       "20209      K7EMP8   NaN  NaN\n",
       "20319      E9PZ20   NaN  NaN\n",
       "20459  A0A087X280   NaN  NaN\n",
       "20579  A0A0B4J220   NaN  NaN\n",
       "20809      E9PXR0   NaN  NaN\n",
       "20859      Q9CQ01   NaN  NaN\n",
       "21129      Q4VBW7   NaN  NaN\n",
       "21509      E9QNM8   NaN  NaN\n",
       "21519      A9C489   NaN  NaN\n",
       "21589      B4DTS2   NaN  NaN\n",
       "21599      A2AP58   NaN  NaN\n",
       "21619      A2AHZ4   NaN  NaN\n",
       "21669      B2KFS4   NaN  NaN\n",
       "21689      E9QLH9   NaN  NaN\n",
       "21739      A2AEP9   NaN  NaN\n",
       "21859      D3YYZ2   NaN  NaN\n",
       "21969      E9PWG2   NaN  NaN\n",
       "22119  A0A0A0MQW9   NaN  NaN\n",
       "22319      Q67EY4   NaN  NaN\n",
       "22329      A2AKS8   NaN  NaN\n",
       "22449      E9QPM5   NaN  NaN\n",
       "22459      E9PUV7   NaN  NaN\n",
       "22909      D3DTM5   NaN  NaN\n",
       "23119      E9Q1T2   NaN  NaN\n",
       "23439  A0A0C4DFX3   NaN  NaN\n",
       "23499      E9Q4D3   NaN  NaN\n",
       "23679      F6QIC8   NaN  NaN\n",
       "23739      D3YZV9   NaN  NaN\n",
       "23909      A2AKQ3   NaN  NaN\n",
       "23999  A0A0A0MS21   NaN  NaN\n",
       "24079      F8WID1   NaN  NaN\n",
       "24089      F2Z3Z2   NaN  NaN\n",
       "24139  A0A1B0GU40   NaN  NaN\n",
       "24159      E9PYG4   NaN  NaN\n",
       "24269      K7EQW8   NaN  NaN\n",
       "24319      F6RVI0   NaN  NaN\n",
       "24349  A0A0C4DFN4   NaN  NaN\n",
       "24459  A0A0J9YW40   NaN  NaN\n",
       "24499      F6XLB2   NaN  NaN\n",
       "24549      X5D289   NaN  NaN\n",
       "24579      G5E8A3   NaN  NaN\n",
       "24709      E9Q4W4   NaN  NaN\n",
       "24829      F6R0L1   NaN  NaN\n",
       "24849  A0A0A0MR66   NaN  NaN\n",
       "25209      Q8C0K8   NaN  NaN\n",
       "25219      P13746   NaN  NaN\n",
       "25339  A0A0C4DFN1   NaN  NaN\n",
       "25489      E9PXL7   NaN  NaN\n",
       "25709      F6UR10   NaN  NaN\n",
       "25919      B0V3P5   NaN  NaN\n",
       "26119      E9Q1N6   NaN  NaN\n",
       "26299      F6SL65   NaN  NaN\n",
       "26319      E9Q4B7   NaN  NaN\n",
       "26339      P30481   NaN  NaN\n",
       "26599      E9Q035   NaN  NaN\n",
       "26639      B1ATD8   NaN  NaN\n",
       "26719      D3Z5I8   NaN  NaN\n",
       "26759      D3YTN4   NaN  NaN\n",
       "26829      Q08EC7   NaN  NaN\n",
       "26849      F8WAB8   NaN  NaN\n",
       "26909      B2KF25   NaN  NaN\n",
       "27129      F6WXU5   NaN  NaN\n",
       "27209      H9KUX9   NaN  NaN\n",
       "27229      F6VHY8   NaN  NaN\n",
       "27249      C9JNV2   NaN  NaN\n",
       "27259  A0A0J9YY34   NaN  NaN\n",
       "27269      F8WH22   NaN  NaN\n",
       "27359      Q80Z60   NaN  NaN\n",
       "27419      A2APF6   NaN  NaN\n",
       "27449      D3Z7R4   NaN  NaN\n",
       "27579      E9Q2Z2   NaN  NaN\n",
       "27598      P62204   NaN  NaN\n",
       "27599      E9Q5J6   NaN  NaN\n",
       "27619      E9QLW5   NaN  NaN\n",
       "27699      B8K282   NaN  NaN\n",
       "27859      D3Z6J9   NaN  NaN"
      ]
     },
     "execution_count": 104,
     "metadata": {},
     "output_type": "execute_result"
    }
   ],
   "source": [
    "mw_seq.loc[(mw_seq['MWDa'].isna()) | (mw_seq['seq'].isna())]"
   ]
  },
  {
   "cell_type": "code",
   "execution_count": 105,
   "metadata": {},
   "outputs": [
    {
     "data": {
      "text/html": [
       "<div>\n",
       "<style scoped>\n",
       "    .dataframe tbody tr th:only-of-type {\n",
       "        vertical-align: middle;\n",
       "    }\n",
       "\n",
       "    .dataframe tbody tr th {\n",
       "        vertical-align: top;\n",
       "    }\n",
       "\n",
       "    .dataframe thead th {\n",
       "        text-align: right;\n",
       "    }\n",
       "</style>\n",
       "<table border=\"1\" class=\"dataframe\">\n",
       "  <thead>\n",
       "    <tr style=\"text-align: right;\">\n",
       "      <th></th>\n",
       "      <th>gene_names</th>\n",
       "      <th>Uniprot</th>\n",
       "      <th>Study</th>\n",
       "      <th>Organism</th>\n",
       "      <th>location</th>\n",
       "      <th>Age_cat</th>\n",
       "      <th>Age_days</th>\n",
       "      <th>condition</th>\n",
       "      <th>sample_id</th>\n",
       "      <th>molecular_weight_kDa</th>\n",
       "      <th>raw_data</th>\n",
       "      <th>raw_data_units</th>\n",
       "      <th>gene_name_unified</th>\n",
       "      <th>Uniprot_unified</th>\n",
       "      <th>gene_id_final</th>\n",
       "      <th>log_raw_data</th>\n",
       "      <th>uniprot_from_gn</th>\n",
       "      <th>Uniprot_final</th>\n",
       "      <th>TheorPepNum</th>\n",
       "    </tr>\n",
       "  </thead>\n",
       "  <tbody>\n",
       "    <tr>\n",
       "      <th>50081</th>\n",
       "      <td>CTTNBP2</td>\n",
       "      <td>G3X9L7;D6RI37</td>\n",
       "      <td>Sharma 2015, cultured</td>\n",
       "      <td>mouse</td>\n",
       "      <td>microglia</td>\n",
       "      <td>NaN</td>\n",
       "      <td>0</td>\n",
       "      <td>NaN</td>\n",
       "      <td>adultMicroglia1</td>\n",
       "      <td>178.77</td>\n",
       "      <td>4.434000e+07</td>\n",
       "      <td>LFQintensity</td>\n",
       "      <td>CTTNBP2</td>\n",
       "      <td>D6RI37</td>\n",
       "      <td>CTTNBP2</td>\n",
       "      <td>17.607398</td>\n",
       "      <td>[Q2IBD4, Q8WZ74, B9EJA2]</td>\n",
       "      <td>D6RI37</td>\n",
       "      <td>None</td>\n",
       "    </tr>\n",
       "    <tr>\n",
       "      <th>50082</th>\n",
       "      <td>CTTNBP2</td>\n",
       "      <td>G3X9L7;D6RI37</td>\n",
       "      <td>Sharma 2015, cultured</td>\n",
       "      <td>mouse</td>\n",
       "      <td>astrocytes</td>\n",
       "      <td>NaN</td>\n",
       "      <td>0</td>\n",
       "      <td>NaN</td>\n",
       "      <td>Astrocytes1</td>\n",
       "      <td>178.77</td>\n",
       "      <td>4.926500e+08</td>\n",
       "      <td>LFQintensity</td>\n",
       "      <td>CTTNBP2</td>\n",
       "      <td>D6RI37</td>\n",
       "      <td>CTTNBP2</td>\n",
       "      <td>20.015310</td>\n",
       "      <td>[Q2IBD4, Q8WZ74, B9EJA2]</td>\n",
       "      <td>D6RI37</td>\n",
       "      <td>None</td>\n",
       "    </tr>\n",
       "    <tr>\n",
       "      <th>50083</th>\n",
       "      <td>CTTNBP2</td>\n",
       "      <td>G3X9L7;D6RI37</td>\n",
       "      <td>Sharma 2015, cultured</td>\n",
       "      <td>mouse</td>\n",
       "      <td>astrocytes</td>\n",
       "      <td>NaN</td>\n",
       "      <td>0</td>\n",
       "      <td>NaN</td>\n",
       "      <td>Astrocytes2</td>\n",
       "      <td>178.77</td>\n",
       "      <td>5.699100e+08</td>\n",
       "      <td>LFQintensity</td>\n",
       "      <td>CTTNBP2</td>\n",
       "      <td>D6RI37</td>\n",
       "      <td>CTTNBP2</td>\n",
       "      <td>20.160989</td>\n",
       "      <td>[Q2IBD4, Q8WZ74, B9EJA2]</td>\n",
       "      <td>D6RI37</td>\n",
       "      <td>None</td>\n",
       "    </tr>\n",
       "    <tr>\n",
       "      <th>50084</th>\n",
       "      <td>CTTNBP2</td>\n",
       "      <td>G3X9L7;D6RI37</td>\n",
       "      <td>Sharma 2015, cultured</td>\n",
       "      <td>mouse</td>\n",
       "      <td>astrocytes</td>\n",
       "      <td>NaN</td>\n",
       "      <td>0</td>\n",
       "      <td>NaN</td>\n",
       "      <td>Astrocytes3</td>\n",
       "      <td>178.77</td>\n",
       "      <td>6.523900e+07</td>\n",
       "      <td>LFQintensity</td>\n",
       "      <td>CTTNBP2</td>\n",
       "      <td>D6RI37</td>\n",
       "      <td>CTTNBP2</td>\n",
       "      <td>17.993568</td>\n",
       "      <td>[Q2IBD4, Q8WZ74, B9EJA2]</td>\n",
       "      <td>D6RI37</td>\n",
       "      <td>None</td>\n",
       "    </tr>\n",
       "    <tr>\n",
       "      <th>50085</th>\n",
       "      <td>CTTNBP2</td>\n",
       "      <td>G3X9L7;D6RI37</td>\n",
       "      <td>Sharma 2015, cultured</td>\n",
       "      <td>mouse</td>\n",
       "      <td>neurons</td>\n",
       "      <td>NaN</td>\n",
       "      <td>0</td>\n",
       "      <td>NaN</td>\n",
       "      <td>Neuronsdiv051</td>\n",
       "      <td>178.77</td>\n",
       "      <td>1.443000e+09</td>\n",
       "      <td>LFQintensity</td>\n",
       "      <td>CTTNBP2</td>\n",
       "      <td>D6RI37</td>\n",
       "      <td>CTTNBP2</td>\n",
       "      <td>21.089990</td>\n",
       "      <td>[Q2IBD4, Q8WZ74, B9EJA2]</td>\n",
       "      <td>D6RI37</td>\n",
       "      <td>None</td>\n",
       "    </tr>\n",
       "  </tbody>\n",
       "</table>\n",
       "</div>"
      ],
      "text/plain": [
       "      gene_names        Uniprot                  Study Organism    location  \\\n",
       "50081    CTTNBP2  G3X9L7;D6RI37  Sharma 2015, cultured    mouse   microglia   \n",
       "50082    CTTNBP2  G3X9L7;D6RI37  Sharma 2015, cultured    mouse  astrocytes   \n",
       "50083    CTTNBP2  G3X9L7;D6RI37  Sharma 2015, cultured    mouse  astrocytes   \n",
       "50084    CTTNBP2  G3X9L7;D6RI37  Sharma 2015, cultured    mouse  astrocytes   \n",
       "50085    CTTNBP2  G3X9L7;D6RI37  Sharma 2015, cultured    mouse     neurons   \n",
       "\n",
       "      Age_cat Age_days condition        sample_id  molecular_weight_kDa  \\\n",
       "50081     NaN        0       NaN  adultMicroglia1                178.77   \n",
       "50082     NaN        0       NaN      Astrocytes1                178.77   \n",
       "50083     NaN        0       NaN      Astrocytes2                178.77   \n",
       "50084     NaN        0       NaN      Astrocytes3                178.77   \n",
       "50085     NaN        0       NaN    Neuronsdiv051                178.77   \n",
       "\n",
       "           raw_data raw_data_units gene_name_unified Uniprot_unified  \\\n",
       "50081  4.434000e+07   LFQintensity           CTTNBP2          D6RI37   \n",
       "50082  4.926500e+08   LFQintensity           CTTNBP2          D6RI37   \n",
       "50083  5.699100e+08   LFQintensity           CTTNBP2          D6RI37   \n",
       "50084  6.523900e+07   LFQintensity           CTTNBP2          D6RI37   \n",
       "50085  1.443000e+09   LFQintensity           CTTNBP2          D6RI37   \n",
       "\n",
       "      gene_id_final  log_raw_data           uniprot_from_gn Uniprot_final  \\\n",
       "50081       CTTNBP2     17.607398  [Q2IBD4, Q8WZ74, B9EJA2]        D6RI37   \n",
       "50082       CTTNBP2     20.015310  [Q2IBD4, Q8WZ74, B9EJA2]        D6RI37   \n",
       "50083       CTTNBP2     20.160989  [Q2IBD4, Q8WZ74, B9EJA2]        D6RI37   \n",
       "50084       CTTNBP2     17.993568  [Q2IBD4, Q8WZ74, B9EJA2]        D6RI37   \n",
       "50085       CTTNBP2     21.089990  [Q2IBD4, Q8WZ74, B9EJA2]        D6RI37   \n",
       "\n",
       "      TheorPepNum  \n",
       "50081        None  \n",
       "50082        None  \n",
       "50083        None  \n",
       "50084        None  \n",
       "50085        None  "
      ]
     },
     "execution_count": 105,
     "metadata": {},
     "output_type": "execute_result"
    }
   ],
   "source": [
    "df.loc[df['Uniprot_final'].isin(notFoundIds)].head()"
   ]
  },
  {
   "cell_type": "code",
   "execution_count": 106,
   "metadata": {},
   "outputs": [
    {
     "data": {
      "text/plain": [
       "array(['Sharma 2015, cultured', 'Wisniewski 2015', 'Geiger 2013',\n",
       "       'Han 2014', 'Hosp 2017, soluble', 'Sharma 2015, isolated',\n",
       "       'Hosp 2017, CSF', 'Kjell 2020', 'McKetney 2019', 'Hamezah 2019',\n",
       "       'Itzhak 2017', 'Hosp 2017, insoluble', 'Guergues 2019',\n",
       "       'Davis 2019', 'Chuang 2018', 'Krogager 2018', 'Bai 2020',\n",
       "       'Beltran 2016'], dtype=object)"
      ]
     },
     "execution_count": 106,
     "metadata": {},
     "output_type": "execute_result"
    }
   ],
   "source": [
    "df.loc[df['Uniprot_final'].isin(notFoundIds),'Study'].unique()"
   ]
  },
  {
   "cell_type": "code",
   "execution_count": 107,
   "metadata": {},
   "outputs": [],
   "source": [
    "add4notFoundIds = df.loc[(df['Uniprot_final'].isin(notFoundIds)) & (df['uniprot_from_gn']=='NoMapping'), 'Uniprot' ].str.split(\";\").tolist()\n"
   ]
  },
  {
   "cell_type": "code",
   "execution_count": 110,
   "metadata": {},
   "outputs": [],
   "source": [
    "add4notFoundIdsUniq = list(set(list(chain.from_iterable(add4notFoundIds))))"
   ]
  },
  {
   "cell_type": "code",
   "execution_count": 111,
   "metadata": {},
   "outputs": [
    {
     "data": {
      "text/plain": [
       "54"
      ]
     },
     "execution_count": 111,
     "metadata": {},
     "output_type": "execute_result"
    }
   ],
   "source": [
    "len(add4notFoundIdsUniq)"
   ]
  },
  {
   "cell_type": "code",
   "execution_count": 112,
   "metadata": {},
   "outputs": [],
   "source": [
    "with open('../data/uniprot_toQuery_add4notFoundIdsUniq_9May2021.txt', 'w') as f:\n",
    "    f.write(\"\\n\".join(add4notFoundIdsUniq))"
   ]
  },
  {
   "cell_type": "code",
   "execution_count": null,
   "metadata": {},
   "outputs": [],
   "source": []
  },
  {
   "cell_type": "code",
   "execution_count": 113,
   "metadata": {},
   "outputs": [
    {
     "name": "stdout",
     "output_type": "stream",
     "text": [
      "53\n",
      "53\n"
     ]
    },
    {
     "data": {
      "text/html": [
       "<div>\n",
       "<style scoped>\n",
       "    .dataframe tbody tr th:only-of-type {\n",
       "        vertical-align: middle;\n",
       "    }\n",
       "\n",
       "    .dataframe tbody tr th {\n",
       "        vertical-align: top;\n",
       "    }\n",
       "\n",
       "    .dataframe thead th {\n",
       "        text-align: right;\n",
       "    }\n",
       "</style>\n",
       "<table border=\"1\" class=\"dataframe\">\n",
       "  <thead>\n",
       "    <tr style=\"text-align: right;\">\n",
       "      <th></th>\n",
       "      <th>Uniprot_id</th>\n",
       "      <th>MWDa</th>\n",
       "      <th>seq</th>\n",
       "    </tr>\n",
       "  </thead>\n",
       "  <tbody>\n",
       "    <tr>\n",
       "      <th>0</th>\n",
       "      <td>Q8BFQ2</td>\n",
       "      <td>19561.0</td>\n",
       "      <td>MASAEPLTALSRWYLYAIHGYFCEVMFTAAWEFVVNFNWKFPGVTS...</td>\n",
       "    </tr>\n",
       "    <tr>\n",
       "      <th>1</th>\n",
       "      <td>F6UCX4</td>\n",
       "      <td>NaN</td>\n",
       "      <td>NaN</td>\n",
       "    </tr>\n",
       "    <tr>\n",
       "      <th>2</th>\n",
       "      <td>E9PZA5</td>\n",
       "      <td>NaN</td>\n",
       "      <td>NaN</td>\n",
       "    </tr>\n",
       "    <tr>\n",
       "      <th>3</th>\n",
       "      <td>E9QA33</td>\n",
       "      <td>NaN</td>\n",
       "      <td>NaN</td>\n",
       "    </tr>\n",
       "    <tr>\n",
       "      <th>4</th>\n",
       "      <td>D3YUM8</td>\n",
       "      <td>NaN</td>\n",
       "      <td>NaN</td>\n",
       "    </tr>\n",
       "  </tbody>\n",
       "</table>\n",
       "</div>"
      ],
      "text/plain": [
       "  Uniprot_id     MWDa                                                seq\n",
       "0     Q8BFQ2  19561.0  MASAEPLTALSRWYLYAIHGYFCEVMFTAAWEFVVNFNWKFPGVTS...\n",
       "1     F6UCX4      NaN                                                NaN\n",
       "2     E9PZA5      NaN                                                NaN\n",
       "3     E9QA33      NaN                                                NaN\n",
       "4     D3YUM8      NaN                                                NaN"
      ]
     },
     "execution_count": 113,
     "metadata": {},
     "output_type": "execute_result"
    }
   ],
   "source": [
    "# curl for extra data\n",
    "\n",
    "mw_seq2 = pd.read_csv(\"../data/run4notFound\",header=None,  sep = '\\t')\n",
    "\n",
    "\n",
    "mw_seq2.columns = ['Uniprot_id','MWDa','seq']\n",
    "\n",
    "mw_seq2['MWDa'] = mw_seq2['MWDa'].str.replace(\",\",\"\").astype('float64')\n",
    "print(len(mw_seq2))\n",
    "mw_seq2 = mw_seq2.drop_duplicates(keep='first').reset_index(drop=True)\n",
    "print(len(mw_seq2))\n",
    "mw_seq2.head()"
   ]
  },
  {
   "cell_type": "code",
   "execution_count": null,
   "metadata": {},
   "outputs": [],
   "source": []
  },
  {
   "cell_type": "code",
   "execution_count": 114,
   "metadata": {},
   "outputs": [
    {
     "data": {
      "text/plain": [
       "47"
      ]
     },
     "execution_count": 114,
     "metadata": {},
     "output_type": "execute_result"
    }
   ],
   "source": [
    "notFoundIds2 = mw_seq2.loc[(mw_seq2['MWDa'].isna()) | (mw_seq2['seq'].isna()),'Uniprot_id' ].unique()\n",
    "len(notFoundIds2)"
   ]
  },
  {
   "cell_type": "code",
   "execution_count": null,
   "metadata": {},
   "outputs": [],
   "source": []
  },
  {
   "cell_type": "code",
   "execution_count": 115,
   "metadata": {},
   "outputs": [],
   "source": [
    "\n",
    "add4notFoundIdsFromGN = list(set(list(chain.from_iterable(df.loc[(df['Uniprot_final'].isin(notFoundIds)) & (df['uniprot_from_gn']!='NoMapping'), 'uniprot_from_gn' ].tolist()))))\n",
    " "
   ]
  },
  {
   "cell_type": "code",
   "execution_count": 116,
   "metadata": {},
   "outputs": [],
   "source": [
    "with open('../data/add4notFoundIdsFromGNUniq_9May2021.txt', 'w') as f:\n",
    "    f.write(\"\\n\".join(add4notFoundIdsFromGN))"
   ]
  },
  {
   "cell_type": "code",
   "execution_count": null,
   "metadata": {},
   "outputs": [],
   "source": []
  },
  {
   "cell_type": "code",
   "execution_count": 117,
   "metadata": {},
   "outputs": [
    {
     "name": "stdout",
     "output_type": "stream",
     "text": [
      "469\n",
      "469\n"
     ]
    },
    {
     "data": {
      "text/html": [
       "<div>\n",
       "<style scoped>\n",
       "    .dataframe tbody tr th:only-of-type {\n",
       "        vertical-align: middle;\n",
       "    }\n",
       "\n",
       "    .dataframe tbody tr th {\n",
       "        vertical-align: top;\n",
       "    }\n",
       "\n",
       "    .dataframe thead th {\n",
       "        text-align: right;\n",
       "    }\n",
       "</style>\n",
       "<table border=\"1\" class=\"dataframe\">\n",
       "  <thead>\n",
       "    <tr style=\"text-align: right;\">\n",
       "      <th></th>\n",
       "      <th>Uniprot_id</th>\n",
       "      <th>MWDa</th>\n",
       "      <th>seq</th>\n",
       "    </tr>\n",
       "  </thead>\n",
       "  <tbody>\n",
       "    <tr>\n",
       "      <th>0</th>\n",
       "      <td>Q9ULI3</td>\n",
       "      <td>147461.0</td>\n",
       "      <td>MASPRASRWPPPLLLLLLPLLLLPPAAPGTRDPPPSPARRALSLAP...</td>\n",
       "    </tr>\n",
       "    <tr>\n",
       "      <th>1</th>\n",
       "      <td>P14136</td>\n",
       "      <td>49880.0</td>\n",
       "      <td>MERRRITSAARRSYVSSGEMMVGGLAPGRRLGPGTRLSLARMPPPL...</td>\n",
       "    </tr>\n",
       "    <tr>\n",
       "      <th>2</th>\n",
       "      <td>Q9Y6C2</td>\n",
       "      <td>106695.0</td>\n",
       "      <td>MAPRTLWSCYLCCLLTAAAGAASYPPRGFSLYTGSSGALSPGGPQA...</td>\n",
       "    </tr>\n",
       "    <tr>\n",
       "      <th>3</th>\n",
       "      <td>P48441</td>\n",
       "      <td>71254.0</td>\n",
       "      <td>MLTFFAAFLAAPLALAESPYLVRVDAARPLRPLLPFWRSTGFCPPL...</td>\n",
       "    </tr>\n",
       "    <tr>\n",
       "      <th>4</th>\n",
       "      <td>A0AVK6</td>\n",
       "      <td>94166.0</td>\n",
       "      <td>MENEKENLFCEPHKRGLMKTPLKESTTANIVLAEIQPDFGPLTTPT...</td>\n",
       "    </tr>\n",
       "  </tbody>\n",
       "</table>\n",
       "</div>"
      ],
      "text/plain": [
       "  Uniprot_id      MWDa                                                seq\n",
       "0     Q9ULI3  147461.0  MASPRASRWPPPLLLLLLPLLLLPPAAPGTRDPPPSPARRALSLAP...\n",
       "1     P14136   49880.0  MERRRITSAARRSYVSSGEMMVGGLAPGRRLGPGTRLSLARMPPPL...\n",
       "2     Q9Y6C2  106695.0  MAPRTLWSCYLCCLLTAAAGAASYPPRGFSLYTGSSGALSPGGPQA...\n",
       "3     P48441   71254.0  MLTFFAAFLAAPLALAESPYLVRVDAARPLRPLLPFWRSTGFCPPL...\n",
       "4     A0AVK6   94166.0  MENEKENLFCEPHKRGLMKTPLKESTTANIVLAEIQPDFGPLTTPT..."
      ]
     },
     "execution_count": 117,
     "metadata": {},
     "output_type": "execute_result"
    }
   ],
   "source": [
    "#curl extra data\n",
    "\n",
    "mw_seq3 = pd.read_csv(\"../data/run4notFoundFromGN\",header=None,  sep = '\\t')\n",
    "\n",
    "\n",
    "mw_seq3.columns = ['Uniprot_id','MWDa','seq']\n",
    "\n",
    "mw_seq3['MWDa'] = mw_seq3['MWDa'].str.replace(\",\",\"\").astype('float64')\n",
    "print(len(mw_seq3))\n",
    "mw_seq3 = mw_seq3.drop_duplicates(keep='first').reset_index(drop=True)\n",
    "print(len(mw_seq3))\n",
    "mw_seq3.head()"
   ]
  },
  {
   "cell_type": "code",
   "execution_count": null,
   "metadata": {},
   "outputs": [],
   "source": []
  },
  {
   "cell_type": "code",
   "execution_count": 118,
   "metadata": {},
   "outputs": [
    {
     "data": {
      "text/plain": [
       "27875"
      ]
     },
     "execution_count": 118,
     "metadata": {},
     "output_type": "execute_result"
    }
   ],
   "source": [
    "mw_seq_full = pd.concat([mw_seq, mw_seq2,mw_seq3]).reset_index(drop=True)\n",
    "mw_seq_full = mw_seq_full.drop_duplicates(keep='first').reset_index(drop=True)\n",
    "mw_seq_full = mw_seq_full.loc[~((mw_seq_full['MWDa'].isna()) | (mw_seq_full['seq'].isna()))]\n",
    "len(mw_seq_full)"
   ]
  },
  {
   "cell_type": "code",
   "execution_count": 119,
   "metadata": {},
   "outputs": [
    {
     "name": "stdout",
     "output_type": "stream",
     "text": [
      "27880\n",
      "27880\n",
      "27626\n"
     ]
    }
   ],
   "source": [
    "mw_seq_full = mw_seq.copy()\n",
    "print(len(mw_seq_full))\n",
    "mw_seq_full = mw_seq_full.drop_duplicates(keep='first').reset_index(drop=True)\n",
    "print(len(mw_seq_full))\n",
    "mw_seq_full = mw_seq_full.loc[~((mw_seq_full['MWDa'].isna()) | (mw_seq_full['seq'].isna()))]\n",
    "print(len(mw_seq_full))"
   ]
  },
  {
   "cell_type": "code",
   "execution_count": 120,
   "metadata": {},
   "outputs": [],
   "source": [
    "mw_seq_full['MWkDa'] = mw_seq_full['MWDa']/1000.0"
   ]
  },
  {
   "cell_type": "code",
   "execution_count": 121,
   "metadata": {},
   "outputs": [],
   "source": [
    "# enzyme-specific cut seq to estimate the number of peptides that are theoretically possible in the experiment\n",
    "\n",
    "def trypsin_count(seq):\n",
    "    return len(re.findall('(.{6,29}?(?:R|K|$))', seq)) ### Trypsin\n",
    "\n",
    "def lysC_count(seq):\n",
    "    return len(re.findall('(.{6,29}?(?:K|$))', seq)) ### Lys-C\n",
    "\n",
    "mw_seq_full['trypsin'] = mw_seq_full['seq'].apply(trypsin_count)\n",
    "\n",
    "mw_seq_full['lysC'] = mw_seq_full['seq'].apply(lysC_count)"
   ]
  },
  {
   "cell_type": "code",
   "execution_count": 122,
   "metadata": {},
   "outputs": [],
   "source": [
    "mw_seq_full = mw_seq_full.drop(columns=['MWDa','seq'])"
   ]
  },
  {
   "cell_type": "code",
   "execution_count": 123,
   "metadata": {},
   "outputs": [
    {
     "data": {
      "text/html": [
       "<div>\n",
       "<style scoped>\n",
       "    .dataframe tbody tr th:only-of-type {\n",
       "        vertical-align: middle;\n",
       "    }\n",
       "\n",
       "    .dataframe tbody tr th {\n",
       "        vertical-align: top;\n",
       "    }\n",
       "\n",
       "    .dataframe thead th {\n",
       "        text-align: right;\n",
       "    }\n",
       "</style>\n",
       "<table border=\"1\" class=\"dataframe\">\n",
       "  <thead>\n",
       "    <tr style=\"text-align: right;\">\n",
       "      <th></th>\n",
       "      <th>Uniprot_id</th>\n",
       "      <th>MWkDa</th>\n",
       "      <th>trypsin</th>\n",
       "      <th>lysC</th>\n",
       "    </tr>\n",
       "  </thead>\n",
       "  <tbody>\n",
       "    <tr>\n",
       "      <th>0</th>\n",
       "      <td>Q6P9V9</td>\n",
       "      <td>50.152</td>\n",
       "      <td>26</td>\n",
       "      <td>17</td>\n",
       "    </tr>\n",
       "    <tr>\n",
       "      <th>1</th>\n",
       "      <td>Q8R4I7</td>\n",
       "      <td>60.242</td>\n",
       "      <td>36</td>\n",
       "      <td>25</td>\n",
       "    </tr>\n",
       "    <tr>\n",
       "      <th>2</th>\n",
       "      <td>Q640M6</td>\n",
       "      <td>68.890</td>\n",
       "      <td>31</td>\n",
       "      <td>13</td>\n",
       "    </tr>\n",
       "    <tr>\n",
       "      <th>3</th>\n",
       "      <td>P51593</td>\n",
       "      <td>37.361</td>\n",
       "      <td>21</td>\n",
       "      <td>14</td>\n",
       "    </tr>\n",
       "    <tr>\n",
       "      <th>4</th>\n",
       "      <td>Q86Y38</td>\n",
       "      <td>107.569</td>\n",
       "      <td>69</td>\n",
       "      <td>36</td>\n",
       "    </tr>\n",
       "  </tbody>\n",
       "</table>\n",
       "</div>"
      ],
      "text/plain": [
       "  Uniprot_id    MWkDa  trypsin  lysC\n",
       "0     Q6P9V9   50.152       26    17\n",
       "1     Q8R4I7   60.242       36    25\n",
       "2     Q640M6   68.890       31    13\n",
       "3     P51593   37.361       21    14\n",
       "4     Q86Y38  107.569       69    36"
      ]
     },
     "execution_count": 123,
     "metadata": {},
     "output_type": "execute_result"
    }
   ],
   "source": [
    "mw_seq_full.head()"
   ]
  },
  {
   "cell_type": "code",
   "execution_count": null,
   "metadata": {},
   "outputs": [],
   "source": []
  },
  {
   "cell_type": "code",
   "execution_count": 124,
   "metadata": {},
   "outputs": [
    {
     "data": {
      "text/plain": [
       "0"
      ]
     },
     "execution_count": 124,
     "metadata": {},
     "output_type": "execute_result"
    }
   ],
   "source": [
    "len(df.loc[(~df['Uniprot_final'].isin(mw_seq_full['Uniprot_id'])) & (df['Study']=='Duda 2018'),'Uniprot_final'].unique())"
   ]
  },
  {
   "cell_type": "code",
   "execution_count": 125,
   "metadata": {},
   "outputs": [
    {
     "data": {
      "text/plain": [
       "42"
      ]
     },
     "execution_count": 125,
     "metadata": {},
     "output_type": "execute_result"
    }
   ],
   "source": [
    "len(df.loc[(~df['Uniprot_final'].isin(mw_seq_full['Uniprot_id'])) & (df['Study']=='Wisniewski 2015'),'Uniprot_final'].unique())"
   ]
  },
  {
   "cell_type": "code",
   "execution_count": 126,
   "metadata": {},
   "outputs": [
    {
     "data": {
      "text/plain": [
       "array([nan])"
      ]
     },
     "execution_count": 126,
     "metadata": {},
     "output_type": "execute_result"
    }
   ],
   "source": [
    "df.loc[df['Study']=='Wisniewski 2015','molecular_weight_kDa'].unique()"
   ]
  },
  {
   "cell_type": "code",
   "execution_count": null,
   "metadata": {},
   "outputs": [],
   "source": []
  },
  {
   "cell_type": "code",
   "execution_count": 127,
   "metadata": {},
   "outputs": [
    {
     "data": {
      "text/plain": [
       "4712"
      ]
     },
     "execution_count": 127,
     "metadata": {},
     "output_type": "execute_result"
    }
   ],
   "source": [
    "df2 = pd.merge(df, mw_seq_full, left_on = 'Uniprot_final', right_on='Uniprot_id', how='left')\n",
    "len(df2.loc[(df2['MWkDa'].isna()) | (df2['trypsin'].isna()) | (df2['lysC'].isna())])"
   ]
  },
  {
   "cell_type": "code",
   "execution_count": 130,
   "metadata": {},
   "outputs": [],
   "source": [
    "df3 = df2.loc[(df2['MWkDa'].isna()) | (df2['trypsin'].isna()) | (df2['lysC'].isna()),['gene_names','gene_name_unified','gene_id_final','Uniprot','Uniprot_unified','uniprot_from_gn','Uniprot_final']].copy().reset_index(drop=True)\n"
   ]
  },
  {
   "cell_type": "code",
   "execution_count": 132,
   "metadata": {},
   "outputs": [],
   "source": [
    "def list2str(elem):\n",
    "    return \";\".join(elem)\n",
    "    "
   ]
  },
  {
   "cell_type": "code",
   "execution_count": 133,
   "metadata": {},
   "outputs": [],
   "source": [
    "df3['uniprot_from_gn'] = df3['uniprot_from_gn'].apply(list2str)"
   ]
  },
  {
   "cell_type": "code",
   "execution_count": 135,
   "metadata": {},
   "outputs": [
    {
     "name": "stdout",
     "output_type": "stream",
     "text": [
      "4712\n",
      "350\n"
     ]
    }
   ],
   "source": [
    "print(len(df3))\n",
    "df3 = df3.drop_duplicates(keep='first')\n",
    "print(len(df3))"
   ]
  },
  {
   "cell_type": "code",
   "execution_count": 136,
   "metadata": {},
   "outputs": [
    {
     "name": "stdout",
     "output_type": "stream",
     "text": [
      "0\n",
      "0\n",
      "0\n"
     ]
    }
   ],
   "source": [
    "print(len(df3.loc[df3['Uniprot_final'].isna()]))\n",
    "\n",
    "print(len(df3.loc[df3['Uniprot_final']=='NoMapping']))\n",
    "\n",
    "print(len(df3.loc[df3['Uniprot_final'].str.contains(';')]))"
   ]
  },
  {
   "cell_type": "code",
   "execution_count": 137,
   "metadata": {},
   "outputs": [
    {
     "name": "stdout",
     "output_type": "stream",
     "text": [
      "0\n",
      "0\n",
      "195\n"
     ]
    }
   ],
   "source": [
    "print(len(df3.loc[df3['Uniprot'].isna()]))\n",
    "\n",
    "print(len(df3.loc[df3['Uniprot']=='NoMapping']))\n",
    "\n",
    "print(len(df3.loc[df3['Uniprot'].str.contains(';')]))"
   ]
  },
  {
   "cell_type": "code",
   "execution_count": 138,
   "metadata": {},
   "outputs": [
    {
     "name": "stdout",
     "output_type": "stream",
     "text": [
      "0\n",
      "0\n",
      "45\n",
      "271\n"
     ]
    }
   ],
   "source": [
    "print(len(df3.loc[df3['uniprot_from_gn'].isna()]))\n",
    "\n",
    "print(len(df3.loc[df3['uniprot_from_gn']=='NoMapping']))\n",
    "print(len(df3.loc[df3['uniprot_from_gn']=='N;o;M;a;p;p;i;n;g']))\n",
    "\n",
    "print(len(df3.loc[df3['uniprot_from_gn'].str.contains(';')]))"
   ]
  },
  {
   "cell_type": "code",
   "execution_count": 139,
   "metadata": {},
   "outputs": [
    {
     "data": {
      "text/html": [
       "<div>\n",
       "<style scoped>\n",
       "    .dataframe tbody tr th:only-of-type {\n",
       "        vertical-align: middle;\n",
       "    }\n",
       "\n",
       "    .dataframe tbody tr th {\n",
       "        vertical-align: top;\n",
       "    }\n",
       "\n",
       "    .dataframe thead th {\n",
       "        text-align: right;\n",
       "    }\n",
       "</style>\n",
       "<table border=\"1\" class=\"dataframe\">\n",
       "  <thead>\n",
       "    <tr style=\"text-align: right;\">\n",
       "      <th></th>\n",
       "      <th>Uniprot_id</th>\n",
       "      <th>MWkDa</th>\n",
       "      <th>trypsin</th>\n",
       "      <th>lysC</th>\n",
       "    </tr>\n",
       "  </thead>\n",
       "  <tbody>\n",
       "    <tr>\n",
       "      <th>0</th>\n",
       "      <td>Q6P9V9</td>\n",
       "      <td>50.152</td>\n",
       "      <td>26</td>\n",
       "      <td>17</td>\n",
       "    </tr>\n",
       "    <tr>\n",
       "      <th>1</th>\n",
       "      <td>Q8R4I7</td>\n",
       "      <td>60.242</td>\n",
       "      <td>36</td>\n",
       "      <td>25</td>\n",
       "    </tr>\n",
       "    <tr>\n",
       "      <th>2</th>\n",
       "      <td>Q640M6</td>\n",
       "      <td>68.890</td>\n",
       "      <td>31</td>\n",
       "      <td>13</td>\n",
       "    </tr>\n",
       "    <tr>\n",
       "      <th>3</th>\n",
       "      <td>P51593</td>\n",
       "      <td>37.361</td>\n",
       "      <td>21</td>\n",
       "      <td>14</td>\n",
       "    </tr>\n",
       "    <tr>\n",
       "      <th>4</th>\n",
       "      <td>Q86Y38</td>\n",
       "      <td>107.569</td>\n",
       "      <td>69</td>\n",
       "      <td>36</td>\n",
       "    </tr>\n",
       "  </tbody>\n",
       "</table>\n",
       "</div>"
      ],
      "text/plain": [
       "  Uniprot_id    MWkDa  trypsin  lysC\n",
       "0     Q6P9V9   50.152       26    17\n",
       "1     Q8R4I7   60.242       36    25\n",
       "2     Q640M6   68.890       31    13\n",
       "3     P51593   37.361       21    14\n",
       "4     Q86Y38  107.569       69    36"
      ]
     },
     "execution_count": 139,
     "metadata": {},
     "output_type": "execute_result"
    }
   ],
   "source": [
    "mw_seq_full.head()"
   ]
  },
  {
   "cell_type": "code",
   "execution_count": 140,
   "metadata": {},
   "outputs": [],
   "source": [
    "mw_seq_full_dict = mw_seq_full.set_index('Uniprot_id').T.to_dict('list')"
   ]
  },
  {
   "cell_type": "code",
   "execution_count": 141,
   "metadata": {},
   "outputs": [
    {
     "data": {
      "text/plain": [
       "Index(['gene_names', 'gene_name_unified', 'gene_id_final', 'Uniprot',\n",
       "       'Uniprot_unified', 'uniprot_from_gn', 'Uniprot_final'],\n",
       "      dtype='object')"
      ]
     },
     "execution_count": 141,
     "metadata": {},
     "output_type": "execute_result"
    }
   ],
   "source": [
    "df3.columns"
   ]
  },
  {
   "cell_type": "code",
   "execution_count": null,
   "metadata": {},
   "outputs": [],
   "source": []
  },
  {
   "cell_type": "code",
   "execution_count": 142,
   "metadata": {
    "collapsed": true,
    "jupyter": {
     "outputs_hidden": true
    },
    "tags": []
   },
   "outputs": [
    {
     "name": "stdout",
     "output_type": "stream",
     "text": [
      "ATTENTION 10\n",
      "ATTENTION 11\n",
      "check  30\n",
      "elem:  30\n",
      "check  31\n",
      "elem:  31\n",
      "ATTENTION 40\n",
      "ATTENTION 41\n",
      "ATTENTION 43\n",
      "ATTENTION 47\n",
      "ATTENTION 50\n",
      "ATTENTION 51\n",
      "ATTENTION 52\n",
      "elem:  57\n",
      "check  59\n",
      "elem:  59\n",
      "ATTENTION 64\n",
      "ATTENTION 66\n",
      "ATTENTION 67\n",
      "elem:  75\n",
      "ATTENTION 78\n",
      "ATTENTION 79\n",
      "ATTENTION 80\n",
      "ATTENTION 81\n",
      "ATTENTION 82\n",
      "ATTENTION 83\n",
      "check  89\n",
      "elem:  89\n",
      "ATTENTION 93\n",
      "ATTENTION 94\n",
      "ATTENTION 96\n",
      "ATTENTION 97\n",
      "ATTENTION 98\n",
      "ATTENTION 99\n",
      "ATTENTION 100\n",
      "elem:  101\n",
      "elem:  102\n",
      "check  112\n",
      "elem:  112\n",
      "ATTENTION 113\n",
      "ATTENTION 116\n",
      "elem:  121\n",
      "elem:  123\n",
      "elem:  124\n",
      "ATTENTION 127\n",
      "ATTENTION 128\n",
      "ATTENTION 129\n",
      "ATTENTION 134\n",
      "ATTENTION 142\n",
      "ATTENTION 143\n",
      "ATTENTION 144\n",
      "ATTENTION 145\n",
      "ATTENTION 146\n",
      "ATTENTION 153\n",
      "ATTENTION 157\n",
      "check  167\n",
      "elem:  167\n",
      "elem:  168\n",
      "elem:  169\n",
      "elem:  170\n",
      "check  172\n",
      "elem:  172\n",
      "elem:  173\n",
      "elem:  174\n",
      "elem:  175\n",
      "check  178\n",
      "elem:  178\n",
      "elem:  180\n",
      "elem:  181\n",
      "elem:  187\n",
      "elem:  188\n",
      "elem:  194\n",
      "elem:  195\n",
      "elem:  196\n",
      "elem:  198\n",
      "check  211\n",
      "elem:  211\n",
      "elem:  212\n",
      "elem:  213\n",
      "elem:  214\n",
      "elem:  215\n",
      "elem:  216\n",
      "check  217\n",
      "elem:  217\n",
      "check  221\n",
      "elem:  221\n",
      "check  222\n",
      "elem:  222\n",
      "elem:  223\n",
      "elem:  224\n",
      "elem:  225\n",
      "elem:  226\n",
      "check  227\n",
      "elem:  227\n",
      "elem:  228\n",
      "elem:  229\n",
      "elem:  230\n",
      "elem:  231\n",
      "check  232\n",
      "elem:  232\n",
      "elem:  233\n",
      "elem:  234\n",
      "elem:  236\n",
      "check  237\n",
      "elem:  237\n",
      "elem:  238\n",
      "elem:  239\n",
      "elem:  240\n",
      "check  241\n",
      "elem:  241\n",
      "ATTENTION 242\n",
      "elem:  243\n",
      "check  244\n",
      "elem:  244\n",
      "elem:  251\n",
      "ATTENTION 252\n",
      "check  254\n",
      "elem:  254\n",
      "check  256\n",
      "elem:  256\n",
      "check  257\n",
      "elem:  257\n",
      "check  262\n",
      "elem:  262\n",
      "check  263\n",
      "elem:  263\n",
      "check  264\n",
      "elem:  264\n",
      "check  265\n",
      "elem:  265\n",
      "elem:  266\n",
      "check  267\n",
      "elem:  267\n",
      "elem:  268\n",
      "elem:  269\n",
      "elem:  272\n",
      "elem:  274\n",
      "elem:  275\n",
      "check  276\n",
      "elem:  276\n",
      "check  277\n",
      "elem:  277\n",
      "check  278\n",
      "elem:  278\n",
      "check  280\n",
      "elem:  280\n",
      "elem:  281\n",
      "elem:  282\n",
      "elem:  283\n",
      "check  284\n",
      "elem:  284\n",
      "check  285\n",
      "elem:  285\n",
      "check  286\n",
      "elem:  286\n",
      "check  287\n",
      "elem:  287\n",
      "check  288\n",
      "elem:  288\n",
      "check  289\n",
      "elem:  289\n",
      "check  290\n",
      "elem:  290\n",
      "elem:  291\n",
      "check  292\n",
      "elem:  292\n",
      "check  293\n",
      "elem:  293\n",
      "check  294\n",
      "elem:  294\n",
      "elem:  295\n",
      "elem:  296\n",
      "elem:  297\n",
      "elem:  298\n",
      "elem:  299\n",
      "elem:  301\n",
      "check  302\n",
      "elem:  302\n",
      "elem:  303\n",
      "check  304\n",
      "elem:  304\n",
      "elem:  305\n",
      "elem:  306\n",
      "elem:  307\n",
      "elem:  308\n",
      "elem:  309\n",
      "elem:  310\n",
      "elem:  312\n",
      "elem:  313\n",
      "check  314\n",
      "elem:  314\n",
      "elem:  315\n",
      "elem:  316\n",
      "elem:  317\n",
      "elem:  318\n",
      "elem:  319\n",
      "elem:  320\n",
      "elem:  321\n",
      "elem:  322\n",
      "check  323\n",
      "elem:  323\n",
      "elem:  325\n",
      "elem:  327\n",
      "elem:  328\n",
      "elem:  329\n",
      "elem:  330\n",
      "ATTENTION 334\n",
      "ATTENTION 336\n",
      "check  337\n",
      "elem:  337\n",
      "elem:  338\n",
      "elem:  339\n",
      "elem:  340\n",
      "elem:  341\n",
      "check  342\n",
      "elem:  342\n",
      "elem:  344\n",
      "ATTENTION 346\n",
      "elem:  347\n",
      "elem:  348\n",
      "elem:  349\n"
     ]
    }
   ],
   "source": [
    "# get MW and theor pep nums \n",
    "\n",
    "#df3['currentUniprotID'] = None\n",
    "df3['MWkDa'] = None\n",
    "df3['trypsin'] = None\n",
    "df3['lysC'] = None\n",
    "\n",
    "\n",
    "df3 = df3.reset_index(drop=True)\n",
    "\n",
    "\n",
    "for idx,elem in df3.iterrows():\n",
    "    check = 0\n",
    "    \n",
    "    if elem['Uniprot_final'] in mw_seq_full_dict:\n",
    "\n",
    "        #df3['currentUniprotID'] = i\n",
    "        df3.loc[idx,'MWkDa'] = mw_seq_full_dict[i][0]\n",
    "        df3.loc[idx,'trypsin'] = mw_seq_full_dict[i][1]\n",
    "        df3.loc[idx,'lysC'] = mw_seq_full_dict[i][2]\n",
    "\n",
    "        check = check+1\n",
    "            \n",
    "    else:\n",
    "        multiMW = list()\n",
    "        multiTr = list()\n",
    "        multiLys = list()\n",
    "        for i in elem['Uniprot'].split(';'):\n",
    "            i = i.split('-')[0]\n",
    "\n",
    "            if i in mw_seq_full_dict:\n",
    "                multiMW.append(mw_seq_full_dict[i][0])\n",
    "                multiTr.append(mw_seq_full_dict[i][1])\n",
    "                multiLys.append(mw_seq_full_dict[i][2])\n",
    "                \n",
    "                \n",
    "        if len(multiMW) >0:\n",
    "            df3.loc[idx,'MWkDa'] = np.median(multiMW)\n",
    "            df3.loc[idx,'trypsin'] = np.median(multiTr)\n",
    "            df3.loc[idx,'lysC'] = np.median(multiLys)   \n",
    "\n",
    "            check = check+1\n",
    "        \n",
    "        if ((check == 0) & (elem['uniprot_from_gn'] != 'N;o;M;a;p;p;i;n;g')):\n",
    "            multiMW = list()\n",
    "            multiTr = list()\n",
    "            multiLys = list()\n",
    "\n",
    "            for j in elem['uniprot_from_gn'].split(';'):\n",
    "                j = j.split('-')[0]\n",
    "                if j in mw_seq_full_dict:\n",
    "                    multiMW.append(mw_seq_full_dict[j][0])\n",
    "                    multiTr.append(mw_seq_full_dict[j][1])\n",
    "                    multiLys.append(mw_seq_full_dict[j][2])\n",
    "\n",
    "            if len(multiMW) >0:\n",
    "                df3.loc[idx,'MWkDa'] = np.median(multiMW)\n",
    "                df3.loc[idx,'trypsin'] = np.median(multiTr)\n",
    "                df3.loc[idx,'lysC'] = np.median(multiLys)          \n",
    "                    \n",
    "                check = check+1\n",
    "                    \n",
    "                    \n",
    "        \n",
    "        elif ((check == 0) & (elem['uniprot_from_gn'] == 'N;o;M;a;p;p;i;n;g')):\n",
    "            \n",
    "            print(\"check \", idx)\n",
    "            \n",
    "        else:\n",
    "            print(\"ATTENTION\",idx)\n",
    "        \n",
    "    if check == 0:\n",
    "        print(\"elem: \", idx)\n",
    "            "
   ]
  },
  {
   "cell_type": "code",
   "execution_count": 143,
   "metadata": {},
   "outputs": [
    {
     "data": {
      "text/plain": [
       "gene_names             AI837181;BLES03\n",
       "gene_name_unified             AI837181\n",
       "gene_id_final                 AI837181\n",
       "Uniprot                  E9QNR6;Q8VD62\n",
       "Uniprot_unified                 E9QNR6\n",
       "uniprot_from_gn      N;o;M;a;p;p;i;n;g\n",
       "Uniprot_final                   E9QNR6\n",
       "MWkDa                             None\n",
       "trypsin                           None\n",
       "lysC                              None\n",
       "Name: 30, dtype: object"
      ]
     },
     "execution_count": 143,
     "metadata": {},
     "output_type": "execute_result"
    }
   ],
   "source": [
    "df3.iloc[30]"
   ]
  },
  {
   "cell_type": "code",
   "execution_count": 144,
   "metadata": {},
   "outputs": [
    {
     "data": {
      "text/plain": [
       "27626"
      ]
     },
     "execution_count": 144,
     "metadata": {},
     "output_type": "execute_result"
    }
   ],
   "source": [
    "len(mw_seq_full_dict)"
   ]
  },
  {
   "cell_type": "code",
   "execution_count": 145,
   "metadata": {},
   "outputs": [
    {
     "name": "stdout",
     "output_type": "stream",
     "text": [
      "133\n",
      "133\n",
      "133\n"
     ]
    }
   ],
   "source": [
    "print(len(df3.loc[df3['MWkDa'].isna()]))\n",
    "print(len(df3.loc[df3['trypsin'].isna()]))\n",
    "print(len(df3.loc[df3['lysC'].isna()]))\n",
    "\n",
    "# these seems to be due to isoforms, where entry is found in uniprot but no MW and seq is returned without specifying isoform \n",
    "\n",
    "# isoforms are different, diff MW and diff seq\n"
   ]
  },
  {
   "cell_type": "code",
   "execution_count": 146,
   "metadata": {},
   "outputs": [
    {
     "data": {
      "text/html": [
       "<div>\n",
       "<style scoped>\n",
       "    .dataframe tbody tr th:only-of-type {\n",
       "        vertical-align: middle;\n",
       "    }\n",
       "\n",
       "    .dataframe tbody tr th {\n",
       "        vertical-align: top;\n",
       "    }\n",
       "\n",
       "    .dataframe thead th {\n",
       "        text-align: right;\n",
       "    }\n",
       "</style>\n",
       "<table border=\"1\" class=\"dataframe\">\n",
       "  <thead>\n",
       "    <tr style=\"text-align: right;\">\n",
       "      <th></th>\n",
       "      <th>gene_names</th>\n",
       "      <th>gene_name_unified</th>\n",
       "      <th>gene_id_final</th>\n",
       "      <th>Uniprot</th>\n",
       "      <th>Uniprot_unified</th>\n",
       "      <th>uniprot_from_gn</th>\n",
       "      <th>Uniprot_final</th>\n",
       "      <th>MWkDa</th>\n",
       "      <th>trypsin</th>\n",
       "      <th>lysC</th>\n",
       "    </tr>\n",
       "  </thead>\n",
       "  <tbody>\n",
       "    <tr>\n",
       "      <th>30</th>\n",
       "      <td>AI837181;BLES03</td>\n",
       "      <td>AI837181</td>\n",
       "      <td>AI837181</td>\n",
       "      <td>E9QNR6;Q8VD62</td>\n",
       "      <td>E9QNR6</td>\n",
       "      <td>N;o;M;a;p;p;i;n;g</td>\n",
       "      <td>E9QNR6</td>\n",
       "      <td>None</td>\n",
       "      <td>None</td>\n",
       "      <td>None</td>\n",
       "    </tr>\n",
       "    <tr>\n",
       "      <th>31</th>\n",
       "      <td>AI837181</td>\n",
       "      <td>AI837181</td>\n",
       "      <td>AI837181</td>\n",
       "      <td>E9QNR6;Q8VD62</td>\n",
       "      <td>E9QNR6</td>\n",
       "      <td>N;o;M;a;p;p;i;n;g</td>\n",
       "      <td>E9QNR6</td>\n",
       "      <td>None</td>\n",
       "      <td>None</td>\n",
       "      <td>None</td>\n",
       "    </tr>\n",
       "    <tr>\n",
       "      <th>57</th>\n",
       "      <td>ARXES2</td>\n",
       "      <td>ARXES2</td>\n",
       "      <td>ARXES2</td>\n",
       "      <td>Q9D365</td>\n",
       "      <td>Q9D365</td>\n",
       "      <td>C0HK80</td>\n",
       "      <td>Q9D365</td>\n",
       "      <td>None</td>\n",
       "      <td>None</td>\n",
       "      <td>None</td>\n",
       "    </tr>\n",
       "    <tr>\n",
       "      <th>59</th>\n",
       "      <td>GM20425</td>\n",
       "      <td>GM20425</td>\n",
       "      <td>GM20425</td>\n",
       "      <td>E9Q035</td>\n",
       "      <td>E9Q035</td>\n",
       "      <td>N;o;M;a;p;p;i;n;g</td>\n",
       "      <td>E9Q035</td>\n",
       "      <td>None</td>\n",
       "      <td>None</td>\n",
       "      <td>None</td>\n",
       "    </tr>\n",
       "    <tr>\n",
       "      <th>75</th>\n",
       "      <td>SPTBN5</td>\n",
       "      <td>SPTBN5</td>\n",
       "      <td>SPTBN5</td>\n",
       "      <td>A2AP58</td>\n",
       "      <td>A2AP58</td>\n",
       "      <td>Q9NRC6</td>\n",
       "      <td>A2AP58</td>\n",
       "      <td>None</td>\n",
       "      <td>None</td>\n",
       "      <td>None</td>\n",
       "    </tr>\n",
       "  </tbody>\n",
       "</table>\n",
       "</div>"
      ],
      "text/plain": [
       "         gene_names gene_name_unified gene_id_final        Uniprot  \\\n",
       "30  AI837181;BLES03          AI837181      AI837181  E9QNR6;Q8VD62   \n",
       "31         AI837181          AI837181      AI837181  E9QNR6;Q8VD62   \n",
       "57           ARXES2            ARXES2        ARXES2         Q9D365   \n",
       "59          GM20425           GM20425       GM20425         E9Q035   \n",
       "75           SPTBN5            SPTBN5        SPTBN5         A2AP58   \n",
       "\n",
       "   Uniprot_unified    uniprot_from_gn Uniprot_final MWkDa trypsin  lysC  \n",
       "30          E9QNR6  N;o;M;a;p;p;i;n;g        E9QNR6  None    None  None  \n",
       "31          E9QNR6  N;o;M;a;p;p;i;n;g        E9QNR6  None    None  None  \n",
       "57          Q9D365             C0HK80        Q9D365  None    None  None  \n",
       "59          E9Q035  N;o;M;a;p;p;i;n;g        E9Q035  None    None  None  \n",
       "75          A2AP58             Q9NRC6        A2AP58  None    None  None  "
      ]
     },
     "execution_count": 146,
     "metadata": {},
     "output_type": "execute_result"
    }
   ],
   "source": [
    "df3.loc[df3['MWkDa'].isna()].head()"
   ]
  },
  {
   "cell_type": "code",
   "execution_count": 147,
   "metadata": {},
   "outputs": [
    {
     "data": {
      "text/plain": [
       "117"
      ]
     },
     "execution_count": 147,
     "metadata": {},
     "output_type": "execute_result"
    }
   ],
   "source": [
    "len(df3.loc[df3['MWkDa'].isna(),'gene_id_final'].unique())"
   ]
  },
  {
   "cell_type": "code",
   "execution_count": 148,
   "metadata": {},
   "outputs": [
    {
     "data": {
      "text/plain": [
       "1"
      ]
     },
     "execution_count": 148,
     "metadata": {},
     "output_type": "execute_result"
    }
   ],
   "source": [
    "len(df3.loc[(df3['MWkDa'].isna()) & (df3['Uniprot'].str.contains('-')),'gene_id_final'].unique()) # only for 1 gene possible prot isoform is known"
   ]
  },
  {
   "cell_type": "code",
   "execution_count": 149,
   "metadata": {},
   "outputs": [
    {
     "data": {
      "text/plain": [
       "0.0005473628321406577"
      ]
     },
     "execution_count": 149,
     "metadata": {},
     "output_type": "execute_result"
    }
   ],
   "source": [
    "len(df2.loc[df2['gene_id_final'].isin(df3.loc[df3['MWkDa'].isna(),'gene_id_final'].unique())])/len(df2) # 0.05% of genes -> drop is to be more accurate"
   ]
  },
  {
   "cell_type": "code",
   "execution_count": 150,
   "metadata": {},
   "outputs": [],
   "source": [
    "df2nn = df2.loc[(df2['MWkDa'].isna()) | (df2['trypsin'].isna()) | (df2['lysC'].isna())].copy()"
   ]
  },
  {
   "cell_type": "code",
   "execution_count": 151,
   "metadata": {},
   "outputs": [
    {
     "name": "stdout",
     "output_type": "stream",
     "text": [
      "2132041\n",
      "2127329\n"
     ]
    }
   ],
   "source": [
    "print(len(df2))\n",
    "\n",
    "df2 = df2.loc[~( (df2['MWkDa'].isna()) | (df2['trypsin'].isna()) | (df2['lysC'].isna()) )]\n",
    "\n",
    "print(len(df2))"
   ]
  },
  {
   "cell_type": "code",
   "execution_count": 152,
   "metadata": {},
   "outputs": [
    {
     "name": "stdout",
     "output_type": "stream",
     "text": [
      "4712\n"
     ]
    }
   ],
   "source": [
    "print(len(df2nn))"
   ]
  },
  {
   "cell_type": "code",
   "execution_count": 153,
   "metadata": {},
   "outputs": [
    {
     "data": {
      "text/plain": [
       "Index(['gene_names', 'Uniprot', 'Study', 'Organism', 'location', 'Age_cat',\n",
       "       'Age_days', 'condition', 'sample_id', 'molecular_weight_kDa',\n",
       "       'raw_data', 'raw_data_units', 'gene_name_unified', 'Uniprot_unified',\n",
       "       'gene_id_final', 'log_raw_data', 'uniprot_from_gn', 'Uniprot_final',\n",
       "       'TheorPepNum'],\n",
       "      dtype='object')"
      ]
     },
     "execution_count": 153,
     "metadata": {},
     "output_type": "execute_result"
    }
   ],
   "source": [
    "df2nn = df2nn.drop(columns=['Uniprot_id', 'MWkDa', 'trypsin','lysC'])\n",
    "df2nn.columns"
   ]
  },
  {
   "cell_type": "code",
   "execution_count": 154,
   "metadata": {},
   "outputs": [
    {
     "data": {
      "text/plain": [
       "Index(['gene_names', 'gene_name_unified', 'gene_id_final', 'Uniprot',\n",
       "       'Uniprot_unified', 'uniprot_from_gn', 'Uniprot_final', 'MWkDa',\n",
       "       'trypsin', 'lysC'],\n",
       "      dtype='object')"
      ]
     },
     "execution_count": 154,
     "metadata": {},
     "output_type": "execute_result"
    }
   ],
   "source": [
    "df3.columns"
   ]
  },
  {
   "cell_type": "code",
   "execution_count": 155,
   "metadata": {},
   "outputs": [],
   "source": [
    "df3 = df3.drop(columns=['uniprot_from_gn'])"
   ]
  },
  {
   "cell_type": "code",
   "execution_count": 156,
   "metadata": {},
   "outputs": [
    {
     "data": {
      "text/plain": [
       "4712"
      ]
     },
     "execution_count": 156,
     "metadata": {},
     "output_type": "execute_result"
    }
   ],
   "source": [
    "df2nnm = pd.merge(df2nn, df3, how='inner', on = ['gene_names', 'gene_name_unified','gene_id_final', 'Uniprot', 'Uniprot_unified','Uniprot_final'])\n",
    "len(df2nnm)"
   ]
  },
  {
   "cell_type": "code",
   "execution_count": 157,
   "metadata": {},
   "outputs": [],
   "source": [
    "df2 = df2.drop(columns='Uniprot_id')\n",
    "\n",
    "\n",
    "df4conc = pd.concat([df2,df2nnm], ignore_index=True,  sort=False)"
   ]
  },
  {
   "cell_type": "code",
   "execution_count": null,
   "metadata": {},
   "outputs": [],
   "source": []
  },
  {
   "cell_type": "code",
   "execution_count": 160,
   "metadata": {},
   "outputs": [],
   "source": [
    "df4conc.loc[df4conc['Study'].isin(studiesTrypsin),'TheorPepNum'] = df4conc.loc[df4conc['Study'].isin(studiesTrypsin),'trypsin']\n"
   ]
  },
  {
   "cell_type": "code",
   "execution_count": 161,
   "metadata": {},
   "outputs": [],
   "source": [
    "df4conc.loc[df4conc['Study'].isin(studiesLysC),'TheorPepNum'] = df4conc.loc[df4conc['Study'].isin(studiesLysC),'lysC']\n"
   ]
  },
  {
   "cell_type": "code",
   "execution_count": 162,
   "metadata": {},
   "outputs": [
    {
     "data": {
      "text/plain": [
       "1379145"
      ]
     },
     "execution_count": 162,
     "metadata": {},
     "output_type": "execute_result"
    }
   ],
   "source": [
    "len(df4conc.loc[df4conc['molecular_weight_kDa'].isna()])"
   ]
  },
  {
   "cell_type": "code",
   "execution_count": 163,
   "metadata": {},
   "outputs": [],
   "source": [
    "df4conc.loc[df4conc['molecular_weight_kDa'].isna(),'molecular_weight_kDa'] = df4conc.loc[df4conc['molecular_weight_kDa'].isna(),'MWkDa']"
   ]
  },
  {
   "cell_type": "code",
   "execution_count": 164,
   "metadata": {},
   "outputs": [
    {
     "data": {
      "text/plain": [
       "382"
      ]
     },
     "execution_count": 164,
     "metadata": {},
     "output_type": "execute_result"
    }
   ],
   "source": [
    "len(df4conc.loc[df4conc['molecular_weight_kDa'].isna()])"
   ]
  },
  {
   "cell_type": "code",
   "execution_count": 165,
   "metadata": {},
   "outputs": [
    {
     "data": {
      "text/html": [
       "<div>\n",
       "<style scoped>\n",
       "    .dataframe tbody tr th:only-of-type {\n",
       "        vertical-align: middle;\n",
       "    }\n",
       "\n",
       "    .dataframe tbody tr th {\n",
       "        vertical-align: top;\n",
       "    }\n",
       "\n",
       "    .dataframe thead th {\n",
       "        text-align: right;\n",
       "    }\n",
       "</style>\n",
       "<table border=\"1\" class=\"dataframe\">\n",
       "  <thead>\n",
       "    <tr style=\"text-align: right;\">\n",
       "      <th></th>\n",
       "      <th>molecular_weight_kDa</th>\n",
       "      <th>MWkDa</th>\n",
       "    </tr>\n",
       "  </thead>\n",
       "  <tbody>\n",
       "    <tr>\n",
       "      <th>0</th>\n",
       "      <td>26.587</td>\n",
       "      <td>26.588</td>\n",
       "    </tr>\n",
       "    <tr>\n",
       "      <th>44</th>\n",
       "      <td>24.488</td>\n",
       "      <td>24.489</td>\n",
       "    </tr>\n",
       "    <tr>\n",
       "      <th>59</th>\n",
       "      <td>82.099</td>\n",
       "      <td>82.044</td>\n",
       "    </tr>\n",
       "    <tr>\n",
       "      <th>63</th>\n",
       "      <td>82.102</td>\n",
       "      <td>82.103</td>\n",
       "    </tr>\n",
       "    <tr>\n",
       "      <th>69</th>\n",
       "      <td>82.043</td>\n",
       "      <td>82.044</td>\n",
       "    </tr>\n",
       "  </tbody>\n",
       "</table>\n",
       "</div>"
      ],
      "text/plain": [
       "   molecular_weight_kDa   MWkDa\n",
       "0                26.587  26.588\n",
       "44               24.488  24.489\n",
       "59               82.099  82.044\n",
       "63               82.102  82.103\n",
       "69               82.043  82.044"
      ]
     },
     "execution_count": 165,
     "metadata": {},
     "output_type": "execute_result"
    }
   ],
   "source": [
    "df4conc.loc[df4conc['molecular_weight_kDa'] != df4conc['MWkDa'],['molecular_weight_kDa','MWkDa']].drop_duplicates(keep='first').head()"
   ]
  },
  {
   "cell_type": "code",
   "execution_count": 166,
   "metadata": {},
   "outputs": [],
   "source": [
    "df4conc = df4conc.drop(columns = ['MWkDa', 'trypsin', 'lysC'])"
   ]
  },
  {
   "cell_type": "code",
   "execution_count": 167,
   "metadata": {},
   "outputs": [],
   "source": [
    "df4conc = df4conc.reset_index(drop=True)"
   ]
  },
  {
   "cell_type": "markdown",
   "metadata": {},
   "source": [
    "### Calculate concentrations"
   ]
  },
  {
   "cell_type": "markdown",
   "metadata": {},
   "source": [
    "##### based on total protein approach from Wiśniewski et al. https://doi.org/10.1074/mcp.M113.037309"
   ]
  },
  {
   "cell_type": "code",
   "execution_count": 168,
   "metadata": {},
   "outputs": [],
   "source": [
    "df = df4conc.copy()"
   ]
  },
  {
   "cell_type": "code",
   "execution_count": 169,
   "metadata": {},
   "outputs": [],
   "source": [
    "df['conc_uM'] = None\n",
    "df['log_conc_uM'] = None\n",
    "\n",
    "df['copyNum'] = None\n",
    "df['totalProtein'] = None\n",
    "df['totalVolume'] = None"
   ]
  },
  {
   "cell_type": "markdown",
   "metadata": {},
   "source": [
    "##### Median cellular concentration [nM]"
   ]
  },
  {
   "cell_type": "code",
   "execution_count": 170,
   "metadata": {},
   "outputs": [
    {
     "data": {
      "text/plain": [
       "array(['Itzhak 2017'], dtype=object)"
      ]
     },
     "execution_count": 170,
     "metadata": {},
     "output_type": "execute_result"
    }
   ],
   "source": [
    "df.loc[df['raw_data_units']=='Median cellular concentration [nM]','Study'].unique()"
   ]
  },
  {
   "cell_type": "code",
   "execution_count": 171,
   "metadata": {},
   "outputs": [],
   "source": [
    "df.loc[df['raw_data_units']=='Median cellular concentration [nM]','conc_uM'] = df.loc[df['raw_data_units']=='Median cellular concentration [nM]','raw_data']/1000.0 # nM to uM\n"
   ]
  },
  {
   "cell_type": "markdown",
   "metadata": {},
   "source": [
    "##### LFQintensity"
   ]
  },
  {
   "cell_type": "code",
   "execution_count": 173,
   "metadata": {},
   "outputs": [
    {
     "data": {
      "text/plain": [
       "array(['TTN'], dtype=object)"
      ]
     },
     "execution_count": 173,
     "metadata": {},
     "output_type": "execute_result"
    }
   ],
   "source": [
    "df.loc[df['TheorPepNum']==np.max(df['TheorPepNum']),'gene_id_final'].unique() # TTN = Titin"
   ]
  },
  {
   "cell_type": "code",
   "execution_count": 175,
   "metadata": {},
   "outputs": [],
   "source": [
    "df['sample_full_id'] = df['Study'].astype(str) + '_' + df['Organism'].astype(str) + '_' + df['location'].astype(str)  + '_' + df['Age_days'].astype(str) + '_' + df['condition'].astype(str)  + '_' + df['sample_id'].astype(str) \n"
   ]
  },
  {
   "cell_type": "code",
   "execution_count": 176,
   "metadata": {},
   "outputs": [
    {
     "data": {
      "text/plain": [
       "447"
      ]
     },
     "execution_count": 176,
     "metadata": {},
     "output_type": "execute_result"
    }
   ],
   "source": [
    "len(df['sample_full_id'].unique())"
   ]
  },
  {
   "cell_type": "code",
   "execution_count": 177,
   "metadata": {},
   "outputs": [
    {
     "data": {
      "text/plain": [
       "242"
      ]
     },
     "execution_count": 177,
     "metadata": {},
     "output_type": "execute_result"
    }
   ],
   "source": [
    "len(df.loc[df['raw_data_units']=='LFQintensity','sample_full_id'].unique())"
   ]
  },
  {
   "cell_type": "code",
   "execution_count": 178,
   "metadata": {},
   "outputs": [],
   "source": [
    "def protRulLFQ(lfq,detectabilityNormFactor, mw_kDa):\n",
    "    tcp = 200 #tcp = Total cellular protein concentration [g/l] is 200-300 g/l typically \n",
    "    papc = 200 # \"Protein amount per cell [pg]\" =  200 \n",
    "    avogadro = 6.02214129e23\n",
    "    \n",
    "    mwWeightedNormalizedSummedIntensities = np.sum(lfq/detectabilityNormFactor*(mw_kDa*1000))\n",
    "    factor = papc*1e-12*avogadro/mwWeightedNormalizedSummedIntensities\n",
    "    \n",
    "    copyNum = lfq/detectabilityNormFactor*factor # if detectability is the number of theorretical peptides  \n",
    "    totalProtein = np.sum(copyNum*mw_kDa*1000*1e12/avogadro) # *1000 because of kDa to Da\n",
    "    totalVolume = totalProtein/tcp*1000 # femtoliters\n",
    "    \n",
    "    calcConc = copyNum/(totalVolume*1e-15)/avogadro*1e6 # micromolar\n",
    "    \n",
    "    return([calcConc,copyNum,totalProtein,totalVolume])"
   ]
  },
  {
   "cell_type": "code",
   "execution_count": 179,
   "metadata": {
    "collapsed": true,
    "jupyter": {
     "outputs_hidden": true
    },
    "tags": []
   },
   "outputs": [
    {
     "name": "stdout",
     "output_type": "stream",
     "text": [
      "Hamezah 2019_mouse_hippocampus_476_WT_nan\n",
      "Hamezah 2019_mouse_hippocampus_476_Alzheimer_nan\n",
      "Hamezah 2019_mouse_striatum_476_WT_nan\n",
      "Hamezah 2019_mouse_striatum_476_Alzheimer_nan\n",
      "Hamezah 2019_mouse_cortex_476_WT_nan\n",
      "Hamezah 2019_mouse_cortex_476_Alzheimer_nan\n",
      "Krogager 2018_mouse_striatum_112_control_nan\n",
      "Krogager 2018_mouse_neurons_112_SORT_nan\n",
      "Sharma 2015, cultured_mouse_microglia_0_nan_adultMicroglia1\n",
      "Sharma 2015, cultured_mouse_microglia_0_nan_adultMicroglia2\n",
      "Sharma 2015, cultured_mouse_microglia_0_nan_adultMicroglia3\n",
      "Sharma 2015, cultured_mouse_microglia_0_nan_youngMicroglia1\n",
      "Sharma 2015, cultured_mouse_microglia_0_nan_youngMicroglia2\n",
      "Sharma 2015, cultured_mouse_microglia_0_nan_youngMicroglia3\n",
      "Sharma 2015, cultured_mouse_astrocytes_0_nan_Astrocytes1\n",
      "Sharma 2015, cultured_mouse_astrocytes_0_nan_Astrocytes2\n",
      "Sharma 2015, cultured_mouse_astrocytes_0_nan_Astrocytes3\n",
      "Sharma 2015, cultured_mouse_neurons_0_nan_Neuronsdiv051\n",
      "Sharma 2015, cultured_mouse_neurons_0_nan_Neuronsdiv052\n",
      "Sharma 2015, cultured_mouse_neurons_0_nan_Neuronsdiv053\n",
      "Sharma 2015, cultured_mouse_neurons_0_nan_Neuronsdiv101\n",
      "Sharma 2015, cultured_mouse_neurons_0_nan_Neuronsdiv102\n",
      "Sharma 2015, cultured_mouse_neurons_0_nan_Neuronsdiv103\n",
      "Sharma 2015, cultured_mouse_neurons_0_nan_Neuronsdiv151\n",
      "Sharma 2015, cultured_mouse_neurons_0_nan_Neuronsdiv152\n",
      "Sharma 2015, cultured_mouse_neurons_0_nan_Neuronsdiv153\n",
      "Sharma 2015, cultured_mouse_oligodendrocytes_0_nan_Oligodendrocytesdiv11\n",
      "Sharma 2015, cultured_mouse_oligodendrocytes_0_nan_Oligodendrocytesdiv12\n",
      "Sharma 2015, cultured_mouse_oligodendrocytes_0_nan_Oligodendrocytesdiv13\n",
      "Sharma 2015, cultured_mouse_oligodendrocytes_0_nan_Oligodendrocytesdiv251\n",
      "Sharma 2015, cultured_mouse_oligodendrocytes_0_nan_Oligodendrocytesdiv252\n",
      "Sharma 2015, cultured_mouse_oligodendrocytes_0_nan_Oligodendrocytesdiv253\n",
      "Sharma 2015, cultured_mouse_oligodendrocytes_0_nan_Oligodendrocytesdiv41\n",
      "Sharma 2015, cultured_mouse_oligodendrocytes_0_nan_Oligodendrocytesdiv42\n",
      "Sharma 2015, cultured_mouse_oligodendrocytes_0_nan_Oligodendrocytesdiv43\n",
      "Guergues 2019_mouse_microglia_77_nan_STrap300K1\n",
      "Guergues 2019_mouse_microglia_77_nan_STrap300K2\n",
      "Guergues 2019_mouse_microglia_77_nan_STrap300K3\n",
      "Sharma 2015, isolated_mouse_astrocytes_29.0_nan_IsolatedAstrocytes\n",
      "Sharma 2015, isolated_mouse_microglia_29.0_nan_IsolatedMicroglia\n",
      "Sharma 2015, isolated_mouse_neurons_29.0_nan_IsolatedNeurons\n",
      "Sharma 2015, isolated_mouse_oligodendrocytes_29.0_nan_IsolatedOligodendrocytes\n",
      "Sharma 2015, isolated_mouse_brain_81.0_nan_Brain\n",
      "Sharma 2015, isolated_mouse_brainstem_81.0_nan_Brainstem\n",
      "Sharma 2015, isolated_mouse_cerebellum_81.0_nan_Cerebellum\n",
      "Sharma 2015, isolated_mouse_corpus callosum_81.0_nan_CorpusCallosum\n",
      "Sharma 2015, isolated_mouse_cortex_81.0_nan_MotorCortex\n",
      "Sharma 2015, isolated_mouse_olfactory bulb_81.0_nan_OlfactoryBulb\n",
      "Sharma 2015, isolated_mouse_optic nerve_81.0_nan_OpticNerve\n",
      "Sharma 2015, isolated_mouse_cortex_81.0_nan_PrefrontalCortex\n",
      "Sharma 2015, isolated_mouse_striatum_81.0_nan_Striatum\n",
      "Sharma 2015, isolated_mouse_thalamus_81.0_nan_Thalamus\n",
      "Sharma 2015, isolated_mouse_hippocampus_81.0_nan_VentralHippocampus\n",
      "Sharma 2015, isolated_mouse_cerebellum_26.0_nan_CerebellumP05\n",
      "Sharma 2015, isolated_mouse_cerebellum_35.0_nan_CerebellumP14\n",
      "Sharma 2015, isolated_mouse_cerebellum_45.0_nan_CerebellumP24\n",
      "Kjell 2020_mouse_cortex_84_nan_cortex1\n",
      "Kjell 2020_mouse_cortex_84_nan_cortex2\n",
      "Kjell 2020_mouse_cortex_84_nan_cortex3\n",
      "Kjell 2020_mouse_cortex_84_nan_cortex4\n",
      "Kjell 2020_mouse_olfactory bulb_84_nan_olfbulb1\n",
      "Kjell 2020_mouse_olfactory bulb_84_nan_olfbulb2\n",
      "Kjell 2020_mouse_olfactory bulb_84_nan_olfbulb3\n",
      "Kjell 2020_mouse_olfactory bulb_84_nan_olfbulb4\n",
      "Kjell 2020_mouse_subependymal zone_84_nan_sez1\n",
      "Kjell 2020_mouse_subependymal zone_84_nan_sez2\n",
      "Kjell 2020_mouse_subependymal zone_84_nan_sez3\n",
      "Kjell 2020_mouse_subependymal zone_84_nan_sez4\n",
      "Han 2014_mouse_astrocytes_0_nan_WCLset1tech1\n",
      "Han 2014_mouse_astrocytes_0_nan_WCLset1tech2\n",
      "Han 2014_mouse_astrocytes_0_nan_WCLset1tech3\n",
      "Han 2014_mouse_astrocytes_0_nan_WCLset2tech1\n",
      "Han 2014_mouse_astrocytes_0_nan_WCLset2tech2\n",
      "Han 2014_mouse_astrocytes_0_nan_WCLset2tech3\n",
      "Han 2014_mouse_astrocytes_0_nan_WCLset3tech1\n",
      "Han 2014_mouse_astrocytes_0_nan_WCLset3tech2\n",
      "Han 2014_mouse_astrocytes_0_nan_WCLset3tech3\n",
      "McKetney 2019_human_amygdala_11315_control_s146AMY\n",
      "McKetney 2019_human_striatum_11315_control_s146CNC\n",
      "McKetney 2019_human_cerebellum_11315_control_s146CBM\n",
      "McKetney 2019_human_cortex_11315_control_s146ECX\n",
      "McKetney 2019_human_cortex_11315_control_s146MFG\n",
      "McKetney 2019_human_cortex_11315_control_s146IPL\n",
      "McKetney 2019_human_cortex_11315_control_s146STG\n",
      "McKetney 2019_human_thalamus_11315_control_s146THA\n",
      "McKetney 2019_human_cortex_11315_control_s146VCX\n",
      "McKetney 2019_human_amygdala_11315_AD_severe_s383AMY\n",
      "McKetney 2019_human_striatum_11315_AD_severe_s383CNC\n",
      "McKetney 2019_human_cerebellum_11315_AD_severe_s383CBM\n",
      "McKetney 2019_human_cortex_11315_AD_severe_s383ECX\n",
      "McKetney 2019_human_cortex_11315_AD_severe_s383MFG\n",
      "McKetney 2019_human_cortex_11315_AD_severe_s383IPL\n",
      "McKetney 2019_human_cortex_11315_AD_severe_s383STG\n",
      "McKetney 2019_human_thalamus_11315_AD_severe_s383THA\n",
      "McKetney 2019_human_cortex_11315_AD_severe_s383VCX\n",
      "McKetney 2019_human_amygdala_11315_AD_intermediate_s405AMY\n",
      "McKetney 2019_human_striatum_11315_AD_intermediate_s405CNC\n",
      "McKetney 2019_human_cortex_11315_AD_intermediate_s405ECX\n",
      "McKetney 2019_human_cortex_11315_AD_intermediate_s405MFG\n",
      "McKetney 2019_human_cortex_11315_AD_intermediate_s405IPL\n",
      "McKetney 2019_human_cortex_11315_AD_intermediate_s405STG\n",
      "McKetney 2019_human_thalamus_11315_AD_intermediate_s405THA\n",
      "McKetney 2019_human_cortex_11315_AD_intermediate_s405VCX\n",
      "Hamezah 2018_rat_hippocampus_446.0_nan_14months\n",
      "Hamezah 2018_rat_hippocampus_566.0_nan_18months\n",
      "Hamezah 2018_rat_hippocampus_721.0_nan_23months\n",
      "Hamezah 2018_rat_hippocampus_841.0_nan_27months\n",
      "Hamezah 2018_rat_cortex_446.0_nan_14months\n",
      "Hamezah 2018_rat_cortex_566.0_nan_18months\n",
      "Hamezah 2018_rat_cortex_721.0_nan_23months\n",
      "Hamezah 2018_rat_cortex_841.0_nan_27months\n",
      "Hamezah 2018_rat_striatum_446.0_nan_14months\n",
      "Hamezah 2018_rat_striatum_566.0_nan_18months\n",
      "Hamezah 2018_rat_striatum_721.0_nan_23months\n",
      "Hamezah 2018_rat_striatum_841.0_nan_27months\n",
      "Zhu 2018_rat_cortex_38_nan_CTX1\n",
      "Zhu 2018_rat_cortex_38_nan_CTX2\n",
      "Zhu 2018_rat_cortex_38_nan_CTX3\n",
      "Zhu 2018_rat_cortex_38_nan_CTX4\n",
      "Zhu 2018_rat_corpus callosum_38_nan_CC1\n",
      "Zhu 2018_rat_corpus callosum_38_nan_CC2\n",
      "Zhu 2018_rat_corpus callosum_38_nan_CC3\n",
      "Zhu 2018_rat_corpus callosum_38_nan_CC4\n",
      "Zhu 2018_rat_striatum_38_nan_CP1\n",
      "Zhu 2018_rat_striatum_38_nan_CP2\n",
      "Zhu 2018_rat_striatum_38_nan_CP3\n",
      "Zhu 2018_rat_striatum_38_nan_CP4\n",
      "Fecher 2019_mouse_mitochondria_77_nan_ICGFP5Purkinjecellmito\n",
      "Fecher 2019_mouse_mitochondria_77_nan_ICGFP7Purkinjecellmito\n",
      "Fecher 2019_mouse_mitochondria_77_nan_ICGFP8Purkinjecellmito\n",
      "Fecher 2019_mouse_mitochondria_77_nan_ICGFP3937Purkinjecellmito\n",
      "Fecher 2019_mouse_mitochondria_77_nan_ICGFP3938Purkinjecellmito\n",
      "Fecher 2019_mouse_mitochondria_77_nan_ICGFP3939Purkinjecellmito\n",
      "Fecher 2019_mouse_mitochondria_77_nan_ICTom5Purkinjecellmito\n",
      "Fecher 2019_mouse_mitochondria_77_nan_ICTom7Purkinjecellmito\n",
      "Fecher 2019_mouse_mitochondria_77_nan_ICTom8Purkinjecellmito\n",
      "Fecher 2019_mouse_mitochondria_77_nan_ICTom3937Purkinjecellmito\n",
      "Fecher 2019_mouse_mitochondria_77_nan_ICTom3938Purkinjecellmito\n",
      "Fecher 2019_mouse_mitochondria_77_nan_ICTom3939Purkinjecellmito\n",
      "Fecher 2019_mouse_mitochondria_77_nan_ICGFP2647Granulecellmito\n",
      "Fecher 2019_mouse_mitochondria_77_nan_ICGFP2648Granulecellmito\n",
      "Fecher 2019_mouse_mitochondria_77_nan_ICGFP2649Granulecellmito\n",
      "Fecher 2019_mouse_mitochondria_77_nan_ICGFP2654Granulecellmito\n",
      "Fecher 2019_mouse_mitochondria_77_nan_ICGFP2655Granulecellmito\n",
      "Fecher 2019_mouse_mitochondria_77_nan_ICTom2647Granulecellmito\n",
      "Fecher 2019_mouse_mitochondria_77_nan_ICTom2648Granulecellmito\n",
      "Fecher 2019_mouse_mitochondria_77_nan_ICTom2649Granulecellmito\n",
      "Fecher 2019_mouse_mitochondria_77_nan_ICTom2654Granulecellmito\n",
      "Fecher 2019_mouse_mitochondria_77_nan_ICTom2655Granulecellmito\n",
      "Fecher 2019_mouse_mitochondria_77_nan_ICGFP5537Astrocyticmito\n",
      "Fecher 2019_mouse_mitochondria_77_nan_ICGFP5538Astrocyticmito\n",
      "Fecher 2019_mouse_mitochondria_77_nan_ICGFP5540Astrocyticmito\n",
      "Fecher 2019_mouse_mitochondria_77_nan_ICGFP6785Astrocyticmito\n",
      "Fecher 2019_mouse_mitochondria_77_nan_ICGFP7304Astrocyticmito\n",
      "Fecher 2019_mouse_mitochondria_77_nan_ICGFP7929Astrocyticmito\n",
      "Fecher 2019_mouse_mitochondria_77_nan_ICTom5537Astrocyticmito\n",
      "Fecher 2019_mouse_mitochondria_77_nan_ICTom5538Astrocyticmito\n",
      "Fecher 2019_mouse_mitochondria_77_nan_ICTom5540Astrocyticmito\n",
      "Fecher 2019_mouse_mitochondria_77_nan_ICTom6785Astrocyticmito\n",
      "Fecher 2019_mouse_mitochondria_77_nan_ICTom7304Astrocyticmito\n",
      "Fecher 2019_mouse_mitochondria_77_nan_ICTom7929Astrocyticmito\n",
      "Kjell 2020_mouse_cortex_84_nan_cortexLMSS\n",
      "Kjell 2020_mouse_olfactory bulb_84_nan_olfbulbLMSS\n",
      "Kjell 2020_mouse_subependymal zone_84_nan_sezLMSS\n",
      "Kjell 2020_mouse_medial subependymal zone_84_nan_mezLMSS\n",
      "Carlyle 2017_human_amygdala_1726.0_nan_118AMY\n",
      "Carlyle 2017_human_cerebellum_1726.0_nan_118CBC\n",
      "Carlyle 2017_human_cortex_1726.0_nan_118DFC\n",
      "Carlyle 2017_human_hippocampus_1726.0_nan_118HIP\n",
      "Carlyle 2017_human_thalamus_1726.0_nan_118MD\n",
      "Carlyle 2017_human_striatum_1726.0_nan_118STR\n",
      "Carlyle 2017_human_cortex_1726.0_nan_118V1C\n",
      "Carlyle 2017_human_amygdala_5741.0_nan_119AMY\n",
      "Carlyle 2017_human_amygdala_386.0_nan_121AMY\n",
      "Carlyle 2017_human_amygdala_631.0_nan_122AMY\n",
      "Carlyle 2017_human_cerebellum_631.0_nan_122CBC\n",
      "Carlyle 2017_human_cortex_631.0_nan_122DFC\n",
      "Carlyle 2017_human_hippocampus_631.0_nan_122HIP\n",
      "Carlyle 2017_human_thalamus_631.0_nan_122MD\n",
      "Carlyle 2017_human_striatum_631.0_nan_122STR\n",
      "Carlyle 2017_human_cortex_631.0_nan_122V1C\n",
      "Carlyle 2017_human_amygdala_13771.0_nan_123AMY\n",
      "Carlyle 2017_human_cerebellum_13771.0_nan_123CBC\n",
      "Carlyle 2017_human_cortex_13771.0_nan_123DFC\n",
      "Carlyle 2017_human_hippocampus_13771.0_nan_123HIP\n",
      "Carlyle 2017_human_striatum_13771.0_nan_123STR\n",
      "Carlyle 2017_human_cortex_13771.0_nan_123V1C\n",
      "Carlyle 2017_human_amygdala_11216.0_nan_126AMY\n",
      "Carlyle 2017_human_cerebellum_11216.0_nan_126CBC\n",
      "Carlyle 2017_human_cortex_11216.0_nan_126DFC\n",
      "Carlyle 2017_human_hippocampus_11216.0_nan_126HIP\n",
      "Carlyle 2017_human_thalamus_11216.0_nan_126MD\n",
      "Carlyle 2017_human_striatum_11216.0_nan_126STR\n",
      "Carlyle 2017_human_cortex_11216.0_nan_126V1C\n",
      "Carlyle 2017_human_cerebellum_7201.0_nan_127CBC\n",
      "Carlyle 2017_human_cortex_7201.0_nan_127DFC\n",
      "Carlyle 2017_human_hippocampus_7201.0_nan_127HIP\n",
      "Carlyle 2017_human_thalamus_7201.0_nan_127MD\n",
      "Carlyle 2017_human_striatum_7201.0_nan_127STR\n",
      "Carlyle 2017_human_cortex_7201.0_nan_127V1C\n",
      "Carlyle 2017_human_amygdala_14866.0_nan_135AMY\n",
      "Carlyle 2017_human_cerebellum_14866.0_nan_135CBC\n",
      "Carlyle 2017_human_cortex_14866.0_nan_135DFC\n",
      "Carlyle 2017_human_hippocampus_14866.0_nan_135HIP\n",
      "Carlyle 2017_human_thalamus_14866.0_nan_135MD\n",
      "Carlyle 2017_human_striatum_14866.0_nan_135STR\n",
      "Carlyle 2017_human_cortex_14866.0_nan_135V1C\n",
      "Carlyle 2017_human_amygdala_8661.0_nan_136AMY\n",
      "Carlyle 2017_human_cerebellum_8661.0_nan_136CBC\n",
      "Carlyle 2017_human_cortex_8661.0_nan_136DFC\n",
      "Carlyle 2017_human_hippocampus_8661.0_nan_136HIP\n",
      "Carlyle 2017_human_thalamus_8661.0_nan_136MD\n",
      "Carlyle 2017_human_striatum_8661.0_nan_136STR\n",
      "Carlyle 2017_human_cortex_8661.0_nan_136V1C\n",
      "Carlyle 2017_human_cerebellum_386.0_nan_139CBC\n",
      "Carlyle 2017_human_cortex_386.0_nan_139DFC\n",
      "Carlyle 2017_human_hippocampus_386.0_nan_139HIP\n",
      "Carlyle 2017_human_thalamus_386.0_nan_139MD\n",
      "Carlyle 2017_human_striatum_386.0_nan_139STR\n",
      "Carlyle 2017_human_cortex_386.0_nan_139V1C\n",
      "Carlyle 2017_human_cerebellum_3186.0_nan_141CBC\n",
      "Carlyle 2017_human_cortex_3186.0_nan_141DFC\n",
      "Carlyle 2017_human_hippocampus_3186.0_nan_141HIP\n",
      "Carlyle 2017_human_thalamus_3186.0_nan_141MD\n",
      "Carlyle 2017_human_striatum_3186.0_nan_141STR\n",
      "Carlyle 2017_human_cortex_3186.0_nan_141V1C\n",
      "Carlyle 2017_human_cerebellum_996.0_nan_143CBC\n",
      "Carlyle 2017_human_cortex_996.0_nan_143DFC\n",
      "Carlyle 2017_human_hippocampus_996.0_nan_143HIP\n",
      "Carlyle 2017_human_thalamus_996.0_nan_143MD\n",
      "Carlyle 2017_human_striatum_996.0_nan_143STR\n",
      "Carlyle 2017_human_cortex_996.0_nan_143V1C\n",
      "Carlyle 2017_human_amygdala_13406.0_nan_145AMY\n",
      "Carlyle 2017_human_cerebellum_13406.0_nan_145CBC\n",
      "Carlyle 2017_human_cortex_13406.0_nan_145DFC\n",
      "Carlyle 2017_human_hippocampus_13406.0_nan_145HIP\n",
      "Carlyle 2017_human_thalamus_13406.0_nan_145MD\n",
      "Carlyle 2017_human_striatum_13406.0_nan_145STR\n",
      "Carlyle 2017_human_cortex_13406.0_nan_145V1C\n",
      "Carlyle 2017_human_amygdala_1361.0_nan_173AMY\n",
      "Carlyle 2017_human_amygdala_3186.0_nan_174AMY\n",
      "Carlyle 2017_human_amygdala_4281.0_nan_175AMY\n"
     ]
    }
   ],
   "source": [
    "# this will take a while\n",
    "\n",
    "for sample_full_id in df.loc[df['raw_data_units']=='LFQintensity','sample_full_id'].unique():\n",
    "    #print(sample_full_id)\n",
    "    df.loc[df['sample_full_id']==sample_full_id,['conc_uM','copyNum','totalProtein','totalVolume']] = protRulLFQ(df.loc[df['sample_full_id']==sample_full_id,'raw_data'],df.loc[df['sample_full_id']==sample_full_id,'TheorPepNum'],df.loc[df['sample_full_id']==sample_full_id,'molecular_weight_kDa'])\n",
    "    "
   ]
  },
  {
   "cell_type": "markdown",
   "metadata": {},
   "source": [
    "##### iBAQ"
   ]
  },
  {
   "cell_type": "code",
   "execution_count": 235,
   "metadata": {},
   "outputs": [],
   "source": [
    "#iBAQ: total intensity divided by the number of tryptic peptides between 6 and 30 amino acids in length. Jocelyn F. Krey et al 2013"
   ]
  },
  {
   "cell_type": "code",
   "execution_count": 181,
   "metadata": {},
   "outputs": [],
   "source": [
    "def protRulIBAQ(ibaq, mw_kDa):\n",
    "    tcp = 200 #tcp = Total cellular protein concentration [g/l] is 200-300 g/l typically \n",
    "    papc = 200 # \"Protein amount per cell [pg]\" =  200 \n",
    "    avogadro = 6.02214129e23\n",
    "    \n",
    "    mwWeightedNormalizedSummedIntensities = np.sum(ibaq*(mw_kDa*1000))\n",
    "    factor = papc*1e-12*avogadro/mwWeightedNormalizedSummedIntensities\n",
    "    \n",
    "    copyNum = ibaq*factor  # adapted for iBAQ as sharma['detectabilityNormFactor'] = sharma['MedPepCount'] \n",
    "    \n",
    "    totalProtein = np.sum(copyNum*mw_kDa*1000*1e12/avogadro) # *1000 because of kDa to Da\n",
    "    totalVolume = totalProtein/tcp*1000 # femtoliters\n",
    "    calcConc = copyNum/(totalVolume*1e-15)/avogadro*1e6 # micromolar\n",
    "    \n",
    "    return([calcConc,copyNum,totalProtein,totalVolume])"
   ]
  },
  {
   "cell_type": "markdown",
   "metadata": {},
   "source": [
    "df.loc[df['raw_data_units']=='iBAQ','conc_uM'] = protRulIBAQ(df.loc[df['raw_data_units']=='iBAQ','raw_data'],\n",
    "                                                                    df.loc[df['raw_data_units']=='iBAQ','molecular_weight_kDa'])"
   ]
  },
  {
   "cell_type": "code",
   "execution_count": 182,
   "metadata": {},
   "outputs": [],
   "source": [
    "for sample_full_id in df.loc[df['raw_data_units']=='iBAQ','sample_full_id'].unique():\n",
    "    #print(sample_full_id)\n",
    "    df.loc[df['sample_full_id']==sample_full_id,['conc_uM','copyNum','totalProtein','totalVolume']] = protRulIBAQ(df.loc[df['sample_full_id']==sample_full_id,'raw_data'],df.loc[df['sample_full_id']==sample_full_id,'molecular_weight_kDa'])  \n",
    "    "
   ]
  },
  {
   "cell_type": "markdown",
   "metadata": {},
   "source": [
    "##### Protein concentration (mol/g protein)"
   ]
  },
  {
   "cell_type": "code",
   "execution_count": 184,
   "metadata": {},
   "outputs": [],
   "source": [
    "def protRul_molPerGramProt(molgramprot, mw_kDa):\n",
    "    tcp = 200 #tcp = Total cellular protein concentration [g/l] is 200-300 g/l typically \n",
    "    papc = 200 # \"Protein amount per cell [pg]\" =  200 \n",
    "    avogadro = 6.02214129e23\n",
    "    \n",
    "    copyNum = molgramprot*avogadro*papc*1e-12  \n",
    "    \n",
    "    totalProtein = np.sum(copyNum*mw_kDa*1000*1e12/avogadro) # *1000 because of kDa to Da\n",
    "    totalVolume = totalProtein/tcp*1000 # femtoliters\n",
    "    calcConc = copyNum/(totalVolume*1e-15)/avogadro*1e6 # micromolar\n",
    "    \n",
    "    return([calcConc,copyNum,totalProtein,totalVolume])"
   ]
  },
  {
   "cell_type": "code",
   "execution_count": 185,
   "metadata": {},
   "outputs": [],
   "source": [
    "for sample_full_id in df.loc[df['raw_data_units']=='Protein concentration (mol/g protein)','sample_full_id'].unique():\n",
    "    #print(sample_full_id)\n",
    "    df.loc[df['sample_full_id']==sample_full_id,['conc_uM','copyNum','totalProtein','totalVolume']] = protRul_molPerGramProt(df.loc[df['sample_full_id']==sample_full_id,'raw_data'],df.loc[df['sample_full_id']==sample_full_id,'molecular_weight_kDa'])  \n",
    "    "
   ]
  },
  {
   "cell_type": "code",
   "execution_count": 186,
   "metadata": {},
   "outputs": [
    {
     "data": {
      "text/plain": [
       "31"
      ]
     },
     "execution_count": 186,
     "metadata": {},
     "output_type": "execute_result"
    }
   ],
   "source": [
    "len(df.loc[(df['Study']=='Wisniewski 2015') & (df['molecular_weight_kDa'].isna())])"
   ]
  },
  {
   "cell_type": "markdown",
   "metadata": {},
   "source": [
    "##### Mean concentration [mol/(g total protein)]"
   ]
  },
  {
   "cell_type": "code",
   "execution_count": 188,
   "metadata": {},
   "outputs": [],
   "source": [
    "# rat brain density: 1.04-1.05 g/ml https://link.springer.com/chapter/10.1007/978-3-7091-9115-6_12 https://www.researchgate.net/post/What_is_the_average_wet_weight_for_dissected_RAT_brain_areas_substantia_nigra_striatum_septum_hippocampus_nucleus_accumbens_or_VTA\n",
    "# human brain density: 1.03 kg/l\n",
    "\n",
    "# From Fischer et al 2004 Average protein density is a molecular-weight-dependent function:\n",
    "# ro = 1.41 + 0.145 * exp(-M(kDa)/13(4)) g/cm3 1cm3 = 0.001L = 1 mL\n",
    "# or ~1.4 g/cm3 = 1.4 g/ml = 1.4*1000.0 g/l\n",
    "\n",
    "# 1 cm3 = 1e-3 L = 1 ml\n",
    "\n",
    "\n",
    "def protRul_molPerGramProt(molgramprot, mw_kDa):\n",
    "    tcp = 200 #tcp = Total cellular protein concentration [g/l] is 200-300 g/l typically \n",
    "    papc = 200 # \"Protein amount per cell [pg]\" =  200 \n",
    "    avogadro = 6.02214129e23\n",
    "    \n",
    "    copyNum = molgramprot*avogadro*papc*1e-12  \n",
    "    \n",
    "    totalProtein = np.sum(copyNum*mw_kDa*1000*1e12/avogadro) # *1000 because of kDa to Da\n",
    "    totalVolume = totalProtein/tcp*1000 # femtoliters\n",
    "    calcConc = copyNum/(totalVolume*1e-15)/avogadro*1e6 # micromolar\n",
    "    \n",
    "    return([calcConc,copyNum,totalProtein,totalVolume])"
   ]
  },
  {
   "cell_type": "code",
   "execution_count": 189,
   "metadata": {},
   "outputs": [],
   "source": [
    "for sample_full_id in df.loc[df['raw_data_units']=='Mean concentration [mol/(g total protein)]','sample_full_id'].unique():\n",
    "    #print(sample_full_id)\n",
    "    df.loc[df['sample_full_id']==sample_full_id,['conc_uM','copyNum','totalProtein','totalVolume']] = protRul_molPerGramProt(df.loc[df['sample_full_id']==sample_full_id,'raw_data'],df.loc[df['sample_full_id']==sample_full_id,'molecular_weight_kDa'])  \n",
    "    "
   ]
  },
  {
   "cell_type": "markdown",
   "metadata": {},
   "source": [
    "##### IntensityL"
   ]
  },
  {
   "cell_type": "code",
   "execution_count": 194,
   "metadata": {},
   "outputs": [
    {
     "name": "stdout",
     "output_type": "stream",
     "text": [
      "Geiger 2013_mouse_cortex_91_nan_nan\n",
      "Geiger 2013_mouse_medulla_91_nan_nan\n",
      "Geiger 2013_mouse_cerebellum_91_nan_nan\n",
      "Geiger 2013_mouse_midbrain_91_nan_nan\n",
      "Geiger 2013_mouse_olfactory bulb_91_nan_nan\n"
     ]
    }
   ],
   "source": [
    "# SILAC data, apply the same method as in LFQ, approximation\n",
    "\n",
    "for sample_full_id in df.loc[df['raw_data_units']=='IntensityL','sample_full_id'].unique():\n",
    "    #print(sample_full_id)\n",
    "    df.loc[df['sample_full_id']==sample_full_id,['conc_uM','copyNum','totalProtein','totalVolume']] = protRulLFQ(df.loc[df['sample_full_id']==sample_full_id,'raw_data'],df.loc[df['sample_full_id']==sample_full_id,'TheorPepNum'],df.loc[df['sample_full_id']==sample_full_id,'molecular_weight_kDa'])\n",
    "    "
   ]
  },
  {
   "cell_type": "markdown",
   "metadata": {},
   "source": [
    "##### tmt abundance"
   ]
  },
  {
   "cell_type": "code",
   "execution_count": 196,
   "metadata": {},
   "outputs": [
    {
     "name": "stdout",
     "output_type": "stream",
     "text": [
      "Bai 2020_mouse_cortex_111.0_control_WT3M1\n",
      "Bai 2020_mouse_cortex_111.0_control_WT3M2\n",
      "Bai 2020_mouse_cortex_201.0_control_WT6M1\n",
      "Bai 2020_mouse_cortex_201.0_control_WT6M2\n",
      "Bai 2020_mouse_cortex_201.0_control_WT6M3\n",
      "Bai 2020_mouse_cortex_201.0_control_WT6M4\n",
      "Bai 2020_mouse_cortex_386.0_control_WT12M1\n",
      "Bai 2020_mouse_cortex_386.0_control_WT12M2\n",
      "Bai 2020_mouse_cortex_111.0_AD_AD3M1\n",
      "Bai 2020_mouse_cortex_111.0_AD_AD3M2\n",
      "Bai 2020_mouse_cortex_201.0_AD_AD6M1\n",
      "Bai 2020_mouse_cortex_201.0_AD_AD6M2\n",
      "Bai 2020_mouse_cortex_201.0_AD_AD6M3\n",
      "Bai 2020_mouse_cortex_201.0_AD_AD6M4\n",
      "Bai 2020_mouse_cortex_386.0_AD_AD12M1\n",
      "Bai 2020_mouse_cortex_386.0_AD_AD12M2\n",
      "Bai 2020_human_cortex_post-mortem_LPC: low pathology of plaques and tangles. AD_LPC1\n",
      "Bai 2020_human_cortex_post-mortem_LPC: low pathology of plaques and tangles. AD_LPC2\n",
      "Bai 2020_human_cortex_post-mortem_HPC: high Ab pathology but no detectable cognitive defects. AD_HPC1\n",
      "Bai 2020_human_cortex_post-mortem_HPC: high Ab pathology but no detectable cognitive defects. AD_HPC2\n",
      "Bai 2020_human_cortex_post-mortem_MCI: mild cognitive impairment with Ab pathology and a slight but measurable defect in cognition. AD_MCI1\n",
      "Bai 2020_human_cortex_post-mortem_MCI: mild cognitive impairment with Ab pathology and a slight but measurable defect in cognition. AD_MCI2\n",
      "Bai 2020_human_cortex_post-mortem_AD: late-stage AD with high pathology scores of plaques and tangles_AD1\n",
      "Bai 2020_human_cortex_post-mortem_AD: late-stage AD with high pathology scores of plaques and tangles_AD2\n",
      "Bai 2020_human_cortex_post-mortem_PSP: progressive supranuclear palsy, another neurodegenerative disorder of tauopathy_PSP1\n",
      "Bai 2020_human_cortex_post-mortem_PSP: progressive supranuclear palsy, another neurodegenerative disorder of tauopathy_PSP2\n",
      "Hasan 2020_mouse_brainstem_156_EAE_EAE1\n",
      "Hasan 2020_mouse_brainstem_156_EAE_EAE2\n",
      "Hasan 2020_mouse_brainstem_156_EAE_EAE3\n",
      "Hasan 2020_mouse_brainstem_156_control_CON1\n",
      "Hasan 2020_mouse_brainstem_156_control_CON2\n",
      "Hasan 2020_mouse_brainstem_156_control_CON3\n",
      "Hasan 2020_mouse_cerebellum_156_EAE_EAE1\n",
      "Hasan 2020_mouse_cerebellum_156_EAE_EAE2\n",
      "Hasan 2020_mouse_cerebellum_156_EAE_EAE3\n",
      "Hasan 2020_mouse_cerebellum_156_control_CON1\n",
      "Hasan 2020_mouse_cerebellum_156_control_CON2\n",
      "Hasan 2020_mouse_cerebellum_156_control_CON3\n",
      "Hasan 2020_mouse_striatum_156_EAE_EAE1\n",
      "Hasan 2020_mouse_striatum_156_EAE_EAE2\n",
      "Hasan 2020_mouse_striatum_156_EAE_EAE3\n",
      "Hasan 2020_mouse_striatum_156_control_CON1\n",
      "Hasan 2020_mouse_striatum_156_control_CON2\n",
      "Hasan 2020_mouse_striatum_156_control_CON3\n",
      "Hasan 2020_mouse_cortex_156_EAE_EAE1\n",
      "Hasan 2020_mouse_cortex_156_EAE_EAE2\n",
      "Hasan 2020_mouse_cortex_156_EAE_EAE3\n",
      "Hasan 2020_mouse_cortex_156_control_CON1\n",
      "Hasan 2020_mouse_cortex_156_control_CON2\n",
      "Hasan 2020_mouse_cortex_156_control_CON3\n",
      "Hasan 2020_mouse_hippocampus_156_EAE_EAE1\n",
      "Hasan 2020_mouse_hippocampus_156_EAE_EAE2\n",
      "Hasan 2020_mouse_hippocampus_156_EAE_EAE3\n",
      "Hasan 2020_mouse_hippocampus_156_control_CON1\n",
      "Hasan 2020_mouse_hippocampus_156_control_CON2\n",
      "Hasan 2020_mouse_hippocampus_156_control_CON3\n",
      "Hasan 2020_mouse_spinal cord_156_EAE_EAE1\n",
      "Hasan 2020_mouse_spinal cord_156_EAE_EAE2\n",
      "Hasan 2020_mouse_spinal cord_156_EAE_EAE3\n",
      "Hasan 2020_mouse_spinal cord_156_control_CON1\n",
      "Hasan 2020_mouse_spinal cord_156_control_CON2\n",
      "Hasan 2020_mouse_spinal cord_156_control_CON3\n"
     ]
    }
   ],
   "source": [
    "#apply the same method as in LFQ, approximation\n",
    "\n",
    "for sample_full_id in df.loc[df['raw_data_units']=='tmt abundance','sample_full_id'].unique():\n",
    "    #print(sample_full_id)\n",
    "    df.loc[df['sample_full_id']==sample_full_id,['conc_uM','copyNum','totalProtein','totalVolume']] = protRulLFQ(df.loc[df['sample_full_id']==sample_full_id,'raw_data'],df.loc[df['sample_full_id']==sample_full_id,'TheorPepNum'],df.loc[df['sample_full_id']==sample_full_id,'molecular_weight_kDa'])\n",
    "    "
   ]
  },
  {
   "cell_type": "code",
   "execution_count": 197,
   "metadata": {},
   "outputs": [],
   "source": [
    "df['log_conc_uM'] = np.log(df['conc_uM'].astype('float64'))\n"
   ]
  },
  {
   "cell_type": "code",
   "execution_count": 198,
   "metadata": {},
   "outputs": [],
   "source": [
    "df['log_conc_uM'] = df['log_conc_uM'].astype('float64')"
   ]
  },
  {
   "cell_type": "code",
   "execution_count": 199,
   "metadata": {},
   "outputs": [],
   "source": [
    "df = df.reset_index(drop=True)"
   ]
  },
  {
   "cell_type": "code",
   "execution_count": 200,
   "metadata": {},
   "outputs": [
    {
     "data": {
      "text/plain": [
       "Index(['gene_names', 'Uniprot', 'Study', 'Organism', 'location', 'Age_cat',\n",
       "       'Age_days', 'condition', 'sample_id', 'molecular_weight_kDa',\n",
       "       'raw_data', 'raw_data_units', 'gene_name_unified', 'Uniprot_unified',\n",
       "       'gene_id_final', 'log_raw_data', 'uniprot_from_gn', 'Uniprot_final',\n",
       "       'TheorPepNum', 'conc_uM', 'log_conc_uM', 'copyNum', 'totalProtein',\n",
       "       'totalVolume', 'sample_full_id'],\n",
       "      dtype='object')"
      ]
     },
     "execution_count": 200,
     "metadata": {},
     "output_type": "execute_result"
    }
   ],
   "source": [
    "df.columns\n"
   ]
  },
  {
   "cell_type": "code",
   "execution_count": 201,
   "metadata": {},
   "outputs": [
    {
     "data": {
      "image/png": "[encoded data removed]",
      "text/plain": [
       "<Figure size 864x432 with 1 Axes>"
      ]
     },
     "metadata": {
      "image/png": {
       "height": 475,
       "width": 726
      }
     },
     "output_type": "display_data"
    }
   ],
   "source": [
    "fig = plt.figure(figsize=(12, 6))\n",
    "\n",
    "\n",
    "ax = sns.violinplot(x=\"Study\", y=\"log_conc_uM\", data=df)\n",
    "\n",
    "ax.grid(False)\n",
    "plt.xticks(rotation=75)\n",
    "ax.set_ylabel('log_conc_uM')\n",
    "\n",
    "plt.show()"
   ]
  },
  {
   "cell_type": "code",
   "execution_count": 202,
   "metadata": {},
   "outputs": [],
   "source": [
    "with open('../data/3_df_with_conc_PerSampleNorm_9May2021.pkl','wb') as f:\n",
    "    pkl.dump(df,f)"
   ]
  },
  {
   "cell_type": "code",
   "execution_count": null,
   "metadata": {},
   "outputs": [],
   "source": []
  }
 ],
 "metadata": {
  "kernelspec": {
   "display_name": "Python 3",
   "language": "python",
   "name": "python3"
  },
  "language_info": {
   "codemirror_mode": {
    "name": "ipython",
    "version": 3
   },
   "file_extension": ".py",
   "mimetype": "text/x-python",
   "name": "python",
   "nbconvert_exporter": "python",
   "pygments_lexer": "ipython3",
   "version": "3.7.4"
  }
 },
 "nbformat": 4,
 "nbformat_minor": 4
}
